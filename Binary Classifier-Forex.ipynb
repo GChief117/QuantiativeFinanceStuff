{
 "cells": [
  {
   "cell_type": "markdown",
   "id": "96a2931d",
   "metadata": {},
   "source": [
    "# So overall, this is the same as the binary classifier from the first binary classifier, except we also have shorting as well"
   ]
  },
  {
   "cell_type": "markdown",
   "id": "c7f597c6",
   "metadata": {},
   "source": [
    "In this case, we would be executing  trades risking 2% in total of our capital when to buy and when to short. That way we will also make sure not to loose our total capital in general, and we will also simulate liquidation. Meaning, any other stuff that was updated in the first binary classifier we go over and put it in this classifier as well\n",
    "\n",
    "**Rules:**\n",
    "-Preprocess the data\n",
    "-Define model architecture\n",
    "-Train the model and feed the data to it\n",
    "-F1-Score & Backtesting\n",
    "\n",
    "**Live simulation---**\n",
    "Best to do 50 iterations for all tests in general, look at your python script on your desktop to execute, load, and run them all, after cleaning what needs to be done. Mind you any metatrader5 data we are fetching is being simulated here, nothign is being reflected within our account. "
   ]
  },
  {
   "cell_type": "code",
   "execution_count": 1,
   "id": "34ea8320-56f8-4c15-8a01-2010e8cb0208",
   "metadata": {},
   "outputs": [
    {
     "data": {
      "text/plain": [
       "True"
      ]
     },
     "execution_count": 1,
     "metadata": {},
     "output_type": "execute_result"
    }
   ],
   "source": [
    "#making sure we train with our GPU, Pytorch is the fucking shit!!!\n",
    "import torch\n",
    "torch.cuda.is_available()"
   ]
  },
  {
   "cell_type": "code",
   "execution_count": 2,
   "id": "c0fb90b6-acc0-41f0-9ec6-5214bb19edc3",
   "metadata": {},
   "outputs": [
    {
     "data": {
      "text/plain": [
       "1"
      ]
     },
     "execution_count": 2,
     "metadata": {},
     "output_type": "execute_result"
    }
   ],
   "source": [
    "torch.cuda.device_count()"
   ]
  },
  {
   "cell_type": "code",
   "execution_count": 3,
   "id": "34c276f5-b822-4828-a8ad-acaa1118c6a8",
   "metadata": {},
   "outputs": [
    {
     "data": {
      "text/plain": [
       "0"
      ]
     },
     "execution_count": 3,
     "metadata": {},
     "output_type": "execute_result"
    }
   ],
   "source": [
    "torch.cuda.current_device()"
   ]
  },
  {
   "cell_type": "code",
   "execution_count": 4,
   "id": "6a520c8f-2efb-4104-92b9-eed65bd0b37f",
   "metadata": {},
   "outputs": [
    {
     "data": {
      "text/plain": [
       "<torch.cuda.device at 0x18113cb97d0>"
      ]
     },
     "execution_count": 4,
     "metadata": {},
     "output_type": "execute_result"
    }
   ],
   "source": [
    "torch.cuda.device(0)"
   ]
  },
  {
   "cell_type": "code",
   "execution_count": 5,
   "id": "bcce3263-05eb-42ff-85a2-8242ce59c124",
   "metadata": {},
   "outputs": [
    {
     "data": {
      "text/plain": [
       "'NVIDIA TITAN RTX'"
      ]
     },
     "execution_count": 5,
     "metadata": {},
     "output_type": "execute_result"
    }
   ],
   "source": [
    "torch.cuda.get_device_name(0)"
   ]
  },
  {
   "cell_type": "code",
   "execution_count": 6,
   "id": "15f7bc7d-14d7-4e91-b3b0-5095b347587c",
   "metadata": {},
   "outputs": [
    {
     "name": "stdout",
     "output_type": "stream",
     "text": [
      "Requirement already satisfied: MetaTrader5 in c:\\users\\gunne\\anaconda3\\lib\\site-packages (5.0.4288)\n",
      "Requirement already satisfied: numpy>=1.7 in c:\\users\\gunne\\anaconda3\\lib\\site-packages (from MetaTrader5) (1.24.3)\n",
      "MetaTrader 5 initialized successfully\n",
      "Attempting to login with Account: 51806647, Password: lKDtOjEK6$rp@f, Server: ICMarketsSC-Demo\n",
      "Connected to account #51806647\n"
     ]
    }
   ],
   "source": [
    "!pip install MetaTrader5\n",
    "\n",
    "import os\n",
    "import shutil\n",
    "import MetaTrader5 as mt5\n",
    "import pandas as pd\n",
    "import datetime\n",
    "import torch\n",
    "import torch.nn as nn\n",
    "import numpy as np\n",
    "import time\n",
    "from sklearn.preprocessing import StandardScaler\n",
    "import matplotlib.pyplot as plt\n",
    "\n",
    "# Define the RNN model\n",
    "class BitcoinPriceLSTM(nn.Module):\n",
    "    def __init__(self, input_size, hidden_size, num_layers, output_size, dropout=0.5):\n",
    "        super(BitcoinPriceLSTM, self).__init__()\n",
    "        self.hidden_size = hidden_size\n",
    "        self.num_layers = num_layers\n",
    "        self.lstm = nn.LSTM(input_size, hidden_size, num_layers, batch_first=True, dropout=dropout)\n",
    "        self.fc1 = nn.Linear(hidden_size, 512)\n",
    "        self.fc2 = nn.Linear(512, 256)\n",
    "        self.fc3 = nn.Linear(256, output_size)\n",
    "        self.dropout = nn.Dropout(dropout)\n",
    "    \n",
    "    def forward(self, x):\n",
    "        h0 = torch.zeros(self.num_layers, x.size(0), self.hidden_size).to(device)\n",
    "        c0 = torch.zeros(self.num_layers, x.size(0), self.hidden_size).to(device)\n",
    "        out, _ = self.lstm(x, (h0, c0))\n",
    "        out = self.dropout(out[:, -1, :])\n",
    "        out = torch.relu(self.fc1(out))\n",
    "        out = self.dropout(out)\n",
    "        out = torch.relu(self.fc2(out))\n",
    "        out = self.fc3(out)\n",
    "        return out\n",
    "\n",
    "# Set device\n",
    "device = torch.device(\"cuda\" if torch.cuda.is_available() else \"cpu\")\n",
    "\n",
    "# Model parameters (ensure these match the training script)\n",
    "input_size = 10  # Adjusted to match the training script\n",
    "hidden_size = 2048  # Match with the training script\n",
    "num_layers = 8  # Match with the training script\n",
    "output_size = 2  # Binary classification (up or down)\n",
    "\n",
    "# Load the trained model\n",
    "model_path = \"C:/Users/gunne/Documents/PriceNeuralNetwork/Forex/forexmodel-1.pth\"\n",
    "model = BitcoinPriceLSTM(input_size, hidden_size, num_layers, output_size, dropout=0.5).to(device)\n",
    "model.load_state_dict(torch.load(model_path))\n",
    "model.eval()\n",
    "\n",
    "# Connect to MetaTrader 5\n",
    "if not mt5.initialize():\n",
    "    print(\"initialize() failed\")\n",
    "    mt5.shutdown()\n",
    "else:\n",
    "    print(\"MetaTrader 5 initialized successfully\")\n",
    "\n",
    "# Login to the demo account\n",
    "account = 51806647  # Ensure the account number is an integer\n",
    "password = \"lKDtOjEK6$rp@f\"\n",
    "server = \"ICMarketsSC-Demo\"\n",
    "\n",
    "# Debug print for login details\n",
    "print(f\"Attempting to login with Account: {account}, Password: {password}, Server: {server}\")\n",
    "\n",
    "authorized = mt5.login(login=account, password=password, server=server)\n",
    "if not authorized:\n",
    "    print(f\"Failed to connect to account #{account}, error code: {mt5.last_error()}\")\n",
    "else:\n",
    "    print(f\"Connected to account #{account}\")"
   ]
  },
  {
   "cell_type": "code",
   "execution_count": null,
   "id": "64237ff5-e161-450f-985d-51763de16636",
   "metadata": {},
   "outputs": [
    {
     "name": "stdout",
     "output_type": "stream",
     "text": [
      "Iteration at time 2024-05-30 09:41:36.699086, current price: 1.27042, positions: 0, capital: 100\n"
     ]
    },
    {
     "name": "stderr",
     "output_type": "stream",
     "text": [
      "C:\\Users\\gunne\\AppData\\Local\\Temp\\ipykernel_15304\\3256594789.py:191: FutureWarning: The behavior of DataFrame concatenation with empty or all-NA entries is deprecated. In a future version, this will no longer exclude empty or all-NA columns when determining the result dtypes. To retain the old behavior, exclude the relevant entries before the concat operation.\n",
      "  iteration_log_df = pd.concat([iteration_log_df, pd.DataFrame([iteration_log])], ignore_index=True)\n"
     ]
    },
    {
     "name": "stdout",
     "output_type": "stream",
     "text": [
      "Iteration at time 2024-05-30 09:42:37.039410, current price: 1.27041, positions: 0, capital: 100\n",
      "Iteration at time 2024-05-30 09:43:37.239626, current price: 1.27045, positions: 0, capital: 100\n",
      "Iteration at time 2024-05-30 09:44:37.550252, current price: 1.2705199999999999, positions: 0, capital: 100\n",
      "Iteration at time 2024-05-30 09:45:37.881479, current price: 1.27038, positions: 0, capital: 100\n",
      "Iteration at time 2024-05-30 09:46:38.200947, current price: 1.27062, positions: 0, capital: 100\n",
      "Iteration at time 2024-05-30 09:47:38.530989, current price: 1.2707899999999999, positions: 0, capital: 100\n",
      "Iteration at time 2024-05-30 09:48:38.864943, current price: 1.2708300000000001, positions: 0, capital: 100\n",
      "Iteration at time 2024-05-30 09:49:39.190458, current price: 1.27089, positions: 0, capital: 100\n",
      "Iteration at time 2024-05-30 09:50:39.523358, current price: 1.2708599999999999, positions: 0, capital: 100\n",
      "Iteration at time 2024-05-30 09:51:39.812840, current price: 1.27081, positions: 0, capital: 100\n",
      "Iteration at time 2024-05-30 09:52:40.114962, current price: 1.2707600000000001, positions: 0, capital: 100\n",
      "Iteration at time 2024-05-30 09:53:40.318653, current price: 1.27074, positions: 0, capital: 100\n",
      "Iteration at time 2024-05-30 09:54:40.630634, current price: 1.2708, positions: 0, capital: 100\n",
      "Iteration at time 2024-05-30 09:55:40.945331, current price: 1.27109, positions: 0, capital: 100\n",
      "Iteration at time 2024-05-30 09:56:41.234304, current price: 1.27122, positions: 0, capital: 100\n",
      "Iteration at time 2024-05-30 09:57:41.535906, current price: 1.27134, positions: 0, capital: 100\n",
      "Iteration at time 2024-05-30 09:58:41.740076, current price: 1.27135, positions: 0, capital: 100\n",
      "Iteration at time 2024-05-30 09:59:42.072400, current price: 1.2713, positions: 0, capital: 100\n",
      "Iteration at time 2024-05-30 10:00:42.388550, current price: 1.27134, positions: 0, capital: 100\n",
      "Iteration at time 2024-05-30 10:01:42.717437, current price: 1.27127, positions: 0, capital: 100\n",
      "Iteration at time 2024-05-30 10:02:43.015864, current price: 1.27127, positions: 0, capital: 100\n",
      "Iteration at time 2024-05-30 10:03:43.314292, current price: 1.27126, positions: 0, capital: 100\n",
      "Iteration at time 2024-05-30 10:04:43.508804, current price: 1.27123, positions: 0, capital: 100\n",
      "Iteration at time 2024-05-30 10:05:43.823896, current price: 1.27152, positions: 0, capital: 100\n"
     ]
    },
    {
     "name": "stderr",
     "output_type": "stream",
     "text": [
      "C:\\Users\\gunne\\AppData\\Local\\Temp\\ipykernel_15304\\3256594789.py:107: FutureWarning: The behavior of DataFrame concatenation with empty or all-NA entries is deprecated. In a future version, this will no longer exclude empty or all-NA columns when determining the result dtypes. To retain the old behavior, exclude the relevant entries before the concat operation.\n",
      "  trade_log_df = pd.concat([trade_log_df, pd.DataFrame([log_entry])], ignore_index=True)\n"
     ]
    },
    {
     "name": "stdout",
     "output_type": "stream",
     "text": [
      "Iteration at time 2024-05-30 10:06:44.144522, current price: 1.27164, positions: 15727.721682237108, capital: 100\n",
      "Iteration at time 2024-05-30 10:07:44.469025, current price: 1.27164, positions: 15727.721682237108, capital: 100\n"
     ]
    },
    {
     "name": "stderr",
     "output_type": "stream",
     "text": [
      "C:\\Users\\gunne\\AppData\\Local\\Temp\\ipykernel_15304\\3256594789.py:131: FutureWarning: The behavior of DataFrame concatenation with empty or all-NA entries is deprecated. In a future version, this will no longer exclude empty or all-NA columns when determining the result dtypes. To retain the old behavior, exclude the relevant entries before the concat operation.\n",
      "  trade_log_df = pd.concat([trade_log_df, pd.DataFrame([log_exit])], ignore_index=True)\n"
     ]
    },
    {
     "name": "stdout",
     "output_type": "stream",
     "text": [
      "Iteration at time 2024-05-30 10:08:44.801897, current price: 1.27185, positions: 0, capital: 103.30282155326698\n"
     ]
    },
    {
     "name": "stderr",
     "output_type": "stream",
     "text": [
      "C:\\Users\\gunne\\AppData\\Local\\Temp\\ipykernel_15304\\3256594789.py:107: FutureWarning: The behavior of DataFrame concatenation with empty or all-NA entries is deprecated. In a future version, this will no longer exclude empty or all-NA columns when determining the result dtypes. To retain the old behavior, exclude the relevant entries before the concat operation.\n",
      "  trade_log_df = pd.concat([trade_log_df, pd.DataFrame([log_entry])], ignore_index=True)\n"
     ]
    },
    {
     "name": "stdout",
     "output_type": "stream",
     "text": [
      "Iteration at time 2024-05-30 10:09:45.120857, current price: 1.27175, positions: 16245.774964146569, capital: 103.30282155326698\n",
      "Iteration at time 2024-05-30 10:10:45.410904, current price: 1.27152, positions: 0, capital: 102.88961026705391\n",
      "Iteration at time 2024-05-30 10:11:45.611538, current price: 1.27157, positions: 0, capital: 102.88961026705391\n",
      "Iteration at time 2024-05-30 10:12:45.920985, current price: 1.27139, positions: 0, capital: 102.88961026705391\n",
      "Iteration at time 2024-05-30 10:13:46.212851, current price: 1.27157, positions: 0, capital: 102.88961026705391\n",
      "Iteration at time 2024-05-30 10:14:46.516383, current price: 1.27156, positions: 0, capital: 102.88961026705391\n",
      "Iteration at time 2024-05-30 10:15:46.714851, current price: 1.27156, positions: 0, capital: 102.88961026705391\n",
      "Iteration at time 2024-05-30 10:16:47.028793, current price: 1.27155, positions: 0, capital: 102.88961026705391\n",
      "Iteration at time 2024-05-30 10:17:47.342244, current price: 1.27145, positions: 0, capital: 102.88961026705391\n",
      "Iteration at time 2024-05-30 10:18:47.631694, current price: 1.27161, positions: 0, capital: 102.88961026705391\n",
      "Iteration at time 2024-05-30 10:19:47.939444, current price: 1.27164, positions: 0, capital: 102.88961026705391\n",
      "Iteration at time 2024-05-30 10:20:48.146795, current price: 1.27146, positions: 0, capital: 102.88961026705391\n",
      "Iteration at time 2024-05-30 10:21:48.463094, current price: 1.27152, positions: 0, capital: 102.88961026705391\n",
      "Iteration at time 2024-05-30 10:22:48.756744, current price: 1.27157, positions: 0, capital: 102.88961026705391\n",
      "Iteration at time 2024-05-30 10:23:49.061532, current price: 1.27162, positions: 0, capital: 102.88961026705391\n",
      "Iteration at time 2024-05-30 10:24:49.277643, current price: 1.2716, positions: 0, capital: 102.88961026705391\n",
      "Iteration at time 2024-05-30 10:25:49.599428, current price: 1.27132, positions: 0, capital: 102.88961026705391\n",
      "Iteration at time 2024-05-30 10:26:49.913639, current price: 1.27134, positions: 0, capital: 102.88961026705391\n",
      "Iteration at time 2024-05-30 10:27:50.235591, current price: 1.27138, positions: 0, capital: 102.88961026705391\n",
      "Iteration at time 2024-05-30 10:28:50.565884, current price: 1.27125, positions: 0, capital: 102.88961026705391\n",
      "Iteration at time 2024-05-30 10:29:50.888017, current price: 1.27138, positions: 0, capital: 102.88961026705391\n",
      "Iteration at time 2024-05-30 10:30:51.217575, current price: 1.27139, positions: 0, capital: 102.88961026705391\n",
      "Iteration at time 2024-05-30 10:31:51.549254, current price: 1.27141, positions: 0, capital: 102.88961026705391\n",
      "Iteration at time 2024-05-30 10:32:51.875298, current price: 1.27121, positions: 0, capital: 102.88961026705391\n",
      "Iteration at time 2024-05-30 10:33:52.209518, current price: 1.27132, positions: 0, capital: 102.88961026705391\n",
      "Iteration at time 2024-05-30 10:34:52.537373, current price: 1.27135, positions: 0, capital: 102.88961026705391\n",
      "Iteration at time 2024-05-30 10:35:52.827320, current price: 1.27133, positions: 0, capital: 102.88961026705391\n",
      "Iteration at time 2024-05-30 10:36:53.026306, current price: 1.27109, positions: 0, capital: 102.88961026705391\n",
      "Iteration at time 2024-05-30 10:37:53.328126, current price: 1.27108, positions: 0, capital: 102.88961026705391\n",
      "Iteration at time 2024-05-30 10:38:53.645022, current price: 1.27106, positions: 0, capital: 102.88961026705391\n",
      "Iteration at time 2024-05-30 10:39:53.983921, current price: 1.27103, positions: 0, capital: 102.88961026705391\n",
      "Iteration at time 2024-05-30 10:40:54.303464, current price: 1.27097, positions: 0, capital: 102.88961026705391\n",
      "Iteration at time 2024-05-30 10:41:54.629625, current price: 1.27111, positions: 0, capital: 102.88961026705391\n",
      "Iteration at time 2024-05-30 10:42:54.962955, current price: 1.27118, positions: 0, capital: 102.88961026705391\n",
      "Iteration at time 2024-05-30 10:43:55.285226, current price: 1.2711999999999999, positions: 0, capital: 102.88961026705391\n",
      "Iteration at time 2024-05-30 10:44:55.628216, current price: 1.27127, positions: 0, capital: 102.88961026705391\n",
      "Iteration at time 2024-05-30 10:45:55.952822, current price: 1.27114, positions: 0, capital: 102.88961026705391\n",
      "Iteration at time 2024-05-30 10:46:56.245226, current price: 1.27106, positions: 0, capital: 102.88961026705391\n",
      "Iteration at time 2024-05-30 10:47:56.549818, current price: 1.27108, positions: 0, capital: 102.88961026705391\n",
      "Iteration at time 2024-05-30 10:48:56.756207, current price: 1.27119, positions: 0, capital: 102.88961026705391\n",
      "Iteration at time 2024-05-30 10:49:57.060012, current price: 1.27111, positions: 0, capital: 102.88961026705391\n",
      "Iteration at time 2024-05-30 10:50:57.348549, current price: 1.27106, positions: 0, capital: 102.88961026705391\n",
      "Iteration at time 2024-05-30 10:51:57.651776, current price: 1.27114, positions: 0, capital: 102.88961026705391\n",
      "Iteration at time 2024-05-30 10:52:57.852347, current price: 1.27135, positions: 0, capital: 102.88961026705391\n",
      "Iteration at time 2024-05-30 10:53:58.171481, current price: 1.27125, positions: 0, capital: 102.88961026705391\n",
      "Iteration at time 2024-05-30 10:54:58.489924, current price: 1.27131, positions: 0, capital: 102.88961026705391\n",
      "Iteration at time 2024-05-30 10:55:58.783136, current price: 1.27129, positions: 0, capital: 102.88961026705391\n",
      "Iteration at time 2024-05-30 10:56:58.982515, current price: 1.27132, positions: 0, capital: 102.88961026705391\n",
      "Iteration at time 2024-05-30 10:57:59.290268, current price: 1.27133, positions: 0, capital: 102.88961026705391\n",
      "Iteration at time 2024-05-30 10:58:59.621458, current price: 1.27115, positions: 0, capital: 102.88961026705391\n",
      "Iteration at time 2024-05-30 10:59:59.948235, current price: 1.2711700000000001, positions: 0, capital: 102.88961026705391\n"
     ]
    },
    {
     "name": "stderr",
     "output_type": "stream",
     "text": [
      "C:\\Users\\gunne\\AppData\\Local\\Temp\\ipykernel_15304\\3256594789.py:107: FutureWarning: The behavior of DataFrame concatenation with empty or all-NA entries is deprecated. In a future version, this will no longer exclude empty or all-NA columns when determining the result dtypes. To retain the old behavior, exclude the relevant entries before the concat operation.\n",
      "  trade_log_df = pd.concat([trade_log_df, pd.DataFrame([log_entry])], ignore_index=True)\n"
     ]
    },
    {
     "name": "stdout",
     "output_type": "stream",
     "text": [
      "Iteration at time 2024-05-30 11:01:00.263885, current price: 1.27122, positions: 16187.53799768001, capital: 102.88961026705391\n",
      "Iteration at time 2024-05-30 11:02:00.589885, current price: 1.2711299999999999, positions: 0, capital: 102.4780518259857\n",
      "Iteration at time 2024-05-30 11:03:00.918785, current price: 1.27105, positions: 0, capital: 102.4780518259857\n",
      "Iteration at time 2024-05-30 11:04:01.237287, current price: 1.27105, positions: 0, capital: 102.4780518259857\n",
      "Iteration at time 2024-05-30 11:05:01.565615, current price: 1.27095, positions: 0, capital: 102.4780518259857\n",
      "Iteration at time 2024-05-30 11:06:01.899515, current price: 1.27103, positions: 0, capital: 102.4780518259857\n",
      "Iteration at time 2024-05-30 11:07:02.225762, current price: 1.27096, positions: 0, capital: 102.4780518259857\n",
      "Iteration at time 2024-05-30 11:08:02.517119, current price: 1.2709, positions: 0, capital: 102.4780518259857\n",
      "Iteration at time 2024-05-30 11:09:02.824767, current price: 1.27073, positions: 0, capital: 102.4780518259857\n",
      "Iteration at time 2024-05-30 11:10:03.034297, current price: 1.2707600000000001, positions: 0, capital: 102.4780518259857\n",
      "Iteration at time 2024-05-30 11:11:03.351378, current price: 1.27072, positions: 0, capital: 102.4780518259857\n",
      "Iteration at time 2024-05-30 11:12:03.666945, current price: 1.27067, positions: 0, capital: 102.4780518259857\n",
      "Iteration at time 2024-05-30 11:13:03.994619, current price: 1.27065, positions: 0, capital: 102.4780518259857\n",
      "Iteration at time 2024-05-30 11:14:04.327801, current price: 1.27065, positions: 0, capital: 102.4780518259857\n",
      "Iteration at time 2024-05-30 11:15:04.644767, current price: 1.27054, positions: 0, capital: 102.4780518259857\n",
      "Iteration at time 2024-05-30 11:16:04.935500, current price: 1.2705, positions: 0, capital: 102.4780518259857\n",
      "Iteration at time 2024-05-30 11:17:05.238735, current price: 1.27039, positions: 0, capital: 102.4780518259857\n",
      "Iteration at time 2024-05-30 11:18:05.449579, current price: 1.27058, positions: 0, capital: 102.4780518259857\n",
      "Iteration at time 2024-05-30 11:19:05.770271, current price: 1.27065, positions: 0, capital: 102.4780518259857\n",
      "Iteration at time 2024-05-30 11:20:06.103577, current price: 1.27075, positions: 0, capital: 102.4780518259857\n",
      "Iteration at time 2024-05-30 11:21:06.430204, current price: 1.27068, positions: 0, capital: 102.4780518259857\n",
      "Iteration at time 2024-05-30 11:22:06.756871, current price: 1.27093, positions: 0, capital: 102.4780518259857\n",
      "Iteration at time 2024-05-30 11:23:07.082967, current price: 1.27096, positions: 0, capital: 102.4780518259857\n",
      "Iteration at time 2024-05-30 11:24:07.400254, current price: 1.2711299999999999, positions: 0, capital: 102.4780518259857\n",
      "Iteration at time 2024-05-30 11:25:07.733060, current price: 1.27105, positions: 0, capital: 102.4780518259857\n"
     ]
    },
    {
     "name": "stderr",
     "output_type": "stream",
     "text": [
      "C:\\Users\\gunne\\AppData\\Local\\Temp\\ipykernel_15304\\3256594789.py:107: FutureWarning: The behavior of DataFrame concatenation with empty or all-NA entries is deprecated. In a future version, this will no longer exclude empty or all-NA columns when determining the result dtypes. To retain the old behavior, exclude the relevant entries before the concat operation.\n",
      "  trade_log_df = pd.concat([trade_log_df, pd.DataFrame([log_entry])], ignore_index=True)\n"
     ]
    },
    {
     "name": "stdout",
     "output_type": "stream",
     "text": [
      "Iteration at time 2024-05-30 11:26:08.049277, current price: 1.27123, positions: 16122.661017437551, capital: 102.4780518259857\n",
      "Iteration at time 2024-05-30 11:27:08.376576, current price: 1.27135, positions: 0, capital: 104.41277114807656\n"
     ]
    },
    {
     "name": "stderr",
     "output_type": "stream",
     "text": [
      "C:\\Users\\gunne\\AppData\\Local\\Temp\\ipykernel_15304\\3256594789.py:107: FutureWarning: The behavior of DataFrame concatenation with empty or all-NA entries is deprecated. In a future version, this will no longer exclude empty or all-NA columns when determining the result dtypes. To retain the old behavior, exclude the relevant entries before the concat operation.\n",
      "  trade_log_df = pd.concat([trade_log_df, pd.DataFrame([log_entry])], ignore_index=True)\n"
     ]
    },
    {
     "name": "stdout",
     "output_type": "stream",
     "text": [
      "Iteration at time 2024-05-30 11:28:08.711828, current price: 1.27146, positions: 16424.074866386134, capital: 104.41277114807656\n",
      "Iteration at time 2024-05-30 11:29:09.033343, current price: 1.27149, positions: 16424.074866386134, capital: 104.41277114807656\n",
      "Iteration at time 2024-05-30 11:30:09.326842, current price: 1.27142, positions: 16424.074866386134, capital: 104.41277114807656\n",
      "Iteration at time 2024-05-30 11:31:09.530133, current price: 1.27156, positions: 0, capital: 106.05517863471499\n"
     ]
    },
    {
     "name": "stderr",
     "output_type": "stream",
     "text": [
      "C:\\Users\\gunne\\AppData\\Local\\Temp\\ipykernel_15304\\3256594789.py:107: FutureWarning: The behavior of DataFrame concatenation with empty or all-NA entries is deprecated. In a future version, this will no longer exclude empty or all-NA columns when determining the result dtypes. To retain the old behavior, exclude the relevant entries before the concat operation.\n",
      "  trade_log_df = pd.concat([trade_log_df, pd.DataFrame([log_entry])], ignore_index=True)\n"
     ]
    },
    {
     "name": "stdout",
     "output_type": "stream",
     "text": [
      "Iteration at time 2024-05-30 11:32:09.837745, current price: 1.2714699999999999, positions: 16682.293508256585, capital: 106.05517863471499\n",
      "Iteration at time 2024-05-30 11:33:10.155188, current price: 1.27148, positions: 16682.293508256585, capital: 106.05517863471499\n",
      "Iteration at time 2024-05-30 11:34:10.483926, current price: 1.27158, positions: 0, capital: 107.89023092062412\n"
     ]
    },
    {
     "name": "stderr",
     "output_type": "stream",
     "text": [
      "C:\\Users\\gunne\\AppData\\Local\\Temp\\ipykernel_15304\\3256594789.py:107: FutureWarning: The behavior of DataFrame concatenation with empty or all-NA entries is deprecated. In a future version, this will no longer exclude empty or all-NA columns when determining the result dtypes. To retain the old behavior, exclude the relevant entries before the concat operation.\n",
      "  trade_log_df = pd.concat([trade_log_df, pd.DataFrame([log_entry])], ignore_index=True)\n"
     ]
    },
    {
     "name": "stdout",
     "output_type": "stream",
     "text": [
      "Iteration at time 2024-05-30 11:35:10.801371, current price: 1.27163, positions: 16968.808681868803, capital: 107.89023092062412\n",
      "Iteration at time 2024-05-30 11:36:11.128157, current price: 1.27175, positions: 0, capital: 109.92648796244664\n"
     ]
    },
    {
     "name": "stderr",
     "output_type": "stream",
     "text": [
      "C:\\Users\\gunne\\AppData\\Local\\Temp\\ipykernel_15304\\3256594789.py:107: FutureWarning: The behavior of DataFrame concatenation with empty or all-NA entries is deprecated. In a future version, this will no longer exclude empty or all-NA columns when determining the result dtypes. To retain the old behavior, exclude the relevant entries before the concat operation.\n",
      "  trade_log_df = pd.concat([trade_log_df, pd.DataFrame([log_entry])], ignore_index=True)\n"
     ]
    },
    {
     "name": "stdout",
     "output_type": "stream",
     "text": [
      "Iteration at time 2024-05-30 11:37:11.456742, current price: 1.27188, positions: 17285.669711363753, capital: 109.92648796244664\n",
      "Iteration at time 2024-05-30 11:38:11.781025, current price: 1.27186, positions: 17285.669711363753, capital: 109.92648796244664\n",
      "Iteration at time 2024-05-30 11:39:12.073216, current price: 1.27196, positions: 0, capital: 111.30934153935712\n"
     ]
    },
    {
     "name": "stderr",
     "output_type": "stream",
     "text": [
      "C:\\Users\\gunne\\AppData\\Local\\Temp\\ipykernel_15304\\3256594789.py:107: FutureWarning: The behavior of DataFrame concatenation with empty or all-NA entries is deprecated. In a future version, this will no longer exclude empty or all-NA columns when determining the result dtypes. To retain the old behavior, exclude the relevant entries before the concat operation.\n",
      "  trade_log_df = pd.concat([trade_log_df, pd.DataFrame([log_entry])], ignore_index=True)\n"
     ]
    },
    {
     "name": "stdout",
     "output_type": "stream",
     "text": [
      "Iteration at time 2024-05-30 11:40:12.377127, current price: 1.27216, positions: 17499.267629756814, capital: 111.30934153935712\n",
      "Iteration at time 2024-05-30 11:41:12.587248, current price: 1.27209, positions: 0, capital: 110.86410417319969\n"
     ]
    },
    {
     "name": "stderr",
     "output_type": "stream",
     "text": [
      "C:\\Users\\gunne\\AppData\\Local\\Temp\\ipykernel_15304\\3256594789.py:107: FutureWarning: The behavior of DataFrame concatenation with empty or all-NA entries is deprecated. In a future version, this will no longer exclude empty or all-NA columns when determining the result dtypes. To retain the old behavior, exclude the relevant entries before the concat operation.\n",
      "  trade_log_df = pd.concat([trade_log_df, pd.DataFrame([log_entry])], ignore_index=True)\n"
     ]
    },
    {
     "name": "stdout",
     "output_type": "stream",
     "text": [
      "Iteration at time 2024-05-30 11:42:12.915249, current price: 1.27195, positions: 17432.148146263564, capital: 110.86410417319969\n",
      "Iteration at time 2024-05-30 11:43:13.239349, current price: 1.27197, positions: 17432.148146263564, capital: 110.86410417319969\n",
      "Iteration at time 2024-05-30 11:44:13.562964, current price: 1.27186, positions: 0, capital: 110.4206477565069\n"
     ]
    },
    {
     "name": "stderr",
     "output_type": "stream",
     "text": [
      "C:\\Users\\gunne\\AppData\\Local\\Temp\\ipykernel_15304\\3256594789.py:107: FutureWarning: The behavior of DataFrame concatenation with empty or all-NA entries is deprecated. In a future version, this will no longer exclude empty or all-NA columns when determining the result dtypes. To retain the old behavior, exclude the relevant entries before the concat operation.\n",
      "  trade_log_df = pd.concat([trade_log_df, pd.DataFrame([log_entry])], ignore_index=True)\n"
     ]
    },
    {
     "name": "stdout",
     "output_type": "stream",
     "text": [
      "Iteration at time 2024-05-30 11:45:13.892628, current price: 1.27193, positions: 17362.69256272073, capital: 110.4206477565069\n",
      "Iteration at time 2024-05-30 11:46:14.209938, current price: 1.27186, positions: 0, capital: 109.97896516548087\n"
     ]
    },
    {
     "name": "stderr",
     "output_type": "stream",
     "text": [
      "C:\\Users\\gunne\\AppData\\Local\\Temp\\ipykernel_15304\\3256594789.py:107: FutureWarning: The behavior of DataFrame concatenation with empty or all-NA entries is deprecated. In a future version, this will no longer exclude empty or all-NA columns when determining the result dtypes. To retain the old behavior, exclude the relevant entries before the concat operation.\n",
      "  trade_log_df = pd.concat([trade_log_df, pd.DataFrame([log_entry])], ignore_index=True)\n"
     ]
    },
    {
     "name": "stdout",
     "output_type": "stream",
     "text": [
      "Iteration at time 2024-05-30 11:47:14.536027, current price: 1.27176, positions: 17295.553432326993, capital: 109.97896516548087\n",
      "Iteration at time 2024-05-30 11:48:14.868700, current price: 1.27184, positions: 0, capital: 111.36260944006841\n"
     ]
    },
    {
     "name": "stderr",
     "output_type": "stream",
     "text": [
      "C:\\Users\\gunne\\AppData\\Local\\Temp\\ipykernel_15304\\3256594789.py:107: FutureWarning: The behavior of DataFrame concatenation with empty or all-NA entries is deprecated. In a future version, this will no longer exclude empty or all-NA columns when determining the result dtypes. To retain the old behavior, exclude the relevant entries before the concat operation.\n",
      "  trade_log_df = pd.concat([trade_log_df, pd.DataFrame([log_entry])], ignore_index=True)\n"
     ]
    },
    {
     "name": "stdout",
     "output_type": "stream",
     "text": [
      "Iteration at time 2024-05-30 11:49:15.183754, current price: 1.2717, positions: 17513.974906042054, capital: 111.36260944006841\n",
      "Iteration at time 2024-05-30 11:50:15.516201, current price: 1.27155, positions: 0, capital: 110.91715900230814\n",
      "Iteration at time 2024-05-30 11:51:15.848790, current price: 1.27146, positions: 0, capital: 110.91715900230814\n",
      "Iteration at time 2024-05-30 11:52:16.173724, current price: 1.27142, positions: 0, capital: 110.91715900230814\n",
      "Iteration at time 2024-05-30 11:53:16.466429, current price: 1.27134, positions: 0, capital: 110.91715900230814\n",
      "Iteration at time 2024-05-30 11:54:16.669587, current price: 1.27133, positions: 0, capital: 110.91715900230814\n",
      "Iteration at time 2024-05-30 11:55:16.965398, current price: 1.27131, positions: 0, capital: 110.91715900230814\n",
      "Iteration at time 2024-05-30 11:56:17.291409, current price: 1.27139, positions: 0, capital: 110.91715900230814\n",
      "Iteration at time 2024-05-30 11:57:17.607105, current price: 1.27145, positions: 0, capital: 110.91715900230814\n",
      "Iteration at time 2024-05-30 11:58:17.934383, current price: 1.27131, positions: 0, capital: 110.91715900230814\n",
      "Iteration at time 2024-05-30 11:59:18.268015, current price: 1.27131, positions: 0, capital: 110.91715900230814\n",
      "Iteration at time 2024-05-30 12:00:18.585856, current price: 1.27124, positions: 0, capital: 110.91715900230814\n",
      "Iteration at time 2024-05-30 12:01:18.911170, current price: 1.27104, positions: 0, capital: 110.91715900230814\n",
      "Iteration at time 2024-05-30 12:02:19.249832, current price: 1.27107, positions: 0, capital: 110.91715900230814\n",
      "Iteration at time 2024-05-30 12:03:19.574007, current price: 1.27112, positions: 0, capital: 110.91715900230814\n",
      "Iteration at time 2024-05-30 12:04:19.863231, current price: 1.27112, positions: 0, capital: 110.91715900230814\n",
      "Iteration at time 2024-05-30 12:05:20.064577, current price: 1.27112, positions: 0, capital: 110.91715900230814\n",
      "Iteration at time 2024-05-30 12:06:20.362562, current price: 1.27125, positions: 0, capital: 110.91715900230814\n",
      "Iteration at time 2024-05-30 12:07:20.684198, current price: 1.27125, positions: 0, capital: 110.91715900230814\n",
      "Iteration at time 2024-05-30 12:08:21.011786, current price: 1.27125, positions: 0, capital: 110.91715900230814\n",
      "Iteration at time 2024-05-30 12:09:21.331240, current price: 1.27125, positions: 0, capital: 110.91715900230814\n",
      "Iteration at time 2024-05-30 12:10:21.658629, current price: 1.27114, positions: 0, capital: 110.91715900230814\n",
      "Iteration at time 2024-05-30 12:11:21.987595, current price: 1.27133, positions: 0, capital: 110.91715900230814\n",
      "Iteration at time 2024-05-30 12:12:22.277726, current price: 1.27141, positions: 0, capital: 110.91715900230814\n",
      "Iteration at time 2024-05-30 12:13:22.579739, current price: 1.27146, positions: 0, capital: 110.91715900230814\n",
      "Iteration at time 2024-05-30 12:14:22.788026, current price: 1.27135, positions: 0, capital: 110.91715900230814\n",
      "Iteration at time 2024-05-30 12:15:23.111894, current price: 1.2714699999999999, positions: 0, capital: 110.91715900230814\n"
     ]
    },
    {
     "name": "stderr",
     "output_type": "stream",
     "text": [
      "C:\\Users\\gunne\\AppData\\Local\\Temp\\ipykernel_15304\\3256594789.py:107: FutureWarning: The behavior of DataFrame concatenation with empty or all-NA entries is deprecated. In a future version, this will no longer exclude empty or all-NA columns when determining the result dtypes. To retain the old behavior, exclude the relevant entries before the concat operation.\n",
      "  trade_log_df = pd.concat([trade_log_df, pd.DataFrame([log_entry])], ignore_index=True)\n"
     ]
    },
    {
     "name": "stdout",
     "output_type": "stream",
     "text": [
      "Iteration at time 2024-05-30 12:16:23.406667, current price: 1.27151, positions: 17446.52562737346, capital: 110.91715900230814\n",
      "Iteration at time 2024-05-30 12:17:23.709476, current price: 1.27162, positions: 0, capital: 112.83627682132017\n"
     ]
    },
    {
     "name": "stderr",
     "output_type": "stream",
     "text": [
      "C:\\Users\\gunne\\AppData\\Local\\Temp\\ipykernel_15304\\3256594789.py:107: FutureWarning: The behavior of DataFrame concatenation with empty or all-NA entries is deprecated. In a future version, this will no longer exclude empty or all-NA columns when determining the result dtypes. To retain the old behavior, exclude the relevant entries before the concat operation.\n",
      "  trade_log_df = pd.concat([trade_log_df, pd.DataFrame([log_entry])], ignore_index=True)\n"
     ]
    },
    {
     "name": "stdout",
     "output_type": "stream",
     "text": [
      "Iteration at time 2024-05-30 12:18:23.906879, current price: 1.27163, positions: 17746.715132754052, capital: 112.83627682132017\n",
      "Iteration at time 2024-05-30 12:19:24.222687, current price: 1.27141, positions: 0, capital: 112.38493171403489\n",
      "Iteration at time 2024-05-30 12:20:24.538350, current price: 1.2714400000000001, positions: 0, capital: 112.38493171403489\n",
      "Iteration at time 2024-05-30 12:21:24.867854, current price: 1.2714400000000001, positions: 0, capital: 112.38493171403489\n",
      "Iteration at time 2024-05-30 12:22:25.201111, current price: 1.27145, positions: 0, capital: 112.38493171403489\n",
      "Iteration at time 2024-05-30 12:23:25.523723, current price: 1.27151, positions: 0, capital: 112.38493171403489\n"
     ]
    },
    {
     "name": "stderr",
     "output_type": "stream",
     "text": [
      "C:\\Users\\gunne\\AppData\\Local\\Temp\\ipykernel_15304\\3256594789.py:107: FutureWarning: The behavior of DataFrame concatenation with empty or all-NA entries is deprecated. In a future version, this will no longer exclude empty or all-NA columns when determining the result dtypes. To retain the old behavior, exclude the relevant entries before the concat operation.\n",
      "  trade_log_df = pd.concat([trade_log_df, pd.DataFrame([log_entry])], ignore_index=True)\n"
     ]
    },
    {
     "name": "stdout",
     "output_type": "stream",
     "text": [
      "Iteration at time 2024-05-30 12:24:25.817585, current price: 1.27156, positions: 17676.701329710733, capital: 112.38493171403489\n",
      "Iteration at time 2024-05-30 12:25:26.119845, current price: 1.27155, positions: 17676.701329710733, capital: 112.38493171403489\n",
      "Iteration at time 2024-05-30 12:26:26.332347, current price: 1.27152, positions: 17676.701329710733, capital: 112.38493171403489\n",
      "Iteration at time 2024-05-30 12:27:26.661239, current price: 1.27164, positions: 0, capital: 113.79906782041317\n"
     ]
    },
    {
     "name": "stderr",
     "output_type": "stream",
     "text": [
      "C:\\Users\\gunne\\AppData\\Local\\Temp\\ipykernel_15304\\3256594789.py:107: FutureWarning: The behavior of DataFrame concatenation with empty or all-NA entries is deprecated. In a future version, this will no longer exclude empty or all-NA columns when determining the result dtypes. To retain the old behavior, exclude the relevant entries before the concat operation.\n",
      "  trade_log_df = pd.concat([trade_log_df, pd.DataFrame([log_entry])], ignore_index=True)\n"
     ]
    },
    {
     "name": "stdout",
     "output_type": "stream",
     "text": [
      "Iteration at time 2024-05-30 12:28:26.986265, current price: 1.27177, positions: 17896.17113478273, capital: 113.79906782041317\n",
      "Iteration at time 2024-05-30 12:29:27.306065, current price: 1.27176, positions: 17896.17113478273, capital: 113.79906782041317\n",
      "Iteration at time 2024-05-30 12:30:27.649608, current price: 1.27175, positions: 17896.17113478273, capital: 113.79906782041317\n",
      "Iteration at time 2024-05-30 12:31:27.957351, current price: 1.27175, positions: 17896.17113478273, capital: 113.79906782041317\n",
      "Iteration at time 2024-05-30 12:32:28.246472, current price: 1.27185, positions: 0, capital: 115.23076151119325\n"
     ]
    },
    {
     "name": "stderr",
     "output_type": "stream",
     "text": [
      "C:\\Users\\gunne\\AppData\\Local\\Temp\\ipykernel_15304\\3256594789.py:107: FutureWarning: The behavior of DataFrame concatenation with empty or all-NA entries is deprecated. In a future version, this will no longer exclude empty or all-NA columns when determining the result dtypes. To retain the old behavior, exclude the relevant entries before the concat operation.\n",
      "  trade_log_df = pd.concat([trade_log_df, pd.DataFrame([log_entry])], ignore_index=True)\n"
     ]
    },
    {
     "name": "stdout",
     "output_type": "stream",
     "text": [
      "Iteration at time 2024-05-30 12:33:28.551503, current price: 1.27165, positions: 18123.0309458095, capital: 115.23076151119325\n",
      "Iteration at time 2024-05-30 12:34:28.755375, current price: 1.27157, positions: 0, capital: 114.76983846514848\n",
      "Iteration at time 2024-05-30 12:35:29.070358, current price: 1.2714699999999999, positions: 0, capital: 114.76983846514848\n",
      "Iteration at time 2024-05-30 12:36:29.364813, current price: 1.27156, positions: 0, capital: 114.76983846514848\n",
      "Iteration at time 2024-05-30 12:37:29.672607, current price: 1.27156, positions: 0, capital: 114.76983846514848\n",
      "Iteration at time 2024-05-30 12:38:29.883432, current price: 1.2713700000000001, positions: 0, capital: 114.76983846514848\n",
      "Iteration at time 2024-05-30 12:39:30.202657, current price: 1.27145, positions: 0, capital: 114.76983846514848\n",
      "Iteration at time 2024-05-30 12:40:30.521764, current price: 1.27156, positions: 0, capital: 114.76983846514848\n"
     ]
    },
    {
     "name": "stderr",
     "output_type": "stream",
     "text": [
      "C:\\Users\\gunne\\AppData\\Local\\Temp\\ipykernel_15304\\3256594789.py:107: FutureWarning: The behavior of DataFrame concatenation with empty or all-NA entries is deprecated. In a future version, this will no longer exclude empty or all-NA columns when determining the result dtypes. To retain the old behavior, exclude the relevant entries before the concat operation.\n",
      "  trade_log_df = pd.concat([trade_log_df, pd.DataFrame([log_entry])], ignore_index=True)\n"
     ]
    },
    {
     "name": "stdout",
     "output_type": "stream",
     "text": [
      "Iteration at time 2024-05-30 12:41:30.847849, current price: 1.27164, positions: 18050.680768951665, capital: 114.76983846514848\n",
      "Iteration at time 2024-05-30 12:42:31.178012, current price: 1.2715, positions: 0, capital: 114.3107591112879\n",
      "Iteration at time 2024-05-30 12:43:31.495631, current price: 1.27155, positions: 0, capital: 114.3107591112879\n",
      "Iteration at time 2024-05-30 12:44:31.785843, current price: 1.27154, positions: 0, capital: 114.3107591112879\n",
      "Iteration at time 2024-05-30 12:45:32.090062, current price: 1.27155, positions: 0, capital: 114.3107591112879\n",
      "Iteration at time 2024-05-30 12:46:32.291658, current price: 1.27135, positions: 0, capital: 114.3107591112879\n",
      "Iteration at time 2024-05-30 12:47:32.615245, current price: 1.27134, positions: 0, capital: 114.3107591112879\n",
      "Iteration at time 2024-05-30 12:48:32.945420, current price: 1.27132, positions: 0, capital: 114.3107591112879\n",
      "Iteration at time 2024-05-30 12:49:33.277507, current price: 1.27142, positions: 0, capital: 114.3107591112879\n",
      "Iteration at time 2024-05-30 12:50:33.609487, current price: 1.27135, positions: 0, capital: 114.3107591112879\n",
      "Iteration at time 2024-05-30 12:51:33.923946, current price: 1.27125, positions: 0, capital: 114.3107591112879\n",
      "Iteration at time 2024-05-30 12:52:34.248511, current price: 1.27121, positions: 0, capital: 114.3107591112879\n",
      "Iteration at time 2024-05-30 12:53:34.582097, current price: 1.27125, positions: 0, capital: 114.3107591112879\n",
      "Iteration at time 2024-05-30 12:54:34.900151, current price: 1.2711299999999999, positions: 0, capital: 114.3107591112879\n",
      "Iteration at time 2024-05-30 12:55:35.229560, current price: 1.27101, positions: 0, capital: 114.3107591112879\n",
      "Iteration at time 2024-05-30 12:56:35.563929, current price: 1.27102, positions: 0, capital: 114.3107591112879\n",
      "Iteration at time 2024-05-30 12:57:35.884030, current price: 1.27095, positions: 0, capital: 114.3107591112879\n",
      "Iteration at time 2024-05-30 12:58:36.218691, current price: 1.27111, positions: 0, capital: 114.3107591112879\n",
      "Iteration at time 2024-05-30 12:59:36.552291, current price: 1.27102, positions: 0, capital: 114.3107591112879\n"
     ]
    },
    {
     "name": "stderr",
     "output_type": "stream",
     "text": [
      "C:\\Users\\gunne\\AppData\\Local\\Temp\\ipykernel_15304\\3256594789.py:107: FutureWarning: The behavior of DataFrame concatenation with empty or all-NA entries is deprecated. In a future version, this will no longer exclude empty or all-NA columns when determining the result dtypes. To retain the old behavior, exclude the relevant entries before the concat operation.\n",
      "  trade_log_df = pd.concat([trade_log_df, pd.DataFrame([log_entry])], ignore_index=True)\n"
     ]
    },
    {
     "name": "stdout",
     "output_type": "stream",
     "text": [
      "Iteration at time 2024-05-30 13:00:36.880854, current price: 1.27101, positions: 17987.38941649364, capital: 114.3107591112879\n",
      "Iteration at time 2024-05-30 13:01:37.212955, current price: 1.27095, positions: 0, capital: 113.85351607484274\n"
     ]
    },
    {
     "name": "stderr",
     "output_type": "stream",
     "text": [
      "C:\\Users\\gunne\\AppData\\Local\\Temp\\ipykernel_15304\\3256594789.py:107: FutureWarning: The behavior of DataFrame concatenation with empty or all-NA entries is deprecated. In a future version, this will no longer exclude empty or all-NA columns when determining the result dtypes. To retain the old behavior, exclude the relevant entries before the concat operation.\n",
      "  trade_log_df = pd.concat([trade_log_df, pd.DataFrame([log_entry])], ignore_index=True)\n"
     ]
    },
    {
     "name": "stdout",
     "output_type": "stream",
     "text": [
      "Iteration at time 2024-05-30 13:02:37.534996, current price: 1.27114, positions: 17913.60763957436, capital: 113.85351607484274\n",
      "Iteration at time 2024-05-30 13:03:37.853516, current price: 1.2711299999999999, positions: 17913.60763957436, capital: 113.85351607484274\n",
      "Iteration at time 2024-05-30 13:04:38.181478, current price: 1.2711700000000001, positions: 17913.60763957436, capital: 113.85351607484274\n",
      "Iteration at time 2024-05-30 13:05:38.503068, current price: 1.27111, positions: 17913.60763957436, capital: 113.85351607484274\n",
      "Iteration at time 2024-05-30 13:06:38.833291, current price: 1.27104, positions: 0, capital: 113.39810201054337\n"
     ]
    },
    {
     "name": "stderr",
     "output_type": "stream",
     "text": [
      "C:\\Users\\gunne\\AppData\\Local\\Temp\\ipykernel_15304\\3256594789.py:107: FutureWarning: The behavior of DataFrame concatenation with empty or all-NA entries is deprecated. In a future version, this will no longer exclude empty or all-NA columns when determining the result dtypes. To retain the old behavior, exclude the relevant entries before the concat operation.\n",
      "  trade_log_df = pd.concat([trade_log_df, pd.DataFrame([log_entry])], ignore_index=True)\n"
     ]
    },
    {
     "name": "stdout",
     "output_type": "stream",
     "text": [
      "Iteration at time 2024-05-30 13:07:39.163932, current price: 1.27087, positions: 17845.743783477992, capital: 113.39810201054337\n",
      "Iteration at time 2024-05-30 13:08:39.489477, current price: 1.27084, positions: 17845.743783477992, capital: 113.39810201054337\n",
      "Iteration at time 2024-05-30 13:09:39.779226, current price: 1.27082, positions: 17845.743783477992, capital: 113.39810201054337\n",
      "Iteration at time 2024-05-30 13:10:40.085503, current price: 1.27085, positions: 17845.743783477992, capital: 113.39810201054337\n",
      "Iteration at time 2024-05-30 13:11:40.298205, current price: 1.27065, positions: 0, capital: 112.9445096025012\n",
      "Iteration at time 2024-05-30 13:12:40.616666, current price: 1.27065, positions: 0, capital: 112.9445096025012\n",
      "Iteration at time 2024-05-30 13:13:40.942732, current price: 1.27062, positions: 0, capital: 112.9445096025012\n",
      "Iteration at time 2024-05-30 13:14:41.257065, current price: 1.27063, positions: 0, capital: 112.9445096025012\n",
      "Iteration at time 2024-05-30 13:15:41.581631, current price: 1.27064, positions: 0, capital: 112.9445096025012\n",
      "Iteration at time 2024-05-30 13:16:41.909209, current price: 1.27064, positions: 0, capital: 112.9445096025012\n",
      "Iteration at time 2024-05-30 13:17:42.227498, current price: 1.27067, positions: 0, capital: 112.9445096025012\n"
     ]
    },
    {
     "name": "stderr",
     "output_type": "stream",
     "text": [
      "C:\\Users\\gunne\\AppData\\Local\\Temp\\ipykernel_15304\\3256594789.py:107: FutureWarning: The behavior of DataFrame concatenation with empty or all-NA entries is deprecated. In a future version, this will no longer exclude empty or all-NA columns when determining the result dtypes. To retain the old behavior, exclude the relevant entries before the concat operation.\n",
      "  trade_log_df = pd.concat([trade_log_df, pd.DataFrame([log_entry])], ignore_index=True)\n"
     ]
    },
    {
     "name": "stdout",
     "output_type": "stream",
     "text": [
      "Iteration at time 2024-05-30 13:18:42.561692, current price: 1.2707600000000001, positions: 17775.899399178634, capital: 112.9445096025012\n",
      "Iteration at time 2024-05-30 13:19:42.888334, current price: 1.27077, positions: 17775.899399178634, capital: 112.9445096025012\n",
      "Iteration at time 2024-05-30 13:20:43.182607, current price: 1.27073, positions: 17775.899399178634, capital: 112.9445096025012\n",
      "Iteration at time 2024-05-30 13:21:43.490490, current price: 1.2709, positions: 0, capital: 115.43313551838277\n"
     ]
    },
    {
     "name": "stderr",
     "output_type": "stream",
     "text": [
      "C:\\Users\\gunne\\AppData\\Local\\Temp\\ipykernel_15304\\3256594789.py:107: FutureWarning: The behavior of DataFrame concatenation with empty or all-NA entries is deprecated. In a future version, this will no longer exclude empty or all-NA columns when determining the result dtypes. To retain the old behavior, exclude the relevant entries before the concat operation.\n",
      "  trade_log_df = pd.concat([trade_log_df, pd.DataFrame([log_entry])], ignore_index=True)\n"
     ]
    },
    {
     "name": "stdout",
     "output_type": "stream",
     "text": [
      "Iteration at time 2024-05-30 13:22:43.703795, current price: 1.27093, positions: 18165.144503376705, capital: 115.43313551838277\n",
      "Iteration at time 2024-05-30 13:23:44.019878, current price: 1.27093, positions: 18165.144503376705, capital: 115.43313551838277\n",
      "Iteration at time 2024-05-30 13:24:44.349679, current price: 1.27085, positions: 0, capital: 114.97140297630924\n"
     ]
    },
    {
     "name": "stderr",
     "output_type": "stream",
     "text": [
      "C:\\Users\\gunne\\AppData\\Local\\Temp\\ipykernel_15304\\3256594789.py:107: FutureWarning: The behavior of DataFrame concatenation with empty or all-NA entries is deprecated. In a future version, this will no longer exclude empty or all-NA columns when determining the result dtypes. To retain the old behavior, exclude the relevant entries before the concat operation.\n",
      "  trade_log_df = pd.concat([trade_log_df, pd.DataFrame([log_entry])], ignore_index=True)\n"
     ]
    },
    {
     "name": "stdout",
     "output_type": "stream",
     "text": [
      "Iteration at time 2024-05-30 13:25:44.668248, current price: 1.27096, positions: 18092.05686666917, capital: 114.97140297630924\n",
      "Iteration at time 2024-05-30 13:26:44.992479, current price: 1.2709, positions: 0, capital: 114.511517364404\n"
     ]
    },
    {
     "name": "stderr",
     "output_type": "stream",
     "text": [
      "C:\\Users\\gunne\\AppData\\Local\\Temp\\ipykernel_15304\\3256594789.py:107: FutureWarning: The behavior of DataFrame concatenation with empty or all-NA entries is deprecated. In a future version, this will no longer exclude empty or all-NA columns when determining the result dtypes. To retain the old behavior, exclude the relevant entries before the concat operation.\n",
      "  trade_log_df = pd.concat([trade_log_df, pd.DataFrame([log_entry])], ignore_index=True)\n"
     ]
    },
    {
     "name": "stdout",
     "output_type": "stream",
     "text": [
      "Iteration at time 2024-05-30 13:27:45.326994, current price: 1.27087, positions: 18020.964750824867, capital: 114.511517364404\n",
      "Iteration at time 2024-05-30 13:28:45.644142, current price: 1.27082, positions: 18020.964750824867, capital: 114.511517364404\n",
      "Iteration at time 2024-05-30 13:29:45.975019, current price: 1.2708, positions: 0, capital: 114.05347129494639\n"
     ]
    },
    {
     "name": "stderr",
     "output_type": "stream",
     "text": [
      "C:\\Users\\gunne\\AppData\\Local\\Temp\\ipykernel_15304\\3256594789.py:107: FutureWarning: The behavior of DataFrame concatenation with empty or all-NA entries is deprecated. In a future version, this will no longer exclude empty or all-NA columns when determining the result dtypes. To retain the old behavior, exclude the relevant entries before the concat operation.\n",
      "  trade_log_df = pd.concat([trade_log_df, pd.DataFrame([log_entry])], ignore_index=True)\n"
     ]
    },
    {
     "name": "stdout",
     "output_type": "stream",
     "text": [
      "Iteration at time 2024-05-30 13:30:46.304398, current price: 1.27141, positions: 17941.25754791081, capital: 114.05347129494639\n",
      "Iteration at time 2024-05-30 13:31:46.632752, current price: 1.27146, positions: 17941.25754791081, capital: 114.05347129494639\n",
      "Iteration at time 2024-05-30 13:32:46.928259, current price: 1.27196, positions: 0, capital: 123.92116294629824\n"
     ]
    },
    {
     "name": "stderr",
     "output_type": "stream",
     "text": [
      "C:\\Users\\gunne\\AppData\\Local\\Temp\\ipykernel_15304\\3256594789.py:107: FutureWarning: The behavior of DataFrame concatenation with empty or all-NA entries is deprecated. In a future version, this will no longer exclude empty or all-NA columns when determining the result dtypes. To retain the old behavior, exclude the relevant entries before the concat operation.\n",
      "  trade_log_df = pd.concat([trade_log_df, pd.DataFrame([log_entry])], ignore_index=True)\n"
     ]
    },
    {
     "name": "stdout",
     "output_type": "stream",
     "text": [
      "Iteration at time 2024-05-30 13:33:47.126467, current price: 1.27203, positions: 19484.000054448126, capital: 123.92116294629824\n",
      "Iteration at time 2024-05-30 13:34:47.436780, current price: 1.27236, positions: 0, capital: 130.35088296426497\n"
     ]
    },
    {
     "name": "stderr",
     "output_type": "stream",
     "text": [
      "C:\\Users\\gunne\\AppData\\Local\\Temp\\ipykernel_15304\\3256594789.py:107: FutureWarning: The behavior of DataFrame concatenation with empty or all-NA entries is deprecated. In a future version, this will no longer exclude empty or all-NA columns when determining the result dtypes. To retain the old behavior, exclude the relevant entries before the concat operation.\n",
      "  trade_log_df = pd.concat([trade_log_df, pd.DataFrame([log_entry])], ignore_index=True)\n"
     ]
    },
    {
     "name": "stdout",
     "output_type": "stream",
     "text": [
      "Iteration at time 2024-05-30 13:35:47.755999, current price: 1.2723499999999999, positions: 20489.78393748025, capital: 130.35088296426497\n",
      "Iteration at time 2024-05-30 13:36:48.080581, current price: 1.27245, positions: 0, capital: 132.39986135801732\n"
     ]
    },
    {
     "name": "stderr",
     "output_type": "stream",
     "text": [
      "C:\\Users\\gunne\\AppData\\Local\\Temp\\ipykernel_15304\\3256594789.py:107: FutureWarning: The behavior of DataFrame concatenation with empty or all-NA entries is deprecated. In a future version, this will no longer exclude empty or all-NA columns when determining the result dtypes. To retain the old behavior, exclude the relevant entries before the concat operation.\n",
      "  trade_log_df = pd.concat([trade_log_df, pd.DataFrame([log_entry])], ignore_index=True)\n"
     ]
    },
    {
     "name": "stdout",
     "output_type": "stream",
     "text": [
      "Iteration at time 2024-05-30 13:37:48.404821, current price: 1.27246, positions: 20810.062612265585, capital: 132.39986135801732\n",
      "Iteration at time 2024-05-30 13:38:48.736263, current price: 1.27234, positions: 0, capital: 131.87026191258525\n"
     ]
    },
    {
     "name": "stderr",
     "output_type": "stream",
     "text": [
      "C:\\Users\\gunne\\AppData\\Local\\Temp\\ipykernel_15304\\3256594789.py:107: FutureWarning: The behavior of DataFrame concatenation with empty or all-NA entries is deprecated. In a future version, this will no longer exclude empty or all-NA columns when determining the result dtypes. To retain the old behavior, exclude the relevant entries before the concat operation.\n",
      "  trade_log_df = pd.concat([trade_log_df, pd.DataFrame([log_entry])], ignore_index=True)\n"
     ]
    },
    {
     "name": "stdout",
     "output_type": "stream",
     "text": [
      "Iteration at time 2024-05-30 13:39:49.053385, current price: 1.27217, positions: 20731.54718513803, capital: 131.87026191258525\n",
      "Iteration at time 2024-05-30 13:40:49.381311, current price: 1.2723499999999999, positions: 0, capital: 135.60194040590693\n"
     ]
    },
    {
     "name": "stderr",
     "output_type": "stream",
     "text": [
      "C:\\Users\\gunne\\AppData\\Local\\Temp\\ipykernel_15304\\3256594789.py:107: FutureWarning: The behavior of DataFrame concatenation with empty or all-NA entries is deprecated. In a future version, this will no longer exclude empty or all-NA columns when determining the result dtypes. To retain the old behavior, exclude the relevant entries before the concat operation.\n",
      "  trade_log_df = pd.concat([trade_log_df, pd.DataFrame([log_entry])], ignore_index=True)\n"
     ]
    },
    {
     "name": "stdout",
     "output_type": "stream",
     "text": [
      "Iteration at time 2024-05-30 13:41:49.716764, current price: 1.27215, positions: 21318.545832788106, capital: 135.60194040590693\n",
      "Iteration at time 2024-05-30 13:42:50.041520, current price: 1.2720500000000001, positions: 0, capital: 135.0595326442833\n"
     ]
    },
    {
     "name": "stderr",
     "output_type": "stream",
     "text": [
      "C:\\Users\\gunne\\AppData\\Local\\Temp\\ipykernel_15304\\3256594789.py:107: FutureWarning: The behavior of DataFrame concatenation with empty or all-NA entries is deprecated. In a future version, this will no longer exclude empty or all-NA columns when determining the result dtypes. To retain the old behavior, exclude the relevant entries before the concat operation.\n",
      "  trade_log_df = pd.concat([trade_log_df, pd.DataFrame([log_entry])], ignore_index=True)\n"
     ]
    },
    {
     "name": "stdout",
     "output_type": "stream",
     "text": [
      "Iteration at time 2024-05-30 13:43:50.335341, current price: 1.2720799999999999, positions: 21234.44007362482, capital: 135.0595326442833\n",
      "Iteration at time 2024-05-30 13:44:50.644494, current price: 1.27215, positions: 0, capital: 136.54594344943735\n"
     ]
    },
    {
     "name": "stderr",
     "output_type": "stream",
     "text": [
      "C:\\Users\\gunne\\AppData\\Local\\Temp\\ipykernel_15304\\3256594789.py:107: FutureWarning: The behavior of DataFrame concatenation with empty or all-NA entries is deprecated. In a future version, this will no longer exclude empty or all-NA columns when determining the result dtypes. To retain the old behavior, exclude the relevant entries before the concat operation.\n",
      "  trade_log_df = pd.concat([trade_log_df, pd.DataFrame([log_entry])], ignore_index=True)\n"
     ]
    },
    {
     "name": "stdout",
     "output_type": "stream",
     "text": [
      "Iteration at time 2024-05-30 13:45:50.854965, current price: 1.27241, positions: 21462.56999700369, capital: 136.54594344943735\n",
      "Iteration at time 2024-05-30 13:46:51.165023, current price: 1.2723900000000001, positions: 21462.56999700369, capital: 136.54594344943735\n",
      "Iteration at time 2024-05-30 13:47:51.488019, current price: 1.27213, positions: 0, capital: 135.9997596756396\n"
     ]
    },
    {
     "name": "stderr",
     "output_type": "stream",
     "text": [
      "C:\\Users\\gunne\\AppData\\Local\\Temp\\ipykernel_15304\\3256594789.py:107: FutureWarning: The behavior of DataFrame concatenation with empty or all-NA entries is deprecated. In a future version, this will no longer exclude empty or all-NA columns when determining the result dtypes. To retain the old behavior, exclude the relevant entries before the concat operation.\n",
      "  trade_log_df = pd.concat([trade_log_df, pd.DataFrame([log_entry])], ignore_index=True)\n"
     ]
    },
    {
     "name": "stdout",
     "output_type": "stream",
     "text": [
      "Iteration at time 2024-05-30 13:48:51.808363, current price: 1.2723499999999999, positions: 21377.727775476815, capital: 135.9997596756396\n",
      "Iteration at time 2024-05-30 13:49:52.130173, current price: 1.27234, positions: 21377.727775476815, capital: 135.9997596756396\n",
      "Iteration at time 2024-05-30 13:50:52.464365, current price: 1.2723200000000001, positions: 21377.727775476815, capital: 135.9997596756396\n",
      "Iteration at time 2024-05-30 13:51:52.782282, current price: 1.2723499999999999, positions: 21377.727775476815, capital: 135.9997596756396\n",
      "Iteration at time 2024-05-30 13:52:53.126314, current price: 1.27224, positions: 0, capital: 135.45576063693704\n"
     ]
    },
    {
     "name": "stderr",
     "output_type": "stream",
     "text": [
      "C:\\Users\\gunne\\AppData\\Local\\Temp\\ipykernel_15304\\3256594789.py:107: FutureWarning: The behavior of DataFrame concatenation with empty or all-NA entries is deprecated. In a future version, this will no longer exclude empty or all-NA columns when determining the result dtypes. To retain the old behavior, exclude the relevant entries before the concat operation.\n",
      "  trade_log_df = pd.concat([trade_log_df, pd.DataFrame([log_entry])], ignore_index=True)\n"
     ]
    },
    {
     "name": "stdout",
     "output_type": "stream",
     "text": [
      "Iteration at time 2024-05-30 13:53:53.442018, current price: 1.27225, positions: 21293.8904518667, capital: 135.45576063693704\n",
      "Iteration at time 2024-05-30 13:54:53.734078, current price: 1.2724, positions: 0, capital: 138.64984420471433\n"
     ]
    },
    {
     "name": "stderr",
     "output_type": "stream",
     "text": [
      "C:\\Users\\gunne\\AppData\\Local\\Temp\\ipykernel_15304\\3256594789.py:107: FutureWarning: The behavior of DataFrame concatenation with empty or all-NA entries is deprecated. In a future version, this will no longer exclude empty or all-NA columns when determining the result dtypes. To retain the old behavior, exclude the relevant entries before the concat operation.\n",
      "  trade_log_df = pd.concat([trade_log_df, pd.DataFrame([log_entry])], ignore_index=True)\n"
     ]
    },
    {
     "name": "stdout",
     "output_type": "stream",
     "text": [
      "Iteration at time 2024-05-30 13:55:53.935439, current price: 1.27255, positions: 21790.867817329665, capital: 138.64984420471433\n",
      "Iteration at time 2024-05-30 13:56:54.249204, current price: 1.2727, positions: 0, capital: 141.918474377311\n"
     ]
    },
    {
     "name": "stderr",
     "output_type": "stream",
     "text": [
      "C:\\Users\\gunne\\AppData\\Local\\Temp\\ipykernel_15304\\3256594789.py:107: FutureWarning: The behavior of DataFrame concatenation with empty or all-NA entries is deprecated. In a future version, this will no longer exclude empty or all-NA columns when determining the result dtypes. To retain the old behavior, exclude the relevant entries before the concat operation.\n",
      "  trade_log_df = pd.concat([trade_log_df, pd.DataFrame([log_entry])], ignore_index=True)\n"
     ]
    },
    {
     "name": "stdout",
     "output_type": "stream",
     "text": [
      "Iteration at time 2024-05-30 13:57:54.561923, current price: 1.27247, positions: 22305.983540250218, capital: 141.918474377311\n",
      "Iteration at time 2024-05-30 13:58:54.891259, current price: 1.27253, positions: 22305.983540250218, capital: 141.918474377311\n",
      "Iteration at time 2024-05-30 13:59:55.204270, current price: 1.27243, positions: 22305.983540250218, capital: 141.918474377311\n",
      "Iteration at time 2024-05-30 14:00:55.531315, current price: 1.27226, positions: 0, capital: 141.35080047980173\n",
      "Iteration at time 2024-05-30 14:01:55.822918, current price: 1.27241, positions: 0, capital: 141.35080047980173\n",
      "Iteration at time 2024-05-30 14:02:56.014995, current price: 1.2726600000000001, positions: 0, capital: 141.35080047980173\n",
      "Iteration at time 2024-05-30 14:03:56.330596, current price: 1.27238, positions: 0, capital: 141.35080047980173\n",
      "Iteration at time 2024-05-30 14:04:56.621742, current price: 1.27256, positions: 0, capital: 141.35080047980173\n",
      "Iteration at time 2024-05-30 14:05:56.927048, current price: 1.27265, positions: 0, capital: 141.35080047980173\n",
      "Iteration at time 2024-05-30 14:06:57.144320, current price: 1.27283, positions: 0, capital: 141.35080047980173\n",
      "Iteration at time 2024-05-30 14:07:57.466945, current price: 1.27275, positions: 0, capital: 141.35080047980173\n",
      "Iteration at time 2024-05-30 14:08:57.781634, current price: 1.27261, positions: 0, capital: 141.35080047980173\n",
      "Iteration at time 2024-05-30 14:09:58.115861, current price: 1.2724, positions: 0, capital: 141.35080047980173\n",
      "Iteration at time 2024-05-30 14:10:58.430363, current price: 1.27254, positions: 0, capital: 141.35080047980173\n",
      "Iteration at time 2024-05-30 14:11:58.754067, current price: 1.27265, positions: 0, capital: 141.35080047980173\n",
      "Iteration at time 2024-05-30 14:12:59.089357, current price: 1.27245, positions: 0, capital: 141.35080047980173\n",
      "Iteration at time 2024-05-30 14:13:59.411013, current price: 1.27224, positions: 0, capital: 141.35080047980173\n",
      "Iteration at time 2024-05-30 14:14:59.739181, current price: 1.2723, positions: 0, capital: 141.35080047980173\n",
      "Iteration at time 2024-05-30 14:16:00.031054, current price: 1.27192, positions: 0, capital: 141.35080047980173\n",
      "Iteration at time 2024-05-30 14:17:00.220477, current price: 1.27202, positions: 0, capital: 141.35080047980173\n",
      "Iteration at time 2024-05-30 14:18:00.536437, current price: 1.27204, positions: 0, capital: 141.35080047980173\n",
      "Iteration at time 2024-05-30 14:19:00.873955, current price: 1.27193, positions: 0, capital: 141.35080047980173\n",
      "Iteration at time 2024-05-30 14:20:01.190219, current price: 1.27197, positions: 0, capital: 141.35080047980173\n",
      "Iteration at time 2024-05-30 14:21:01.516678, current price: 1.27192, positions: 0, capital: 141.35080047980173\n",
      "Iteration at time 2024-05-30 14:22:01.847196, current price: 1.27182, positions: 0, capital: 141.35080047980173\n",
      "Iteration at time 2024-05-30 14:23:02.171932, current price: 1.2719, positions: 0, capital: 141.35080047980173\n",
      "Iteration at time 2024-05-30 14:24:02.462322, current price: 1.27213, positions: 0, capital: 141.35080047980173\n",
      "Iteration at time 2024-05-30 14:25:02.764608, current price: 1.2722, positions: 0, capital: 141.35080047980173\n",
      "Iteration at time 2024-05-30 14:26:02.972548, current price: 1.27252, positions: 0, capital: 141.35080047980173\n",
      "Iteration at time 2024-05-30 14:27:03.297861, current price: 1.27256, positions: 0, capital: 141.35080047980173\n",
      "Iteration at time 2024-05-30 14:28:03.627773, current price: 1.27236, positions: 0, capital: 141.35080047980173\n",
      "Iteration at time 2024-05-30 14:29:03.952812, current price: 1.27221, positions: 0, capital: 141.35080047980173\n",
      "Iteration at time 2024-05-30 14:30:04.248835, current price: 1.27245, positions: 0, capital: 141.35080047980173\n",
      "Iteration at time 2024-05-30 14:31:04.555294, current price: 1.27265, positions: 0, capital: 141.35080047980173\n",
      "Iteration at time 2024-05-30 14:32:04.755844, current price: 1.27274, positions: 0, capital: 141.35080047980173\n",
      "Iteration at time 2024-05-30 14:33:05.073361, current price: 1.27273, positions: 0, capital: 141.35080047980173\n",
      "Iteration at time 2024-05-30 14:34:05.389110, current price: 1.27282, positions: 0, capital: 141.35080047980173\n",
      "Iteration at time 2024-05-30 14:35:05.715922, current price: 1.27271, positions: 0, capital: 141.35080047980173\n",
      "Iteration at time 2024-05-30 14:36:06.045352, current price: 1.2729, positions: 0, capital: 141.35080047980173\n",
      "Iteration at time 2024-05-30 14:37:06.366448, current price: 1.27283, positions: 0, capital: 141.35080047980173\n",
      "Iteration at time 2024-05-30 14:38:06.658042, current price: 1.27297, positions: 0, capital: 141.35080047980173\n",
      "Iteration at time 2024-05-30 14:39:06.964673, current price: 1.27251, positions: 0, capital: 141.35080047980173\n",
      "Iteration at time 2024-05-30 14:40:07.182204, current price: 1.2725, positions: 0, capital: 141.35080047980173\n",
      "Iteration at time 2024-05-30 14:41:07.508744, current price: 1.2726, positions: 0, capital: 141.35080047980173\n",
      "Iteration at time 2024-05-30 14:42:07.838023, current price: 1.27263, positions: 0, capital: 141.35080047980173\n",
      "Iteration at time 2024-05-30 14:43:08.154465, current price: 1.27281, positions: 0, capital: 141.35080047980173\n",
      "Iteration at time 2024-05-30 14:44:08.484481, current price: 1.27289, positions: 0, capital: 141.35080047980173\n",
      "Iteration at time 2024-05-30 14:45:08.797027, current price: 1.27285, positions: 0, capital: 141.35080047980173\n",
      "Iteration at time 2024-05-30 14:46:09.124584, current price: 1.27276, positions: 0, capital: 141.35080047980173\n",
      "Iteration at time 2024-05-30 14:47:09.413741, current price: 1.27284, positions: 0, capital: 141.35080047980173\n",
      "Iteration at time 2024-05-30 14:48:09.713075, current price: 1.27283, positions: 0, capital: 141.35080047980173\n",
      "Iteration at time 2024-05-30 14:49:09.920111, current price: 1.27279, positions: 0, capital: 141.35080047980173\n",
      "Iteration at time 2024-05-30 14:50:10.244261, current price: 1.27267, positions: 0, capital: 141.35080047980173\n",
      "Iteration at time 2024-05-30 14:51:10.572025, current price: 1.27288, positions: 0, capital: 141.35080047980173\n",
      "Iteration at time 2024-05-30 14:52:10.868790, current price: 1.27315, positions: 0, capital: 141.35080047980173\n",
      "Iteration at time 2024-05-30 14:53:11.169880, current price: 1.2732299999999999, positions: 0, capital: 141.35080047980173\n",
      "Iteration at time 2024-05-30 14:54:11.372215, current price: 1.27324, positions: 0, capital: 141.35080047980173\n",
      "Iteration at time 2024-05-30 14:55:11.684509, current price: 1.2733400000000001, positions: 0, capital: 141.35080047980173\n",
      "Iteration at time 2024-05-30 14:56:12.013361, current price: 1.27316, positions: 0, capital: 141.35080047980173\n",
      "Iteration at time 2024-05-30 14:57:12.331618, current price: 1.27328, positions: 0, capital: 141.35080047980173\n",
      "Iteration at time 2024-05-30 14:58:12.621953, current price: 1.27313, positions: 0, capital: 141.35080047980173\n",
      "Iteration at time 2024-05-30 14:59:12.929021, current price: 1.27314, positions: 0, capital: 141.35080047980173\n",
      "Iteration at time 2024-05-30 15:00:13.134630, current price: 1.27321, positions: 0, capital: 141.35080047980173\n",
      "Iteration at time 2024-05-30 15:01:13.456823, current price: 1.27301, positions: 0, capital: 141.35080047980173\n",
      "Iteration at time 2024-05-30 15:02:13.779148, current price: 1.27312, positions: 0, capital: 141.35080047980173\n",
      "Iteration at time 2024-05-30 15:03:14.069963, current price: 1.27285, positions: 0, capital: 141.35080047980173\n",
      "Iteration at time 2024-05-30 15:04:14.378132, current price: 1.2726199999999999, positions: 0, capital: 141.35080047980173\n",
      "Iteration at time 2024-05-30 15:05:14.579251, current price: 1.27259, positions: 0, capital: 141.35080047980173\n",
      "Iteration at time 2024-05-30 15:06:14.887943, current price: 1.27282, positions: 0, capital: 141.35080047980173\n",
      "Iteration at time 2024-05-30 15:07:15.221428, current price: 1.2729599999999999, positions: 0, capital: 141.35080047980173\n",
      "Iteration at time 2024-05-30 15:08:15.539689, current price: 1.2729, positions: 0, capital: 141.35080047980173\n",
      "Iteration at time 2024-05-30 15:09:15.868040, current price: 1.27298, positions: 0, capital: 141.35080047980173\n",
      "Iteration at time 2024-05-30 15:10:16.197895, current price: 1.27299, positions: 0, capital: 141.35080047980173\n",
      "Iteration at time 2024-05-30 15:11:16.521858, current price: 1.27292, positions: 0, capital: 141.35080047980173\n",
      "Iteration at time 2024-05-30 15:12:16.851073, current price: 1.27251, positions: 0, capital: 141.35080047980173\n",
      "Iteration at time 2024-05-30 15:13:17.146720, current price: 1.2723499999999999, positions: 0, capital: 141.35080047980173\n",
      "Iteration at time 2024-05-30 15:14:17.451777, current price: 1.2723, positions: 0, capital: 141.35080047980173\n",
      "Iteration at time 2024-05-30 15:15:17.668079, current price: 1.2723200000000001, positions: 0, capital: 141.35080047980173\n",
      "Iteration at time 2024-05-30 15:16:17.981738, current price: 1.27248, positions: 0, capital: 141.35080047980173\n",
      "Iteration at time 2024-05-30 15:17:18.293778, current price: 1.27236, positions: 0, capital: 141.35080047980173\n",
      "Iteration at time 2024-05-30 15:18:18.625127, current price: 1.2723900000000001, positions: 0, capital: 141.35080047980173\n",
      "Iteration at time 2024-05-30 15:19:18.936208, current price: 1.27271, positions: 0, capital: 141.35080047980173\n",
      "Iteration at time 2024-05-30 15:20:19.261102, current price: 1.2728, positions: 0, capital: 141.35080047980173\n",
      "Iteration at time 2024-05-30 15:21:19.551397, current price: 1.27275, positions: 0, capital: 141.35080047980173\n",
      "Iteration at time 2024-05-30 15:22:19.854568, current price: 1.27292, positions: 0, capital: 141.35080047980173\n",
      "Iteration at time 2024-05-30 15:23:20.061226, current price: 1.27283, positions: 0, capital: 141.35080047980173\n",
      "Iteration at time 2024-05-30 15:24:20.388486, current price: 1.2729300000000001, positions: 0, capital: 141.35080047980173\n",
      "Iteration at time 2024-05-30 15:25:20.710737, current price: 1.27285, positions: 0, capital: 141.35080047980173\n",
      "Iteration at time 2024-05-30 15:26:21.001684, current price: 1.27291, positions: 0, capital: 141.35080047980173\n",
      "Iteration at time 2024-05-30 15:27:21.301936, current price: 1.27301, positions: 0, capital: 141.35080047980173\n",
      "Iteration at time 2024-05-30 15:28:21.503261, current price: 1.27311, positions: 0, capital: 141.35080047980173\n",
      "Iteration at time 2024-05-30 15:29:21.815553, current price: 1.27301, positions: 0, capital: 141.35080047980173\n",
      "Iteration at time 2024-05-30 15:30:22.141080, current price: 1.27286, positions: 0, capital: 141.35080047980173\n",
      "Iteration at time 2024-05-30 15:31:22.462093, current price: 1.27306, positions: 0, capital: 141.35080047980173\n",
      "Iteration at time 2024-05-30 15:32:22.791288, current price: 1.27295, positions: 0, capital: 141.35080047980173\n",
      "Iteration at time 2024-05-30 15:33:23.124183, current price: 1.27281, positions: 0, capital: 141.35080047980173\n",
      "Iteration at time 2024-05-30 15:34:23.444501, current price: 1.27294, positions: 0, capital: 141.35080047980173\n",
      "Iteration at time 2024-05-30 15:35:23.738652, current price: 1.27297, positions: 0, capital: 141.35080047980173\n",
      "Iteration at time 2024-05-30 15:36:24.041146, current price: 1.27291, positions: 0, capital: 141.35080047980173\n",
      "Iteration at time 2024-05-30 15:37:24.252910, current price: 1.27279, positions: 0, capital: 141.35080047980173\n",
      "Iteration at time 2024-05-30 15:38:24.576958, current price: 1.2728, positions: 0, capital: 141.35080047980173\n",
      "Iteration at time 2024-05-30 15:39:24.889077, current price: 1.2728, positions: 0, capital: 141.35080047980173\n",
      "Iteration at time 2024-05-30 15:40:25.211720, current price: 1.2728, positions: 0, capital: 141.35080047980173\n",
      "Iteration at time 2024-05-30 15:41:25.540795, current price: 1.27265, positions: 0, capital: 141.35080047980173\n",
      "Iteration at time 2024-05-30 15:42:25.857186, current price: 1.27252, positions: 0, capital: 141.35080047980173\n",
      "Iteration at time 2024-05-30 15:43:26.185415, current price: 1.27245, positions: 0, capital: 141.35080047980173\n",
      "Iteration at time 2024-05-30 15:44:26.519842, current price: 1.27279, positions: 0, capital: 141.35080047980173\n",
      "Iteration at time 2024-05-30 15:45:26.839724, current price: 1.27307, positions: 0, capital: 141.35080047980173\n"
     ]
    }
   ],
   "source": [
    "#Trading strategy and logs:\n",
    "#Now lets do this with the dummy money traded with our account, part 2:\n",
    "# Trading parameters\n",
    "import os\n",
    "import datetime\n",
    "import time\n",
    "import pandas as pd\n",
    "import MetaTrader5 as mt5\n",
    "from sklearn.preprocessing import StandardScaler\n",
    "import torch\n",
    "\n",
    "# Trading parameters\n",
    "initial_capital = 100\n",
    "capital = initial_capital\n",
    "leverage = 200  # 1:200 leverage\n",
    "profit_cap_percentage = 2.0  # Daily profit target of 2%\n",
    "stop_loss_percentage = -0.004  # Stop loss at -0.01%\n",
    "target_capital = 200000\n",
    "positions = 0\n",
    "entry_price = None\n",
    "minimum_percentage = 0.005\n",
    "cumulative_percentage = 0\n",
    "profit = 0\n",
    "\n",
    "# Create directories for logging\n",
    "base_log_dir = \"trading_logs\"\n",
    "os.makedirs(base_log_dir, exist_ok=True)\n",
    "\n",
    "# Create a new folder for the current test\n",
    "current_test_index = 0\n",
    "while os.path.exists(os.path.join(base_log_dir, f\"test_{current_test_index}\")):\n",
    "    current_test_index += 1\n",
    "\n",
    "current_log_dir = os.path.join(base_log_dir, f\"test_{current_test_index}\")\n",
    "os.makedirs(current_log_dir)\n",
    "\n",
    "log_file_path = os.path.join(current_log_dir, \"trade_log.txt\")\n",
    "log_csv_path = os.path.join(current_log_dir, \"trade_log.csv\")\n",
    "iteration_csv_path = os.path.join(current_log_dir, \"iteration_log.csv\")\n",
    "\n",
    "# DataFrames for logs\n",
    "trade_log_df = pd.DataFrame(columns=['time', 'action', 'price', 'positions', 'capital', 'profit_percentage', 'profit'])\n",
    "iteration_log_df = pd.DataFrame(columns=['time', 'price', 'positions', 'capital'])\n",
    "\n",
    "# Function to adjust trade volume\n",
    "def validate_volume(raw_volume, symbol):\n",
    "    min_volume = mt5.symbol_info(symbol).volume_min\n",
    "    max_volume = mt5.symbol_info(symbol).volume_max\n",
    "    step_volume = mt5.symbol_info(symbol).volume_step\n",
    "\n",
    "    if raw_volume < min_volume:\n",
    "        return min_volume\n",
    "    elif raw_volume > max_volume:\n",
    "        return max_volume\n",
    "    else:\n",
    "        return round(raw_volume / step_volume) * step_volume\n",
    "\n",
    "# Run the trading loop\n",
    "while capital < target_capital:\n",
    "    # Fetch live data\n",
    "    rates = mt5.copy_rates_from_pos(\"GBPUSD\", mt5.TIMEFRAME_H1, 0, 750)\n",
    "    rates_frame = pd.DataFrame(rates)\n",
    "    rates_frame['time'] = pd.to_datetime(rates_frame['time'], unit='s')\n",
    "    rates_frame.set_index('time', inplace=True)\n",
    "\n",
    "    # Feature engineering\n",
    "    rates_frame['Change_Open_Close'] = ((rates_frame['close'] - rates_frame['open']) / rates_frame['open']) * 100\n",
    "    rates_frame['Change_High_Low'] = ((rates_frame['high'] - rates_frame['low']) / rates_frame['high']) * 100\n",
    "    rates_frame['Profit_Between_Time_Series'] = rates_frame['Change_Open_Close'].diff().fillna(0)\n",
    "    rates_frame['Buy_Signal'] = (rates_frame['Profit_Between_Time_Series'] > 0.01).astype(int)\n",
    "    rates_frame['Sell_Signal'] = rates_frame['Buy_Signal'].shift(-1).fillna(0).astype(int)\n",
    "\n",
    "    # Prepare features for model prediction\n",
    "    features = rates_frame.drop(columns=['Buy_Signal', 'Sell_Signal']).values\n",
    "    scaler = StandardScaler()\n",
    "    scaled_features = scaler.fit_transform(features)\n",
    "\n",
    "    # Predicting buy signals\n",
    "    with torch.no_grad():\n",
    "        inputs = torch.tensor(scaled_features, dtype=torch.float32).to(device)\n",
    "        outputs = model(inputs.unsqueeze(1))\n",
    "        predicted_signals = torch.argmax(outputs, dim=1).cpu().numpy()\n",
    "\n",
    "    rates_frame['Predicted_Buy_Signal'] = predicted_signals\n",
    "\n",
    "    # Execute trades based on predictions\n",
    "    current_price = rates_frame['close'].iloc[-1]\n",
    "    date_time = datetime.datetime.now()\n",
    "\n",
    "    if capital >= target_capital:\n",
    "        print(f\"Target capital of {target_capital} reached at {date_time}, stopping trading.\")\n",
    "        break\n",
    "\n",
    "    if rates_frame['Predicted_Buy_Signal'].iloc[-1] == 1 and positions == 0:\n",
    "        # Enter position\n",
    "        positions = leverage * (capital / current_price)\n",
    "        entry_price = current_price\n",
    "        log_entry = {\n",
    "            'time': date_time,\n",
    "            'action': 'enter',\n",
    "            'price': entry_price,\n",
    "            'positions': positions,\n",
    "            'capital': capital,\n",
    "            'profit_percentage': None,\n",
    "            'profit': None\n",
    "        }\n",
    "        trade_log_df = pd.concat([trade_log_df, pd.DataFrame([log_entry])], ignore_index=True)\n",
    "        with open(log_file_path, \"a\") as log_file:\n",
    "            log_file.write(f\"Entered position at time {date_time}, price: {entry_price}, positions: {positions}, capital: {capital}\\n\")\n",
    "\n",
    "    if positions != 0 and cumulative_percentage != profit_cap_percentage:\n",
    "        profit_percentage = (current_price - entry_price) / entry_price * 100\n",
    "\n",
    "        # Determine if the current price > entry price and hits our minimum percentage of change\n",
    "        if current_price > entry_price and profit_percentage >= minimum_percentage:\n",
    "            # Exit the positions and add the minimum percentage amount to a cumulative percentage\n",
    "            # Profit is the entry position \n",
    "            profit = (positions * (current_price - entry_price))  # Leverage has already been applied to positions\n",
    "            capital += profit\n",
    "            cumulative_percentage += minimum_percentage\n",
    "\n",
    "            log_exit = {\n",
    "                'time': date_time,\n",
    "                'action': 'exit',\n",
    "                'price': current_price,\n",
    "                'positions': positions,\n",
    "                'capital': capital,\n",
    "                'profit_percentage': profit_percentage,\n",
    "                'profit': profit\n",
    "            }\n",
    "            trade_log_df = pd.concat([trade_log_df, pd.DataFrame([log_exit])], ignore_index=True)\n",
    "            with open(log_file_path, \"a\") as log_file:\n",
    "                log_file.write(f\"Exited position at time {date_time}, price: {current_price}, profit_percentage: {profit_percentage}, profit: {profit}, capital: {capital}\\n\")\n",
    "\n",
    "            # Reset positions\n",
    "            positions = 0\n",
    "            entry_price = None\n",
    "\n",
    "        # Edge case where the profit percentage is greater than or equal to the profit cap percentage, per minute iteration\n",
    "        if profit_percentage >= profit_cap_percentage:\n",
    "            # Exit position due to reaching profit cap or stop loss\n",
    "            profit = (positions * (current_price - entry_price))  # Leverage has already been applied to positions\n",
    "            capital += profit\n",
    "\n",
    "            log_exit = {\n",
    "                'time': date_time,\n",
    "                'action': 'exit',\n",
    "                'price': current_price,\n",
    "                'positions': positions,\n",
    "                'capital': capital,\n",
    "                'profit_percentage': profit_percentage,\n",
    "                'profit': profit\n",
    "            }\n",
    "            trade_log_df = pd.concat([trade_log_df, pd.DataFrame([log_exit])], ignore_index=True)\n",
    "            with open(log_file_path, \"a\") as log_file:\n",
    "                log_file.write(f\"Exited position at time {date_time}, price: {current_price}, profit_percentage: {profit_percentage}, profit: {profit}, capital: {capital}\\n\")\n",
    "\n",
    "            # Reset positions\n",
    "            positions = 0\n",
    "            entry_price = None\n",
    "\n",
    "        # In the event we need to stop and liquidate at our stop loss\n",
    "        if profit_percentage <= stop_loss_percentage:\n",
    "            # Apply the stop loss percentage and exit the trade\n",
    "            capital += (capital * stop_loss_percentage)\n",
    "\n",
    "            log_exit = {\n",
    "                'time': date_time,\n",
    "                'action': 'exit',\n",
    "                'price': current_price,\n",
    "                'positions': positions,\n",
    "                'capital': capital,\n",
    "                'profit_percentage': profit_percentage,\n",
    "                'profit': profit\n",
    "            }\n",
    "            trade_log_df = pd.concat([trade_log_df, pd.DataFrame([log_exit])], ignore_index=True)\n",
    "            with open(log_file_path, \"a\") as log_file:\n",
    "                log_file.write(f\"Exited position at time {date_time}, price: {current_price}, profit_percentage: {profit_percentage}, profit: {profit}, capital: {capital}\\n\")\n",
    "\n",
    "            # Reset positions\n",
    "            positions = 0\n",
    "            entry_price = None\n",
    "\n",
    "    # Print details of each iteration\n",
    "    iteration_log = {\n",
    "        'time': date_time,\n",
    "        'price': current_price,\n",
    "        'positions': positions,\n",
    "        'capital': capital\n",
    "    }\n",
    "    iteration_log_df = pd.concat([iteration_log_df, pd.DataFrame([iteration_log])], ignore_index=True)\n",
    "    print(f\"Iteration at time {date_time}, current price: {current_price}, positions: {positions}, capital: {capital}\")\n",
    "    with open(log_file_path, \"a\") as log_file:\n",
    "        log_file.write(f\"Iteration at time {date_time}, current price: {current_price}, positions: {positions}, capital: {capital}\\n\")\n",
    "\n",
    "    # Save logs to CSV files\n",
    "    trade_log_df.to_csv(log_csv_path, index=False)\n",
    "    iteration_log_df.to_csv(iteration_csv_path, index=False)\n",
    "\n",
    "    # Wait before the next iteration (e.g., 1 minute)\n",
    "    time.sleep(60)\n",
    "\n",
    "    # Reset daily profit at the end of the trading day (assumes a 24-hour trading day for simplicity)\n",
    "    if date_time.hour == 0 and date_time.minute == 0:\n",
    "        cumulative_percentage = 0\n"
   ]
  },
  {
   "cell_type": "code",
   "execution_count": null,
   "id": "bb24ce65-8a23-4af5-86e8-074dbbfb4fd2",
   "metadata": {},
   "outputs": [],
   "source": [
    "#MetaTrader5 implementation\n",
    "#The model may make predictions but metatrader5 needs to execute based on miliseconds to get ou rprofits"
   ]
  },
  {
   "cell_type": "code",
   "execution_count": null,
   "id": "612d734b-3d4a-4359-8a55-f0a22d6887f1",
   "metadata": {},
   "outputs": [],
   "source": []
  },
  {
   "cell_type": "code",
   "execution_count": null,
   "id": "a585cfe1-369f-4c34-b027-6acc4c833269",
   "metadata": {},
   "outputs": [],
   "source": []
  },
  {
   "cell_type": "code",
   "execution_count": null,
   "id": "415d74cb-1140-44bb-9b7e-38e517a61680",
   "metadata": {},
   "outputs": [],
   "source": []
  }
 ],
 "metadata": {
  "kernelspec": {
   "display_name": "Python 3 (ipykernel)",
   "language": "python",
   "name": "python3"
  },
  "language_info": {
   "codemirror_mode": {
    "name": "ipython",
    "version": 3
   },
   "file_extension": ".py",
   "mimetype": "text/x-python",
   "name": "python",
   "nbconvert_exporter": "python",
   "pygments_lexer": "ipython3",
   "version": "3.11.7"
  }
 },
 "nbformat": 4,
 "nbformat_minor": 5
}
