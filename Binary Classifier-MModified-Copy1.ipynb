{
 "cells": [
  {
   "cell_type": "markdown",
   "id": "96a2931d",
   "metadata": {},
   "source": [
    "# So overall, this is the same as the binary classifier from the first binary classifier, except we also have shorting as well"
   ]
  },
  {
   "cell_type": "markdown",
   "id": "c7f597c6",
   "metadata": {},
   "source": [
    "In this case, we would be executing  trades risking 2% in total of our capital when to buy and when to short. That way we will also make sure not to loose our total capital in general, and we will also simulate liquidation. Meaning, any other stuff that was updated in the first binary classifier we go over and put it in this classifier as well\n",
    "\n",
    "**Rules:**\n",
    "-Preprocess the data\n",
    "-Define model architecture\n",
    "-Train the model and feed the data to it\n",
    "-F1-Score & Backtesting\n",
    "\n",
    "**Live simulation---**\n",
    "Best to do 50 iterations for all tests in general, look at your python script on your desktop to execute, load, and run them all, after cleaning what needs to be done. Mind you any metatrader5 data we are fetching is being simulated here, nothign is being reflected within our account. "
   ]
  },
  {
   "cell_type": "code",
   "execution_count": 2,
   "id": "34ea8320-56f8-4c15-8a01-2010e8cb0208",
   "metadata": {},
   "outputs": [
    {
     "data": {
      "text/plain": [
       "True"
      ]
     },
     "execution_count": 2,
     "metadata": {},
     "output_type": "execute_result"
    }
   ],
   "source": [
    "#making sure we train with our GPU, Pytorch is the fucking shit!!!\n",
    "import torch\n",
    "torch.cuda.is_available()"
   ]
  },
  {
   "cell_type": "code",
   "execution_count": 3,
   "id": "c0fb90b6-acc0-41f0-9ec6-5214bb19edc3",
   "metadata": {},
   "outputs": [
    {
     "data": {
      "text/plain": [
       "1"
      ]
     },
     "execution_count": 3,
     "metadata": {},
     "output_type": "execute_result"
    }
   ],
   "source": [
    "torch.cuda.device_count()"
   ]
  },
  {
   "cell_type": "code",
   "execution_count": 4,
   "id": "34c276f5-b822-4828-a8ad-acaa1118c6a8",
   "metadata": {},
   "outputs": [
    {
     "data": {
      "text/plain": [
       "0"
      ]
     },
     "execution_count": 4,
     "metadata": {},
     "output_type": "execute_result"
    }
   ],
   "source": [
    "torch.cuda.current_device()"
   ]
  },
  {
   "cell_type": "code",
   "execution_count": 5,
   "id": "6a520c8f-2efb-4104-92b9-eed65bd0b37f",
   "metadata": {},
   "outputs": [
    {
     "data": {
      "text/plain": [
       "<torch.cuda.device at 0x1bcd35a8850>"
      ]
     },
     "execution_count": 5,
     "metadata": {},
     "output_type": "execute_result"
    }
   ],
   "source": [
    "torch.cuda.device(0)"
   ]
  },
  {
   "cell_type": "code",
   "execution_count": 6,
   "id": "bcce3263-05eb-42ff-85a2-8242ce59c124",
   "metadata": {},
   "outputs": [
    {
     "data": {
      "text/plain": [
       "'NVIDIA TITAN RTX'"
      ]
     },
     "execution_count": 6,
     "metadata": {},
     "output_type": "execute_result"
    }
   ],
   "source": [
    "torch.cuda.get_device_name(0)"
   ]
  },
  {
   "cell_type": "code",
   "execution_count": 2,
   "id": "15f7bc7d-14d7-4e91-b3b0-5095b347587c",
   "metadata": {},
   "outputs": [
    {
     "name": "stdout",
     "output_type": "stream",
     "text": [
      "Requirement already satisfied: MetaTrader5 in c:\\users\\gunne\\anaconda3\\lib\\site-packages (5.0.4288)\n",
      "Requirement already satisfied: numpy>=1.7 in c:\\users\\gunne\\anaconda3\\lib\\site-packages (from MetaTrader5) (1.26.4)\n",
      "MetaTrader 5 initialized successfully\n",
      "Attempting to login with Account: 51806647, Password: lKDtOjEK6$rp@f, Server: ICMarketsSC-Demo\n",
      "Connected to account #51806647\n"
     ]
    }
   ],
   "source": [
    "!pip install MetaTrader5\n",
    "\n",
    "import os\n",
    "import shutil\n",
    "import MetaTrader5 as mt5\n",
    "import pandas as pd\n",
    "import datetime\n",
    "import torch\n",
    "import torch.nn as nn\n",
    "import numpy as np\n",
    "import time\n",
    "from sklearn.preprocessing import StandardScaler\n",
    "import matplotlib.pyplot as plt\n",
    "\n",
    "# Define the RNN model\n",
    "class BitcoinPriceLSTM(nn.Module):\n",
    "    def __init__(self, input_size, hidden_size, num_layers, output_size, dropout=0.5):\n",
    "        super(BitcoinPriceLSTM, self).__init__()\n",
    "        self.hidden_size = hidden_size\n",
    "        self.num_layers = num_layers\n",
    "        self.lstm = nn.LSTM(input_size, hidden_size, num_layers, batch_first=True, dropout=dropout)\n",
    "        self.fc1 = nn.Linear(hidden_size, 512)\n",
    "        self.fc2 = nn.Linear(512, 256)\n",
    "        self.fc3 = nn.Linear(256, output_size)\n",
    "        self.dropout = nn.Dropout(dropout)\n",
    "    \n",
    "    def forward(self, x):\n",
    "        h0 = torch.zeros(self.num_layers, x.size(0), self.hidden_size).to(device)\n",
    "        c0 = torch.zeros(self.num_layers, x.size(0), self.hidden_size).to(device)\n",
    "        out, _ = self.lstm(x, (h0, c0))\n",
    "        out = self.dropout(out[:, -1, :])\n",
    "        out = torch.relu(self.fc1(out))\n",
    "        out = self.dropout(out)\n",
    "        out = torch.relu(self.fc2(out))\n",
    "        out = self.fc3(out)\n",
    "        return out\n",
    "\n",
    "# Set device\n",
    "device = torch.device(\"cuda\" if torch.cuda.is_available() else \"cpu\")\n",
    "\n",
    "# Model parameters (ensure these match the training script)\n",
    "input_size = 10  # Adjusted to match the training script\n",
    "hidden_size = 2048  # Match with the training script\n",
    "num_layers = 8  # Match with the training script\n",
    "output_size = 2  # Binary classification (buy or sell)\n",
    "\n",
    "# Load the trained model\n",
    "model_path = \"C:/Users/gunne/Documents/PriceNeuralNetwork/Forex/forexmodel-1.pth\"\n",
    "model = BitcoinPriceLSTM(input_size, hidden_size, num_layers, output_size, dropout=0.5).to(device)\n",
    "model.load_state_dict(torch.load(model_path))\n",
    "model.eval()\n",
    "\n",
    "# Connect to MetaTrader 5\n",
    "if not mt5.initialize():\n",
    "    print(\"initialize() failed\")\n",
    "    mt5.shutdown()\n",
    "else:\n",
    "    print(\"MetaTrader 5 initialized successfully\")\n",
    "\n",
    "# Login to the demo account\n",
    "account = 51806647  # Ensure the account number is an integer\n",
    "password = \"lKDtOjEK6$rp@f\"\n",
    "server = \"ICMarketsSC-Demo\"\n",
    "\n",
    "# Debug print for login details\n",
    "print(f\"Attempting to login with Account: {account}, Password: {password}, Server: {server}\")\n",
    "\n",
    "authorized = mt5.login(login=account, password=password, server=server)\n",
    "if not authorized:\n",
    "    print(f\"Failed to connect to account #{account}, error code: {mt5.last_error()}\")\n",
    "else:\n",
    "    print(f\"Connected to account #{account}\")"
   ]
  },
  {
   "cell_type": "code",
   "execution_count": 3,
   "id": "415d74cb-1140-44bb-9b7e-38e517a61680",
   "metadata": {},
   "outputs": [],
   "source": [
    "# Fetch initial account balance and leverage\n",
    "account_info = mt5.account_info()\n",
    "if account_info is None:\n",
    "    print(f\"Failed to get account info, error code: {mt5.last_error()}\")\n",
    "    mt5.shutdown()\n",
    "    exit()\n",
    "\n",
    "capital = account_info.balance\n",
    "leverage = account_info.leverage\n",
    "target_capital = 200000\n",
    "positions = 0\n",
    "entry_price = None\n",
    "minimum_percentage = 0.005\n",
    "profit = 0\n",
    "\n",
    "# Create directories for logging\n",
    "base_log_dir = \"trading_logs\"\n",
    "os.makedirs(base_log_dir, exist_ok=True)\n",
    "\n",
    "# Create a new folder for the current test\n",
    "current_test_index = 0\n",
    "while os.path.exists(os.path.join(base_log_dir, f\"test_{current_test_index}\")):\n",
    "    current_test_index += 1\n",
    "\n",
    "current_log_dir = os.path.join(base_log_dir, f\"test_{current_test_index}\")\n",
    "os.makedirs(current_log_dir)\n",
    "\n",
    "log_file_path = os.path.join(current_log_dir, \"trade_log.txt\")\n",
    "log_csv_path = os.path.join(current_log_dir, \"trade_log.csv\")\n",
    "iteration_csv_path = os.path.join(current_log_dir, \"iteration_log.csv\")\n",
    "\n",
    "# DataFrames for logs\n",
    "trade_log_df = pd.DataFrame(columns=['time', 'action', 'price', 'positions', 'capital', 'profit_percentage', 'profit'])\n",
    "iteration_log_df = pd.DataFrame(columns=['time', 'price', 'positions', 'capital'])\n",
    "\n",
    "# Function to adjust trade volume\n",
    "def validate_volume(raw_volume, symbol):\n",
    "    min_volume = mt5.symbol_info(symbol).volume_min\n",
    "    max_volume = mt5.symbol_info(symbol).volume_max\n",
    "    step_volume = mt5.symbol_info(symbol).volume_step\n",
    "\n",
    "    if raw_volume < min_volume:\n",
    "        return min_volume\n",
    "    elif raw_volume > max_volume:\n",
    "        return max_volume\n",
    "    else:\n",
    "        return round(raw_volume / step_volume) * step_volume\n",
    "\n",
    "# Run the trading loop\n",
    "while capital < target_capital:\n",
    "    # Fetch live data\n",
    "    rates = mt5.copy_rates_from_pos(\"GBPUSD\", mt5.TIMEFRAME_H1, 0, 750)\n",
    "    rates_frame = pd.DataFrame(rates)\n",
    "    rates_frame['time'] = pd.to_datetime(rates_frame['time'], unit='s')\n",
    "    rates_frame.set_index('time', inplace=True)\n",
    "\n",
    "    # Feature engineering\n",
    "    rates_frame['Change_Open_Close'] = ((rates_frame['close'] - rates_frame['open']) / rates_frame['open']) * 100\n",
    "    rates_frame['Change_High_Low'] = ((rates_frame['high'] - rates_frame['low']) / rates_frame['high']) * 100\n",
    "    rates_frame['Profit_Between_Time_Series'] = rates_frame['Change_Open_Close'].diff().fillna(0)\n",
    "    rates_frame['Buy_Signal'] = (rates_frame['Profit_Between_Time_Series'] > 0.01).astype(int)\n",
    "    rates_frame['Sell_Signal'] = rates_frame['Buy_Signal'].shift(-1).fillna(0).astype(int)\n",
    "\n",
    "    # Prepare features for model prediction\n",
    "    features = rates_frame.drop(columns=['Buy_Signal', 'Sell_Signal']).values\n",
    "    scaler = StandardScaler()\n",
    "    scaled_features = scaler.fit_transform(features)\n",
    "\n",
    "    # Predicting buy signals\n",
    "    with torch.no_grad():\n",
    "        inputs = torch.tensor(scaled_features, dtype=torch.float32).to(device)\n",
    "        outputs = model(inputs.unsqueeze(1))\n",
    "        predicted_signals = torch.argmax(outputs, dim=1).cpu().numpy()\n",
    "\n",
    "    rates_frame['Predicted_Buy_Signal'] = predicted_signals\n",
    "\n",
    "    # Execute trades based on predictions\n",
    "    current_price = rates_frame['close'].iloc[-1]\n",
    "    date_time = datetime.datetime.now()\n",
    "\n",
    "    # Add detailed logging\n",
    "    print(f\"Predicted Buy Signal: {rates_frame['Predicted_Buy_Signal'].iloc[-1]}\")\n",
    "\n",
    "    if capital >= target_capital:\n",
    "        print(f\"Target capital of {target_capital} reached at {date_time}, stopping trading.\")\n",
    "        break\n",
    "\n",
    "    if rates_frame['Predicted_Buy_Signal'].iloc[-1] == 1 and positions == 0:\n",
    "        # Enter position\n",
    "        positions = leverage * (capital / current_price)\n",
    "        entry_price = current_price\n",
    "        log_entry = {\n",
    "            'time': date_time,\n",
    "            'action': 'enter',\n",
    "            'price': entry_price,\n",
    "            'positions': positions,\n",
    "            'capital': capital,\n",
    "            'profit_percentage': None,\n",
    "            'profit': None\n",
    "        }\n",
    "        trade_log_df = pd.concat([trade_log_df, pd.DataFrame([log_entry])], ignore_index=True)\n",
    "        with open(log_file_path, \"a\") as log_file:\n",
    "            log_file.write(f\"Entered position at time {date_time}, price: {entry_price}, positions: {positions}, capital: {capital}\\n\")\n",
    "\n",
    "    if positions != 0:\n",
    "        profit_percentage = (current_price - entry_price) / entry_price * 100\n",
    "\n",
    "        # Determine if the current price > entry price and hits our minimum percentage of change\n",
    "        if current_price > entry_price and profit_percentage >= minimum_percentage:\n",
    "            # Exit the positions and add the minimum percentage amount to a cumulative percentage\n",
    "            # Profit is the entry position \n",
    "            profit = (positions * (current_price - entry_price))  # Leverage has already been applied to positions\n",
    "            capital += profit\n",
    "\n",
    "            log_exit = {\n",
    "                'time': date_time,\n",
    "                'action': 'exit',\n",
    "                'price': current_price,\n",
    "                'positions': positions,\n",
    "                'capital': capital,\n",
    "                'profit_percentage': profit_percentage,\n",
    "                'profit': profit\n",
    "            }\n",
    "            trade_log_df = pd.concat([trade_log_df, pd.DataFrame([log_exit])], ignore_index=True)\n",
    "            with open(log_file_path, \"a\") as log_file:\n",
    "                log_file.write(f\"Exited position at time {date_time}, price: {current_price}, profit_percentage: {profit_percentage}, profit: {profit}, capital: {capital}\\n\")\n",
    "\n",
    "            # Reset positions\n",
    "            positions = 0\n",
    "            entry_price = None\n",
    "\n",
    "        # Edge case where the profit percentage is greater than or equal to the profit cap percentage, per minute iteration\n",
    "        if profit_percentage >= profit_cap_percentage:\n",
    "            # Exit position due to reaching profit cap or stop loss\n",
    "            profit = (positions * (current_price - entry_price))  # Leverage has already been applied to positions\n",
    "            capital += profit\n",
    "\n",
    "            log_exit = {\n",
    "                'time': date_time,\n",
    "                'action': 'exit',\n",
    "                'price': current_price,\n",
    "                'positions': positions,\n",
    "                'capital': capital,\n",
    "                'profit_percentage': profit_percentage,\n",
    "                'profit': profit\n",
    "            }\n",
    "            trade_log_df = pd.concat([trade_log_df, pd.DataFrame([log_exit])], ignore_index=True)\n",
    "            with open(log_file_path, \"a\") as log_file:\n",
    "                log_file.write(f\"Exited position at time {date_time}, price: {current_price}, profit_percentage: {profit_percentage}, profit: {profit}, capital: {capital}\\n\")\n",
    "\n",
    "            # Reset positions\n",
    "            positions = 0\n",
    "            entry_price = None\n",
    "\n",
    "        # In the event we need to stop and liquidate at our stop loss\n",
    "        if profit_percentage <= stop_loss_percentage:\n",
    "            # Apply the stop loss percentage and exit the trade\n",
    "            capital += (capital * stop_loss_percentage)\n",
    "\n",
    "            log_exit = {\n",
    "                'time': date_time,\n",
    "                'action': 'exit',\n",
    "                'price': current_price,\n",
    "                'positions': positions,\n",
    "                'capital': capital,\n",
    "                'profit_percentage': profit_percentage,\n",
    "                'profit': profit\n",
    "            }\n",
    "            trade_log_df = pd.concat([trade_log_df, pd.DataFrame([log_exit])], ignore_index=True)\n",
    "            with open(log_file_path, \"a\") as log_file:\n",
    "                log_file.write(f\"Exited position at time {date_time}, price: {current_price}, profit_percentage: {profit_percentage}, profit: {profit}, capital: {capital}\\n\")\n",
    "\n",
    "            # Reset positions\n",
    "            positions = 0\n",
    "            entry_price = None\n",
    "\n",
    "    # Print details of each iteration\n",
    "    iteration_log = {\n",
    "        'time': date_time,\n",
    "        'price': current_price,\n",
    "        'positions': positions,\n",
    "        'capital': capital\n",
    "    }\n",
    "    iteration_log_df = pd.concat([iteration_log_df, pd.DataFrame([iteration_log])], ignore_index=True)\n",
    "    print(f\"Iteration at time {date_time}, current price: {current_price}, positions: {positions}, capital: {capital}\")\n",
    "    with open(log_file_path, \"a\") as log_file:\n",
    "        log_file.write(f\"Iteration at time {date_time}, current price: {current_price}, positions: {positions}, capital: {capital}\\n\")\n",
    "\n",
    "    # Save logs to CSV files\n",
    "    if not trade_log_df.empty:\n",
    "        trade_log_df.to_csv(log_csv_path, index=False)\n",
    "    if not iteration_log_df.empty:\n",
    "        iteration_log_df.to_csv(iteration_csv_path, index=False)\n",
    "\n",
    "    # Wait before the next iteration (e.g., 1 minute)\n",
    "    time.sleep(60)"
   ]
  },
  {
   "cell_type": "code",
   "execution_count": null,
   "id": "64237ff5-e161-450f-985d-51763de16636",
   "metadata": {
    "scrolled": true
   },
   "outputs": [
    {
     "name": "stdout",
     "output_type": "stream",
     "text": [
      "Predicted Buy Signal: 0\n",
      "Iteration at time 2024-05-30 16:22:56.943031, current price: 1.27414, positions: 0, capital: 100\n"
     ]
    },
    {
     "name": "stderr",
     "output_type": "stream",
     "text": [
      "C:\\Users\\gunne\\AppData\\Local\\Temp\\ipykernel_26464\\2449736011.py:189: FutureWarning: The behavior of DataFrame concatenation with empty or all-NA entries is deprecated. In a future version, this will no longer exclude empty or all-NA columns when determining the result dtypes. To retain the old behavior, exclude the relevant entries before the concat operation.\n",
      "  iteration_log_df = pd.concat([iteration_log_df, pd.DataFrame([iteration_log])], ignore_index=True)\n"
     ]
    },
    {
     "name": "stdout",
     "output_type": "stream",
     "text": [
      "Predicted Buy Signal: 0\n",
      "Iteration at time 2024-05-30 16:23:57.291906, current price: 1.27429, positions: 0, capital: 100\n",
      "Predicted Buy Signal: 0\n",
      "Iteration at time 2024-05-30 16:24:57.516695, current price: 1.27419, positions: 0, capital: 100\n",
      "Predicted Buy Signal: 0\n",
      "Iteration at time 2024-05-30 16:25:57.816756, current price: 1.27427, positions: 0, capital: 100\n",
      "Predicted Buy Signal: 0\n",
      "Iteration at time 2024-05-30 16:26:58.023287, current price: 1.27436, positions: 0, capital: 100\n",
      "Predicted Buy Signal: 0\n",
      "Iteration at time 2024-05-30 16:27:58.316510, current price: 1.27438, positions: 0, capital: 100\n",
      "Predicted Buy Signal: 0\n",
      "Iteration at time 2024-05-30 16:28:58.528507, current price: 1.27446, positions: 0, capital: 100\n",
      "Predicted Buy Signal: 0\n",
      "Iteration at time 2024-05-30 16:29:58.853187, current price: 1.27424, positions: 0, capital: 100\n",
      "Predicted Buy Signal: 0\n",
      "Iteration at time 2024-05-30 16:30:59.154943, current price: 1.27441, positions: 0, capital: 100\n",
      "Predicted Buy Signal: 0\n",
      "Iteration at time 2024-05-30 16:31:59.391609, current price: 1.27465, positions: 0, capital: 100\n",
      "Predicted Buy Signal: 0\n",
      "Iteration at time 2024-05-30 16:32:59.684047, current price: 1.27467, positions: 0, capital: 100\n",
      "Predicted Buy Signal: 0\n",
      "Iteration at time 2024-05-30 16:33:59.894083, current price: 1.27466, positions: 0, capital: 100\n",
      "Predicted Buy Signal: 0\n",
      "Iteration at time 2024-05-30 16:35:00.226271, current price: 1.27464, positions: 0, capital: 100\n",
      "Predicted Buy Signal: 0\n",
      "Iteration at time 2024-05-30 16:36:00.519285, current price: 1.27458, positions: 0, capital: 100\n",
      "Predicted Buy Signal: 0\n",
      "Iteration at time 2024-05-30 16:37:00.733546, current price: 1.27448, positions: 0, capital: 100\n",
      "Predicted Buy Signal: 0\n",
      "Iteration at time 2024-05-30 16:38:01.022867, current price: 1.27438, positions: 0, capital: 100\n",
      "Predicted Buy Signal: 0\n",
      "Iteration at time 2024-05-30 16:39:01.222359, current price: 1.27435, positions: 0, capital: 100\n",
      "Predicted Buy Signal: 0\n",
      "Iteration at time 2024-05-30 16:40:01.521876, current price: 1.2742499999999999, positions: 0, capital: 100\n",
      "Predicted Buy Signal: 0\n",
      "Iteration at time 2024-05-30 16:41:01.726289, current price: 1.27433, positions: 0, capital: 100\n",
      "Predicted Buy Signal: 0\n",
      "Iteration at time 2024-05-30 16:42:02.024078, current price: 1.2742200000000001, positions: 0, capital: 100\n",
      "Predicted Buy Signal: 0\n",
      "Iteration at time 2024-05-30 16:43:02.238054, current price: 1.2742200000000001, positions: 0, capital: 100\n",
      "Predicted Buy Signal: 0\n",
      "Iteration at time 2024-05-30 16:44:02.570874, current price: 1.2742200000000001, positions: 0, capital: 100\n",
      "Predicted Buy Signal: 0\n",
      "Iteration at time 2024-05-30 16:45:02.863505, current price: 1.27411, positions: 0, capital: 100\n",
      "Predicted Buy Signal: 0\n",
      "Iteration at time 2024-05-30 16:46:03.076923, current price: 1.27417, positions: 0, capital: 100\n",
      "Predicted Buy Signal: 0\n",
      "Iteration at time 2024-05-30 16:47:03.364343, current price: 1.27414, positions: 0, capital: 100\n",
      "Predicted Buy Signal: 0\n",
      "Iteration at time 2024-05-30 16:48:03.572338, current price: 1.27429, positions: 0, capital: 100\n",
      "Predicted Buy Signal: 0\n",
      "Iteration at time 2024-05-30 16:49:03.864234, current price: 1.27435, positions: 0, capital: 100\n",
      "Predicted Buy Signal: 0\n",
      "Iteration at time 2024-05-30 16:50:04.063723, current price: 1.27424, positions: 0, capital: 100\n",
      "Predicted Buy Signal: 0\n",
      "Iteration at time 2024-05-30 16:51:04.353290, current price: 1.27408, positions: 0, capital: 100\n",
      "Predicted Buy Signal: 0\n",
      "Iteration at time 2024-05-30 16:52:04.567746, current price: 1.27408, positions: 0, capital: 100\n",
      "Predicted Buy Signal: 0\n",
      "Iteration at time 2024-05-30 16:53:04.854713, current price: 1.27405, positions: 0, capital: 100\n",
      "Predicted Buy Signal: 0\n",
      "Iteration at time 2024-05-30 16:54:05.073456, current price: 1.2739500000000001, positions: 0, capital: 100\n",
      "Predicted Buy Signal: 0\n",
      "Iteration at time 2024-05-30 16:55:05.404441, current price: 1.2739, positions: 0, capital: 100\n",
      "Predicted Buy Signal: 0\n",
      "Iteration at time 2024-05-30 16:56:05.698303, current price: 1.27396, positions: 0, capital: 100\n",
      "Predicted Buy Signal: 0\n",
      "Iteration at time 2024-05-30 16:57:05.906220, current price: 1.27387, positions: 0, capital: 100\n",
      "Predicted Buy Signal: 0\n",
      "Iteration at time 2024-05-30 16:58:06.238600, current price: 1.27386, positions: 0, capital: 100\n",
      "Predicted Buy Signal: 0\n",
      "Iteration at time 2024-05-30 16:59:06.530019, current price: 1.2738399999999999, positions: 0, capital: 100\n",
      "Predicted Buy Signal: 1\n",
      "Iteration at time 2024-05-30 17:00:06.749419, current price: 1.27375, positions: 15701.668302257116, capital: 100\n"
     ]
    },
    {
     "name": "stderr",
     "output_type": "stream",
     "text": [
      "C:\\Users\\gunne\\AppData\\Local\\Temp\\ipykernel_26464\\2449736011.py:106: FutureWarning: The behavior of DataFrame concatenation with empty or all-NA entries is deprecated. In a future version, this will no longer exclude empty or all-NA columns when determining the result dtypes. To retain the old behavior, exclude the relevant entries before the concat operation.\n",
      "  trade_log_df = pd.concat([trade_log_df, pd.DataFrame([log_entry])], ignore_index=True)\n"
     ]
    },
    {
     "name": "stdout",
     "output_type": "stream",
     "text": [
      "Predicted Buy Signal: 1\n",
      "Iteration at time 2024-05-30 17:01:07.078227, current price: 1.27377, positions: 15701.668302257116, capital: 100\n",
      "Predicted Buy Signal: 1\n",
      "Iteration at time 2024-05-30 17:02:07.370760, current price: 1.27377, positions: 15701.668302257116, capital: 100\n",
      "Predicted Buy Signal: 1\n",
      "Iteration at time 2024-05-30 17:03:07.590980, current price: 1.27375, positions: 15701.668302257116, capital: 100\n",
      "Predicted Buy Signal: 1\n",
      "Iteration at time 2024-05-30 17:04:07.918350, current price: 1.27372, positions: 15701.668302257116, capital: 100\n",
      "Predicted Buy Signal: 1\n",
      "Iteration at time 2024-05-30 17:05:08.216490, current price: 1.27371, positions: 15701.668302257116, capital: 100\n",
      "Predicted Buy Signal: 1\n",
      "Iteration at time 2024-05-30 17:06:08.449030, current price: 1.27369, positions: 0, capital: 99.6\n"
     ]
    },
    {
     "name": "stderr",
     "output_type": "stream",
     "text": [
      "C:\\Users\\gunne\\AppData\\Local\\Temp\\ipykernel_26464\\2449736011.py:174: FutureWarning: The behavior of DataFrame concatenation with empty or all-NA entries is deprecated. In a future version, this will no longer exclude empty or all-NA columns when determining the result dtypes. To retain the old behavior, exclude the relevant entries before the concat operation.\n",
      "  trade_log_df = pd.concat([trade_log_df, pd.DataFrame([log_exit])], ignore_index=True)\n"
     ]
    },
    {
     "name": "stdout",
     "output_type": "stream",
     "text": [
      "Predicted Buy Signal: 1\n",
      "Iteration at time 2024-05-30 17:07:08.775531, current price: 1.2736100000000001, positions: 15640.580711520792, capital: 99.6\n"
     ]
    },
    {
     "name": "stderr",
     "output_type": "stream",
     "text": [
      "C:\\Users\\gunne\\AppData\\Local\\Temp\\ipykernel_26464\\2449736011.py:106: FutureWarning: The behavior of DataFrame concatenation with empty or all-NA entries is deprecated. In a future version, this will no longer exclude empty or all-NA columns when determining the result dtypes. To retain the old behavior, exclude the relevant entries before the concat operation.\n",
      "  trade_log_df = pd.concat([trade_log_df, pd.DataFrame([log_entry])], ignore_index=True)\n"
     ]
    },
    {
     "name": "stdout",
     "output_type": "stream",
     "text": [
      "Predicted Buy Signal: 1\n",
      "Iteration at time 2024-05-30 17:08:09.074705, current price: 1.2736100000000001, positions: 15640.580711520792, capital: 99.6\n",
      "Predicted Buy Signal: 1\n",
      "Iteration at time 2024-05-30 17:09:09.294359, current price: 1.27363, positions: 15640.580711520792, capital: 99.6\n",
      "Predicted Buy Signal: 0\n",
      "Iteration at time 2024-05-30 17:10:09.616064, current price: 1.27353, positions: 0, capital: 99.2016\n",
      "Predicted Buy Signal: 1\n",
      "Iteration at time 2024-05-30 17:11:09.911903, current price: 1.27374, positions: 15576.42847048848, capital: 99.2016\n"
     ]
    },
    {
     "name": "stderr",
     "output_type": "stream",
     "text": [
      "C:\\Users\\gunne\\AppData\\Local\\Temp\\ipykernel_26464\\2449736011.py:106: FutureWarning: The behavior of DataFrame concatenation with empty or all-NA entries is deprecated. In a future version, this will no longer exclude empty or all-NA columns when determining the result dtypes. To retain the old behavior, exclude the relevant entries before the concat operation.\n",
      "  trade_log_df = pd.concat([trade_log_df, pd.DataFrame([log_entry])], ignore_index=True)\n"
     ]
    },
    {
     "name": "stdout",
     "output_type": "stream",
     "text": [
      "Predicted Buy Signal: 0\n",
      "Iteration at time 2024-05-30 17:12:10.131523, current price: 1.27356, positions: 0, capital: 98.8047936\n",
      "Predicted Buy Signal: 1\n",
      "Iteration at time 2024-05-30 17:13:10.460244, current price: 1.27373, positions: 15514.244557323764, capital: 98.8047936\n"
     ]
    },
    {
     "name": "stderr",
     "output_type": "stream",
     "text": [
      "C:\\Users\\gunne\\AppData\\Local\\Temp\\ipykernel_26464\\2449736011.py:106: FutureWarning: The behavior of DataFrame concatenation with empty or all-NA entries is deprecated. In a future version, this will no longer exclude empty or all-NA columns when determining the result dtypes. To retain the old behavior, exclude the relevant entries before the concat operation.\n",
      "  trade_log_df = pd.concat([trade_log_df, pd.DataFrame([log_entry])], ignore_index=True)\n"
     ]
    },
    {
     "name": "stdout",
     "output_type": "stream",
     "text": [
      "Predicted Buy Signal: 1\n",
      "Iteration at time 2024-05-30 17:14:10.759080, current price: 1.27371, positions: 15514.244557323764, capital: 98.8047936\n",
      "Predicted Buy Signal: 1\n",
      "Iteration at time 2024-05-30 17:15:10.972251, current price: 1.27374, positions: 15514.244557323764, capital: 98.8047936\n",
      "Predicted Buy Signal: 1\n",
      "Iteration at time 2024-05-30 17:16:11.265695, current price: 1.27392, positions: 0, capital: 101.75250006589016\n",
      "Predicted Buy Signal: 1\n",
      "Iteration at time 2024-05-30 17:17:11.485679, current price: 1.2739500000000001, positions: 15974.331813005245, capital: 101.75250006589016\n"
     ]
    },
    {
     "name": "stderr",
     "output_type": "stream",
     "text": [
      "C:\\Users\\gunne\\AppData\\Local\\Temp\\ipykernel_26464\\2449736011.py:106: FutureWarning: The behavior of DataFrame concatenation with empty or all-NA entries is deprecated. In a future version, this will no longer exclude empty or all-NA columns when determining the result dtypes. To retain the old behavior, exclude the relevant entries before the concat operation.\n",
      "  trade_log_df = pd.concat([trade_log_df, pd.DataFrame([log_entry])], ignore_index=True)\n"
     ]
    },
    {
     "name": "stdout",
     "output_type": "stream",
     "text": [
      "Predicted Buy Signal: 1\n",
      "Iteration at time 2024-05-30 17:18:11.812447, current price: 1.27404, positions: 0, capital: 103.19018992905941\n",
      "Predicted Buy Signal: 1\n",
      "Iteration at time 2024-05-30 17:19:12.106083, current price: 1.27402, positions: 16199.14756896429, capital: 103.19018992905941\n"
     ]
    },
    {
     "name": "stderr",
     "output_type": "stream",
     "text": [
      "C:\\Users\\gunne\\AppData\\Local\\Temp\\ipykernel_26464\\2449736011.py:106: FutureWarning: The behavior of DataFrame concatenation with empty or all-NA entries is deprecated. In a future version, this will no longer exclude empty or all-NA columns when determining the result dtypes. To retain the old behavior, exclude the relevant entries before the concat operation.\n",
      "  trade_log_df = pd.concat([trade_log_df, pd.DataFrame([log_entry])], ignore_index=True)\n"
     ]
    },
    {
     "name": "stdout",
     "output_type": "stream",
     "text": [
      "Predicted Buy Signal: 1\n",
      "Iteration at time 2024-05-30 17:20:12.317256, current price: 1.2739500000000001, positions: 0, capital: 102.77742916934318\n",
      "Predicted Buy Signal: 1\n",
      "Iteration at time 2024-05-30 17:21:12.651708, current price: 1.27402, positions: 16134.350978688433, capital: 102.77742916934318\n"
     ]
    },
    {
     "name": "stderr",
     "output_type": "stream",
     "text": [
      "C:\\Users\\gunne\\AppData\\Local\\Temp\\ipykernel_26464\\2449736011.py:106: FutureWarning: The behavior of DataFrame concatenation with empty or all-NA entries is deprecated. In a future version, this will no longer exclude empty or all-NA columns when determining the result dtypes. To retain the old behavior, exclude the relevant entries before the concat operation.\n",
      "  trade_log_df = pd.concat([trade_log_df, pd.DataFrame([log_entry])], ignore_index=True)\n"
     ]
    },
    {
     "name": "stdout",
     "output_type": "stream",
     "text": [
      "Predicted Buy Signal: 1\n",
      "Iteration at time 2024-05-30 17:22:12.948997, current price: 1.27412, positions: 0, capital: 104.39086426721184\n",
      "Predicted Buy Signal: 1\n",
      "Iteration at time 2024-05-30 17:23:13.164999, current price: 1.27402, positions: 16387.633517089504, capital: 104.39086426721184\n"
     ]
    },
    {
     "name": "stderr",
     "output_type": "stream",
     "text": [
      "C:\\Users\\gunne\\AppData\\Local\\Temp\\ipykernel_26464\\2449736011.py:106: FutureWarning: The behavior of DataFrame concatenation with empty or all-NA entries is deprecated. In a future version, this will no longer exclude empty or all-NA columns when determining the result dtypes. To retain the old behavior, exclude the relevant entries before the concat operation.\n",
      "  trade_log_df = pd.concat([trade_log_df, pd.DataFrame([log_entry])], ignore_index=True)\n"
     ]
    },
    {
     "name": "stdout",
     "output_type": "stream",
     "text": [
      "Predicted Buy Signal: 1\n",
      "Iteration at time 2024-05-30 17:24:13.488228, current price: 1.2739500000000001, positions: 0, capital: 103.97330081014299\n",
      "Predicted Buy Signal: 1\n",
      "Iteration at time 2024-05-30 17:25:13.785461, current price: 1.27404, positions: 16321.826757424096, capital: 103.97330081014299\n"
     ]
    },
    {
     "name": "stderr",
     "output_type": "stream",
     "text": [
      "C:\\Users\\gunne\\AppData\\Local\\Temp\\ipykernel_26464\\2449736011.py:106: FutureWarning: The behavior of DataFrame concatenation with empty or all-NA entries is deprecated. In a future version, this will no longer exclude empty or all-NA columns when determining the result dtypes. To retain the old behavior, exclude the relevant entries before the concat operation.\n",
      "  trade_log_df = pd.concat([trade_log_df, pd.DataFrame([log_entry])], ignore_index=True)\n"
     ]
    },
    {
     "name": "stdout",
     "output_type": "stream",
     "text": [
      "Predicted Buy Signal: 1\n",
      "Iteration at time 2024-05-30 17:26:14.005898, current price: 1.27408, positions: 16321.826757424096, capital: 103.97330081014299\n",
      "Predicted Buy Signal: 1\n",
      "Iteration at time 2024-05-30 17:27:14.293996, current price: 1.27416, positions: 0, capital: 105.93192002103221\n",
      "Predicted Buy Signal: 1\n",
      "Iteration at time 2024-05-30 17:28:14.511178, current price: 1.27406, positions: 16629.031603069277, capital: 105.93192002103221\n"
     ]
    },
    {
     "name": "stderr",
     "output_type": "stream",
     "text": [
      "C:\\Users\\gunne\\AppData\\Local\\Temp\\ipykernel_26464\\2449736011.py:106: FutureWarning: The behavior of DataFrame concatenation with empty or all-NA entries is deprecated. In a future version, this will no longer exclude empty or all-NA columns when determining the result dtypes. To retain the old behavior, exclude the relevant entries before the concat operation.\n",
      "  trade_log_df = pd.concat([trade_log_df, pd.DataFrame([log_entry])], ignore_index=True)\n"
     ]
    },
    {
     "name": "stdout",
     "output_type": "stream",
     "text": [
      "Predicted Buy Signal: 1\n",
      "Iteration at time 2024-05-30 17:29:14.839419, current price: 1.27405, positions: 16629.031603069277, capital: 105.93192002103221\n",
      "Predicted Buy Signal: 1\n",
      "Iteration at time 2024-05-30 17:30:15.129848, current price: 1.27406, positions: 16629.031603069277, capital: 105.93192002103221\n",
      "Predicted Buy Signal: 1\n",
      "Iteration at time 2024-05-30 17:31:15.341460, current price: 1.27411, positions: 16629.031603069277, capital: 105.93192002103221\n",
      "Predicted Buy Signal: 1\n",
      "Iteration at time 2024-05-30 17:32:15.675484, current price: 1.27411, positions: 16629.031603069277, capital: 105.93192002103221\n",
      "Predicted Buy Signal: 1\n",
      "Iteration at time 2024-05-30 17:33:15.970825, current price: 1.27414, positions: 0, capital: 107.26224254927908\n",
      "Predicted Buy Signal: 1\n",
      "Iteration at time 2024-05-30 17:34:16.182224, current price: 1.27402, positions: 16838.392262174704, capital: 107.26224254927908\n"
     ]
    },
    {
     "name": "stderr",
     "output_type": "stream",
     "text": [
      "C:\\Users\\gunne\\AppData\\Local\\Temp\\ipykernel_26464\\2449736011.py:106: FutureWarning: The behavior of DataFrame concatenation with empty or all-NA entries is deprecated. In a future version, this will no longer exclude empty or all-NA columns when determining the result dtypes. To retain the old behavior, exclude the relevant entries before the concat operation.\n",
      "  trade_log_df = pd.concat([trade_log_df, pd.DataFrame([log_entry])], ignore_index=True)\n"
     ]
    },
    {
     "name": "stdout",
     "output_type": "stream",
     "text": [
      "Predicted Buy Signal: 1\n",
      "Iteration at time 2024-05-30 17:35:16.472101, current price: 1.27407, positions: 16838.392262174704, capital: 107.26224254927908\n",
      "Predicted Buy Signal: 1\n",
      "Iteration at time 2024-05-30 17:36:16.673039, current price: 1.2741, positions: 0, capital: 108.6093139302544\n",
      "Predicted Buy Signal: 1\n",
      "Iteration at time 2024-05-30 17:37:16.969981, current price: 1.27405, positions: 17049.45864452014, capital: 108.6093139302544\n"
     ]
    },
    {
     "name": "stderr",
     "output_type": "stream",
     "text": [
      "C:\\Users\\gunne\\AppData\\Local\\Temp\\ipykernel_26464\\2449736011.py:106: FutureWarning: The behavior of DataFrame concatenation with empty or all-NA entries is deprecated. In a future version, this will no longer exclude empty or all-NA columns when determining the result dtypes. To retain the old behavior, exclude the relevant entries before the concat operation.\n",
      "  trade_log_df = pd.concat([trade_log_df, pd.DataFrame([log_entry])], ignore_index=True)\n"
     ]
    },
    {
     "name": "stdout",
     "output_type": "stream",
     "text": [
      "Predicted Buy Signal: 1\n",
      "Iteration at time 2024-05-30 17:38:17.177869, current price: 1.27427, positions: 0, capital: 112.3601948320507\n",
      "Predicted Buy Signal: 1\n",
      "Iteration at time 2024-05-30 17:39:17.472330, current price: 1.27427, positions: 17635.2256322523, capital: 112.3601948320507\n"
     ]
    },
    {
     "name": "stderr",
     "output_type": "stream",
     "text": [
      "C:\\Users\\gunne\\AppData\\Local\\Temp\\ipykernel_26464\\2449736011.py:106: FutureWarning: The behavior of DataFrame concatenation with empty or all-NA entries is deprecated. In a future version, this will no longer exclude empty or all-NA columns when determining the result dtypes. To retain the old behavior, exclude the relevant entries before the concat operation.\n",
      "  trade_log_df = pd.concat([trade_log_df, pd.DataFrame([log_entry])], ignore_index=True)\n"
     ]
    },
    {
     "name": "stdout",
     "output_type": "stream",
     "text": [
      "Predicted Buy Signal: 1\n",
      "Iteration at time 2024-05-30 17:40:17.682355, current price: 1.2742499999999999, positions: 17635.2256322523, capital: 112.3601948320507\n",
      "Predicted Buy Signal: 1\n",
      "Iteration at time 2024-05-30 17:41:18.001797, current price: 1.2742499999999999, positions: 17635.2256322523, capital: 112.3601948320507\n",
      "Predicted Buy Signal: 1\n",
      "Iteration at time 2024-05-30 17:42:18.298719, current price: 1.2741500000000001, positions: 0, capital: 111.9107540527225\n",
      "Predicted Buy Signal: 1\n",
      "Iteration at time 2024-05-30 17:43:18.516007, current price: 1.27408, positions: 17567.30410221061, capital: 111.9107540527225\n"
     ]
    },
    {
     "name": "stderr",
     "output_type": "stream",
     "text": [
      "C:\\Users\\gunne\\AppData\\Local\\Temp\\ipykernel_26464\\2449736011.py:106: FutureWarning: The behavior of DataFrame concatenation with empty or all-NA entries is deprecated. In a future version, this will no longer exclude empty or all-NA columns when determining the result dtypes. To retain the old behavior, exclude the relevant entries before the concat operation.\n",
      "  trade_log_df = pd.concat([trade_log_df, pd.DataFrame([log_entry])], ignore_index=True)\n"
     ]
    },
    {
     "name": "stdout",
     "output_type": "stream",
     "text": [
      "Predicted Buy Signal: 1\n",
      "Iteration at time 2024-05-30 17:44:18.844542, current price: 1.27413, positions: 17567.30410221061, capital: 111.9107540527225\n",
      "Predicted Buy Signal: 1\n",
      "Iteration at time 2024-05-30 17:45:19.146027, current price: 1.27407, positions: 17567.30410221061, capital: 111.9107540527225\n",
      "Predicted Buy Signal: 1\n",
      "Iteration at time 2024-05-30 17:46:19.368341, current price: 1.2741500000000001, positions: 0, capital: 113.1404653398775\n",
      "Predicted Buy Signal: 1\n",
      "Iteration at time 2024-05-30 17:47:19.695623, current price: 1.27412, positions: 17759.781706570415, capital: 113.1404653398775\n"
     ]
    },
    {
     "name": "stderr",
     "output_type": "stream",
     "text": [
      "C:\\Users\\gunne\\AppData\\Local\\Temp\\ipykernel_26464\\2449736011.py:106: FutureWarning: The behavior of DataFrame concatenation with empty or all-NA entries is deprecated. In a future version, this will no longer exclude empty or all-NA columns when determining the result dtypes. To retain the old behavior, exclude the relevant entries before the concat operation.\n",
      "  trade_log_df = pd.concat([trade_log_df, pd.DataFrame([log_entry])], ignore_index=True)\n"
     ]
    },
    {
     "name": "stdout",
     "output_type": "stream",
     "text": [
      "Predicted Buy Signal: 1\n",
      "Iteration at time 2024-05-30 17:48:19.997901, current price: 1.27417, positions: 17759.781706570415, capital: 113.1404653398775\n",
      "Predicted Buy Signal: 1\n",
      "Iteration at time 2024-05-30 17:49:20.217623, current price: 1.27424, positions: 0, capital: 115.27163914466807\n",
      "Predicted Buy Signal: 0\n",
      "Iteration at time 2024-05-30 17:50:20.514191, current price: 1.27413, positions: 0, capital: 115.27163914466807\n",
      "Predicted Buy Signal: 1\n",
      "Iteration at time 2024-05-30 17:51:20.728120, current price: 1.27435, positions: 18091.048635723007, capital: 115.27163914466807\n"
     ]
    },
    {
     "name": "stderr",
     "output_type": "stream",
     "text": [
      "C:\\Users\\gunne\\AppData\\Local\\Temp\\ipykernel_26464\\2449736011.py:106: FutureWarning: The behavior of DataFrame concatenation with empty or all-NA entries is deprecated. In a future version, this will no longer exclude empty or all-NA columns when determining the result dtypes. To retain the old behavior, exclude the relevant entries before the concat operation.\n",
      "  trade_log_df = pd.concat([trade_log_df, pd.DataFrame([log_entry])], ignore_index=True)\n"
     ]
    },
    {
     "name": "stdout",
     "output_type": "stream",
     "text": [
      "Predicted Buy Signal: 1\n",
      "Iteration at time 2024-05-30 17:52:21.061168, current price: 1.27437, positions: 18091.048635723007, capital: 115.27163914466807\n",
      "Predicted Buy Signal: 1\n",
      "Iteration at time 2024-05-30 17:53:21.358792, current price: 1.27426, positions: 0, capital: 114.8105525880894\n",
      "Predicted Buy Signal: 1\n",
      "Iteration at time 2024-05-30 17:54:21.570812, current price: 1.27426, positions: 18019.957086950762, capital: 114.8105525880894\n"
     ]
    },
    {
     "name": "stderr",
     "output_type": "stream",
     "text": [
      "C:\\Users\\gunne\\AppData\\Local\\Temp\\ipykernel_26464\\2449736011.py:106: FutureWarning: The behavior of DataFrame concatenation with empty or all-NA entries is deprecated. In a future version, this will no longer exclude empty or all-NA columns when determining the result dtypes. To retain the old behavior, exclude the relevant entries before the concat operation.\n",
      "  trade_log_df = pd.concat([trade_log_df, pd.DataFrame([log_entry])], ignore_index=True)\n"
     ]
    },
    {
     "name": "stdout",
     "output_type": "stream",
     "text": [
      "Predicted Buy Signal: 1\n",
      "Iteration at time 2024-05-30 17:55:21.892479, current price: 1.27426, positions: 18019.957086950762, capital: 114.8105525880894\n",
      "Predicted Buy Signal: 0\n",
      "Iteration at time 2024-05-30 17:56:22.192121, current price: 1.27414, positions: 0, capital: 114.35131037773704\n",
      "Predicted Buy Signal: 0\n",
      "Iteration at time 2024-05-30 17:57:22.417975, current price: 1.27414, positions: 0, capital: 114.35131037773704\n",
      "Predicted Buy Signal: 0\n",
      "Iteration at time 2024-05-30 17:58:22.710614, current price: 1.27414, positions: 0, capital: 114.35131037773704\n",
      "Predicted Buy Signal: 0\n",
      "Iteration at time 2024-05-30 17:59:22.915181, current price: 1.27423, positions: 0, capital: 114.35131037773704\n",
      "Predicted Buy Signal: 0\n",
      "Iteration at time 2024-05-30 18:00:23.206081, current price: 1.2742200000000001, positions: 0, capital: 114.35131037773704\n",
      "Predicted Buy Signal: 0\n",
      "Iteration at time 2024-05-30 18:01:23.414618, current price: 1.27432, positions: 0, capital: 114.35131037773704\n",
      "Predicted Buy Signal: 0\n",
      "Iteration at time 2024-05-30 18:02:23.704707, current price: 1.2742200000000001, positions: 0, capital: 114.35131037773704\n",
      "Predicted Buy Signal: 0\n",
      "Iteration at time 2024-05-30 18:03:23.916415, current price: 1.2742499999999999, positions: 0, capital: 114.35131037773704\n",
      "Predicted Buy Signal: 0\n",
      "Iteration at time 2024-05-30 18:04:24.241182, current price: 1.27413, positions: 0, capital: 114.35131037773704\n",
      "Predicted Buy Signal: 0\n",
      "Iteration at time 2024-05-30 18:05:24.535478, current price: 1.2741500000000001, positions: 0, capital: 114.35131037773704\n",
      "Predicted Buy Signal: 0\n",
      "Iteration at time 2024-05-30 18:06:24.757303, current price: 1.2742, positions: 0, capital: 114.35131037773704\n",
      "Predicted Buy Signal: 0\n",
      "Iteration at time 2024-05-30 18:07:25.085053, current price: 1.2742200000000001, positions: 0, capital: 114.35131037773704\n",
      "Predicted Buy Signal: 0\n",
      "Iteration at time 2024-05-30 18:08:25.385696, current price: 1.27429, positions: 0, capital: 114.35131037773704\n",
      "Predicted Buy Signal: 0\n",
      "Iteration at time 2024-05-30 18:09:25.603704, current price: 1.2742200000000001, positions: 0, capital: 114.35131037773704\n",
      "Predicted Buy Signal: 0\n",
      "Iteration at time 2024-05-30 18:10:25.897319, current price: 1.27421, positions: 0, capital: 114.35131037773704\n",
      "Predicted Buy Signal: 0\n",
      "Iteration at time 2024-05-30 18:11:26.115327, current price: 1.2742499999999999, positions: 0, capital: 114.35131037773704\n",
      "Predicted Buy Signal: 0\n",
      "Iteration at time 2024-05-30 18:12:26.404769, current price: 1.27434, positions: 0, capital: 114.35131037773704\n",
      "Predicted Buy Signal: 0\n",
      "Iteration at time 2024-05-30 18:13:26.613562, current price: 1.27433, positions: 0, capital: 114.35131037773704\n",
      "Predicted Buy Signal: 0\n",
      "Iteration at time 2024-05-30 18:14:26.908994, current price: 1.27435, positions: 0, capital: 114.35131037773704\n",
      "Predicted Buy Signal: 0\n",
      "Iteration at time 2024-05-30 18:15:27.109157, current price: 1.27424, positions: 0, capital: 114.35131037773704\n",
      "Predicted Buy Signal: 0\n",
      "Iteration at time 2024-05-30 18:16:27.402398, current price: 1.2742499999999999, positions: 0, capital: 114.35131037773704\n",
      "Predicted Buy Signal: 0\n",
      "Iteration at time 2024-05-30 18:17:27.623274, current price: 1.27434, positions: 0, capital: 114.35131037773704\n",
      "Predicted Buy Signal: 0\n",
      "Iteration at time 2024-05-30 18:18:27.941587, current price: 1.2742499999999999, positions: 0, capital: 114.35131037773704\n",
      "Predicted Buy Signal: 0\n",
      "Iteration at time 2024-05-30 18:19:28.236028, current price: 1.2741, positions: 0, capital: 114.35131037773704\n",
      "Predicted Buy Signal: 0\n",
      "Iteration at time 2024-05-30 18:20:28.466320, current price: 1.27416, positions: 0, capital: 114.35131037773704\n",
      "Predicted Buy Signal: 0\n",
      "Iteration at time 2024-05-30 18:21:28.795440, current price: 1.27419, positions: 0, capital: 114.35131037773704\n",
      "Predicted Buy Signal: 0\n",
      "Iteration at time 2024-05-30 18:22:29.095645, current price: 1.2742499999999999, positions: 0, capital: 114.35131037773704\n",
      "Predicted Buy Signal: 0\n",
      "Iteration at time 2024-05-30 18:23:29.321602, current price: 1.27417, positions: 0, capital: 114.35131037773704\n",
      "Predicted Buy Signal: 0\n",
      "Iteration at time 2024-05-30 18:24:29.647162, current price: 1.27417, positions: 0, capital: 114.35131037773704\n",
      "Predicted Buy Signal: 0\n",
      "Iteration at time 2024-05-30 18:25:29.947614, current price: 1.27426, positions: 0, capital: 114.35131037773704\n",
      "Predicted Buy Signal: 0\n",
      "Iteration at time 2024-05-30 18:26:30.162384, current price: 1.27434, positions: 0, capital: 114.35131037773704\n",
      "Predicted Buy Signal: 0\n",
      "Iteration at time 2024-05-30 18:27:30.452968, current price: 1.27433, positions: 0, capital: 114.35131037773704\n",
      "Predicted Buy Signal: 0\n",
      "Iteration at time 2024-05-30 18:28:30.666187, current price: 1.27434, positions: 0, capital: 114.35131037773704\n",
      "Predicted Buy Signal: 0\n",
      "Iteration at time 2024-05-30 18:29:30.991221, current price: 1.2742499999999999, positions: 0, capital: 114.35131037773704\n",
      "Predicted Buy Signal: 0\n",
      "Iteration at time 2024-05-30 18:30:31.286761, current price: 1.27427, positions: 0, capital: 114.35131037773704\n",
      "Predicted Buy Signal: 0\n",
      "Iteration at time 2024-05-30 18:31:31.512693, current price: 1.27426, positions: 0, capital: 114.35131037773704\n",
      "Predicted Buy Signal: 0\n",
      "Iteration at time 2024-05-30 18:32:31.802876, current price: 1.27433, positions: 0, capital: 114.35131037773704\n",
      "Predicted Buy Signal: 0\n",
      "Iteration at time 2024-05-30 18:33:32.009952, current price: 1.27432, positions: 0, capital: 114.35131037773704\n",
      "Predicted Buy Signal: 0\n",
      "Iteration at time 2024-05-30 18:34:32.302862, current price: 1.27426, positions: 0, capital: 114.35131037773704\n",
      "Predicted Buy Signal: 0\n",
      "Iteration at time 2024-05-30 18:35:32.513323, current price: 1.27424, positions: 0, capital: 114.35131037773704\n",
      "Predicted Buy Signal: 0\n",
      "Iteration at time 2024-05-30 18:36:32.803046, current price: 1.27431, positions: 0, capital: 114.35131037773704\n",
      "Predicted Buy Signal: 0\n",
      "Iteration at time 2024-05-30 18:37:33.016200, current price: 1.27428, positions: 0, capital: 114.35131037773704\n",
      "Predicted Buy Signal: 0\n",
      "Iteration at time 2024-05-30 18:38:33.335806, current price: 1.27436, positions: 0, capital: 114.35131037773704\n",
      "Predicted Buy Signal: 0\n",
      "Iteration at time 2024-05-30 18:39:33.633773, current price: 1.27435, positions: 0, capital: 114.35131037773704\n",
      "Predicted Buy Signal: 0\n",
      "Iteration at time 2024-05-30 18:40:33.857494, current price: 1.27427, positions: 0, capital: 114.35131037773704\n",
      "Predicted Buy Signal: 0\n",
      "Iteration at time 2024-05-30 18:41:34.184613, current price: 1.27426, positions: 0, capital: 114.35131037773704\n",
      "Predicted Buy Signal: 0\n",
      "Iteration at time 2024-05-30 18:42:34.486682, current price: 1.27416, positions: 0, capital: 114.35131037773704\n",
      "Predicted Buy Signal: 0\n",
      "Iteration at time 2024-05-30 18:43:34.703097, current price: 1.27417, positions: 0, capital: 114.35131037773704\n",
      "Predicted Buy Signal: 0\n",
      "Iteration at time 2024-05-30 18:44:34.998238, current price: 1.2742499999999999, positions: 0, capital: 114.35131037773704\n",
      "Predicted Buy Signal: 0\n",
      "Iteration at time 2024-05-30 18:45:35.210615, current price: 1.27426, positions: 0, capital: 114.35131037773704\n",
      "Predicted Buy Signal: 0\n",
      "Iteration at time 2024-05-30 18:46:35.556517, current price: 1.27426, positions: 0, capital: 114.35131037773704\n",
      "Predicted Buy Signal: 0\n",
      "Iteration at time 2024-05-30 18:47:35.846427, current price: 1.2742499999999999, positions: 0, capital: 114.35131037773704\n",
      "Predicted Buy Signal: 0\n",
      "Iteration at time 2024-05-30 18:48:36.053590, current price: 1.27403, positions: 0, capital: 114.35131037773704\n",
      "Predicted Buy Signal: 0\n",
      "Iteration at time 2024-05-30 18:49:36.382315, current price: 1.27406, positions: 0, capital: 114.35131037773704\n",
      "Predicted Buy Signal: 0\n",
      "Iteration at time 2024-05-30 18:50:36.677462, current price: 1.27406, positions: 0, capital: 114.35131037773704\n",
      "Predicted Buy Signal: 0\n",
      "Iteration at time 2024-05-30 18:51:36.890553, current price: 1.27409, positions: 0, capital: 114.35131037773704\n",
      "Predicted Buy Signal: 0\n",
      "Iteration at time 2024-05-30 18:52:37.180290, current price: 1.27408, positions: 0, capital: 114.35131037773704\n",
      "Predicted Buy Signal: 0\n",
      "Iteration at time 2024-05-30 18:53:37.384773, current price: 1.27408, positions: 0, capital: 114.35131037773704\n",
      "Predicted Buy Signal: 0\n",
      "Iteration at time 2024-05-30 18:54:37.675353, current price: 1.27406, positions: 0, capital: 114.35131037773704\n",
      "Predicted Buy Signal: 0\n",
      "Iteration at time 2024-05-30 18:55:37.886199, current price: 1.27407, positions: 0, capital: 114.35131037773704\n",
      "Predicted Buy Signal: 0\n",
      "Iteration at time 2024-05-30 18:56:38.177602, current price: 1.27394, positions: 0, capital: 114.35131037773704\n",
      "Predicted Buy Signal: 0\n",
      "Iteration at time 2024-05-30 18:57:38.398702, current price: 1.27392, positions: 0, capital: 114.35131037773704\n",
      "Predicted Buy Signal: 0\n",
      "Iteration at time 2024-05-30 18:58:38.717860, current price: 1.27401, positions: 0, capital: 114.35131037773704\n",
      "Predicted Buy Signal: 0\n",
      "Iteration at time 2024-05-30 18:59:39.010470, current price: 1.27407, positions: 0, capital: 114.35131037773704\n",
      "Predicted Buy Signal: 1\n",
      "Iteration at time 2024-05-30 19:00:39.226335, current price: 1.27405, positions: 17950.835583805507, capital: 114.35131037773704\n"
     ]
    },
    {
     "name": "stderr",
     "output_type": "stream",
     "text": [
      "C:\\Users\\gunne\\AppData\\Local\\Temp\\ipykernel_26464\\2449736011.py:106: FutureWarning: The behavior of DataFrame concatenation with empty or all-NA entries is deprecated. In a future version, this will no longer exclude empty or all-NA columns when determining the result dtypes. To retain the old behavior, exclude the relevant entries before the concat operation.\n",
      "  trade_log_df = pd.concat([trade_log_df, pd.DataFrame([log_entry])], ignore_index=True)\n"
     ]
    },
    {
     "name": "stdout",
     "output_type": "stream",
     "text": [
      "Predicted Buy Signal: 1\n",
      "Iteration at time 2024-05-30 19:01:39.551606, current price: 1.27394, positions: 0, capital: 113.89390513622608\n",
      "Predicted Buy Signal: 0\n",
      "Iteration at time 2024-05-30 19:02:39.851629, current price: 1.27385, positions: 0, capital: 113.89390513622608\n",
      "Predicted Buy Signal: 0\n",
      "Iteration at time 2024-05-30 19:03:40.065830, current price: 1.27377, positions: 0, capital: 113.89390513622608\n",
      "Predicted Buy Signal: 0\n",
      "Iteration at time 2024-05-30 19:04:40.355014, current price: 1.27385, positions: 0, capital: 113.89390513622608\n",
      "Predicted Buy Signal: 0\n",
      "Iteration at time 2024-05-30 19:05:40.574530, current price: 1.27385, positions: 0, capital: 113.89390513622608\n",
      "Predicted Buy Signal: 0\n",
      "Iteration at time 2024-05-30 19:06:40.863119, current price: 1.2738399999999999, positions: 0, capital: 113.89390513622608\n",
      "Predicted Buy Signal: 0\n",
      "Iteration at time 2024-05-30 19:07:41.063435, current price: 1.27379, positions: 0, capital: 113.89390513622608\n",
      "Predicted Buy Signal: 0\n",
      "Iteration at time 2024-05-30 19:08:41.360426, current price: 1.27377, positions: 0, capital: 113.89390513622608\n",
      "Predicted Buy Signal: 0\n",
      "Iteration at time 2024-05-30 19:09:41.560362, current price: 1.27374, positions: 0, capital: 113.89390513622608\n",
      "Predicted Buy Signal: 0\n",
      "Iteration at time 2024-05-30 19:10:41.894803, current price: 1.27378, positions: 0, capital: 113.89390513622608\n",
      "Predicted Buy Signal: 0\n",
      "Iteration at time 2024-05-30 19:11:42.191102, current price: 1.2738399999999999, positions: 0, capital: 113.89390513622608\n",
      "Predicted Buy Signal: 0\n",
      "Iteration at time 2024-05-30 19:12:42.396293, current price: 1.27386, positions: 0, capital: 113.89390513622608\n",
      "Predicted Buy Signal: 1\n",
      "Iteration at time 2024-05-30 19:13:42.726597, current price: 1.27392, positions: 17880.856747083977, capital: 113.89390513622608\n"
     ]
    },
    {
     "name": "stderr",
     "output_type": "stream",
     "text": [
      "C:\\Users\\gunne\\AppData\\Local\\Temp\\ipykernel_26464\\2449736011.py:106: FutureWarning: The behavior of DataFrame concatenation with empty or all-NA entries is deprecated. In a future version, this will no longer exclude empty or all-NA columns when determining the result dtypes. To retain the old behavior, exclude the relevant entries before the concat operation.\n",
      "  trade_log_df = pd.concat([trade_log_df, pd.DataFrame([log_entry])], ignore_index=True)\n"
     ]
    },
    {
     "name": "stdout",
     "output_type": "stream",
     "text": [
      "Predicted Buy Signal: 0\n",
      "Iteration at time 2024-05-30 19:14:43.023962, current price: 1.27385, positions: 0, capital: 113.43832951568118\n",
      "Predicted Buy Signal: 0\n",
      "Iteration at time 2024-05-30 19:15:43.234120, current price: 1.27376, positions: 0, capital: 113.43832951568118\n",
      "Predicted Buy Signal: 0\n",
      "Iteration at time 2024-05-30 19:16:43.530706, current price: 1.27348, positions: 0, capital: 113.43832951568118\n",
      "Predicted Buy Signal: 0\n",
      "Iteration at time 2024-05-30 19:17:43.739458, current price: 1.2735699999999999, positions: 0, capital: 113.43832951568118\n",
      "Predicted Buy Signal: 0\n",
      "Iteration at time 2024-05-30 19:18:44.035794, current price: 1.2735400000000001, positions: 0, capital: 113.43832951568118\n",
      "Predicted Buy Signal: 0\n",
      "Iteration at time 2024-05-30 19:19:44.244761, current price: 1.2736, positions: 0, capital: 113.43832951568118\n",
      "Predicted Buy Signal: 0\n",
      "Iteration at time 2024-05-30 19:20:44.587087, current price: 1.2736100000000001, positions: 0, capital: 113.43832951568118\n",
      "Predicted Buy Signal: 0\n",
      "Iteration at time 2024-05-30 19:21:44.917429, current price: 1.2735699999999999, positions: 0, capital: 113.43832951568118\n",
      "Predicted Buy Signal: 0\n",
      "Iteration at time 2024-05-30 19:22:45.212617, current price: 1.2735699999999999, positions: 0, capital: 113.43832951568118\n",
      "Predicted Buy Signal: 0\n",
      "Iteration at time 2024-05-30 19:23:45.423256, current price: 1.2736100000000001, positions: 0, capital: 113.43832951568118\n",
      "Predicted Buy Signal: 0\n",
      "Iteration at time 2024-05-30 19:24:45.712865, current price: 1.27375, positions: 0, capital: 113.43832951568118\n",
      "Predicted Buy Signal: 0\n",
      "Iteration at time 2024-05-30 19:25:45.926745, current price: 1.27367, positions: 0, capital: 113.43832951568118\n",
      "Predicted Buy Signal: 0\n",
      "Iteration at time 2024-05-30 19:26:46.252149, current price: 1.27372, positions: 0, capital: 113.43832951568118\n",
      "Predicted Buy Signal: 0\n",
      "Iteration at time 2024-05-30 19:27:46.549669, current price: 1.27371, positions: 0, capital: 113.43832951568118\n",
      "Predicted Buy Signal: 0\n",
      "Iteration at time 2024-05-30 19:28:46.772999, current price: 1.27372, positions: 0, capital: 113.43832951568118\n",
      "Predicted Buy Signal: 0\n",
      "Iteration at time 2024-05-30 19:29:47.100673, current price: 1.27375, positions: 0, capital: 113.43832951568118\n",
      "Predicted Buy Signal: 0\n",
      "Iteration at time 2024-05-30 19:30:47.397071, current price: 1.27382, positions: 0, capital: 113.43832951568118\n",
      "Predicted Buy Signal: 0\n",
      "Iteration at time 2024-05-30 19:31:47.620896, current price: 1.27392, positions: 0, capital: 113.43832951568118\n",
      "Predicted Buy Signal: 0\n",
      "Iteration at time 2024-05-30 19:32:47.940952, current price: 1.27393, positions: 0, capital: 113.43832951568118\n",
      "Predicted Buy Signal: 0\n",
      "Iteration at time 2024-05-30 19:33:48.237866, current price: 1.27392, positions: 0, capital: 113.43832951568118\n",
      "Predicted Buy Signal: 0\n",
      "Iteration at time 2024-05-30 19:34:48.455595, current price: 1.27385, positions: 0, capital: 113.43832951568118\n",
      "Predicted Buy Signal: 0\n",
      "Iteration at time 2024-05-30 19:35:48.778694, current price: 1.27376, positions: 0, capital: 113.43832951568118\n",
      "Predicted Buy Signal: 0\n",
      "Iteration at time 2024-05-30 19:36:49.077596, current price: 1.27367, positions: 0, capital: 113.43832951568118\n",
      "Predicted Buy Signal: 0\n",
      "Iteration at time 2024-05-30 19:37:49.292444, current price: 1.27369, positions: 0, capital: 113.43832951568118\n",
      "Predicted Buy Signal: 0\n",
      "Iteration at time 2024-05-30 19:38:49.587023, current price: 1.27374, positions: 0, capital: 113.43832951568118\n",
      "Predicted Buy Signal: 0\n",
      "Iteration at time 2024-05-30 19:39:49.802501, current price: 1.27365, positions: 0, capital: 113.43832951568118\n",
      "Predicted Buy Signal: 0\n",
      "Iteration at time 2024-05-30 19:40:50.097713, current price: 1.27367, positions: 0, capital: 113.43832951568118\n",
      "Predicted Buy Signal: 0\n",
      "Iteration at time 2024-05-30 19:41:50.297931, current price: 1.27363, positions: 0, capital: 113.43832951568118\n",
      "Predicted Buy Signal: 0\n",
      "Iteration at time 2024-05-30 19:42:50.641594, current price: 1.2736399999999999, positions: 0, capital: 113.43832951568118\n",
      "Predicted Buy Signal: 0\n",
      "Iteration at time 2024-05-30 19:43:50.931903, current price: 1.27362, positions: 0, capital: 113.43832951568118\n",
      "Predicted Buy Signal: 0\n",
      "Iteration at time 2024-05-30 19:44:51.134512, current price: 1.27369, positions: 0, capital: 113.43832951568118\n",
      "Predicted Buy Signal: 0\n",
      "Iteration at time 2024-05-30 19:45:51.425787, current price: 1.27365, positions: 0, capital: 113.43832951568118\n",
      "Predicted Buy Signal: 0\n",
      "Iteration at time 2024-05-30 19:46:51.624187, current price: 1.27377, positions: 0, capital: 113.43832951568118\n",
      "Predicted Buy Signal: 0\n",
      "Iteration at time 2024-05-30 19:47:51.919012, current price: 1.27382, positions: 0, capital: 113.43832951568118\n",
      "Predicted Buy Signal: 0\n",
      "Iteration at time 2024-05-30 19:48:52.130605, current price: 1.27374, positions: 0, capital: 113.43832951568118\n",
      "Predicted Buy Signal: 0\n",
      "Iteration at time 2024-05-30 19:49:52.426044, current price: 1.27372, positions: 0, capital: 113.43832951568118\n",
      "Predicted Buy Signal: 0\n",
      "Iteration at time 2024-05-30 19:50:52.629278, current price: 1.27381, positions: 0, capital: 113.43832951568118\n",
      "Predicted Buy Signal: 0\n",
      "Iteration at time 2024-05-30 19:51:52.923850, current price: 1.27385, positions: 0, capital: 113.43832951568118\n",
      "Predicted Buy Signal: 0\n",
      "Iteration at time 2024-05-30 19:52:53.131615, current price: 1.27385, positions: 0, capital: 113.43832951568118\n",
      "Predicted Buy Signal: 0\n",
      "Iteration at time 2024-05-30 19:53:53.423061, current price: 1.2738399999999999, positions: 0, capital: 113.43832951568118\n",
      "Predicted Buy Signal: 0\n",
      "Iteration at time 2024-05-30 19:54:53.629717, current price: 1.27381, positions: 0, capital: 113.43832951568118\n",
      "Predicted Buy Signal: 0\n",
      "Iteration at time 2024-05-30 19:55:53.956962, current price: 1.27382, positions: 0, capital: 113.43832951568118\n",
      "Predicted Buy Signal: 0\n",
      "Iteration at time 2024-05-30 19:56:54.254041, current price: 1.27379, positions: 0, capital: 113.43832951568118\n",
      "Predicted Buy Signal: 0\n",
      "Iteration at time 2024-05-30 19:57:54.468990, current price: 1.27379, positions: 0, capital: 113.43832951568118\n",
      "Predicted Buy Signal: 0\n",
      "Iteration at time 2024-05-30 19:58:54.762802, current price: 1.27377, positions: 0, capital: 113.43832951568118\n",
      "Predicted Buy Signal: 0\n",
      "Iteration at time 2024-05-30 19:59:54.974383, current price: 1.27376, positions: 0, capital: 113.43832951568118\n",
      "Predicted Buy Signal: 1\n",
      "Iteration at time 2024-05-30 20:00:55.262767, current price: 1.27365, positions: 17813.10870579534, capital: 113.43832951568118\n"
     ]
    },
    {
     "name": "stderr",
     "output_type": "stream",
     "text": [
      "C:\\Users\\gunne\\AppData\\Local\\Temp\\ipykernel_26464\\2449736011.py:106: FutureWarning: The behavior of DataFrame concatenation with empty or all-NA entries is deprecated. In a future version, this will no longer exclude empty or all-NA columns when determining the result dtypes. To retain the old behavior, exclude the relevant entries before the concat operation.\n",
      "  trade_log_df = pd.concat([trade_log_df, pd.DataFrame([log_entry])], ignore_index=True)\n"
     ]
    },
    {
     "name": "stdout",
     "output_type": "stream",
     "text": [
      "Predicted Buy Signal: 1\n",
      "Iteration at time 2024-05-30 20:01:55.469394, current price: 1.2736399999999999, positions: 17813.10870579534, capital: 113.43832951568118\n",
      "Predicted Buy Signal: 1\n",
      "Iteration at time 2024-05-30 20:02:55.765040, current price: 1.27344, positions: 0, capital: 112.98457619761845\n",
      "Predicted Buy Signal: 0\n",
      "Iteration at time 2024-05-30 20:03:55.971391, current price: 1.27338, positions: 0, capital: 112.98457619761845\n",
      "Predicted Buy Signal: 1\n",
      "Iteration at time 2024-05-30 20:04:56.265858, current price: 1.2735699999999999, positions: 17742.970735431656, capital: 112.98457619761845\n"
     ]
    },
    {
     "name": "stderr",
     "output_type": "stream",
     "text": [
      "C:\\Users\\gunne\\AppData\\Local\\Temp\\ipykernel_26464\\2449736011.py:106: FutureWarning: The behavior of DataFrame concatenation with empty or all-NA entries is deprecated. In a future version, this will no longer exclude empty or all-NA columns when determining the result dtypes. To retain the old behavior, exclude the relevant entries before the concat operation.\n",
      "  trade_log_df = pd.concat([trade_log_df, pd.DataFrame([log_entry])], ignore_index=True)\n"
     ]
    },
    {
     "name": "stdout",
     "output_type": "stream",
     "text": [
      "Predicted Buy Signal: 1\n",
      "Iteration at time 2024-05-30 20:05:56.480348, current price: 1.27366, positions: 0, capital: 114.58144356380988\n",
      "Predicted Buy Signal: 1\n",
      "Iteration at time 2024-05-30 20:06:56.803851, current price: 1.27363, positions: 17992.89331498314, capital: 114.58144356380988\n"
     ]
    },
    {
     "name": "stderr",
     "output_type": "stream",
     "text": [
      "C:\\Users\\gunne\\AppData\\Local\\Temp\\ipykernel_26464\\2449736011.py:106: FutureWarning: The behavior of DataFrame concatenation with empty or all-NA entries is deprecated. In a future version, this will no longer exclude empty or all-NA columns when determining the result dtypes. To retain the old behavior, exclude the relevant entries before the concat operation.\n",
      "  trade_log_df = pd.concat([trade_log_df, pd.DataFrame([log_entry])], ignore_index=True)\n"
     ]
    },
    {
     "name": "stdout",
     "output_type": "stream",
     "text": [
      "Predicted Buy Signal: 1\n",
      "Iteration at time 2024-05-30 20:07:57.101192, current price: 1.2736, positions: 17992.89331498314, capital: 114.58144356380988\n",
      "Predicted Buy Signal: 1\n",
      "Iteration at time 2024-05-30 20:08:57.321970, current price: 1.27351, positions: 0, capital: 114.12311778955464\n",
      "Predicted Buy Signal: 1\n",
      "Iteration at time 2024-05-30 20:09:57.610879, current price: 1.27351, positions: 17922.610390111528, capital: 114.12311778955464\n"
     ]
    },
    {
     "name": "stderr",
     "output_type": "stream",
     "text": [
      "C:\\Users\\gunne\\AppData\\Local\\Temp\\ipykernel_26464\\2449736011.py:106: FutureWarning: The behavior of DataFrame concatenation with empty or all-NA entries is deprecated. In a future version, this will no longer exclude empty or all-NA columns when determining the result dtypes. To retain the old behavior, exclude the relevant entries before the concat operation.\n",
      "  trade_log_df = pd.concat([trade_log_df, pd.DataFrame([log_entry])], ignore_index=True)\n"
     ]
    },
    {
     "name": "stdout",
     "output_type": "stream",
     "text": [
      "Predicted Buy Signal: 1\n",
      "Iteration at time 2024-05-30 20:10:57.819792, current price: 1.27346, positions: 17922.610390111528, capital: 114.12311778955464\n",
      "Predicted Buy Signal: 1\n",
      "Iteration at time 2024-05-30 20:11:58.114268, current price: 1.27352, positions: 17922.610390111528, capital: 114.12311778955464\n",
      "Predicted Buy Signal: 1\n",
      "Iteration at time 2024-05-30 20:12:58.319751, current price: 1.27365, positions: 0, capital: 116.63228324417078\n",
      "Predicted Buy Signal: 1\n",
      "Iteration at time 2024-05-30 20:13:58.612559, current price: 1.27374, positions: 18313.35802348529, capital: 116.63228324417078\n"
     ]
    },
    {
     "name": "stderr",
     "output_type": "stream",
     "text": [
      "C:\\Users\\gunne\\AppData\\Local\\Temp\\ipykernel_26464\\2449736011.py:106: FutureWarning: The behavior of DataFrame concatenation with empty or all-NA entries is deprecated. In a future version, this will no longer exclude empty or all-NA columns when determining the result dtypes. To retain the old behavior, exclude the relevant entries before the concat operation.\n",
      "  trade_log_df = pd.concat([trade_log_df, pd.DataFrame([log_entry])], ignore_index=True)\n"
     ]
    },
    {
     "name": "stdout",
     "output_type": "stream",
     "text": [
      "Predicted Buy Signal: 1\n",
      "Iteration at time 2024-05-30 20:14:58.821286, current price: 1.27371, positions: 18313.35802348529, capital: 116.63228324417078\n",
      "Predicted Buy Signal: 1\n",
      "Iteration at time 2024-05-30 20:15:59.119640, current price: 1.27373, positions: 18313.35802348529, capital: 116.63228324417078\n",
      "Predicted Buy Signal: 1\n",
      "Iteration at time 2024-05-30 20:16:59.328654, current price: 1.27375, positions: 18313.35802348529, capital: 116.63228324417078\n",
      "Predicted Buy Signal: 1\n",
      "Iteration at time 2024-05-30 20:17:59.668273, current price: 1.27362, positions: 0, capital: 116.16575411119409\n",
      "Predicted Buy Signal: 1\n",
      "Iteration at time 2024-05-30 20:18:59.958079, current price: 1.27375, positions: 18239.961391355304, capital: 116.16575411119409\n"
     ]
    },
    {
     "name": "stderr",
     "output_type": "stream",
     "text": [
      "C:\\Users\\gunne\\AppData\\Local\\Temp\\ipykernel_26464\\2449736011.py:106: FutureWarning: The behavior of DataFrame concatenation with empty or all-NA entries is deprecated. In a future version, this will no longer exclude empty or all-NA columns when determining the result dtypes. To retain the old behavior, exclude the relevant entries before the concat operation.\n",
      "  trade_log_df = pd.concat([trade_log_df, pd.DataFrame([log_entry])], ignore_index=True)\n"
     ]
    },
    {
     "name": "stdout",
     "output_type": "stream",
     "text": [
      "Predicted Buy Signal: 1\n",
      "Iteration at time 2024-05-30 20:20:00.172174, current price: 1.27365, positions: 0, capital: 115.70109109474932\n",
      "Predicted Buy Signal: 1\n",
      "Iteration at time 2024-05-30 20:21:00.497045, current price: 1.27353, positions: 18170.139862390253, capital: 115.70109109474932\n"
     ]
    },
    {
     "name": "stderr",
     "output_type": "stream",
     "text": [
      "C:\\Users\\gunne\\AppData\\Local\\Temp\\ipykernel_26464\\2449736011.py:106: FutureWarning: The behavior of DataFrame concatenation with empty or all-NA entries is deprecated. In a future version, this will no longer exclude empty or all-NA columns when determining the result dtypes. To retain the old behavior, exclude the relevant entries before the concat operation.\n",
      "  trade_log_df = pd.concat([trade_log_df, pd.DataFrame([log_entry])], ignore_index=True)\n"
     ]
    },
    {
     "name": "stdout",
     "output_type": "stream",
     "text": [
      "Predicted Buy Signal: 1\n",
      "Iteration at time 2024-05-30 20:22:00.796254, current price: 1.2735400000000001, positions: 18170.139862390253, capital: 115.70109109474932\n",
      "Predicted Buy Signal: 1\n",
      "Iteration at time 2024-05-30 20:23:01.018394, current price: 1.27351, positions: 18170.139862390253, capital: 115.70109109474932\n",
      "Predicted Buy Signal: 1\n",
      "Iteration at time 2024-05-30 20:24:01.344087, current price: 1.2735400000000001, positions: 18170.139862390253, capital: 115.70109109474932\n",
      "Predicted Buy Signal: 0\n",
      "Iteration at time 2024-05-30 20:25:01.643893, current price: 1.27345, positions: 0, capital: 115.23828673037032\n",
      "Predicted Buy Signal: 0\n",
      "Iteration at time 2024-05-30 20:26:01.871167, current price: 1.27343, positions: 0, capital: 115.23828673037032\n",
      "Predicted Buy Signal: 0\n",
      "Iteration at time 2024-05-30 20:27:02.199498, current price: 1.27345, positions: 0, capital: 115.23828673037032\n",
      "Predicted Buy Signal: 1\n",
      "Iteration at time 2024-05-30 20:28:02.494286, current price: 1.27349, positions: 18098.027739577115, capital: 115.23828673037032\n"
     ]
    },
    {
     "name": "stderr",
     "output_type": "stream",
     "text": [
      "C:\\Users\\gunne\\AppData\\Local\\Temp\\ipykernel_26464\\2449736011.py:106: FutureWarning: The behavior of DataFrame concatenation with empty or all-NA entries is deprecated. In a future version, this will no longer exclude empty or all-NA columns when determining the result dtypes. To retain the old behavior, exclude the relevant entries before the concat operation.\n",
      "  trade_log_df = pd.concat([trade_log_df, pd.DataFrame([log_entry])], ignore_index=True)\n"
     ]
    },
    {
     "name": "stdout",
     "output_type": "stream",
     "text": [
      "Predicted Buy Signal: 1\n",
      "Iteration at time 2024-05-30 20:29:02.708149, current price: 1.2735400000000001, positions: 18098.027739577115, capital: 115.23828673037032\n",
      "Predicted Buy Signal: 1\n",
      "Iteration at time 2024-05-30 20:30:03.031317, current price: 1.27352, positions: 18098.027739577115, capital: 115.23828673037032\n",
      "Predicted Buy Signal: 1\n",
      "Iteration at time 2024-05-30 20:31:03.327952, current price: 1.27352, positions: 18098.027739577115, capital: 115.23828673037032\n",
      "Predicted Buy Signal: 1\n",
      "Iteration at time 2024-05-30 20:32:03.548092, current price: 1.2735400000000001, positions: 18098.027739577115, capital: 115.23828673037032\n",
      "Predicted Buy Signal: 1\n",
      "Iteration at time 2024-05-30 20:33:03.840986, current price: 1.27355, positions: 18098.027739577115, capital: 115.23828673037032\n",
      "Predicted Buy Signal: 0\n",
      "Iteration at time 2024-05-30 20:34:04.049949, current price: 1.27341, positions: 0, capital: 114.77733358344884\n",
      "Predicted Buy Signal: 0\n",
      "Iteration at time 2024-05-30 20:35:04.375534, current price: 1.2734, positions: 0, capital: 114.77733358344884\n",
      "Predicted Buy Signal: 0\n",
      "Iteration at time 2024-05-30 20:36:04.668974, current price: 1.27335, positions: 0, capital: 114.77733358344884\n",
      "Predicted Buy Signal: 0\n",
      "Iteration at time 2024-05-30 20:37:04.891815, current price: 1.27335, positions: 0, capital: 114.77733358344884\n",
      "Predicted Buy Signal: 0\n",
      "Iteration at time 2024-05-30 20:38:05.185824, current price: 1.27328, positions: 0, capital: 114.77733358344884\n",
      "Predicted Buy Signal: 0\n",
      "Iteration at time 2024-05-30 20:39:05.387345, current price: 1.27324, positions: 0, capital: 114.77733358344884\n",
      "Predicted Buy Signal: 0\n",
      "Iteration at time 2024-05-30 20:40:05.722902, current price: 1.27322, positions: 0, capital: 114.77733358344884\n",
      "Predicted Buy Signal: 0\n",
      "Iteration at time 2024-05-30 20:41:06.013926, current price: 1.2731, positions: 0, capital: 114.77733358344884\n",
      "Predicted Buy Signal: 0\n",
      "Iteration at time 2024-05-30 20:42:06.220100, current price: 1.27306, positions: 0, capital: 114.77733358344884\n",
      "Predicted Buy Signal: 0\n",
      "Iteration at time 2024-05-30 20:43:06.514777, current price: 1.2730299999999999, positions: 0, capital: 114.77733358344884\n",
      "Predicted Buy Signal: 0\n",
      "Iteration at time 2024-05-30 20:44:06.714711, current price: 1.27295, positions: 0, capital: 114.77733358344884\n",
      "Predicted Buy Signal: 0\n",
      "Iteration at time 2024-05-30 20:45:07.008859, current price: 1.27295, positions: 0, capital: 114.77733358344884\n",
      "Predicted Buy Signal: 0\n",
      "Iteration at time 2024-05-30 20:46:07.217020, current price: 1.2729, positions: 0, capital: 114.77733358344884\n",
      "Predicted Buy Signal: 0\n",
      "Iteration at time 2024-05-30 20:47:07.547610, current price: 1.27295, positions: 0, capital: 114.77733358344884\n",
      "Predicted Buy Signal: 0\n",
      "Iteration at time 2024-05-30 20:48:07.851303, current price: 1.27285, positions: 0, capital: 114.77733358344884\n",
      "Predicted Buy Signal: 0\n",
      "Iteration at time 2024-05-30 20:49:08.078070, current price: 1.27267, positions: 0, capital: 114.77733358344884\n",
      "Predicted Buy Signal: 0\n",
      "Iteration at time 2024-05-30 20:50:08.400530, current price: 1.27273, positions: 0, capital: 114.77733358344884\n",
      "Predicted Buy Signal: 0\n",
      "Iteration at time 2024-05-30 20:51:08.700938, current price: 1.27286, positions: 0, capital: 114.77733358344884\n",
      "Predicted Buy Signal: 0\n",
      "Iteration at time 2024-05-30 20:52:08.908347, current price: 1.27283, positions: 0, capital: 114.77733358344884\n",
      "Predicted Buy Signal: 0\n",
      "Iteration at time 2024-05-30 20:53:09.198209, current price: 1.27304, positions: 0, capital: 114.77733358344884\n",
      "Predicted Buy Signal: 0\n",
      "Iteration at time 2024-05-30 20:54:09.413957, current price: 1.2730000000000001, positions: 0, capital: 114.77733358344884\n",
      "Predicted Buy Signal: 0\n",
      "Iteration at time 2024-05-30 20:55:09.735331, current price: 1.27317, positions: 0, capital: 114.77733358344884\n",
      "Predicted Buy Signal: 0\n",
      "Iteration at time 2024-05-30 20:56:10.034813, current price: 1.2732299999999999, positions: 0, capital: 114.77733358344884\n",
      "Predicted Buy Signal: 0\n",
      "Iteration at time 2024-05-30 20:57:10.253087, current price: 1.27324, positions: 0, capital: 114.77733358344884\n"
     ]
    }
   ],
   "source": [
    "import os\n",
    "import datetime\n",
    "import time\n",
    "import pandas as pd\n",
    "import MetaTrader5 as mt5\n",
    "from sklearn.preprocessing import StandardScaler\n",
    "import torch\n",
    "\n",
    "# Trading parameters---eventually the iniital capital and leverage will be rpelaced in metatrader5's platform just to reflect only the account balance and leverage we are applying within our balance\n",
    "initial_capital = 100\n",
    "capital = initial_capital\n",
    "leverage = 200  # 1:200 leverage\n",
    "profit_cap_percentage = 2.0  # Daily profit target of 2%\n",
    "stop_loss_percentage = -0.004  # Stop loss at -0.01%\n",
    "target_capital = 200000\n",
    "positions = 0\n",
    "entry_price = None\n",
    "minimum_percentage = 0.005\n",
    "profit = 0\n",
    "\n",
    "# Create directories for logging\n",
    "base_log_dir = \"trading_logs\"\n",
    "os.makedirs(base_log_dir, exist_ok=True)\n",
    "\n",
    "# Create a new folder for the current test\n",
    "current_test_index = 0\n",
    "while os.path.exists(os.path.join(base_log_dir, f\"test_{current_test_index}\")):\n",
    "    current_test_index += 1\n",
    "\n",
    "current_log_dir = os.path.join(base_log_dir, f\"test_{current_test_index}\")\n",
    "os.makedirs(current_log_dir)\n",
    "\n",
    "log_file_path = os.path.join(current_log_dir, \"trade_log.txt\")\n",
    "log_csv_path = os.path.join(current_log_dir, \"trade_log.csv\")\n",
    "iteration_csv_path = os.path.join(current_log_dir, \"iteration_log.csv\")\n",
    "\n",
    "# DataFrames for logs\n",
    "trade_log_df = pd.DataFrame(columns=['time', 'action', 'price', 'positions', 'capital', 'profit_percentage', 'profit'])\n",
    "iteration_log_df = pd.DataFrame(columns=['time', 'price', 'positions', 'capital'])\n",
    "\n",
    "# Function to adjust trade volume\n",
    "def validate_volume(raw_volume, symbol):\n",
    "    min_volume = mt5.symbol_info(symbol).volume_min\n",
    "    max_volume = mt5.symbol_info(symbol).volume_max\n",
    "    step_volume = mt5.symbol_info(symbol).volume_step\n",
    "\n",
    "    if raw_volume < min_volume:\n",
    "        return min_volume\n",
    "    elif raw_volume > max_volume:\n",
    "        return max_volume\n",
    "    else:\n",
    "        return round(raw_volume / step_volume) * step_volume\n",
    "\n",
    "# Run the trading loop\n",
    "while capital < target_capital:\n",
    "    # Fetch live data\n",
    "    rates = mt5.copy_rates_from_pos(\"GBPUSD\", mt5.TIMEFRAME_H1, 0, 750)\n",
    "    rates_frame = pd.DataFrame(rates)\n",
    "    rates_frame['time'] = pd.to_datetime(rates_frame['time'], unit='s')\n",
    "    rates_frame.set_index('time', inplace=True)\n",
    "\n",
    "    # Feature engineering\n",
    "    rates_frame['Change_Open_Close'] = ((rates_frame['close'] - rates_frame['open']) / rates_frame['open']) * 100\n",
    "    rates_frame['Change_High_Low'] = ((rates_frame['high'] - rates_frame['low']) / rates_frame['high']) * 100\n",
    "    rates_frame['Profit_Between_Time_Series'] = rates_frame['Change_Open_Close'].diff().fillna(0)\n",
    "    rates_frame['Buy_Signal'] = (rates_frame['Profit_Between_Time_Series'] > 0.01).astype(int)\n",
    "    rates_frame['Sell_Signal'] = rates_frame['Buy_Signal'].shift(-1).fillna(0).astype(int)\n",
    "\n",
    "    # Prepare features for model prediction\n",
    "    features = rates_frame.drop(columns=['Buy_Signal', 'Sell_Signal']).values\n",
    "    scaler = StandardScaler()\n",
    "    scaled_features = scaler.fit_transform(features)\n",
    "\n",
    "    # Predicting buy signals\n",
    "    with torch.no_grad():\n",
    "        inputs = torch.tensor(scaled_features, dtype=torch.float32).to(device)\n",
    "        outputs = model(inputs.unsqueeze(1))\n",
    "        predicted_signals = torch.argmax(outputs, dim=1).cpu().numpy()\n",
    "\n",
    "    rates_frame['Predicted_Buy_Signal'] = predicted_signals\n",
    "\n",
    "    # Execute trades based on predictions\n",
    "    current_price = rates_frame['close'].iloc[-1]\n",
    "    date_time = datetime.datetime.now()\n",
    "\n",
    "    # Add detailed logging\n",
    "    print(f\"Predicted Buy Signal: {rates_frame['Predicted_Buy_Signal'].iloc[-1]}\")\n",
    "\n",
    "    if capital >= target_capital:\n",
    "        print(f\"Target capital of {target_capital} reached at {date_time}, stopping trading.\")\n",
    "        break\n",
    "\n",
    "    if rates_frame['Predicted_Buy_Signal'].iloc[-1] == 1 and positions == 0:\n",
    "        # Enter position\n",
    "        positions = leverage * (capital / current_price)\n",
    "        entry_price = current_price\n",
    "        log_entry = {\n",
    "            'time': date_time,\n",
    "            'action': 'enter',\n",
    "            'price': entry_price,\n",
    "            'positions': positions,\n",
    "            'capital': capital,\n",
    "            'profit_percentage': None,\n",
    "            'profit': None\n",
    "        }\n",
    "        trade_log_df = pd.concat([trade_log_df, pd.DataFrame([log_entry])], ignore_index=True)\n",
    "        with open(log_file_path, \"a\") as log_file:\n",
    "            log_file.write(f\"Entered position at time {date_time}, price: {entry_price}, positions: {positions}, capital: {capital}\\n\")\n",
    "\n",
    "    if positions != 0:\n",
    "        profit_percentage = (current_price - entry_price) / entry_price * 100\n",
    "\n",
    "        # Determine if the current price > entry price and hits our minimum percentage of change\n",
    "        if current_price > entry_price and profit_percentage >= minimum_percentage:\n",
    "            # Exit the positions and add the minimum percentage amount to a cumulative percentage\n",
    "            # Profit is the entry position \n",
    "            profit = (positions * (current_price - entry_price))  # Leverage has already been applied to positions\n",
    "            capital += profit\n",
    "\n",
    "            log_exit = {\n",
    "                'time': date_time,\n",
    "                'action': 'exit',\n",
    "                'price': current_price,\n",
    "                'positions': positions,\n",
    "                'capital': capital,\n",
    "                'profit_percentage': profit_percentage,\n",
    "                'profit': profit\n",
    "            }\n",
    "            trade_log_df = pd.concat([trade_log_df, pd.DataFrame([log_exit])], ignore_index=True)\n",
    "            with open(log_file_path, \"a\") as log_file:\n",
    "                log_file.write(f\"Exited position at time {date_time}, price: {current_price}, profit_percentage: {profit_percentage}, profit: {profit}, capital: {capital}\\n\")\n",
    "\n",
    "            # Reset positions\n",
    "            positions = 0\n",
    "            entry_price = None\n",
    "\n",
    "        # Edge case where the profit percentage is greater than or equal to the profit cap percentage, per minute iteration\n",
    "        if profit_percentage >= profit_cap_percentage:\n",
    "            # Exit position due to reaching profit cap or stop loss\n",
    "            profit = (positions * (current_price - entry_price))  # Leverage has already been applied to positions\n",
    "            capital += profit\n",
    "\n",
    "            log_exit = {\n",
    "                'time': date_time,\n",
    "                'action': 'exit',\n",
    "                'price': current_price,\n",
    "                'positions': positions,\n",
    "                'capital': capital,\n",
    "                'profit_percentage': profit_percentage,\n",
    "                'profit': profit\n",
    "            }\n",
    "            trade_log_df = pd.concat([trade_log_df, pd.DataFrame([log_exit])], ignore_index=True)\n",
    "            with open(log_file_path, \"a\") as log_file:\n",
    "                log_file.write(f\"Exited position at time {date_time}, price: {current_price}, profit_percentage: {profit_percentage}, profit: {profit}, capital: {capital}\\n\")\n",
    "\n",
    "            # Reset positions\n",
    "            positions = 0\n",
    "            entry_price = None\n",
    "\n",
    "        # In the event we need to stop and liquidate at our stop loss\n",
    "        if profit_percentage <= stop_loss_percentage:\n",
    "            # Apply the stop loss percentage and exit the trade\n",
    "            capital += (capital * stop_loss_percentage)\n",
    "\n",
    "            log_exit = {\n",
    "                'time': date_time,\n",
    "                'action': 'exit',\n",
    "                'price': current_price,\n",
    "                'positions': positions,\n",
    "                'capital': capital,\n",
    "                'profit_percentage': profit_percentage,\n",
    "                'profit': profit\n",
    "            }\n",
    "            trade_log_df = pd.concat([trade_log_df, pd.DataFrame([log_exit])], ignore_index=True)\n",
    "            with open(log_file_path, \"a\") as log_file:\n",
    "                log_file.write(f\"Exited position at time {date_time}, price: {current_price}, profit_percentage: {profit_percentage}, profit: {profit}, capital: {capital}\\n\")\n",
    "\n",
    "            # Reset positions\n",
    "            positions = 0\n",
    "            entry_price = None\n",
    "\n",
    "    # Print details of each iteration\n",
    "    iteration_log = {\n",
    "        'time': date_time,\n",
    "        'price': current_price,\n",
    "        'positions': positions,\n",
    "        'capital': capital\n",
    "    }\n",
    "    iteration_log_df = pd.concat([iteration_log_df, pd.DataFrame([iteration_log])], ignore_index=True)\n",
    "    print(f\"Iteration at time {date_time}, current price: {current_price}, positions: {positions}, capital: {capital}\")\n",
    "    with open(log_file_path, \"a\") as log_file:\n",
    "        log_file.write(f\"Iteration at time {date_time}, current price: {current_price}, positions: {positions}, capital: {capital}\\n\")\n",
    "\n",
    "    # Save logs to CSV files\n",
    "    if not trade_log_df.empty:\n",
    "        trade_log_df.to_csv(log_csv_path, index=False)\n",
    "    if not iteration_log_df.empty:\n",
    "        iteration_log_df.to_csv(iteration_csv_path, index=False)\n",
    "\n",
    "    # Wait before the next iteration (e.g., 1 minute)\n",
    "    time.sleep(60)"
   ]
  },
  {
   "cell_type": "code",
   "execution_count": null,
   "id": "ae6e3ab8-485c-4b91-aec9-06d8dafd7d54",
   "metadata": {},
   "outputs": [],
   "source": []
  }
 ],
 "metadata": {
  "kernelspec": {
   "display_name": "Python 3 (ipykernel)",
   "language": "python",
   "name": "python3"
  },
  "language_info": {
   "codemirror_mode": {
    "name": "ipython",
    "version": 3
   },
   "file_extension": ".py",
   "mimetype": "text/x-python",
   "name": "python",
   "nbconvert_exporter": "python",
   "pygments_lexer": "ipython3",
   "version": "3.11.7"
  }
 },
 "nbformat": 4,
 "nbformat_minor": 5
}
