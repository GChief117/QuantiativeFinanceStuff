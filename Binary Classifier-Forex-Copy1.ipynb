{
 "cells": [
  {
   "cell_type": "markdown",
   "id": "96a2931d",
   "metadata": {},
   "source": [
    "# So overall, this is the same as the binary classifier from the first binary classifier, except we also have shorting as well"
   ]
  },
  {
   "cell_type": "markdown",
   "id": "c7f597c6",
   "metadata": {},
   "source": [
    "In this case, we would be executing  trades risking 2% in total of our capital when to buy and when to short. That way we will also make sure not to loose our total capital in general, and we will also simulate liquidation. Meaning, any other stuff that was updated in the first binary classifier we go over and put it in this classifier as well\n",
    "\n",
    "**Rules:**\n",
    "-Preprocess the data\n",
    "-Define model architecture\n",
    "-Train the model and feed the data to it\n",
    "-F1-Score & Backtesting\n",
    "\n",
    "**Live simulation---**\n",
    "Best to do 50 iterations for all tests in general, look at your python script on your desktop to execute, load, and run them all, after cleaning what needs to be done. Mind you any metatrader5 data we are fetching is being simulated here, nothign is being reflected within our account. "
   ]
  },
  {
   "cell_type": "code",
   "execution_count": 1,
   "id": "34ea8320-56f8-4c15-8a01-2010e8cb0208",
   "metadata": {},
   "outputs": [
    {
     "data": {
      "text/plain": [
       "True"
      ]
     },
     "execution_count": 1,
     "metadata": {},
     "output_type": "execute_result"
    }
   ],
   "source": [
    "#making sure we train with our GPU, Pytorch is the fucking shit!!!\n",
    "import torch\n",
    "torch.cuda.is_available()"
   ]
  },
  {
   "cell_type": "code",
   "execution_count": 2,
   "id": "c0fb90b6-acc0-41f0-9ec6-5214bb19edc3",
   "metadata": {},
   "outputs": [
    {
     "data": {
      "text/plain": [
       "1"
      ]
     },
     "execution_count": 2,
     "metadata": {},
     "output_type": "execute_result"
    }
   ],
   "source": [
    "torch.cuda.device_count()"
   ]
  },
  {
   "cell_type": "code",
   "execution_count": 3,
   "id": "34c276f5-b822-4828-a8ad-acaa1118c6a8",
   "metadata": {},
   "outputs": [
    {
     "data": {
      "text/plain": [
       "0"
      ]
     },
     "execution_count": 3,
     "metadata": {},
     "output_type": "execute_result"
    }
   ],
   "source": [
    "torch.cuda.current_device()"
   ]
  },
  {
   "cell_type": "code",
   "execution_count": 4,
   "id": "6a520c8f-2efb-4104-92b9-eed65bd0b37f",
   "metadata": {},
   "outputs": [
    {
     "data": {
      "text/plain": [
       "<torch.cuda.device at 0x18113cb97d0>"
      ]
     },
     "execution_count": 4,
     "metadata": {},
     "output_type": "execute_result"
    }
   ],
   "source": [
    "torch.cuda.device(0)"
   ]
  },
  {
   "cell_type": "code",
   "execution_count": 5,
   "id": "bcce3263-05eb-42ff-85a2-8242ce59c124",
   "metadata": {},
   "outputs": [
    {
     "data": {
      "text/plain": [
       "'NVIDIA TITAN RTX'"
      ]
     },
     "execution_count": 5,
     "metadata": {},
     "output_type": "execute_result"
    }
   ],
   "source": [
    "torch.cuda.get_device_name(0)"
   ]
  },
  {
   "cell_type": "code",
   "execution_count": 6,
   "id": "15f7bc7d-14d7-4e91-b3b0-5095b347587c",
   "metadata": {},
   "outputs": [
    {
     "name": "stdout",
     "output_type": "stream",
     "text": [
      "Requirement already satisfied: MetaTrader5 in c:\\users\\gunne\\anaconda3\\lib\\site-packages (5.0.4288)\n",
      "Requirement already satisfied: numpy>=1.7 in c:\\users\\gunne\\anaconda3\\lib\\site-packages (from MetaTrader5) (1.24.3)\n",
      "MetaTrader 5 initialized successfully\n",
      "Attempting to login with Account: 51806647, Password: lKDtOjEK6$rp@f, Server: ICMarketsSC-Demo\n",
      "Connected to account #51806647\n"
     ]
    }
   ],
   "source": [
    "!pip install MetaTrader5\n",
    "\n",
    "import os\n",
    "import shutil\n",
    "import MetaTrader5 as mt5\n",
    "import pandas as pd\n",
    "import datetime\n",
    "import torch\n",
    "import torch.nn as nn\n",
    "import numpy as np\n",
    "import time\n",
    "from sklearn.preprocessing import StandardScaler\n",
    "import matplotlib.pyplot as plt\n",
    "\n",
    "# Define the RNN model\n",
    "class BitcoinPriceLSTM(nn.Module):\n",
    "    def __init__(self, input_size, hidden_size, num_layers, output_size, dropout=0.5):\n",
    "        super(BitcoinPriceLSTM, self).__init__()\n",
    "        self.hidden_size = hidden_size\n",
    "        self.num_layers = num_layers\n",
    "        self.lstm = nn.LSTM(input_size, hidden_size, num_layers, batch_first=True, dropout=dropout)\n",
    "        self.fc1 = nn.Linear(hidden_size, 512)\n",
    "        self.fc2 = nn.Linear(512, 256)\n",
    "        self.fc3 = nn.Linear(256, output_size)\n",
    "        self.dropout = nn.Dropout(dropout)\n",
    "    \n",
    "    def forward(self, x):\n",
    "        h0 = torch.zeros(self.num_layers, x.size(0), self.hidden_size).to(device)\n",
    "        c0 = torch.zeros(self.num_layers, x.size(0), self.hidden_size).to(device)\n",
    "        out, _ = self.lstm(x, (h0, c0))\n",
    "        out = self.dropout(out[:, -1, :])\n",
    "        out = torch.relu(self.fc1(out))\n",
    "        out = self.dropout(out)\n",
    "        out = torch.relu(self.fc2(out))\n",
    "        out = self.fc3(out)\n",
    "        return out\n",
    "\n",
    "# Set device\n",
    "device = torch.device(\"cuda\" if torch.cuda.is_available() else \"cpu\")\n",
    "\n",
    "# Model parameters (ensure these match the training script)\n",
    "input_size = 10  # Adjusted to match the training script\n",
    "hidden_size = 2048  # Match with the training script\n",
    "num_layers = 8  # Match with the training script\n",
    "output_size = 2  # Binary classification (up or down)\n",
    "\n",
    "# Load the trained model\n",
    "model_path = \"C:/Users/gunne/Documents/PriceNeuralNetwork/Forex/forexmodel-1.pth\"\n",
    "model = BitcoinPriceLSTM(input_size, hidden_size, num_layers, output_size, dropout=0.5).to(device)\n",
    "model.load_state_dict(torch.load(model_path))\n",
    "model.eval()\n",
    "\n",
    "# Connect to MetaTrader 5\n",
    "if not mt5.initialize():\n",
    "    print(\"initialize() failed\")\n",
    "    mt5.shutdown()\n",
    "else:\n",
    "    print(\"MetaTrader 5 initialized successfully\")\n",
    "\n",
    "# Login to the demo account\n",
    "account = 51806647  # Ensure the account number is an integer\n",
    "password = \"lKDtOjEK6$rp@f\"\n",
    "server = \"ICMarketsSC-Demo\"\n",
    "\n",
    "# Debug print for login details\n",
    "print(f\"Attempting to login with Account: {account}, Password: {password}, Server: {server}\")\n",
    "\n",
    "authorized = mt5.login(login=account, password=password, server=server)\n",
    "if not authorized:\n",
    "    print(f\"Failed to connect to account #{account}, error code: {mt5.last_error()}\")\n",
    "else:\n",
    "    print(f\"Connected to account #{account}\")"
   ]
  },
  {
   "cell_type": "code",
   "execution_count": null,
   "id": "64237ff5-e161-450f-985d-51763de16636",
   "metadata": {},
   "outputs": [
    {
     "name": "stdout",
     "output_type": "stream",
     "text": [
      "Iteration at time 2024-05-30 09:41:36.699086, current price: 1.27042, positions: 0, capital: 100\n"
     ]
    },
    {
     "name": "stderr",
     "output_type": "stream",
     "text": [
      "C:\\Users\\gunne\\AppData\\Local\\Temp\\ipykernel_15304\\3256594789.py:191: FutureWarning: The behavior of DataFrame concatenation with empty or all-NA entries is deprecated. In a future version, this will no longer exclude empty or all-NA columns when determining the result dtypes. To retain the old behavior, exclude the relevant entries before the concat operation.\n",
      "  iteration_log_df = pd.concat([iteration_log_df, pd.DataFrame([iteration_log])], ignore_index=True)\n"
     ]
    },
    {
     "name": "stdout",
     "output_type": "stream",
     "text": [
      "Iteration at time 2024-05-30 09:42:37.039410, current price: 1.27041, positions: 0, capital: 100\n",
      "Iteration at time 2024-05-30 09:43:37.239626, current price: 1.27045, positions: 0, capital: 100\n",
      "Iteration at time 2024-05-30 09:44:37.550252, current price: 1.2705199999999999, positions: 0, capital: 100\n",
      "Iteration at time 2024-05-30 09:45:37.881479, current price: 1.27038, positions: 0, capital: 100\n",
      "Iteration at time 2024-05-30 09:46:38.200947, current price: 1.27062, positions: 0, capital: 100\n",
      "Iteration at time 2024-05-30 09:47:38.530989, current price: 1.2707899999999999, positions: 0, capital: 100\n",
      "Iteration at time 2024-05-30 09:48:38.864943, current price: 1.2708300000000001, positions: 0, capital: 100\n",
      "Iteration at time 2024-05-30 09:49:39.190458, current price: 1.27089, positions: 0, capital: 100\n",
      "Iteration at time 2024-05-30 09:50:39.523358, current price: 1.2708599999999999, positions: 0, capital: 100\n",
      "Iteration at time 2024-05-30 09:51:39.812840, current price: 1.27081, positions: 0, capital: 100\n",
      "Iteration at time 2024-05-30 09:52:40.114962, current price: 1.2707600000000001, positions: 0, capital: 100\n",
      "Iteration at time 2024-05-30 09:53:40.318653, current price: 1.27074, positions: 0, capital: 100\n",
      "Iteration at time 2024-05-30 09:54:40.630634, current price: 1.2708, positions: 0, capital: 100\n",
      "Iteration at time 2024-05-30 09:55:40.945331, current price: 1.27109, positions: 0, capital: 100\n",
      "Iteration at time 2024-05-30 09:56:41.234304, current price: 1.27122, positions: 0, capital: 100\n",
      "Iteration at time 2024-05-30 09:57:41.535906, current price: 1.27134, positions: 0, capital: 100\n",
      "Iteration at time 2024-05-30 09:58:41.740076, current price: 1.27135, positions: 0, capital: 100\n",
      "Iteration at time 2024-05-30 09:59:42.072400, current price: 1.2713, positions: 0, capital: 100\n",
      "Iteration at time 2024-05-30 10:00:42.388550, current price: 1.27134, positions: 0, capital: 100\n",
      "Iteration at time 2024-05-30 10:01:42.717437, current price: 1.27127, positions: 0, capital: 100\n",
      "Iteration at time 2024-05-30 10:02:43.015864, current price: 1.27127, positions: 0, capital: 100\n",
      "Iteration at time 2024-05-30 10:03:43.314292, current price: 1.27126, positions: 0, capital: 100\n",
      "Iteration at time 2024-05-30 10:04:43.508804, current price: 1.27123, positions: 0, capital: 100\n",
      "Iteration at time 2024-05-30 10:05:43.823896, current price: 1.27152, positions: 0, capital: 100\n"
     ]
    },
    {
     "name": "stderr",
     "output_type": "stream",
     "text": [
      "C:\\Users\\gunne\\AppData\\Local\\Temp\\ipykernel_15304\\3256594789.py:107: FutureWarning: The behavior of DataFrame concatenation with empty or all-NA entries is deprecated. In a future version, this will no longer exclude empty or all-NA columns when determining the result dtypes. To retain the old behavior, exclude the relevant entries before the concat operation.\n",
      "  trade_log_df = pd.concat([trade_log_df, pd.DataFrame([log_entry])], ignore_index=True)\n"
     ]
    },
    {
     "name": "stdout",
     "output_type": "stream",
     "text": [
      "Iteration at time 2024-05-30 10:06:44.144522, current price: 1.27164, positions: 15727.721682237108, capital: 100\n",
      "Iteration at time 2024-05-30 10:07:44.469025, current price: 1.27164, positions: 15727.721682237108, capital: 100\n"
     ]
    },
    {
     "name": "stderr",
     "output_type": "stream",
     "text": [
      "C:\\Users\\gunne\\AppData\\Local\\Temp\\ipykernel_15304\\3256594789.py:131: FutureWarning: The behavior of DataFrame concatenation with empty or all-NA entries is deprecated. In a future version, this will no longer exclude empty or all-NA columns when determining the result dtypes. To retain the old behavior, exclude the relevant entries before the concat operation.\n",
      "  trade_log_df = pd.concat([trade_log_df, pd.DataFrame([log_exit])], ignore_index=True)\n"
     ]
    },
    {
     "name": "stdout",
     "output_type": "stream",
     "text": [
      "Iteration at time 2024-05-30 10:08:44.801897, current price: 1.27185, positions: 0, capital: 103.30282155326698\n"
     ]
    },
    {
     "name": "stderr",
     "output_type": "stream",
     "text": [
      "C:\\Users\\gunne\\AppData\\Local\\Temp\\ipykernel_15304\\3256594789.py:107: FutureWarning: The behavior of DataFrame concatenation with empty or all-NA entries is deprecated. In a future version, this will no longer exclude empty or all-NA columns when determining the result dtypes. To retain the old behavior, exclude the relevant entries before the concat operation.\n",
      "  trade_log_df = pd.concat([trade_log_df, pd.DataFrame([log_entry])], ignore_index=True)\n"
     ]
    },
    {
     "name": "stdout",
     "output_type": "stream",
     "text": [
      "Iteration at time 2024-05-30 10:09:45.120857, current price: 1.27175, positions: 16245.774964146569, capital: 103.30282155326698\n",
      "Iteration at time 2024-05-30 10:10:45.410904, current price: 1.27152, positions: 0, capital: 102.88961026705391\n",
      "Iteration at time 2024-05-30 10:11:45.611538, current price: 1.27157, positions: 0, capital: 102.88961026705391\n",
      "Iteration at time 2024-05-30 10:12:45.920985, current price: 1.27139, positions: 0, capital: 102.88961026705391\n",
      "Iteration at time 2024-05-30 10:13:46.212851, current price: 1.27157, positions: 0, capital: 102.88961026705391\n",
      "Iteration at time 2024-05-30 10:14:46.516383, current price: 1.27156, positions: 0, capital: 102.88961026705391\n",
      "Iteration at time 2024-05-30 10:15:46.714851, current price: 1.27156, positions: 0, capital: 102.88961026705391\n",
      "Iteration at time 2024-05-30 10:16:47.028793, current price: 1.27155, positions: 0, capital: 102.88961026705391\n",
      "Iteration at time 2024-05-30 10:17:47.342244, current price: 1.27145, positions: 0, capital: 102.88961026705391\n",
      "Iteration at time 2024-05-30 10:18:47.631694, current price: 1.27161, positions: 0, capital: 102.88961026705391\n",
      "Iteration at time 2024-05-30 10:19:47.939444, current price: 1.27164, positions: 0, capital: 102.88961026705391\n",
      "Iteration at time 2024-05-30 10:20:48.146795, current price: 1.27146, positions: 0, capital: 102.88961026705391\n",
      "Iteration at time 2024-05-30 10:21:48.463094, current price: 1.27152, positions: 0, capital: 102.88961026705391\n",
      "Iteration at time 2024-05-30 10:22:48.756744, current price: 1.27157, positions: 0, capital: 102.88961026705391\n",
      "Iteration at time 2024-05-30 10:23:49.061532, current price: 1.27162, positions: 0, capital: 102.88961026705391\n",
      "Iteration at time 2024-05-30 10:24:49.277643, current price: 1.2716, positions: 0, capital: 102.88961026705391\n",
      "Iteration at time 2024-05-30 10:25:49.599428, current price: 1.27132, positions: 0, capital: 102.88961026705391\n",
      "Iteration at time 2024-05-30 10:26:49.913639, current price: 1.27134, positions: 0, capital: 102.88961026705391\n",
      "Iteration at time 2024-05-30 10:27:50.235591, current price: 1.27138, positions: 0, capital: 102.88961026705391\n",
      "Iteration at time 2024-05-30 10:28:50.565884, current price: 1.27125, positions: 0, capital: 102.88961026705391\n",
      "Iteration at time 2024-05-30 10:29:50.888017, current price: 1.27138, positions: 0, capital: 102.88961026705391\n",
      "Iteration at time 2024-05-30 10:30:51.217575, current price: 1.27139, positions: 0, capital: 102.88961026705391\n",
      "Iteration at time 2024-05-30 10:31:51.549254, current price: 1.27141, positions: 0, capital: 102.88961026705391\n",
      "Iteration at time 2024-05-30 10:32:51.875298, current price: 1.27121, positions: 0, capital: 102.88961026705391\n",
      "Iteration at time 2024-05-30 10:33:52.209518, current price: 1.27132, positions: 0, capital: 102.88961026705391\n",
      "Iteration at time 2024-05-30 10:34:52.537373, current price: 1.27135, positions: 0, capital: 102.88961026705391\n",
      "Iteration at time 2024-05-30 10:35:52.827320, current price: 1.27133, positions: 0, capital: 102.88961026705391\n",
      "Iteration at time 2024-05-30 10:36:53.026306, current price: 1.27109, positions: 0, capital: 102.88961026705391\n",
      "Iteration at time 2024-05-30 10:37:53.328126, current price: 1.27108, positions: 0, capital: 102.88961026705391\n",
      "Iteration at time 2024-05-30 10:38:53.645022, current price: 1.27106, positions: 0, capital: 102.88961026705391\n",
      "Iteration at time 2024-05-30 10:39:53.983921, current price: 1.27103, positions: 0, capital: 102.88961026705391\n",
      "Iteration at time 2024-05-30 10:40:54.303464, current price: 1.27097, positions: 0, capital: 102.88961026705391\n",
      "Iteration at time 2024-05-30 10:41:54.629625, current price: 1.27111, positions: 0, capital: 102.88961026705391\n",
      "Iteration at time 2024-05-30 10:42:54.962955, current price: 1.27118, positions: 0, capital: 102.88961026705391\n",
      "Iteration at time 2024-05-30 10:43:55.285226, current price: 1.2711999999999999, positions: 0, capital: 102.88961026705391\n",
      "Iteration at time 2024-05-30 10:44:55.628216, current price: 1.27127, positions: 0, capital: 102.88961026705391\n",
      "Iteration at time 2024-05-30 10:45:55.952822, current price: 1.27114, positions: 0, capital: 102.88961026705391\n",
      "Iteration at time 2024-05-30 10:46:56.245226, current price: 1.27106, positions: 0, capital: 102.88961026705391\n",
      "Iteration at time 2024-05-30 10:47:56.549818, current price: 1.27108, positions: 0, capital: 102.88961026705391\n",
      "Iteration at time 2024-05-30 10:48:56.756207, current price: 1.27119, positions: 0, capital: 102.88961026705391\n",
      "Iteration at time 2024-05-30 10:49:57.060012, current price: 1.27111, positions: 0, capital: 102.88961026705391\n",
      "Iteration at time 2024-05-30 10:50:57.348549, current price: 1.27106, positions: 0, capital: 102.88961026705391\n",
      "Iteration at time 2024-05-30 10:51:57.651776, current price: 1.27114, positions: 0, capital: 102.88961026705391\n",
      "Iteration at time 2024-05-30 10:52:57.852347, current price: 1.27135, positions: 0, capital: 102.88961026705391\n",
      "Iteration at time 2024-05-30 10:53:58.171481, current price: 1.27125, positions: 0, capital: 102.88961026705391\n",
      "Iteration at time 2024-05-30 10:54:58.489924, current price: 1.27131, positions: 0, capital: 102.88961026705391\n",
      "Iteration at time 2024-05-30 10:55:58.783136, current price: 1.27129, positions: 0, capital: 102.88961026705391\n",
      "Iteration at time 2024-05-30 10:56:58.982515, current price: 1.27132, positions: 0, capital: 102.88961026705391\n",
      "Iteration at time 2024-05-30 10:57:59.290268, current price: 1.27133, positions: 0, capital: 102.88961026705391\n",
      "Iteration at time 2024-05-30 10:58:59.621458, current price: 1.27115, positions: 0, capital: 102.88961026705391\n",
      "Iteration at time 2024-05-30 10:59:59.948235, current price: 1.2711700000000001, positions: 0, capital: 102.88961026705391\n"
     ]
    },
    {
     "name": "stderr",
     "output_type": "stream",
     "text": [
      "C:\\Users\\gunne\\AppData\\Local\\Temp\\ipykernel_15304\\3256594789.py:107: FutureWarning: The behavior of DataFrame concatenation with empty or all-NA entries is deprecated. In a future version, this will no longer exclude empty or all-NA columns when determining the result dtypes. To retain the old behavior, exclude the relevant entries before the concat operation.\n",
      "  trade_log_df = pd.concat([trade_log_df, pd.DataFrame([log_entry])], ignore_index=True)\n"
     ]
    },
    {
     "name": "stdout",
     "output_type": "stream",
     "text": [
      "Iteration at time 2024-05-30 11:01:00.263885, current price: 1.27122, positions: 16187.53799768001, capital: 102.88961026705391\n",
      "Iteration at time 2024-05-30 11:02:00.589885, current price: 1.2711299999999999, positions: 0, capital: 102.4780518259857\n",
      "Iteration at time 2024-05-30 11:03:00.918785, current price: 1.27105, positions: 0, capital: 102.4780518259857\n",
      "Iteration at time 2024-05-30 11:04:01.237287, current price: 1.27105, positions: 0, capital: 102.4780518259857\n",
      "Iteration at time 2024-05-30 11:05:01.565615, current price: 1.27095, positions: 0, capital: 102.4780518259857\n",
      "Iteration at time 2024-05-30 11:06:01.899515, current price: 1.27103, positions: 0, capital: 102.4780518259857\n",
      "Iteration at time 2024-05-30 11:07:02.225762, current price: 1.27096, positions: 0, capital: 102.4780518259857\n",
      "Iteration at time 2024-05-30 11:08:02.517119, current price: 1.2709, positions: 0, capital: 102.4780518259857\n",
      "Iteration at time 2024-05-30 11:09:02.824767, current price: 1.27073, positions: 0, capital: 102.4780518259857\n",
      "Iteration at time 2024-05-30 11:10:03.034297, current price: 1.2707600000000001, positions: 0, capital: 102.4780518259857\n",
      "Iteration at time 2024-05-30 11:11:03.351378, current price: 1.27072, positions: 0, capital: 102.4780518259857\n",
      "Iteration at time 2024-05-30 11:12:03.666945, current price: 1.27067, positions: 0, capital: 102.4780518259857\n",
      "Iteration at time 2024-05-30 11:13:03.994619, current price: 1.27065, positions: 0, capital: 102.4780518259857\n",
      "Iteration at time 2024-05-30 11:14:04.327801, current price: 1.27065, positions: 0, capital: 102.4780518259857\n",
      "Iteration at time 2024-05-30 11:15:04.644767, current price: 1.27054, positions: 0, capital: 102.4780518259857\n",
      "Iteration at time 2024-05-30 11:16:04.935500, current price: 1.2705, positions: 0, capital: 102.4780518259857\n",
      "Iteration at time 2024-05-30 11:17:05.238735, current price: 1.27039, positions: 0, capital: 102.4780518259857\n",
      "Iteration at time 2024-05-30 11:18:05.449579, current price: 1.27058, positions: 0, capital: 102.4780518259857\n",
      "Iteration at time 2024-05-30 11:19:05.770271, current price: 1.27065, positions: 0, capital: 102.4780518259857\n",
      "Iteration at time 2024-05-30 11:20:06.103577, current price: 1.27075, positions: 0, capital: 102.4780518259857\n",
      "Iteration at time 2024-05-30 11:21:06.430204, current price: 1.27068, positions: 0, capital: 102.4780518259857\n",
      "Iteration at time 2024-05-30 11:22:06.756871, current price: 1.27093, positions: 0, capital: 102.4780518259857\n",
      "Iteration at time 2024-05-30 11:23:07.082967, current price: 1.27096, positions: 0, capital: 102.4780518259857\n",
      "Iteration at time 2024-05-30 11:24:07.400254, current price: 1.2711299999999999, positions: 0, capital: 102.4780518259857\n",
      "Iteration at time 2024-05-30 11:25:07.733060, current price: 1.27105, positions: 0, capital: 102.4780518259857\n"
     ]
    },
    {
     "name": "stderr",
     "output_type": "stream",
     "text": [
      "C:\\Users\\gunne\\AppData\\Local\\Temp\\ipykernel_15304\\3256594789.py:107: FutureWarning: The behavior of DataFrame concatenation with empty or all-NA entries is deprecated. In a future version, this will no longer exclude empty or all-NA columns when determining the result dtypes. To retain the old behavior, exclude the relevant entries before the concat operation.\n",
      "  trade_log_df = pd.concat([trade_log_df, pd.DataFrame([log_entry])], ignore_index=True)\n"
     ]
    },
    {
     "name": "stdout",
     "output_type": "stream",
     "text": [
      "Iteration at time 2024-05-30 11:26:08.049277, current price: 1.27123, positions: 16122.661017437551, capital: 102.4780518259857\n",
      "Iteration at time 2024-05-30 11:27:08.376576, current price: 1.27135, positions: 0, capital: 104.41277114807656\n"
     ]
    },
    {
     "name": "stderr",
     "output_type": "stream",
     "text": [
      "C:\\Users\\gunne\\AppData\\Local\\Temp\\ipykernel_15304\\3256594789.py:107: FutureWarning: The behavior of DataFrame concatenation with empty or all-NA entries is deprecated. In a future version, this will no longer exclude empty or all-NA columns when determining the result dtypes. To retain the old behavior, exclude the relevant entries before the concat operation.\n",
      "  trade_log_df = pd.concat([trade_log_df, pd.DataFrame([log_entry])], ignore_index=True)\n"
     ]
    },
    {
     "name": "stdout",
     "output_type": "stream",
     "text": [
      "Iteration at time 2024-05-30 11:28:08.711828, current price: 1.27146, positions: 16424.074866386134, capital: 104.41277114807656\n",
      "Iteration at time 2024-05-30 11:29:09.033343, current price: 1.27149, positions: 16424.074866386134, capital: 104.41277114807656\n",
      "Iteration at time 2024-05-30 11:30:09.326842, current price: 1.27142, positions: 16424.074866386134, capital: 104.41277114807656\n",
      "Iteration at time 2024-05-30 11:31:09.530133, current price: 1.27156, positions: 0, capital: 106.05517863471499\n"
     ]
    },
    {
     "name": "stderr",
     "output_type": "stream",
     "text": [
      "C:\\Users\\gunne\\AppData\\Local\\Temp\\ipykernel_15304\\3256594789.py:107: FutureWarning: The behavior of DataFrame concatenation with empty or all-NA entries is deprecated. In a future version, this will no longer exclude empty or all-NA columns when determining the result dtypes. To retain the old behavior, exclude the relevant entries before the concat operation.\n",
      "  trade_log_df = pd.concat([trade_log_df, pd.DataFrame([log_entry])], ignore_index=True)\n"
     ]
    },
    {
     "name": "stdout",
     "output_type": "stream",
     "text": [
      "Iteration at time 2024-05-30 11:32:09.837745, current price: 1.2714699999999999, positions: 16682.293508256585, capital: 106.05517863471499\n",
      "Iteration at time 2024-05-30 11:33:10.155188, current price: 1.27148, positions: 16682.293508256585, capital: 106.05517863471499\n",
      "Iteration at time 2024-05-30 11:34:10.483926, current price: 1.27158, positions: 0, capital: 107.89023092062412\n"
     ]
    },
    {
     "name": "stderr",
     "output_type": "stream",
     "text": [
      "C:\\Users\\gunne\\AppData\\Local\\Temp\\ipykernel_15304\\3256594789.py:107: FutureWarning: The behavior of DataFrame concatenation with empty or all-NA entries is deprecated. In a future version, this will no longer exclude empty or all-NA columns when determining the result dtypes. To retain the old behavior, exclude the relevant entries before the concat operation.\n",
      "  trade_log_df = pd.concat([trade_log_df, pd.DataFrame([log_entry])], ignore_index=True)\n"
     ]
    },
    {
     "name": "stdout",
     "output_type": "stream",
     "text": [
      "Iteration at time 2024-05-30 11:35:10.801371, current price: 1.27163, positions: 16968.808681868803, capital: 107.89023092062412\n",
      "Iteration at time 2024-05-30 11:36:11.128157, current price: 1.27175, positions: 0, capital: 109.92648796244664\n"
     ]
    },
    {
     "name": "stderr",
     "output_type": "stream",
     "text": [
      "C:\\Users\\gunne\\AppData\\Local\\Temp\\ipykernel_15304\\3256594789.py:107: FutureWarning: The behavior of DataFrame concatenation with empty or all-NA entries is deprecated. In a future version, this will no longer exclude empty or all-NA columns when determining the result dtypes. To retain the old behavior, exclude the relevant entries before the concat operation.\n",
      "  trade_log_df = pd.concat([trade_log_df, pd.DataFrame([log_entry])], ignore_index=True)\n"
     ]
    },
    {
     "name": "stdout",
     "output_type": "stream",
     "text": [
      "Iteration at time 2024-05-30 11:37:11.456742, current price: 1.27188, positions: 17285.669711363753, capital: 109.92648796244664\n",
      "Iteration at time 2024-05-30 11:38:11.781025, current price: 1.27186, positions: 17285.669711363753, capital: 109.92648796244664\n",
      "Iteration at time 2024-05-30 11:39:12.073216, current price: 1.27196, positions: 0, capital: 111.30934153935712\n"
     ]
    },
    {
     "name": "stderr",
     "output_type": "stream",
     "text": [
      "C:\\Users\\gunne\\AppData\\Local\\Temp\\ipykernel_15304\\3256594789.py:107: FutureWarning: The behavior of DataFrame concatenation with empty or all-NA entries is deprecated. In a future version, this will no longer exclude empty or all-NA columns when determining the result dtypes. To retain the old behavior, exclude the relevant entries before the concat operation.\n",
      "  trade_log_df = pd.concat([trade_log_df, pd.DataFrame([log_entry])], ignore_index=True)\n"
     ]
    },
    {
     "name": "stdout",
     "output_type": "stream",
     "text": [
      "Iteration at time 2024-05-30 11:40:12.377127, current price: 1.27216, positions: 17499.267629756814, capital: 111.30934153935712\n",
      "Iteration at time 2024-05-30 11:41:12.587248, current price: 1.27209, positions: 0, capital: 110.86410417319969\n"
     ]
    },
    {
     "name": "stderr",
     "output_type": "stream",
     "text": [
      "C:\\Users\\gunne\\AppData\\Local\\Temp\\ipykernel_15304\\3256594789.py:107: FutureWarning: The behavior of DataFrame concatenation with empty or all-NA entries is deprecated. In a future version, this will no longer exclude empty or all-NA columns when determining the result dtypes. To retain the old behavior, exclude the relevant entries before the concat operation.\n",
      "  trade_log_df = pd.concat([trade_log_df, pd.DataFrame([log_entry])], ignore_index=True)\n"
     ]
    },
    {
     "name": "stdout",
     "output_type": "stream",
     "text": [
      "Iteration at time 2024-05-30 11:42:12.915249, current price: 1.27195, positions: 17432.148146263564, capital: 110.86410417319969\n",
      "Iteration at time 2024-05-30 11:43:13.239349, current price: 1.27197, positions: 17432.148146263564, capital: 110.86410417319969\n",
      "Iteration at time 2024-05-30 11:44:13.562964, current price: 1.27186, positions: 0, capital: 110.4206477565069\n"
     ]
    },
    {
     "name": "stderr",
     "output_type": "stream",
     "text": [
      "C:\\Users\\gunne\\AppData\\Local\\Temp\\ipykernel_15304\\3256594789.py:107: FutureWarning: The behavior of DataFrame concatenation with empty or all-NA entries is deprecated. In a future version, this will no longer exclude empty or all-NA columns when determining the result dtypes. To retain the old behavior, exclude the relevant entries before the concat operation.\n",
      "  trade_log_df = pd.concat([trade_log_df, pd.DataFrame([log_entry])], ignore_index=True)\n"
     ]
    },
    {
     "name": "stdout",
     "output_type": "stream",
     "text": [
      "Iteration at time 2024-05-30 11:45:13.892628, current price: 1.27193, positions: 17362.69256272073, capital: 110.4206477565069\n",
      "Iteration at time 2024-05-30 11:46:14.209938, current price: 1.27186, positions: 0, capital: 109.97896516548087\n"
     ]
    },
    {
     "name": "stderr",
     "output_type": "stream",
     "text": [
      "C:\\Users\\gunne\\AppData\\Local\\Temp\\ipykernel_15304\\3256594789.py:107: FutureWarning: The behavior of DataFrame concatenation with empty or all-NA entries is deprecated. In a future version, this will no longer exclude empty or all-NA columns when determining the result dtypes. To retain the old behavior, exclude the relevant entries before the concat operation.\n",
      "  trade_log_df = pd.concat([trade_log_df, pd.DataFrame([log_entry])], ignore_index=True)\n"
     ]
    },
    {
     "name": "stdout",
     "output_type": "stream",
     "text": [
      "Iteration at time 2024-05-30 11:47:14.536027, current price: 1.27176, positions: 17295.553432326993, capital: 109.97896516548087\n",
      "Iteration at time 2024-05-30 11:48:14.868700, current price: 1.27184, positions: 0, capital: 111.36260944006841\n"
     ]
    },
    {
     "name": "stderr",
     "output_type": "stream",
     "text": [
      "C:\\Users\\gunne\\AppData\\Local\\Temp\\ipykernel_15304\\3256594789.py:107: FutureWarning: The behavior of DataFrame concatenation with empty or all-NA entries is deprecated. In a future version, this will no longer exclude empty or all-NA columns when determining the result dtypes. To retain the old behavior, exclude the relevant entries before the concat operation.\n",
      "  trade_log_df = pd.concat([trade_log_df, pd.DataFrame([log_entry])], ignore_index=True)\n"
     ]
    },
    {
     "name": "stdout",
     "output_type": "stream",
     "text": [
      "Iteration at time 2024-05-30 11:49:15.183754, current price: 1.2717, positions: 17513.974906042054, capital: 111.36260944006841\n",
      "Iteration at time 2024-05-30 11:50:15.516201, current price: 1.27155, positions: 0, capital: 110.91715900230814\n",
      "Iteration at time 2024-05-30 11:51:15.848790, current price: 1.27146, positions: 0, capital: 110.91715900230814\n",
      "Iteration at time 2024-05-30 11:52:16.173724, current price: 1.27142, positions: 0, capital: 110.91715900230814\n",
      "Iteration at time 2024-05-30 11:53:16.466429, current price: 1.27134, positions: 0, capital: 110.91715900230814\n",
      "Iteration at time 2024-05-30 11:54:16.669587, current price: 1.27133, positions: 0, capital: 110.91715900230814\n",
      "Iteration at time 2024-05-30 11:55:16.965398, current price: 1.27131, positions: 0, capital: 110.91715900230814\n",
      "Iteration at time 2024-05-30 11:56:17.291409, current price: 1.27139, positions: 0, capital: 110.91715900230814\n",
      "Iteration at time 2024-05-30 11:57:17.607105, current price: 1.27145, positions: 0, capital: 110.91715900230814\n",
      "Iteration at time 2024-05-30 11:58:17.934383, current price: 1.27131, positions: 0, capital: 110.91715900230814\n",
      "Iteration at time 2024-05-30 11:59:18.268015, current price: 1.27131, positions: 0, capital: 110.91715900230814\n",
      "Iteration at time 2024-05-30 12:00:18.585856, current price: 1.27124, positions: 0, capital: 110.91715900230814\n",
      "Iteration at time 2024-05-30 12:01:18.911170, current price: 1.27104, positions: 0, capital: 110.91715900230814\n",
      "Iteration at time 2024-05-30 12:02:19.249832, current price: 1.27107, positions: 0, capital: 110.91715900230814\n",
      "Iteration at time 2024-05-30 12:03:19.574007, current price: 1.27112, positions: 0, capital: 110.91715900230814\n",
      "Iteration at time 2024-05-30 12:04:19.863231, current price: 1.27112, positions: 0, capital: 110.91715900230814\n",
      "Iteration at time 2024-05-30 12:05:20.064577, current price: 1.27112, positions: 0, capital: 110.91715900230814\n",
      "Iteration at time 2024-05-30 12:06:20.362562, current price: 1.27125, positions: 0, capital: 110.91715900230814\n",
      "Iteration at time 2024-05-30 12:07:20.684198, current price: 1.27125, positions: 0, capital: 110.91715900230814\n",
      "Iteration at time 2024-05-30 12:08:21.011786, current price: 1.27125, positions: 0, capital: 110.91715900230814\n",
      "Iteration at time 2024-05-30 12:09:21.331240, current price: 1.27125, positions: 0, capital: 110.91715900230814\n",
      "Iteration at time 2024-05-30 12:10:21.658629, current price: 1.27114, positions: 0, capital: 110.91715900230814\n",
      "Iteration at time 2024-05-30 12:11:21.987595, current price: 1.27133, positions: 0, capital: 110.91715900230814\n",
      "Iteration at time 2024-05-30 12:12:22.277726, current price: 1.27141, positions: 0, capital: 110.91715900230814\n",
      "Iteration at time 2024-05-30 12:13:22.579739, current price: 1.27146, positions: 0, capital: 110.91715900230814\n",
      "Iteration at time 2024-05-30 12:14:22.788026, current price: 1.27135, positions: 0, capital: 110.91715900230814\n",
      "Iteration at time 2024-05-30 12:15:23.111894, current price: 1.2714699999999999, positions: 0, capital: 110.91715900230814\n"
     ]
    },
    {
     "name": "stderr",
     "output_type": "stream",
     "text": [
      "C:\\Users\\gunne\\AppData\\Local\\Temp\\ipykernel_15304\\3256594789.py:107: FutureWarning: The behavior of DataFrame concatenation with empty or all-NA entries is deprecated. In a future version, this will no longer exclude empty or all-NA columns when determining the result dtypes. To retain the old behavior, exclude the relevant entries before the concat operation.\n",
      "  trade_log_df = pd.concat([trade_log_df, pd.DataFrame([log_entry])], ignore_index=True)\n"
     ]
    },
    {
     "name": "stdout",
     "output_type": "stream",
     "text": [
      "Iteration at time 2024-05-30 12:16:23.406667, current price: 1.27151, positions: 17446.52562737346, capital: 110.91715900230814\n",
      "Iteration at time 2024-05-30 12:17:23.709476, current price: 1.27162, positions: 0, capital: 112.83627682132017\n"
     ]
    },
    {
     "name": "stderr",
     "output_type": "stream",
     "text": [
      "C:\\Users\\gunne\\AppData\\Local\\Temp\\ipykernel_15304\\3256594789.py:107: FutureWarning: The behavior of DataFrame concatenation with empty or all-NA entries is deprecated. In a future version, this will no longer exclude empty or all-NA columns when determining the result dtypes. To retain the old behavior, exclude the relevant entries before the concat operation.\n",
      "  trade_log_df = pd.concat([trade_log_df, pd.DataFrame([log_entry])], ignore_index=True)\n"
     ]
    },
    {
     "name": "stdout",
     "output_type": "stream",
     "text": [
      "Iteration at time 2024-05-30 12:18:23.906879, current price: 1.27163, positions: 17746.715132754052, capital: 112.83627682132017\n",
      "Iteration at time 2024-05-30 12:19:24.222687, current price: 1.27141, positions: 0, capital: 112.38493171403489\n",
      "Iteration at time 2024-05-30 12:20:24.538350, current price: 1.2714400000000001, positions: 0, capital: 112.38493171403489\n",
      "Iteration at time 2024-05-30 12:21:24.867854, current price: 1.2714400000000001, positions: 0, capital: 112.38493171403489\n",
      "Iteration at time 2024-05-30 12:22:25.201111, current price: 1.27145, positions: 0, capital: 112.38493171403489\n",
      "Iteration at time 2024-05-30 12:23:25.523723, current price: 1.27151, positions: 0, capital: 112.38493171403489\n"
     ]
    },
    {
     "name": "stderr",
     "output_type": "stream",
     "text": [
      "C:\\Users\\gunne\\AppData\\Local\\Temp\\ipykernel_15304\\3256594789.py:107: FutureWarning: The behavior of DataFrame concatenation with empty or all-NA entries is deprecated. In a future version, this will no longer exclude empty or all-NA columns when determining the result dtypes. To retain the old behavior, exclude the relevant entries before the concat operation.\n",
      "  trade_log_df = pd.concat([trade_log_df, pd.DataFrame([log_entry])], ignore_index=True)\n"
     ]
    },
    {
     "name": "stdout",
     "output_type": "stream",
     "text": [
      "Iteration at time 2024-05-30 12:24:25.817585, current price: 1.27156, positions: 17676.701329710733, capital: 112.38493171403489\n",
      "Iteration at time 2024-05-30 12:25:26.119845, current price: 1.27155, positions: 17676.701329710733, capital: 112.38493171403489\n",
      "Iteration at time 2024-05-30 12:26:26.332347, current price: 1.27152, positions: 17676.701329710733, capital: 112.38493171403489\n",
      "Iteration at time 2024-05-30 12:27:26.661239, current price: 1.27164, positions: 0, capital: 113.79906782041317\n"
     ]
    },
    {
     "name": "stderr",
     "output_type": "stream",
     "text": [
      "C:\\Users\\gunne\\AppData\\Local\\Temp\\ipykernel_15304\\3256594789.py:107: FutureWarning: The behavior of DataFrame concatenation with empty or all-NA entries is deprecated. In a future version, this will no longer exclude empty or all-NA columns when determining the result dtypes. To retain the old behavior, exclude the relevant entries before the concat operation.\n",
      "  trade_log_df = pd.concat([trade_log_df, pd.DataFrame([log_entry])], ignore_index=True)\n"
     ]
    },
    {
     "name": "stdout",
     "output_type": "stream",
     "text": [
      "Iteration at time 2024-05-30 12:28:26.986265, current price: 1.27177, positions: 17896.17113478273, capital: 113.79906782041317\n",
      "Iteration at time 2024-05-30 12:29:27.306065, current price: 1.27176, positions: 17896.17113478273, capital: 113.79906782041317\n",
      "Iteration at time 2024-05-30 12:30:27.649608, current price: 1.27175, positions: 17896.17113478273, capital: 113.79906782041317\n",
      "Iteration at time 2024-05-30 12:31:27.957351, current price: 1.27175, positions: 17896.17113478273, capital: 113.79906782041317\n",
      "Iteration at time 2024-05-30 12:32:28.246472, current price: 1.27185, positions: 0, capital: 115.23076151119325\n"
     ]
    },
    {
     "name": "stderr",
     "output_type": "stream",
     "text": [
      "C:\\Users\\gunne\\AppData\\Local\\Temp\\ipykernel_15304\\3256594789.py:107: FutureWarning: The behavior of DataFrame concatenation with empty or all-NA entries is deprecated. In a future version, this will no longer exclude empty or all-NA columns when determining the result dtypes. To retain the old behavior, exclude the relevant entries before the concat operation.\n",
      "  trade_log_df = pd.concat([trade_log_df, pd.DataFrame([log_entry])], ignore_index=True)\n"
     ]
    },
    {
     "name": "stdout",
     "output_type": "stream",
     "text": [
      "Iteration at time 2024-05-30 12:33:28.551503, current price: 1.27165, positions: 18123.0309458095, capital: 115.23076151119325\n",
      "Iteration at time 2024-05-30 12:34:28.755375, current price: 1.27157, positions: 0, capital: 114.76983846514848\n",
      "Iteration at time 2024-05-30 12:35:29.070358, current price: 1.2714699999999999, positions: 0, capital: 114.76983846514848\n",
      "Iteration at time 2024-05-30 12:36:29.364813, current price: 1.27156, positions: 0, capital: 114.76983846514848\n",
      "Iteration at time 2024-05-30 12:37:29.672607, current price: 1.27156, positions: 0, capital: 114.76983846514848\n",
      "Iteration at time 2024-05-30 12:38:29.883432, current price: 1.2713700000000001, positions: 0, capital: 114.76983846514848\n",
      "Iteration at time 2024-05-30 12:39:30.202657, current price: 1.27145, positions: 0, capital: 114.76983846514848\n",
      "Iteration at time 2024-05-30 12:40:30.521764, current price: 1.27156, positions: 0, capital: 114.76983846514848\n"
     ]
    },
    {
     "name": "stderr",
     "output_type": "stream",
     "text": [
      "C:\\Users\\gunne\\AppData\\Local\\Temp\\ipykernel_15304\\3256594789.py:107: FutureWarning: The behavior of DataFrame concatenation with empty or all-NA entries is deprecated. In a future version, this will no longer exclude empty or all-NA columns when determining the result dtypes. To retain the old behavior, exclude the relevant entries before the concat operation.\n",
      "  trade_log_df = pd.concat([trade_log_df, pd.DataFrame([log_entry])], ignore_index=True)\n"
     ]
    },
    {
     "name": "stdout",
     "output_type": "stream",
     "text": [
      "Iteration at time 2024-05-30 12:41:30.847849, current price: 1.27164, positions: 18050.680768951665, capital: 114.76983846514848\n",
      "Iteration at time 2024-05-30 12:42:31.178012, current price: 1.2715, positions: 0, capital: 114.3107591112879\n",
      "Iteration at time 2024-05-30 12:43:31.495631, current price: 1.27155, positions: 0, capital: 114.3107591112879\n",
      "Iteration at time 2024-05-30 12:44:31.785843, current price: 1.27154, positions: 0, capital: 114.3107591112879\n",
      "Iteration at time 2024-05-30 12:45:32.090062, current price: 1.27155, positions: 0, capital: 114.3107591112879\n",
      "Iteration at time 2024-05-30 12:46:32.291658, current price: 1.27135, positions: 0, capital: 114.3107591112879\n",
      "Iteration at time 2024-05-30 12:47:32.615245, current price: 1.27134, positions: 0, capital: 114.3107591112879\n",
      "Iteration at time 2024-05-30 12:48:32.945420, current price: 1.27132, positions: 0, capital: 114.3107591112879\n",
      "Iteration at time 2024-05-30 12:49:33.277507, current price: 1.27142, positions: 0, capital: 114.3107591112879\n",
      "Iteration at time 2024-05-30 12:50:33.609487, current price: 1.27135, positions: 0, capital: 114.3107591112879\n",
      "Iteration at time 2024-05-30 12:51:33.923946, current price: 1.27125, positions: 0, capital: 114.3107591112879\n",
      "Iteration at time 2024-05-30 12:52:34.248511, current price: 1.27121, positions: 0, capital: 114.3107591112879\n",
      "Iteration at time 2024-05-30 12:53:34.582097, current price: 1.27125, positions: 0, capital: 114.3107591112879\n",
      "Iteration at time 2024-05-30 12:54:34.900151, current price: 1.2711299999999999, positions: 0, capital: 114.3107591112879\n",
      "Iteration at time 2024-05-30 12:55:35.229560, current price: 1.27101, positions: 0, capital: 114.3107591112879\n",
      "Iteration at time 2024-05-30 12:56:35.563929, current price: 1.27102, positions: 0, capital: 114.3107591112879\n",
      "Iteration at time 2024-05-30 12:57:35.884030, current price: 1.27095, positions: 0, capital: 114.3107591112879\n",
      "Iteration at time 2024-05-30 12:58:36.218691, current price: 1.27111, positions: 0, capital: 114.3107591112879\n",
      "Iteration at time 2024-05-30 12:59:36.552291, current price: 1.27102, positions: 0, capital: 114.3107591112879\n"
     ]
    },
    {
     "name": "stderr",
     "output_type": "stream",
     "text": [
      "C:\\Users\\gunne\\AppData\\Local\\Temp\\ipykernel_15304\\3256594789.py:107: FutureWarning: The behavior of DataFrame concatenation with empty or all-NA entries is deprecated. In a future version, this will no longer exclude empty or all-NA columns when determining the result dtypes. To retain the old behavior, exclude the relevant entries before the concat operation.\n",
      "  trade_log_df = pd.concat([trade_log_df, pd.DataFrame([log_entry])], ignore_index=True)\n"
     ]
    },
    {
     "name": "stdout",
     "output_type": "stream",
     "text": [
      "Iteration at time 2024-05-30 13:00:36.880854, current price: 1.27101, positions: 17987.38941649364, capital: 114.3107591112879\n",
      "Iteration at time 2024-05-30 13:01:37.212955, current price: 1.27095, positions: 0, capital: 113.85351607484274\n"
     ]
    },
    {
     "name": "stderr",
     "output_type": "stream",
     "text": [
      "C:\\Users\\gunne\\AppData\\Local\\Temp\\ipykernel_15304\\3256594789.py:107: FutureWarning: The behavior of DataFrame concatenation with empty or all-NA entries is deprecated. In a future version, this will no longer exclude empty or all-NA columns when determining the result dtypes. To retain the old behavior, exclude the relevant entries before the concat operation.\n",
      "  trade_log_df = pd.concat([trade_log_df, pd.DataFrame([log_entry])], ignore_index=True)\n"
     ]
    },
    {
     "name": "stdout",
     "output_type": "stream",
     "text": [
      "Iteration at time 2024-05-30 13:02:37.534996, current price: 1.27114, positions: 17913.60763957436, capital: 113.85351607484274\n",
      "Iteration at time 2024-05-30 13:03:37.853516, current price: 1.2711299999999999, positions: 17913.60763957436, capital: 113.85351607484274\n",
      "Iteration at time 2024-05-30 13:04:38.181478, current price: 1.2711700000000001, positions: 17913.60763957436, capital: 113.85351607484274\n",
      "Iteration at time 2024-05-30 13:05:38.503068, current price: 1.27111, positions: 17913.60763957436, capital: 113.85351607484274\n",
      "Iteration at time 2024-05-30 13:06:38.833291, current price: 1.27104, positions: 0, capital: 113.39810201054337\n"
     ]
    },
    {
     "name": "stderr",
     "output_type": "stream",
     "text": [
      "C:\\Users\\gunne\\AppData\\Local\\Temp\\ipykernel_15304\\3256594789.py:107: FutureWarning: The behavior of DataFrame concatenation with empty or all-NA entries is deprecated. In a future version, this will no longer exclude empty or all-NA columns when determining the result dtypes. To retain the old behavior, exclude the relevant entries before the concat operation.\n",
      "  trade_log_df = pd.concat([trade_log_df, pd.DataFrame([log_entry])], ignore_index=True)\n"
     ]
    },
    {
     "name": "stdout",
     "output_type": "stream",
     "text": [
      "Iteration at time 2024-05-30 13:07:39.163932, current price: 1.27087, positions: 17845.743783477992, capital: 113.39810201054337\n",
      "Iteration at time 2024-05-30 13:08:39.489477, current price: 1.27084, positions: 17845.743783477992, capital: 113.39810201054337\n",
      "Iteration at time 2024-05-30 13:09:39.779226, current price: 1.27082, positions: 17845.743783477992, capital: 113.39810201054337\n",
      "Iteration at time 2024-05-30 13:10:40.085503, current price: 1.27085, positions: 17845.743783477992, capital: 113.39810201054337\n",
      "Iteration at time 2024-05-30 13:11:40.298205, current price: 1.27065, positions: 0, capital: 112.9445096025012\n",
      "Iteration at time 2024-05-30 13:12:40.616666, current price: 1.27065, positions: 0, capital: 112.9445096025012\n",
      "Iteration at time 2024-05-30 13:13:40.942732, current price: 1.27062, positions: 0, capital: 112.9445096025012\n",
      "Iteration at time 2024-05-30 13:14:41.257065, current price: 1.27063, positions: 0, capital: 112.9445096025012\n",
      "Iteration at time 2024-05-30 13:15:41.581631, current price: 1.27064, positions: 0, capital: 112.9445096025012\n",
      "Iteration at time 2024-05-30 13:16:41.909209, current price: 1.27064, positions: 0, capital: 112.9445096025012\n",
      "Iteration at time 2024-05-30 13:17:42.227498, current price: 1.27067, positions: 0, capital: 112.9445096025012\n"
     ]
    },
    {
     "name": "stderr",
     "output_type": "stream",
     "text": [
      "C:\\Users\\gunne\\AppData\\Local\\Temp\\ipykernel_15304\\3256594789.py:107: FutureWarning: The behavior of DataFrame concatenation with empty or all-NA entries is deprecated. In a future version, this will no longer exclude empty or all-NA columns when determining the result dtypes. To retain the old behavior, exclude the relevant entries before the concat operation.\n",
      "  trade_log_df = pd.concat([trade_log_df, pd.DataFrame([log_entry])], ignore_index=True)\n"
     ]
    },
    {
     "name": "stdout",
     "output_type": "stream",
     "text": [
      "Iteration at time 2024-05-30 13:18:42.561692, current price: 1.2707600000000001, positions: 17775.899399178634, capital: 112.9445096025012\n",
      "Iteration at time 2024-05-30 13:19:42.888334, current price: 1.27077, positions: 17775.899399178634, capital: 112.9445096025012\n",
      "Iteration at time 2024-05-30 13:20:43.182607, current price: 1.27073, positions: 17775.899399178634, capital: 112.9445096025012\n",
      "Iteration at time 2024-05-30 13:21:43.490490, current price: 1.2709, positions: 0, capital: 115.43313551838277\n"
     ]
    },
    {
     "name": "stderr",
     "output_type": "stream",
     "text": [
      "C:\\Users\\gunne\\AppData\\Local\\Temp\\ipykernel_15304\\3256594789.py:107: FutureWarning: The behavior of DataFrame concatenation with empty or all-NA entries is deprecated. In a future version, this will no longer exclude empty or all-NA columns when determining the result dtypes. To retain the old behavior, exclude the relevant entries before the concat operation.\n",
      "  trade_log_df = pd.concat([trade_log_df, pd.DataFrame([log_entry])], ignore_index=True)\n"
     ]
    },
    {
     "name": "stdout",
     "output_type": "stream",
     "text": [
      "Iteration at time 2024-05-30 13:22:43.703795, current price: 1.27093, positions: 18165.144503376705, capital: 115.43313551838277\n",
      "Iteration at time 2024-05-30 13:23:44.019878, current price: 1.27093, positions: 18165.144503376705, capital: 115.43313551838277\n",
      "Iteration at time 2024-05-30 13:24:44.349679, current price: 1.27085, positions: 0, capital: 114.97140297630924\n"
     ]
    },
    {
     "name": "stderr",
     "output_type": "stream",
     "text": [
      "C:\\Users\\gunne\\AppData\\Local\\Temp\\ipykernel_15304\\3256594789.py:107: FutureWarning: The behavior of DataFrame concatenation with empty or all-NA entries is deprecated. In a future version, this will no longer exclude empty or all-NA columns when determining the result dtypes. To retain the old behavior, exclude the relevant entries before the concat operation.\n",
      "  trade_log_df = pd.concat([trade_log_df, pd.DataFrame([log_entry])], ignore_index=True)\n"
     ]
    },
    {
     "name": "stdout",
     "output_type": "stream",
     "text": [
      "Iteration at time 2024-05-30 13:25:44.668248, current price: 1.27096, positions: 18092.05686666917, capital: 114.97140297630924\n",
      "Iteration at time 2024-05-30 13:26:44.992479, current price: 1.2709, positions: 0, capital: 114.511517364404\n"
     ]
    },
    {
     "name": "stderr",
     "output_type": "stream",
     "text": [
      "C:\\Users\\gunne\\AppData\\Local\\Temp\\ipykernel_15304\\3256594789.py:107: FutureWarning: The behavior of DataFrame concatenation with empty or all-NA entries is deprecated. In a future version, this will no longer exclude empty or all-NA columns when determining the result dtypes. To retain the old behavior, exclude the relevant entries before the concat operation.\n",
      "  trade_log_df = pd.concat([trade_log_df, pd.DataFrame([log_entry])], ignore_index=True)\n"
     ]
    },
    {
     "name": "stdout",
     "output_type": "stream",
     "text": [
      "Iteration at time 2024-05-30 13:27:45.326994, current price: 1.27087, positions: 18020.964750824867, capital: 114.511517364404\n",
      "Iteration at time 2024-05-30 13:28:45.644142, current price: 1.27082, positions: 18020.964750824867, capital: 114.511517364404\n",
      "Iteration at time 2024-05-30 13:29:45.975019, current price: 1.2708, positions: 0, capital: 114.05347129494639\n"
     ]
    },
    {
     "name": "stderr",
     "output_type": "stream",
     "text": [
      "C:\\Users\\gunne\\AppData\\Local\\Temp\\ipykernel_15304\\3256594789.py:107: FutureWarning: The behavior of DataFrame concatenation with empty or all-NA entries is deprecated. In a future version, this will no longer exclude empty or all-NA columns when determining the result dtypes. To retain the old behavior, exclude the relevant entries before the concat operation.\n",
      "  trade_log_df = pd.concat([trade_log_df, pd.DataFrame([log_entry])], ignore_index=True)\n"
     ]
    },
    {
     "name": "stdout",
     "output_type": "stream",
     "text": [
      "Iteration at time 2024-05-30 13:30:46.304398, current price: 1.27141, positions: 17941.25754791081, capital: 114.05347129494639\n",
      "Iteration at time 2024-05-30 13:31:46.632752, current price: 1.27146, positions: 17941.25754791081, capital: 114.05347129494639\n",
      "Iteration at time 2024-05-30 13:32:46.928259, current price: 1.27196, positions: 0, capital: 123.92116294629824\n"
     ]
    },
    {
     "name": "stderr",
     "output_type": "stream",
     "text": [
      "C:\\Users\\gunne\\AppData\\Local\\Temp\\ipykernel_15304\\3256594789.py:107: FutureWarning: The behavior of DataFrame concatenation with empty or all-NA entries is deprecated. In a future version, this will no longer exclude empty or all-NA columns when determining the result dtypes. To retain the old behavior, exclude the relevant entries before the concat operation.\n",
      "  trade_log_df = pd.concat([trade_log_df, pd.DataFrame([log_entry])], ignore_index=True)\n"
     ]
    },
    {
     "name": "stdout",
     "output_type": "stream",
     "text": [
      "Iteration at time 2024-05-30 13:33:47.126467, current price: 1.27203, positions: 19484.000054448126, capital: 123.92116294629824\n",
      "Iteration at time 2024-05-30 13:34:47.436780, current price: 1.27236, positions: 0, capital: 130.35088296426497\n"
     ]
    },
    {
     "name": "stderr",
     "output_type": "stream",
     "text": [
      "C:\\Users\\gunne\\AppData\\Local\\Temp\\ipykernel_15304\\3256594789.py:107: FutureWarning: The behavior of DataFrame concatenation with empty or all-NA entries is deprecated. In a future version, this will no longer exclude empty or all-NA columns when determining the result dtypes. To retain the old behavior, exclude the relevant entries before the concat operation.\n",
      "  trade_log_df = pd.concat([trade_log_df, pd.DataFrame([log_entry])], ignore_index=True)\n"
     ]
    },
    {
     "name": "stdout",
     "output_type": "stream",
     "text": [
      "Iteration at time 2024-05-30 13:35:47.755999, current price: 1.2723499999999999, positions: 20489.78393748025, capital: 130.35088296426497\n",
      "Iteration at time 2024-05-30 13:36:48.080581, current price: 1.27245, positions: 0, capital: 132.39986135801732\n"
     ]
    },
    {
     "name": "stderr",
     "output_type": "stream",
     "text": [
      "C:\\Users\\gunne\\AppData\\Local\\Temp\\ipykernel_15304\\3256594789.py:107: FutureWarning: The behavior of DataFrame concatenation with empty or all-NA entries is deprecated. In a future version, this will no longer exclude empty or all-NA columns when determining the result dtypes. To retain the old behavior, exclude the relevant entries before the concat operation.\n",
      "  trade_log_df = pd.concat([trade_log_df, pd.DataFrame([log_entry])], ignore_index=True)\n"
     ]
    },
    {
     "name": "stdout",
     "output_type": "stream",
     "text": [
      "Iteration at time 2024-05-30 13:37:48.404821, current price: 1.27246, positions: 20810.062612265585, capital: 132.39986135801732\n",
      "Iteration at time 2024-05-30 13:38:48.736263, current price: 1.27234, positions: 0, capital: 131.87026191258525\n"
     ]
    },
    {
     "name": "stderr",
     "output_type": "stream",
     "text": [
      "C:\\Users\\gunne\\AppData\\Local\\Temp\\ipykernel_15304\\3256594789.py:107: FutureWarning: The behavior of DataFrame concatenation with empty or all-NA entries is deprecated. In a future version, this will no longer exclude empty or all-NA columns when determining the result dtypes. To retain the old behavior, exclude the relevant entries before the concat operation.\n",
      "  trade_log_df = pd.concat([trade_log_df, pd.DataFrame([log_entry])], ignore_index=True)\n"
     ]
    },
    {
     "name": "stdout",
     "output_type": "stream",
     "text": [
      "Iteration at time 2024-05-30 13:39:49.053385, current price: 1.27217, positions: 20731.54718513803, capital: 131.87026191258525\n",
      "Iteration at time 2024-05-30 13:40:49.381311, current price: 1.2723499999999999, positions: 0, capital: 135.60194040590693\n"
     ]
    },
    {
     "name": "stderr",
     "output_type": "stream",
     "text": [
      "C:\\Users\\gunne\\AppData\\Local\\Temp\\ipykernel_15304\\3256594789.py:107: FutureWarning: The behavior of DataFrame concatenation with empty or all-NA entries is deprecated. In a future version, this will no longer exclude empty or all-NA columns when determining the result dtypes. To retain the old behavior, exclude the relevant entries before the concat operation.\n",
      "  trade_log_df = pd.concat([trade_log_df, pd.DataFrame([log_entry])], ignore_index=True)\n"
     ]
    },
    {
     "name": "stdout",
     "output_type": "stream",
     "text": [
      "Iteration at time 2024-05-30 13:41:49.716764, current price: 1.27215, positions: 21318.545832788106, capital: 135.60194040590693\n",
      "Iteration at time 2024-05-30 13:42:50.041520, current price: 1.2720500000000001, positions: 0, capital: 135.0595326442833\n"
     ]
    },
    {
     "name": "stderr",
     "output_type": "stream",
     "text": [
      "C:\\Users\\gunne\\AppData\\Local\\Temp\\ipykernel_15304\\3256594789.py:107: FutureWarning: The behavior of DataFrame concatenation with empty or all-NA entries is deprecated. In a future version, this will no longer exclude empty or all-NA columns when determining the result dtypes. To retain the old behavior, exclude the relevant entries before the concat operation.\n",
      "  trade_log_df = pd.concat([trade_log_df, pd.DataFrame([log_entry])], ignore_index=True)\n"
     ]
    },
    {
     "name": "stdout",
     "output_type": "stream",
     "text": [
      "Iteration at time 2024-05-30 13:43:50.335341, current price: 1.2720799999999999, positions: 21234.44007362482, capital: 135.0595326442833\n",
      "Iteration at time 2024-05-30 13:44:50.644494, current price: 1.27215, positions: 0, capital: 136.54594344943735\n"
     ]
    },
    {
     "name": "stderr",
     "output_type": "stream",
     "text": [
      "C:\\Users\\gunne\\AppData\\Local\\Temp\\ipykernel_15304\\3256594789.py:107: FutureWarning: The behavior of DataFrame concatenation with empty or all-NA entries is deprecated. In a future version, this will no longer exclude empty or all-NA columns when determining the result dtypes. To retain the old behavior, exclude the relevant entries before the concat operation.\n",
      "  trade_log_df = pd.concat([trade_log_df, pd.DataFrame([log_entry])], ignore_index=True)\n"
     ]
    },
    {
     "name": "stdout",
     "output_type": "stream",
     "text": [
      "Iteration at time 2024-05-30 13:45:50.854965, current price: 1.27241, positions: 21462.56999700369, capital: 136.54594344943735\n",
      "Iteration at time 2024-05-30 13:46:51.165023, current price: 1.2723900000000001, positions: 21462.56999700369, capital: 136.54594344943735\n",
      "Iteration at time 2024-05-30 13:47:51.488019, current price: 1.27213, positions: 0, capital: 135.9997596756396\n"
     ]
    },
    {
     "name": "stderr",
     "output_type": "stream",
     "text": [
      "C:\\Users\\gunne\\AppData\\Local\\Temp\\ipykernel_15304\\3256594789.py:107: FutureWarning: The behavior of DataFrame concatenation with empty or all-NA entries is deprecated. In a future version, this will no longer exclude empty or all-NA columns when determining the result dtypes. To retain the old behavior, exclude the relevant entries before the concat operation.\n",
      "  trade_log_df = pd.concat([trade_log_df, pd.DataFrame([log_entry])], ignore_index=True)\n"
     ]
    },
    {
     "name": "stdout",
     "output_type": "stream",
     "text": [
      "Iteration at time 2024-05-30 13:48:51.808363, current price: 1.2723499999999999, positions: 21377.727775476815, capital: 135.9997596756396\n",
      "Iteration at time 2024-05-30 13:49:52.130173, current price: 1.27234, positions: 21377.727775476815, capital: 135.9997596756396\n",
      "Iteration at time 2024-05-30 13:50:52.464365, current price: 1.2723200000000001, positions: 21377.727775476815, capital: 135.9997596756396\n",
      "Iteration at time 2024-05-30 13:51:52.782282, current price: 1.2723499999999999, positions: 21377.727775476815, capital: 135.9997596756396\n",
      "Iteration at time 2024-05-30 13:52:53.126314, current price: 1.27224, positions: 0, capital: 135.45576063693704\n"
     ]
    },
    {
     "name": "stderr",
     "output_type": "stream",
     "text": [
      "C:\\Users\\gunne\\AppData\\Local\\Temp\\ipykernel_15304\\3256594789.py:107: FutureWarning: The behavior of DataFrame concatenation with empty or all-NA entries is deprecated. In a future version, this will no longer exclude empty or all-NA columns when determining the result dtypes. To retain the old behavior, exclude the relevant entries before the concat operation.\n",
      "  trade_log_df = pd.concat([trade_log_df, pd.DataFrame([log_entry])], ignore_index=True)\n"
     ]
    },
    {
     "name": "stdout",
     "output_type": "stream",
     "text": [
      "Iteration at time 2024-05-30 13:53:53.442018, current price: 1.27225, positions: 21293.8904518667, capital: 135.45576063693704\n",
      "Iteration at time 2024-05-30 13:54:53.734078, current price: 1.2724, positions: 0, capital: 138.64984420471433\n"
     ]
    },
    {
     "name": "stderr",
     "output_type": "stream",
     "text": [
      "C:\\Users\\gunne\\AppData\\Local\\Temp\\ipykernel_15304\\3256594789.py:107: FutureWarning: The behavior of DataFrame concatenation with empty or all-NA entries is deprecated. In a future version, this will no longer exclude empty or all-NA columns when determining the result dtypes. To retain the old behavior, exclude the relevant entries before the concat operation.\n",
      "  trade_log_df = pd.concat([trade_log_df, pd.DataFrame([log_entry])], ignore_index=True)\n"
     ]
    },
    {
     "name": "stdout",
     "output_type": "stream",
     "text": [
      "Iteration at time 2024-05-30 13:55:53.935439, current price: 1.27255, positions: 21790.867817329665, capital: 138.64984420471433\n",
      "Iteration at time 2024-05-30 13:56:54.249204, current price: 1.2727, positions: 0, capital: 141.918474377311\n"
     ]
    },
    {
     "name": "stderr",
     "output_type": "stream",
     "text": [
      "C:\\Users\\gunne\\AppData\\Local\\Temp\\ipykernel_15304\\3256594789.py:107: FutureWarning: The behavior of DataFrame concatenation with empty or all-NA entries is deprecated. In a future version, this will no longer exclude empty or all-NA columns when determining the result dtypes. To retain the old behavior, exclude the relevant entries before the concat operation.\n",
      "  trade_log_df = pd.concat([trade_log_df, pd.DataFrame([log_entry])], ignore_index=True)\n"
     ]
    },
    {
     "name": "stdout",
     "output_type": "stream",
     "text": [
      "Iteration at time 2024-05-30 13:57:54.561923, current price: 1.27247, positions: 22305.983540250218, capital: 141.918474377311\n",
      "Iteration at time 2024-05-30 13:58:54.891259, current price: 1.27253, positions: 22305.983540250218, capital: 141.918474377311\n",
      "Iteration at time 2024-05-30 13:59:55.204270, current price: 1.27243, positions: 22305.983540250218, capital: 141.918474377311\n",
      "Iteration at time 2024-05-30 14:00:55.531315, current price: 1.27226, positions: 0, capital: 141.35080047980173\n",
      "Iteration at time 2024-05-30 14:01:55.822918, current price: 1.27241, positions: 0, capital: 141.35080047980173\n",
      "Iteration at time 2024-05-30 14:02:56.014995, current price: 1.2726600000000001, positions: 0, capital: 141.35080047980173\n",
      "Iteration at time 2024-05-30 14:03:56.330596, current price: 1.27238, positions: 0, capital: 141.35080047980173\n",
      "Iteration at time 2024-05-30 14:04:56.621742, current price: 1.27256, positions: 0, capital: 141.35080047980173\n",
      "Iteration at time 2024-05-30 14:05:56.927048, current price: 1.27265, positions: 0, capital: 141.35080047980173\n",
      "Iteration at time 2024-05-30 14:06:57.144320, current price: 1.27283, positions: 0, capital: 141.35080047980173\n",
      "Iteration at time 2024-05-30 14:07:57.466945, current price: 1.27275, positions: 0, capital: 141.35080047980173\n",
      "Iteration at time 2024-05-30 14:08:57.781634, current price: 1.27261, positions: 0, capital: 141.35080047980173\n",
      "Iteration at time 2024-05-30 14:09:58.115861, current price: 1.2724, positions: 0, capital: 141.35080047980173\n",
      "Iteration at time 2024-05-30 14:10:58.430363, current price: 1.27254, positions: 0, capital: 141.35080047980173\n",
      "Iteration at time 2024-05-30 14:11:58.754067, current price: 1.27265, positions: 0, capital: 141.35080047980173\n",
      "Iteration at time 2024-05-30 14:12:59.089357, current price: 1.27245, positions: 0, capital: 141.35080047980173\n",
      "Iteration at time 2024-05-30 14:13:59.411013, current price: 1.27224, positions: 0, capital: 141.35080047980173\n",
      "Iteration at time 2024-05-30 14:14:59.739181, current price: 1.2723, positions: 0, capital: 141.35080047980173\n",
      "Iteration at time 2024-05-30 14:16:00.031054, current price: 1.27192, positions: 0, capital: 141.35080047980173\n",
      "Iteration at time 2024-05-30 14:17:00.220477, current price: 1.27202, positions: 0, capital: 141.35080047980173\n",
      "Iteration at time 2024-05-30 14:18:00.536437, current price: 1.27204, positions: 0, capital: 141.35080047980173\n",
      "Iteration at time 2024-05-30 14:19:00.873955, current price: 1.27193, positions: 0, capital: 141.35080047980173\n",
      "Iteration at time 2024-05-30 14:20:01.190219, current price: 1.27197, positions: 0, capital: 141.35080047980173\n",
      "Iteration at time 2024-05-30 14:21:01.516678, current price: 1.27192, positions: 0, capital: 141.35080047980173\n",
      "Iteration at time 2024-05-30 14:22:01.847196, current price: 1.27182, positions: 0, capital: 141.35080047980173\n",
      "Iteration at time 2024-05-30 14:23:02.171932, current price: 1.2719, positions: 0, capital: 141.35080047980173\n",
      "Iteration at time 2024-05-30 14:24:02.462322, current price: 1.27213, positions: 0, capital: 141.35080047980173\n",
      "Iteration at time 2024-05-30 14:25:02.764608, current price: 1.2722, positions: 0, capital: 141.35080047980173\n",
      "Iteration at time 2024-05-30 14:26:02.972548, current price: 1.27252, positions: 0, capital: 141.35080047980173\n",
      "Iteration at time 2024-05-30 14:27:03.297861, current price: 1.27256, positions: 0, capital: 141.35080047980173\n",
      "Iteration at time 2024-05-30 14:28:03.627773, current price: 1.27236, positions: 0, capital: 141.35080047980173\n",
      "Iteration at time 2024-05-30 14:29:03.952812, current price: 1.27221, positions: 0, capital: 141.35080047980173\n",
      "Iteration at time 2024-05-30 14:30:04.248835, current price: 1.27245, positions: 0, capital: 141.35080047980173\n",
      "Iteration at time 2024-05-30 14:31:04.555294, current price: 1.27265, positions: 0, capital: 141.35080047980173\n",
      "Iteration at time 2024-05-30 14:32:04.755844, current price: 1.27274, positions: 0, capital: 141.35080047980173\n",
      "Iteration at time 2024-05-30 14:33:05.073361, current price: 1.27273, positions: 0, capital: 141.35080047980173\n",
      "Iteration at time 2024-05-30 14:34:05.389110, current price: 1.27282, positions: 0, capital: 141.35080047980173\n",
      "Iteration at time 2024-05-30 14:35:05.715922, current price: 1.27271, positions: 0, capital: 141.35080047980173\n",
      "Iteration at time 2024-05-30 14:36:06.045352, current price: 1.2729, positions: 0, capital: 141.35080047980173\n",
      "Iteration at time 2024-05-30 14:37:06.366448, current price: 1.27283, positions: 0, capital: 141.35080047980173\n",
      "Iteration at time 2024-05-30 14:38:06.658042, current price: 1.27297, positions: 0, capital: 141.35080047980173\n",
      "Iteration at time 2024-05-30 14:39:06.964673, current price: 1.27251, positions: 0, capital: 141.35080047980173\n",
      "Iteration at time 2024-05-30 14:40:07.182204, current price: 1.2725, positions: 0, capital: 141.35080047980173\n",
      "Iteration at time 2024-05-30 14:41:07.508744, current price: 1.2726, positions: 0, capital: 141.35080047980173\n",
      "Iteration at time 2024-05-30 14:42:07.838023, current price: 1.27263, positions: 0, capital: 141.35080047980173\n",
      "Iteration at time 2024-05-30 14:43:08.154465, current price: 1.27281, positions: 0, capital: 141.35080047980173\n",
      "Iteration at time 2024-05-30 14:44:08.484481, current price: 1.27289, positions: 0, capital: 141.35080047980173\n",
      "Iteration at time 2024-05-30 14:45:08.797027, current price: 1.27285, positions: 0, capital: 141.35080047980173\n",
      "Iteration at time 2024-05-30 14:46:09.124584, current price: 1.27276, positions: 0, capital: 141.35080047980173\n",
      "Iteration at time 2024-05-30 14:47:09.413741, current price: 1.27284, positions: 0, capital: 141.35080047980173\n",
      "Iteration at time 2024-05-30 14:48:09.713075, current price: 1.27283, positions: 0, capital: 141.35080047980173\n",
      "Iteration at time 2024-05-30 14:49:09.920111, current price: 1.27279, positions: 0, capital: 141.35080047980173\n",
      "Iteration at time 2024-05-30 14:50:10.244261, current price: 1.27267, positions: 0, capital: 141.35080047980173\n",
      "Iteration at time 2024-05-30 14:51:10.572025, current price: 1.27288, positions: 0, capital: 141.35080047980173\n",
      "Iteration at time 2024-05-30 14:52:10.868790, current price: 1.27315, positions: 0, capital: 141.35080047980173\n",
      "Iteration at time 2024-05-30 14:53:11.169880, current price: 1.2732299999999999, positions: 0, capital: 141.35080047980173\n",
      "Iteration at time 2024-05-30 14:54:11.372215, current price: 1.27324, positions: 0, capital: 141.35080047980173\n",
      "Iteration at time 2024-05-30 14:55:11.684509, current price: 1.2733400000000001, positions: 0, capital: 141.35080047980173\n",
      "Iteration at time 2024-05-30 14:56:12.013361, current price: 1.27316, positions: 0, capital: 141.35080047980173\n",
      "Iteration at time 2024-05-30 14:57:12.331618, current price: 1.27328, positions: 0, capital: 141.35080047980173\n",
      "Iteration at time 2024-05-30 14:58:12.621953, current price: 1.27313, positions: 0, capital: 141.35080047980173\n",
      "Iteration at time 2024-05-30 14:59:12.929021, current price: 1.27314, positions: 0, capital: 141.35080047980173\n",
      "Iteration at time 2024-05-30 15:00:13.134630, current price: 1.27321, positions: 0, capital: 141.35080047980173\n",
      "Iteration at time 2024-05-30 15:01:13.456823, current price: 1.27301, positions: 0, capital: 141.35080047980173\n",
      "Iteration at time 2024-05-30 15:02:13.779148, current price: 1.27312, positions: 0, capital: 141.35080047980173\n",
      "Iteration at time 2024-05-30 15:03:14.069963, current price: 1.27285, positions: 0, capital: 141.35080047980173\n",
      "Iteration at time 2024-05-30 15:04:14.378132, current price: 1.2726199999999999, positions: 0, capital: 141.35080047980173\n",
      "Iteration at time 2024-05-30 15:05:14.579251, current price: 1.27259, positions: 0, capital: 141.35080047980173\n",
      "Iteration at time 2024-05-30 15:06:14.887943, current price: 1.27282, positions: 0, capital: 141.35080047980173\n",
      "Iteration at time 2024-05-30 15:07:15.221428, current price: 1.2729599999999999, positions: 0, capital: 141.35080047980173\n",
      "Iteration at time 2024-05-30 15:08:15.539689, current price: 1.2729, positions: 0, capital: 141.35080047980173\n",
      "Iteration at time 2024-05-30 15:09:15.868040, current price: 1.27298, positions: 0, capital: 141.35080047980173\n",
      "Iteration at time 2024-05-30 15:10:16.197895, current price: 1.27299, positions: 0, capital: 141.35080047980173\n",
      "Iteration at time 2024-05-30 15:11:16.521858, current price: 1.27292, positions: 0, capital: 141.35080047980173\n",
      "Iteration at time 2024-05-30 15:12:16.851073, current price: 1.27251, positions: 0, capital: 141.35080047980173\n",
      "Iteration at time 2024-05-30 15:13:17.146720, current price: 1.2723499999999999, positions: 0, capital: 141.35080047980173\n",
      "Iteration at time 2024-05-30 15:14:17.451777, current price: 1.2723, positions: 0, capital: 141.35080047980173\n",
      "Iteration at time 2024-05-30 15:15:17.668079, current price: 1.2723200000000001, positions: 0, capital: 141.35080047980173\n",
      "Iteration at time 2024-05-30 15:16:17.981738, current price: 1.27248, positions: 0, capital: 141.35080047980173\n",
      "Iteration at time 2024-05-30 15:17:18.293778, current price: 1.27236, positions: 0, capital: 141.35080047980173\n",
      "Iteration at time 2024-05-30 15:18:18.625127, current price: 1.2723900000000001, positions: 0, capital: 141.35080047980173\n",
      "Iteration at time 2024-05-30 15:19:18.936208, current price: 1.27271, positions: 0, capital: 141.35080047980173\n",
      "Iteration at time 2024-05-30 15:20:19.261102, current price: 1.2728, positions: 0, capital: 141.35080047980173\n",
      "Iteration at time 2024-05-30 15:21:19.551397, current price: 1.27275, positions: 0, capital: 141.35080047980173\n",
      "Iteration at time 2024-05-30 15:22:19.854568, current price: 1.27292, positions: 0, capital: 141.35080047980173\n",
      "Iteration at time 2024-05-30 15:23:20.061226, current price: 1.27283, positions: 0, capital: 141.35080047980173\n",
      "Iteration at time 2024-05-30 15:24:20.388486, current price: 1.2729300000000001, positions: 0, capital: 141.35080047980173\n",
      "Iteration at time 2024-05-30 15:25:20.710737, current price: 1.27285, positions: 0, capital: 141.35080047980173\n",
      "Iteration at time 2024-05-30 15:26:21.001684, current price: 1.27291, positions: 0, capital: 141.35080047980173\n",
      "Iteration at time 2024-05-30 15:27:21.301936, current price: 1.27301, positions: 0, capital: 141.35080047980173\n",
      "Iteration at time 2024-05-30 15:28:21.503261, current price: 1.27311, positions: 0, capital: 141.35080047980173\n",
      "Iteration at time 2024-05-30 15:29:21.815553, current price: 1.27301, positions: 0, capital: 141.35080047980173\n",
      "Iteration at time 2024-05-30 15:30:22.141080, current price: 1.27286, positions: 0, capital: 141.35080047980173\n",
      "Iteration at time 2024-05-30 15:31:22.462093, current price: 1.27306, positions: 0, capital: 141.35080047980173\n",
      "Iteration at time 2024-05-30 15:32:22.791288, current price: 1.27295, positions: 0, capital: 141.35080047980173\n",
      "Iteration at time 2024-05-30 15:33:23.124183, current price: 1.27281, positions: 0, capital: 141.35080047980173\n",
      "Iteration at time 2024-05-30 15:34:23.444501, current price: 1.27294, positions: 0, capital: 141.35080047980173\n",
      "Iteration at time 2024-05-30 15:35:23.738652, current price: 1.27297, positions: 0, capital: 141.35080047980173\n",
      "Iteration at time 2024-05-30 15:36:24.041146, current price: 1.27291, positions: 0, capital: 141.35080047980173\n",
      "Iteration at time 2024-05-30 15:37:24.252910, current price: 1.27279, positions: 0, capital: 141.35080047980173\n",
      "Iteration at time 2024-05-30 15:38:24.576958, current price: 1.2728, positions: 0, capital: 141.35080047980173\n",
      "Iteration at time 2024-05-30 15:39:24.889077, current price: 1.2728, positions: 0, capital: 141.35080047980173\n",
      "Iteration at time 2024-05-30 15:40:25.211720, current price: 1.2728, positions: 0, capital: 141.35080047980173\n",
      "Iteration at time 2024-05-30 15:41:25.540795, current price: 1.27265, positions: 0, capital: 141.35080047980173\n",
      "Iteration at time 2024-05-30 15:42:25.857186, current price: 1.27252, positions: 0, capital: 141.35080047980173\n",
      "Iteration at time 2024-05-30 15:43:26.185415, current price: 1.27245, positions: 0, capital: 141.35080047980173\n",
      "Iteration at time 2024-05-30 15:44:26.519842, current price: 1.27279, positions: 0, capital: 141.35080047980173\n",
      "Iteration at time 2024-05-30 15:45:26.839724, current price: 1.27307, positions: 0, capital: 141.35080047980173\n",
      "Iteration at time 2024-05-30 15:46:27.172274, current price: 1.27344, positions: 0, capital: 141.35080047980173\n",
      "Iteration at time 2024-05-30 15:47:27.469599, current price: 1.27352, positions: 0, capital: 141.35080047980173\n",
      "Iteration at time 2024-05-30 15:48:27.773339, current price: 1.27365, positions: 0, capital: 141.35080047980173\n",
      "Iteration at time 2024-05-30 15:49:27.981436, current price: 1.27344, positions: 0, capital: 141.35080047980173\n",
      "Iteration at time 2024-05-30 15:50:28.297427, current price: 1.27369, positions: 0, capital: 141.35080047980173\n",
      "Iteration at time 2024-05-30 15:51:28.625324, current price: 1.27365, positions: 0, capital: 141.35080047980173\n",
      "Iteration at time 2024-05-30 15:52:28.919350, current price: 1.2739500000000001, positions: 0, capital: 141.35080047980173\n",
      "Iteration at time 2024-05-30 15:53:29.226397, current price: 1.2739500000000001, positions: 0, capital: 141.35080047980173\n",
      "Iteration at time 2024-05-30 15:54:29.443513, current price: 1.27406, positions: 0, capital: 141.35080047980173\n",
      "Iteration at time 2024-05-30 15:55:29.773929, current price: 1.2742200000000001, positions: 0, capital: 141.35080047980173\n",
      "Iteration at time 2024-05-30 15:56:30.064114, current price: 1.27431, positions: 0, capital: 141.35080047980173\n",
      "Iteration at time 2024-05-30 15:57:30.257291, current price: 1.27436, positions: 0, capital: 141.35080047980173\n",
      "Iteration at time 2024-05-30 15:58:30.589486, current price: 1.27417, positions: 0, capital: 141.35080047980173\n",
      "Iteration at time 2024-05-30 15:59:30.920280, current price: 1.27398, positions: 0, capital: 141.35080047980173\n",
      "Iteration at time 2024-05-30 16:00:31.246647, current price: 1.27378, positions: 0, capital: 141.35080047980173\n",
      "Iteration at time 2024-05-30 16:01:31.580513, current price: 1.27375, positions: 0, capital: 141.35080047980173\n",
      "Iteration at time 2024-05-30 16:02:31.904811, current price: 1.27376, positions: 0, capital: 141.35080047980173\n",
      "Iteration at time 2024-05-30 16:03:32.200780, current price: 1.27376, positions: 0, capital: 141.35080047980173\n",
      "Iteration at time 2024-05-30 16:04:32.514357, current price: 1.27366, positions: 0, capital: 141.35080047980173\n",
      "Iteration at time 2024-05-30 16:05:32.737438, current price: 1.27347, positions: 0, capital: 141.35080047980173\n",
      "Iteration at time 2024-05-30 16:06:33.032819, current price: 1.27368, positions: 0, capital: 141.35080047980173\n",
      "Iteration at time 2024-05-30 16:07:33.234405, current price: 1.27353, positions: 0, capital: 141.35080047980173\n",
      "Iteration at time 2024-05-30 16:08:33.529930, current price: 1.27336, positions: 0, capital: 141.35080047980173\n",
      "Iteration at time 2024-05-30 16:09:33.734227, current price: 1.27363, positions: 0, capital: 141.35080047980173\n",
      "Iteration at time 2024-05-30 16:10:34.057879, current price: 1.27366, positions: 0, capital: 141.35080047980173\n",
      "Iteration at time 2024-05-30 16:11:34.349836, current price: 1.27376, positions: 0, capital: 141.35080047980173\n",
      "Iteration at time 2024-05-30 16:12:34.554631, current price: 1.27376, positions: 0, capital: 141.35080047980173\n",
      "Iteration at time 2024-05-30 16:13:34.866263, current price: 1.27381, positions: 0, capital: 141.35080047980173\n",
      "Iteration at time 2024-05-30 16:14:35.163881, current price: 1.27381, positions: 0, capital: 141.35080047980173\n",
      "Iteration at time 2024-05-30 16:15:35.375606, current price: 1.27362, positions: 0, capital: 141.35080047980173\n",
      "Iteration at time 2024-05-30 16:16:35.699562, current price: 1.27386, positions: 0, capital: 141.35080047980173\n",
      "Iteration at time 2024-05-30 16:17:35.992923, current price: 1.27369, positions: 0, capital: 141.35080047980173\n",
      "Iteration at time 2024-05-30 16:18:36.199814, current price: 1.274, positions: 0, capital: 141.35080047980173\n",
      "Iteration at time 2024-05-30 16:19:36.520069, current price: 1.27414, positions: 0, capital: 141.35080047980173\n",
      "Iteration at time 2024-05-30 16:20:36.820281, current price: 1.2739099999999999, positions: 0, capital: 141.35080047980173\n",
      "Iteration at time 2024-05-30 16:21:37.039278, current price: 1.27385, positions: 0, capital: 141.35080047980173\n",
      "Iteration at time 2024-05-30 16:22:37.353283, current price: 1.27404, positions: 0, capital: 141.35080047980173\n",
      "Iteration at time 2024-05-30 16:23:37.656414, current price: 1.27426, positions: 0, capital: 141.35080047980173\n",
      "Iteration at time 2024-05-30 16:24:37.868209, current price: 1.2741799999999999, positions: 0, capital: 141.35080047980173\n",
      "Iteration at time 2024-05-30 16:25:38.165710, current price: 1.27436, positions: 0, capital: 141.35080047980173\n",
      "Iteration at time 2024-05-30 16:26:38.378263, current price: 1.27429, positions: 0, capital: 141.35080047980173\n",
      "Iteration at time 2024-05-30 16:27:38.707340, current price: 1.27427, positions: 0, capital: 141.35080047980173\n",
      "Iteration at time 2024-05-30 16:28:39.004648, current price: 1.27445, positions: 0, capital: 141.35080047980173\n",
      "Iteration at time 2024-05-30 16:29:39.222483, current price: 1.27424, positions: 0, capital: 141.35080047980173\n",
      "Iteration at time 2024-05-30 16:30:39.513346, current price: 1.27427, positions: 0, capital: 141.35080047980173\n",
      "Iteration at time 2024-05-30 16:31:39.728131, current price: 1.2744900000000001, positions: 0, capital: 141.35080047980173\n",
      "Iteration at time 2024-05-30 16:32:40.027652, current price: 1.27448, positions: 0, capital: 141.35080047980173\n",
      "Iteration at time 2024-05-30 16:33:40.230694, current price: 1.27466, positions: 0, capital: 141.35080047980173\n",
      "Iteration at time 2024-05-30 16:34:40.522524, current price: 1.27457, positions: 0, capital: 141.35080047980173\n",
      "Iteration at time 2024-05-30 16:35:40.737232, current price: 1.27458, positions: 0, capital: 141.35080047980173\n",
      "Iteration at time 2024-05-30 16:36:41.066060, current price: 1.27462, positions: 0, capital: 141.35080047980173\n",
      "Iteration at time 2024-05-30 16:37:41.365339, current price: 1.27445, positions: 0, capital: 141.35080047980173\n",
      "Iteration at time 2024-05-30 16:38:41.579117, current price: 1.27436, positions: 0, capital: 141.35080047980173\n",
      "Iteration at time 2024-05-30 16:39:41.901489, current price: 1.27426, positions: 0, capital: 141.35080047980173\n",
      "Iteration at time 2024-05-30 16:40:42.200390, current price: 1.2742499999999999, positions: 0, capital: 141.35080047980173\n",
      "Iteration at time 2024-05-30 16:41:42.426626, current price: 1.27424, positions: 0, capital: 141.35080047980173\n",
      "Iteration at time 2024-05-30 16:42:42.722359, current price: 1.27424, positions: 0, capital: 141.35080047980173\n",
      "Iteration at time 2024-05-30 16:43:42.934390, current price: 1.27428, positions: 0, capital: 141.35080047980173\n",
      "Iteration at time 2024-05-30 16:44:43.255327, current price: 1.27416, positions: 0, capital: 141.35080047980173\n",
      "Iteration at time 2024-05-30 16:45:43.553657, current price: 1.27423, positions: 0, capital: 141.35080047980173\n",
      "Iteration at time 2024-05-30 16:46:43.771848, current price: 1.2741799999999999, positions: 0, capital: 141.35080047980173\n",
      "Iteration at time 2024-05-30 16:47:44.107139, current price: 1.27428, positions: 0, capital: 141.35080047980173\n",
      "Iteration at time 2024-05-30 16:48:44.404763, current price: 1.27437, positions: 0, capital: 141.35080047980173\n",
      "Iteration at time 2024-05-30 16:49:44.619334, current price: 1.2742499999999999, positions: 0, capital: 141.35080047980173\n",
      "Iteration at time 2024-05-30 16:50:44.944447, current price: 1.27414, positions: 0, capital: 141.35080047980173\n",
      "Iteration at time 2024-05-30 16:51:45.243274, current price: 1.27411, positions: 0, capital: 141.35080047980173\n",
      "Iteration at time 2024-05-30 16:52:45.462416, current price: 1.27408, positions: 0, capital: 141.35080047980173\n",
      "Iteration at time 2024-05-30 16:53:45.752379, current price: 1.2739500000000001, positions: 0, capital: 141.35080047980173\n",
      "Iteration at time 2024-05-30 16:54:45.965100, current price: 1.27387, positions: 0, capital: 141.35080047980173\n",
      "Iteration at time 2024-05-30 16:55:46.257606, current price: 1.274, positions: 0, capital: 141.35080047980173\n",
      "Iteration at time 2024-05-30 16:56:46.453716, current price: 1.27392, positions: 0, capital: 141.35080047980173\n",
      "Iteration at time 2024-05-30 16:57:46.784335, current price: 1.2738, positions: 0, capital: 141.35080047980173\n",
      "Iteration at time 2024-05-30 16:58:47.082097, current price: 1.27385, positions: 0, capital: 141.35080047980173\n",
      "Iteration at time 2024-05-30 16:59:47.287524, current price: 1.2737, positions: 0, capital: 141.35080047980173\n"
     ]
    },
    {
     "name": "stderr",
     "output_type": "stream",
     "text": [
      "C:\\Users\\gunne\\AppData\\Local\\Temp\\ipykernel_15304\\3256594789.py:107: FutureWarning: The behavior of DataFrame concatenation with empty or all-NA entries is deprecated. In a future version, this will no longer exclude empty or all-NA columns when determining the result dtypes. To retain the old behavior, exclude the relevant entries before the concat operation.\n",
      "  trade_log_df = pd.concat([trade_log_df, pd.DataFrame([log_entry])], ignore_index=True)\n"
     ]
    },
    {
     "name": "stdout",
     "output_type": "stream",
     "text": [
      "Iteration at time 2024-05-30 17:00:47.580517, current price: 1.27374, positions: 22194.60808011081, capital: 141.35080047980173\n",
      "Iteration at time 2024-05-30 17:01:47.785753, current price: 1.27371, positions: 22194.60808011081, capital: 141.35080047980173\n",
      "Iteration at time 2024-05-30 17:02:48.116200, current price: 1.27368, positions: 0, capital: 140.78539727788254\n"
     ]
    },
    {
     "name": "stderr",
     "output_type": "stream",
     "text": [
      "C:\\Users\\gunne\\AppData\\Local\\Temp\\ipykernel_15304\\3256594789.py:107: FutureWarning: The behavior of DataFrame concatenation with empty or all-NA entries is deprecated. In a future version, this will no longer exclude empty or all-NA columns when determining the result dtypes. To retain the old behavior, exclude the relevant entries before the concat operation.\n",
      "  trade_log_df = pd.concat([trade_log_df, pd.DataFrame([log_entry])], ignore_index=True)\n"
     ]
    },
    {
     "name": "stdout",
     "output_type": "stream",
     "text": [
      "Iteration at time 2024-05-30 17:03:48.416066, current price: 1.27373, positions: 22106.003199717765, capital: 140.78539727788254\n",
      "Iteration at time 2024-05-30 17:04:48.632506, current price: 1.27367, positions: 0, capital: 140.222255688771\n"
     ]
    },
    {
     "name": "stderr",
     "output_type": "stream",
     "text": [
      "C:\\Users\\gunne\\AppData\\Local\\Temp\\ipykernel_15304\\3256594789.py:107: FutureWarning: The behavior of DataFrame concatenation with empty or all-NA entries is deprecated. In a future version, this will no longer exclude empty or all-NA columns when determining the result dtypes. To retain the old behavior, exclude the relevant entries before the concat operation.\n",
      "  trade_log_df = pd.concat([trade_log_df, pd.DataFrame([log_entry])], ignore_index=True)\n"
     ]
    },
    {
     "name": "stdout",
     "output_type": "stream",
     "text": [
      "Iteration at time 2024-05-30 17:05:48.926932, current price: 1.27365, positions: 22018.9621463936, capital: 140.222255688771\n",
      "Iteration at time 2024-05-30 17:06:49.146534, current price: 1.27365, positions: 22018.9621463936, capital: 140.222255688771\n",
      "Iteration at time 2024-05-30 17:07:49.469804, current price: 1.27366, positions: 22018.9621463936, capital: 140.222255688771\n",
      "Iteration at time 2024-05-30 17:08:49.769256, current price: 1.27372, positions: 0, capital: 141.7635830390189\n",
      "Iteration at time 2024-05-30 17:09:49.984454, current price: 1.27351, positions: 0, capital: 141.7635830390189\n"
     ]
    },
    {
     "name": "stderr",
     "output_type": "stream",
     "text": [
      "C:\\Users\\gunne\\AppData\\Local\\Temp\\ipykernel_15304\\3256594789.py:107: FutureWarning: The behavior of DataFrame concatenation with empty or all-NA entries is deprecated. In a future version, this will no longer exclude empty or all-NA columns when determining the result dtypes. To retain the old behavior, exclude the relevant entries before the concat operation.\n",
      "  trade_log_df = pd.concat([trade_log_df, pd.DataFrame([log_entry])], ignore_index=True)\n"
     ]
    },
    {
     "name": "stdout",
     "output_type": "stream",
     "text": [
      "Iteration at time 2024-05-30 17:10:50.310937, current price: 1.27365, positions: 22260.995255999514, capital: 141.7635830390189\n",
      "Iteration at time 2024-05-30 17:11:50.609834, current price: 1.27356, positions: 0, capital: 141.19652870686284\n"
     ]
    },
    {
     "name": "stderr",
     "output_type": "stream",
     "text": [
      "C:\\Users\\gunne\\AppData\\Local\\Temp\\ipykernel_15304\\3256594789.py:107: FutureWarning: The behavior of DataFrame concatenation with empty or all-NA entries is deprecated. In a future version, this will no longer exclude empty or all-NA columns when determining the result dtypes. To retain the old behavior, exclude the relevant entries before the concat operation.\n",
      "  trade_log_df = pd.concat([trade_log_df, pd.DataFrame([log_entry])], ignore_index=True)\n"
     ]
    },
    {
     "name": "stdout",
     "output_type": "stream",
     "text": [
      "Iteration at time 2024-05-30 17:12:50.829893, current price: 1.27363, positions: 22172.299444401095, capital: 141.19652870686284\n",
      "Iteration at time 2024-05-30 17:13:51.158521, current price: 1.27372, positions: 0, capital: 143.19203565685723\n"
     ]
    },
    {
     "name": "stderr",
     "output_type": "stream",
     "text": [
      "C:\\Users\\gunne\\AppData\\Local\\Temp\\ipykernel_15304\\3256594789.py:107: FutureWarning: The behavior of DataFrame concatenation with empty or all-NA entries is deprecated. In a future version, this will no longer exclude empty or all-NA columns when determining the result dtypes. To retain the old behavior, exclude the relevant entries before the concat operation.\n",
      "  trade_log_df = pd.concat([trade_log_df, pd.DataFrame([log_entry])], ignore_index=True)\n"
     ]
    },
    {
     "name": "stdout",
     "output_type": "stream",
     "text": [
      "Iteration at time 2024-05-30 17:14:51.459900, current price: 1.27374, positions: 22483.71499000694, capital: 143.19203565685723\n",
      "Iteration at time 2024-05-30 17:15:51.678327, current price: 1.27394, positions: 0, capital: 147.6887786548581\n"
     ]
    },
    {
     "name": "stderr",
     "output_type": "stream",
     "text": [
      "C:\\Users\\gunne\\AppData\\Local\\Temp\\ipykernel_15304\\3256594789.py:107: FutureWarning: The behavior of DataFrame concatenation with empty or all-NA entries is deprecated. In a future version, this will no longer exclude empty or all-NA columns when determining the result dtypes. To retain the old behavior, exclude the relevant entries before the concat operation.\n",
      "  trade_log_df = pd.concat([trade_log_df, pd.DataFrame([log_entry])], ignore_index=True)\n"
     ]
    },
    {
     "name": "stdout",
     "output_type": "stream",
     "text": [
      "Iteration at time 2024-05-30 17:16:52.007132, current price: 1.2739, positions: 23186.871599789323, capital: 147.6887786548581\n",
      "Iteration at time 2024-05-30 17:17:52.306950, current price: 1.27401, positions: 0, capital: 150.2393345308362\n"
     ]
    },
    {
     "name": "stderr",
     "output_type": "stream",
     "text": [
      "C:\\Users\\gunne\\AppData\\Local\\Temp\\ipykernel_15304\\3256594789.py:107: FutureWarning: The behavior of DataFrame concatenation with empty or all-NA entries is deprecated. In a future version, this will no longer exclude empty or all-NA columns when determining the result dtypes. To retain the old behavior, exclude the relevant entries before the concat operation.\n",
      "  trade_log_df = pd.concat([trade_log_df, pd.DataFrame([log_entry])], ignore_index=True)\n"
     ]
    },
    {
     "name": "stdout",
     "output_type": "stream",
     "text": [
      "Iteration at time 2024-05-30 17:18:52.518860, current price: 1.27402, positions: 23585.08257811278, capital: 150.2393345308362\n",
      "Iteration at time 2024-05-30 17:19:52.845721, current price: 1.2739500000000001, positions: 0, capital: 149.63837719271285\n"
     ]
    },
    {
     "name": "stderr",
     "output_type": "stream",
     "text": [
      "C:\\Users\\gunne\\AppData\\Local\\Temp\\ipykernel_15304\\3256594789.py:107: FutureWarning: The behavior of DataFrame concatenation with empty or all-NA entries is deprecated. In a future version, this will no longer exclude empty or all-NA columns when determining the result dtypes. To retain the old behavior, exclude the relevant entries before the concat operation.\n",
      "  trade_log_df = pd.concat([trade_log_df, pd.DataFrame([log_entry])], ignore_index=True)\n"
     ]
    },
    {
     "name": "stdout",
     "output_type": "stream",
     "text": [
      "Iteration at time 2024-05-30 17:20:53.144495, current price: 1.27405, positions: 23490.189112313154, capital: 149.63837719271285\n",
      "Iteration at time 2024-05-30 17:21:53.356675, current price: 1.27408, positions: 23490.189112313154, capital: 149.63837719271285\n",
      "Iteration at time 2024-05-30 17:22:53.646173, current price: 1.27403, positions: 23490.189112313154, capital: 149.63837719271285\n",
      "Iteration at time 2024-05-30 17:23:53.857682, current price: 1.27396, positions: 0, capital: 149.039823683942\n"
     ]
    },
    {
     "name": "stderr",
     "output_type": "stream",
     "text": [
      "C:\\Users\\gunne\\AppData\\Local\\Temp\\ipykernel_15304\\3256594789.py:107: FutureWarning: The behavior of DataFrame concatenation with empty or all-NA entries is deprecated. In a future version, this will no longer exclude empty or all-NA columns when determining the result dtypes. To retain the old behavior, exclude the relevant entries before the concat operation.\n",
      "  trade_log_df = pd.concat([trade_log_df, pd.DataFrame([log_entry])], ignore_index=True)\n"
     ]
    },
    {
     "name": "stdout",
     "output_type": "stream",
     "text": [
      "Iteration at time 2024-05-30 17:24:54.184434, current price: 1.2739500000000001, positions: 23398.06486658691, capital: 149.039823683942\n",
      "Iteration at time 2024-05-30 17:25:54.479241, current price: 1.27405, positions: 0, capital: 151.37963017059522\n"
     ]
    },
    {
     "name": "stderr",
     "output_type": "stream",
     "text": [
      "C:\\Users\\gunne\\AppData\\Local\\Temp\\ipykernel_15304\\3256594789.py:107: FutureWarning: The behavior of DataFrame concatenation with empty or all-NA entries is deprecated. In a future version, this will no longer exclude empty or all-NA columns when determining the result dtypes. To retain the old behavior, exclude the relevant entries before the concat operation.\n",
      "  trade_log_df = pd.concat([trade_log_df, pd.DataFrame([log_entry])], ignore_index=True)\n"
     ]
    },
    {
     "name": "stdout",
     "output_type": "stream",
     "text": [
      "Iteration at time 2024-05-30 17:26:54.700847, current price: 1.27411, positions: 23762.411435526792, capital: 151.37963017059522\n",
      "Iteration at time 2024-05-30 17:27:55.029903, current price: 1.27409, positions: 23762.411435526792, capital: 151.37963017059522\n",
      "Iteration at time 2024-05-30 17:28:55.327785, current price: 1.27406, positions: 23762.411435526792, capital: 151.37963017059522\n",
      "Iteration at time 2024-05-30 17:29:55.544400, current price: 1.27396, positions: 0, capital: 150.77411164991284\n"
     ]
    },
    {
     "name": "stderr",
     "output_type": "stream",
     "text": [
      "C:\\Users\\gunne\\AppData\\Local\\Temp\\ipykernel_15304\\3256594789.py:107: FutureWarning: The behavior of DataFrame concatenation with empty or all-NA entries is deprecated. In a future version, this will no longer exclude empty or all-NA columns when determining the result dtypes. To retain the old behavior, exclude the relevant entries before the concat operation.\n",
      "  trade_log_df = pd.concat([trade_log_df, pd.DataFrame([log_entry])], ignore_index=True)\n"
     ]
    },
    {
     "name": "stdout",
     "output_type": "stream",
     "text": [
      "Iteration at time 2024-05-30 17:30:55.867244, current price: 1.27406, positions: 23668.29060639418, capital: 150.77411164991284\n",
      "Iteration at time 2024-05-30 17:31:56.167682, current price: 1.2741, positions: 23668.29060639418, capital: 150.77411164991284\n",
      "Iteration at time 2024-05-30 17:32:56.381704, current price: 1.27409, positions: 23668.29060639418, capital: 150.77411164991284\n",
      "Iteration at time 2024-05-30 17:33:56.708193, current price: 1.27412, positions: 23668.29060639418, capital: 150.77411164991284\n",
      "Iteration at time 2024-05-30 17:34:57.004208, current price: 1.27409, positions: 23668.29060639418, capital: 150.77411164991284\n",
      "Iteration at time 2024-05-30 17:35:57.220007, current price: 1.27412, positions: 23668.29060639418, capital: 150.77411164991284\n",
      "Iteration at time 2024-05-30 17:36:57.510816, current price: 1.27412, positions: 23668.29060639418, capital: 150.77411164991284\n",
      "Iteration at time 2024-05-30 17:37:57.731691, current price: 1.27416, positions: 0, capital: 153.140940710552\n"
     ]
    },
    {
     "name": "stderr",
     "output_type": "stream",
     "text": [
      "C:\\Users\\gunne\\AppData\\Local\\Temp\\ipykernel_15304\\3256594789.py:107: FutureWarning: The behavior of DataFrame concatenation with empty or all-NA entries is deprecated. In a future version, this will no longer exclude empty or all-NA columns when determining the result dtypes. To retain the old behavior, exclude the relevant entries before the concat operation.\n",
      "  trade_log_df = pd.concat([trade_log_df, pd.DataFrame([log_entry])], ignore_index=True)\n"
     ]
    },
    {
     "name": "stdout",
     "output_type": "stream",
     "text": [
      "Iteration at time 2024-05-30 17:38:58.061225, current price: 1.2743, positions: 24035.30420003955, capital: 153.140940710552\n",
      "Iteration at time 2024-05-30 17:39:58.361550, current price: 1.27417, positions: 0, capital: 152.5283769477098\n"
     ]
    },
    {
     "name": "stderr",
     "output_type": "stream",
     "text": [
      "C:\\Users\\gunne\\AppData\\Local\\Temp\\ipykernel_15304\\3256594789.py:107: FutureWarning: The behavior of DataFrame concatenation with empty or all-NA entries is deprecated. In a future version, this will no longer exclude empty or all-NA columns when determining the result dtypes. To retain the old behavior, exclude the relevant entries before the concat operation.\n",
      "  trade_log_df = pd.concat([trade_log_df, pd.DataFrame([log_entry])], ignore_index=True)\n"
     ]
    },
    {
     "name": "stdout",
     "output_type": "stream",
     "text": [
      "Iteration at time 2024-05-30 17:40:58.573558, current price: 1.27432, positions: 23938.787266575084, capital: 152.5283769477098\n",
      "Iteration at time 2024-05-30 17:41:58.906430, current price: 1.27423, positions: 0, capital: 151.91826343991897\n"
     ]
    },
    {
     "name": "stderr",
     "output_type": "stream",
     "text": [
      "C:\\Users\\gunne\\AppData\\Local\\Temp\\ipykernel_15304\\3256594789.py:107: FutureWarning: The behavior of DataFrame concatenation with empty or all-NA entries is deprecated. In a future version, this will no longer exclude empty or all-NA columns when determining the result dtypes. To retain the old behavior, exclude the relevant entries before the concat operation.\n",
      "  trade_log_df = pd.concat([trade_log_df, pd.DataFrame([log_entry])], ignore_index=True)\n"
     ]
    },
    {
     "name": "stdout",
     "output_type": "stream",
     "text": [
      "Iteration at time 2024-05-30 17:42:59.198264, current price: 1.27406, positions: 23847.89781327708, capital: 151.91826343991897\n",
      "Iteration at time 2024-05-30 17:43:59.414082, current price: 1.27409, positions: 23847.89781327708, capital: 151.91826343991897\n",
      "Iteration at time 2024-05-30 17:44:59.743720, current price: 1.27414, positions: 0, capital: 153.82609526498305\n"
     ]
    },
    {
     "name": "stderr",
     "output_type": "stream",
     "text": [
      "C:\\Users\\gunne\\AppData\\Local\\Temp\\ipykernel_15304\\3256594789.py:107: FutureWarning: The behavior of DataFrame concatenation with empty or all-NA entries is deprecated. In a future version, this will no longer exclude empty or all-NA columns when determining the result dtypes. To retain the old behavior, exclude the relevant entries before the concat operation.\n",
      "  trade_log_df = pd.concat([trade_log_df, pd.DataFrame([log_entry])], ignore_index=True)\n"
     ]
    },
    {
     "name": "stdout",
     "output_type": "stream",
     "text": [
      "Iteration at time 2024-05-30 17:46:00.047941, current price: 1.2741500000000001, positions: 24145.68069143869, capital: 153.82609526498305\n",
      "Iteration at time 2024-05-30 17:47:00.265255, current price: 1.27411, positions: 24145.68069143869, capital: 153.82609526498305\n",
      "Iteration at time 2024-05-30 17:48:00.590032, current price: 1.27419, positions: 24145.68069143869, capital: 153.82609526498305\n",
      "Iteration at time 2024-05-30 17:49:00.891560, current price: 1.2741799999999999, positions: 24145.68069143869, capital: 153.82609526498305\n",
      "Iteration at time 2024-05-30 17:50:01.122691, current price: 1.27416, positions: 24145.68069143869, capital: 153.82609526498305\n",
      "Iteration at time 2024-05-30 17:51:01.454792, current price: 1.2742499999999999, positions: 0, capital: 156.2406633341213\n"
     ]
    },
    {
     "name": "stderr",
     "output_type": "stream",
     "text": [
      "C:\\Users\\gunne\\AppData\\Local\\Temp\\ipykernel_15304\\3256594789.py:107: FutureWarning: The behavior of DataFrame concatenation with empty or all-NA entries is deprecated. In a future version, this will no longer exclude empty or all-NA columns when determining the result dtypes. To retain the old behavior, exclude the relevant entries before the concat operation.\n",
      "  trade_log_df = pd.concat([trade_log_df, pd.DataFrame([log_entry])], ignore_index=True)\n"
     ]
    },
    {
     "name": "stdout",
     "output_type": "stream",
     "text": [
      "Iteration at time 2024-05-30 17:52:01.514596, current price: 1.27438, positions: 24520.262925363124, capital: 156.2406633341213\n",
      "Iteration at time 2024-05-30 17:53:01.761006, current price: 1.27427, positions: 0, capital: 155.6157006807848\n"
     ]
    },
    {
     "name": "stderr",
     "output_type": "stream",
     "text": [
      "C:\\Users\\gunne\\AppData\\Local\\Temp\\ipykernel_15304\\3256594789.py:107: FutureWarning: The behavior of DataFrame concatenation with empty or all-NA entries is deprecated. In a future version, this will no longer exclude empty or all-NA columns when determining the result dtypes. To retain the old behavior, exclude the relevant entries before the concat operation.\n",
      "  trade_log_df = pd.concat([trade_log_df, pd.DataFrame([log_entry])], ignore_index=True)\n"
     ]
    },
    {
     "name": "stdout",
     "output_type": "stream",
     "text": [
      "Iteration at time 2024-05-30 17:54:02.055690, current price: 1.27426, positions: 24424.4817667956, capital: 155.6157006807848\n",
      "Iteration at time 2024-05-30 17:55:02.261959, current price: 1.27423, positions: 24424.4817667956, capital: 155.6157006807848\n",
      "Iteration at time 2024-05-30 17:56:02.553180, current price: 1.27416, positions: 0, capital: 154.99323787806168\n",
      "Iteration at time 2024-05-30 17:57:02.756014, current price: 1.27413, positions: 0, capital: 154.99323787806168\n",
      "Iteration at time 2024-05-30 17:58:03.053403, current price: 1.27414, positions: 0, capital: 154.99323787806168\n",
      "Iteration at time 2024-05-30 17:59:03.260279, current price: 1.2741799999999999, positions: 0, capital: 154.99323787806168\n",
      "Iteration at time 2024-05-30 18:00:03.593883, current price: 1.27416, positions: 0, capital: 154.99323787806168\n",
      "Iteration at time 2024-05-30 18:01:03.892427, current price: 1.27435, positions: 0, capital: 154.99323787806168\n",
      "Iteration at time 2024-05-30 18:02:04.110571, current price: 1.2742499999999999, positions: 0, capital: 154.99323787806168\n",
      "Iteration at time 2024-05-30 18:03:04.402034, current price: 1.27427, positions: 0, capital: 154.99323787806168\n",
      "Iteration at time 2024-05-30 18:04:04.609688, current price: 1.2742499999999999, positions: 0, capital: 154.99323787806168\n",
      "Iteration at time 2024-05-30 18:05:04.934887, current price: 1.27414, positions: 0, capital: 154.99323787806168\n",
      "Iteration at time 2024-05-30 18:06:05.232759, current price: 1.27416, positions: 0, capital: 154.99323787806168\n",
      "Iteration at time 2024-05-30 18:07:05.456676, current price: 1.27426, positions: 0, capital: 154.99323787806168\n",
      "Iteration at time 2024-05-30 18:08:05.779407, current price: 1.2742499999999999, positions: 0, capital: 154.99323787806168\n",
      "Iteration at time 2024-05-30 18:09:06.082799, current price: 1.27424, positions: 0, capital: 154.99323787806168\n",
      "Iteration at time 2024-05-30 18:10:06.301462, current price: 1.27419, positions: 0, capital: 154.99323787806168\n",
      "Iteration at time 2024-05-30 18:11:06.633386, current price: 1.27428, positions: 0, capital: 154.99323787806168\n",
      "Iteration at time 2024-05-30 18:12:06.938088, current price: 1.27426, positions: 0, capital: 154.99323787806168\n",
      "Iteration at time 2024-05-30 18:13:07.163518, current price: 1.27436, positions: 0, capital: 154.99323787806168\n",
      "Iteration at time 2024-05-30 18:14:07.455653, current price: 1.27436, positions: 0, capital: 154.99323787806168\n",
      "Iteration at time 2024-05-30 18:15:07.663248, current price: 1.2742200000000001, positions: 0, capital: 154.99323787806168\n",
      "Iteration at time 2024-05-30 18:16:07.987048, current price: 1.27424, positions: 0, capital: 154.99323787806168\n",
      "Iteration at time 2024-05-30 18:17:08.287599, current price: 1.2742499999999999, positions: 0, capital: 154.99323787806168\n",
      "Iteration at time 2024-05-30 18:18:08.512751, current price: 1.27424, positions: 0, capital: 154.99323787806168\n",
      "Iteration at time 2024-05-30 18:19:08.844970, current price: 1.27421, positions: 0, capital: 154.99323787806168\n",
      "Iteration at time 2024-05-30 18:20:09.140570, current price: 1.27414, positions: 0, capital: 154.99323787806168\n",
      "Iteration at time 2024-05-30 18:21:09.364132, current price: 1.27419, positions: 0, capital: 154.99323787806168\n",
      "Iteration at time 2024-05-30 18:22:09.658570, current price: 1.27421, positions: 0, capital: 154.99323787806168\n",
      "Iteration at time 2024-05-30 18:23:09.864879, current price: 1.27426, positions: 0, capital: 154.99323787806168\n",
      "Iteration at time 2024-05-30 18:24:10.203391, current price: 1.27417, positions: 0, capital: 154.99323787806168\n",
      "Iteration at time 2024-05-30 18:25:10.499062, current price: 1.27426, positions: 0, capital: 154.99323787806168\n",
      "Iteration at time 2024-05-30 18:26:10.709249, current price: 1.27435, positions: 0, capital: 154.99323787806168\n",
      "Iteration at time 2024-05-30 18:27:11.001216, current price: 1.27436, positions: 0, capital: 154.99323787806168\n",
      "Iteration at time 2024-05-30 18:28:11.204151, current price: 1.27434, positions: 0, capital: 154.99323787806168\n",
      "Iteration at time 2024-05-30 18:29:11.541504, current price: 1.27426, positions: 0, capital: 154.99323787806168\n",
      "Iteration at time 2024-05-30 18:30:11.835883, current price: 1.2742499999999999, positions: 0, capital: 154.99323787806168\n",
      "Iteration at time 2024-05-30 18:31:12.051606, current price: 1.2742499999999999, positions: 0, capital: 154.99323787806168\n",
      "Iteration at time 2024-05-30 18:32:12.349631, current price: 1.27432, positions: 0, capital: 154.99323787806168\n",
      "Iteration at time 2024-05-30 18:33:12.553926, current price: 1.27433, positions: 0, capital: 154.99323787806168\n",
      "Iteration at time 2024-05-30 18:34:12.850559, current price: 1.2743, positions: 0, capital: 154.99323787806168\n",
      "Iteration at time 2024-05-30 18:35:13.064319, current price: 1.2742499999999999, positions: 0, capital: 154.99323787806168\n",
      "Iteration at time 2024-05-30 18:36:13.391424, current price: 1.27428, positions: 0, capital: 154.99323787806168\n",
      "Iteration at time 2024-05-30 18:37:13.688943, current price: 1.27428, positions: 0, capital: 154.99323787806168\n",
      "Iteration at time 2024-05-30 18:38:13.909527, current price: 1.27439, positions: 0, capital: 154.99323787806168\n",
      "Iteration at time 2024-05-30 18:39:14.229352, current price: 1.2743, positions: 0, capital: 154.99323787806168\n",
      "Iteration at time 2024-05-30 18:40:14.528945, current price: 1.27426, positions: 0, capital: 154.99323787806168\n",
      "Iteration at time 2024-05-30 18:41:14.752648, current price: 1.27429, positions: 0, capital: 154.99323787806168\n",
      "Iteration at time 2024-05-30 18:42:15.079206, current price: 1.27417, positions: 0, capital: 154.99323787806168\n",
      "Iteration at time 2024-05-30 18:43:15.379424, current price: 1.27416, positions: 0, capital: 154.99323787806168\n",
      "Iteration at time 2024-05-30 18:44:15.603759, current price: 1.27426, positions: 0, capital: 154.99323787806168\n",
      "Iteration at time 2024-05-30 18:45:15.934212, current price: 1.2742499999999999, positions: 0, capital: 154.99323787806168\n",
      "Iteration at time 2024-05-30 18:46:16.235413, current price: 1.27427, positions: 0, capital: 154.99323787806168\n",
      "Iteration at time 2024-05-30 18:47:16.451126, current price: 1.2742499999999999, positions: 0, capital: 154.99323787806168\n",
      "Iteration at time 2024-05-30 18:48:16.779626, current price: 1.27406, positions: 0, capital: 154.99323787806168\n",
      "Iteration at time 2024-05-30 18:49:17.079120, current price: 1.27405, positions: 0, capital: 154.99323787806168\n",
      "Iteration at time 2024-05-30 18:50:17.282384, current price: 1.27404, positions: 0, capital: 154.99323787806168\n",
      "Iteration at time 2024-05-30 18:51:17.573077, current price: 1.27406, positions: 0, capital: 154.99323787806168\n",
      "Iteration at time 2024-05-30 18:52:17.788400, current price: 1.27407, positions: 0, capital: 154.99323787806168\n",
      "Iteration at time 2024-05-30 18:53:18.116618, current price: 1.27408, positions: 0, capital: 154.99323787806168\n",
      "Iteration at time 2024-05-30 18:54:18.413543, current price: 1.27406, positions: 0, capital: 154.99323787806168\n",
      "Iteration at time 2024-05-30 18:55:18.637680, current price: 1.27405, positions: 0, capital: 154.99323787806168\n",
      "Iteration at time 2024-05-30 18:56:18.929334, current price: 1.27397, positions: 0, capital: 154.99323787806168\n",
      "Iteration at time 2024-05-30 18:57:19.139171, current price: 1.2739, positions: 0, capital: 154.99323787806168\n",
      "Iteration at time 2024-05-30 18:58:19.430334, current price: 1.27397, positions: 0, capital: 154.99323787806168\n",
      "Iteration at time 2024-05-30 18:59:19.624605, current price: 1.27406, positions: 0, capital: 154.99323787806168\n"
     ]
    },
    {
     "name": "stderr",
     "output_type": "stream",
     "text": [
      "C:\\Users\\gunne\\AppData\\Local\\Temp\\ipykernel_15304\\3256594789.py:107: FutureWarning: The behavior of DataFrame concatenation with empty or all-NA entries is deprecated. In a future version, this will no longer exclude empty or all-NA columns when determining the result dtypes. To retain the old behavior, exclude the relevant entries before the concat operation.\n",
      "  trade_log_df = pd.concat([trade_log_df, pd.DataFrame([log_entry])], ignore_index=True)\n"
     ]
    },
    {
     "name": "stdout",
     "output_type": "stream",
     "text": [
      "Iteration at time 2024-05-30 19:00:19.915153, current price: 1.27397, positions: 24332.321464094395, capital: 154.99323787806168\n",
      "Iteration at time 2024-05-30 19:01:20.128750, current price: 1.27397, positions: 24332.321464094395, capital: 154.99323787806168\n",
      "Iteration at time 2024-05-30 19:02:20.446843, current price: 1.27385, positions: 0, capital: 154.37326492654944\n",
      "Iteration at time 2024-05-30 19:03:20.748220, current price: 1.27381, positions: 0, capital: 154.37326492654944\n",
      "Iteration at time 2024-05-30 19:04:20.966191, current price: 1.27383, positions: 0, capital: 154.37326492654944\n",
      "Iteration at time 2024-05-30 19:05:21.259374, current price: 1.27385, positions: 0, capital: 154.37326492654944\n",
      "Iteration at time 2024-05-30 19:06:21.464115, current price: 1.2738399999999999, positions: 0, capital: 154.37326492654944\n",
      "Iteration at time 2024-05-30 19:07:21.799436, current price: 1.27375, positions: 0, capital: 154.37326492654944\n",
      "Iteration at time 2024-05-30 19:08:22.099083, current price: 1.2738, positions: 0, capital: 154.37326492654944\n",
      "Iteration at time 2024-05-30 19:09:22.315631, current price: 1.27373, positions: 0, capital: 154.37326492654944\n",
      "Iteration at time 2024-05-30 19:10:22.640302, current price: 1.27378, positions: 0, capital: 154.37326492654944\n",
      "Iteration at time 2024-05-30 19:11:22.939386, current price: 1.27378, positions: 0, capital: 154.37326492654944\n",
      "Iteration at time 2024-05-30 19:12:23.153430, current price: 1.27383, positions: 0, capital: 154.37326492654944\n"
     ]
    },
    {
     "name": "stderr",
     "output_type": "stream",
     "text": [
      "C:\\Users\\gunne\\AppData\\Local\\Temp\\ipykernel_15304\\3256594789.py:107: FutureWarning: The behavior of DataFrame concatenation with empty or all-NA entries is deprecated. In a future version, this will no longer exclude empty or all-NA columns when determining the result dtypes. To retain the old behavior, exclude the relevant entries before the concat operation.\n",
      "  trade_log_df = pd.concat([trade_log_df, pd.DataFrame([log_entry])], ignore_index=True)\n"
     ]
    },
    {
     "name": "stdout",
     "output_type": "stream",
     "text": [
      "Iteration at time 2024-05-30 19:13:23.473114, current price: 1.27393, positions: 24235.753130321045, capital: 154.37326492654944\n",
      "Iteration at time 2024-05-30 19:14:23.772934, current price: 1.27385, positions: 0, capital: 153.75577186684325\n",
      "Iteration at time 2024-05-30 19:15:23.992068, current price: 1.27377, positions: 0, capital: 153.75577186684325\n",
      "Iteration at time 2024-05-30 19:16:24.317499, current price: 1.27352, positions: 0, capital: 153.75577186684325\n",
      "Iteration at time 2024-05-30 19:17:24.616768, current price: 1.27356, positions: 0, capital: 153.75577186684325\n",
      "Iteration at time 2024-05-30 19:18:24.842291, current price: 1.27356, positions: 0, capital: 153.75577186684325\n",
      "Iteration at time 2024-05-30 19:19:25.174164, current price: 1.27356, positions: 0, capital: 153.75577186684325\n",
      "Iteration at time 2024-05-30 19:20:25.469471, current price: 1.2736100000000001, positions: 0, capital: 153.75577186684325\n",
      "Iteration at time 2024-05-30 19:21:25.684800, current price: 1.2735699999999999, positions: 0, capital: 153.75577186684325\n",
      "Iteration at time 2024-05-30 19:22:26.010458, current price: 1.2735699999999999, positions: 0, capital: 153.75577186684325\n",
      "Iteration at time 2024-05-30 19:23:26.305167, current price: 1.2735699999999999, positions: 0, capital: 153.75577186684325\n",
      "Iteration at time 2024-05-30 19:24:26.519252, current price: 1.27367, positions: 0, capital: 153.75577186684325\n",
      "Iteration at time 2024-05-30 19:25:26.814618, current price: 1.27372, positions: 0, capital: 153.75577186684325\n",
      "Iteration at time 2024-05-30 19:26:27.027753, current price: 1.27371, positions: 0, capital: 153.75577186684325\n",
      "Iteration at time 2024-05-30 19:27:27.347582, current price: 1.2737, positions: 0, capital: 153.75577186684325\n",
      "Iteration at time 2024-05-30 19:28:27.642493, current price: 1.27374, positions: 0, capital: 153.75577186684325\n",
      "Iteration at time 2024-05-30 19:29:27.870248, current price: 1.27374, positions: 0, capital: 153.75577186684325\n",
      "Iteration at time 2024-05-30 19:30:28.201290, current price: 1.27382, positions: 0, capital: 153.75577186684325\n",
      "Iteration at time 2024-05-30 19:31:28.503383, current price: 1.2738399999999999, positions: 0, capital: 153.75577186684325\n",
      "Iteration at time 2024-05-30 19:32:28.711941, current price: 1.27392, positions: 0, capital: 153.75577186684325\n",
      "Iteration at time 2024-05-30 19:33:29.033408, current price: 1.27392, positions: 0, capital: 153.75577186684325\n",
      "Iteration at time 2024-05-30 19:34:29.329007, current price: 1.27392, positions: 0, capital: 153.75577186684325\n",
      "Iteration at time 2024-05-30 19:35:29.549373, current price: 1.27375, positions: 0, capital: 153.75577186684325\n",
      "Iteration at time 2024-05-30 19:36:29.875475, current price: 1.27367, positions: 0, capital: 153.75577186684325\n",
      "Iteration at time 2024-05-30 19:37:30.174944, current price: 1.27369, positions: 0, capital: 153.75577186684325\n",
      "Iteration at time 2024-05-30 19:38:30.393490, current price: 1.27372, positions: 0, capital: 153.75577186684325\n",
      "Iteration at time 2024-05-30 19:39:30.688372, current price: 1.27367, positions: 0, capital: 153.75577186684325\n",
      "Iteration at time 2024-05-30 19:40:30.895188, current price: 1.27365, positions: 0, capital: 153.75577186684325\n",
      "Iteration at time 2024-05-30 19:41:31.192613, current price: 1.27371, positions: 0, capital: 153.75577186684325\n",
      "Iteration at time 2024-05-30 19:42:31.396826, current price: 1.2736399999999999, positions: 0, capital: 153.75577186684325\n",
      "Iteration at time 2024-05-30 19:43:31.726527, current price: 1.27362, positions: 0, capital: 153.75577186684325\n",
      "Iteration at time 2024-05-30 19:44:32.022811, current price: 1.2737, positions: 0, capital: 153.75577186684325\n",
      "Iteration at time 2024-05-30 19:45:32.227164, current price: 1.2736399999999999, positions: 0, capital: 153.75577186684325\n",
      "Iteration at time 2024-05-30 19:46:32.519466, current price: 1.27368, positions: 0, capital: 153.75577186684325\n",
      "Iteration at time 2024-05-30 19:47:32.721802, current price: 1.27375, positions: 0, capital: 153.75577186684325\n",
      "Iteration at time 2024-05-30 19:48:33.056637, current price: 1.27376, positions: 0, capital: 153.75577186684325\n",
      "Iteration at time 2024-05-30 19:49:33.358166, current price: 1.27366, positions: 0, capital: 153.75577186684325\n",
      "Iteration at time 2024-05-30 19:50:33.572395, current price: 1.27377, positions: 0, capital: 153.75577186684325\n",
      "Iteration at time 2024-05-30 19:51:33.865793, current price: 1.27385, positions: 0, capital: 153.75577186684325\n",
      "Iteration at time 2024-05-30 19:52:34.084348, current price: 1.27385, positions: 0, capital: 153.75577186684325\n",
      "Iteration at time 2024-05-30 19:53:34.416896, current price: 1.27386, positions: 0, capital: 153.75577186684325\n",
      "Iteration at time 2024-05-30 19:54:34.714473, current price: 1.27382, positions: 0, capital: 153.75577186684325\n",
      "Iteration at time 2024-05-30 19:55:34.927385, current price: 1.27378, positions: 0, capital: 153.75577186684325\n",
      "Iteration at time 2024-05-30 19:56:35.251912, current price: 1.27378, positions: 0, capital: 153.75577186684325\n",
      "Iteration at time 2024-05-30 19:57:35.557092, current price: 1.27379, positions: 0, capital: 153.75577186684325\n",
      "Iteration at time 2024-05-30 19:58:35.771282, current price: 1.27375, positions: 0, capital: 153.75577186684325\n",
      "Iteration at time 2024-05-30 19:59:36.101310, current price: 1.27377, positions: 0, capital: 153.75577186684325\n"
     ]
    },
    {
     "name": "stderr",
     "output_type": "stream",
     "text": [
      "C:\\Users\\gunne\\AppData\\Local\\Temp\\ipykernel_15304\\3256594789.py:107: FutureWarning: The behavior of DataFrame concatenation with empty or all-NA entries is deprecated. In a future version, this will no longer exclude empty or all-NA columns when determining the result dtypes. To retain the old behavior, exclude the relevant entries before the concat operation.\n",
      "  trade_log_df = pd.concat([trade_log_df, pd.DataFrame([log_entry])], ignore_index=True)\n"
     ]
    },
    {
     "name": "stdout",
     "output_type": "stream",
     "text": [
      "Iteration at time 2024-05-30 20:00:36.402515, current price: 1.27366, positions: 24143.927243823822, capital: 153.75577186684325\n",
      "Iteration at time 2024-05-30 20:01:36.622408, current price: 1.27365, positions: 24143.927243823822, capital: 153.75577186684325\n",
      "Iteration at time 2024-05-30 20:02:36.916510, current price: 1.27347, positions: 0, capital: 153.14074877937588\n",
      "Iteration at time 2024-05-30 20:03:37.131403, current price: 1.27337, positions: 0, capital: 153.14074877937588\n"
     ]
    },
    {
     "name": "stderr",
     "output_type": "stream",
     "text": [
      "C:\\Users\\gunne\\AppData\\Local\\Temp\\ipykernel_15304\\3256594789.py:107: FutureWarning: The behavior of DataFrame concatenation with empty or all-NA entries is deprecated. In a future version, this will no longer exclude empty or all-NA columns when determining the result dtypes. To retain the old behavior, exclude the relevant entries before the concat operation.\n",
      "  trade_log_df = pd.concat([trade_log_df, pd.DataFrame([log_entry])], ignore_index=True)\n"
     ]
    },
    {
     "name": "stdout",
     "output_type": "stream",
     "text": [
      "Iteration at time 2024-05-30 20:04:37.460055, current price: 1.27355, positions: 24049.42857043318, capital: 153.14074877937588\n",
      "Iteration at time 2024-05-30 20:05:37.754409, current price: 1.27368, positions: 0, capital: 156.26717449353131\n"
     ]
    },
    {
     "name": "stderr",
     "output_type": "stream",
     "text": [
      "C:\\Users\\gunne\\AppData\\Local\\Temp\\ipykernel_15304\\3256594789.py:107: FutureWarning: The behavior of DataFrame concatenation with empty or all-NA entries is deprecated. In a future version, this will no longer exclude empty or all-NA columns when determining the result dtypes. To retain the old behavior, exclude the relevant entries before the concat operation.\n",
      "  trade_log_df = pd.concat([trade_log_df, pd.DataFrame([log_entry])], ignore_index=True)\n"
     ]
    },
    {
     "name": "stdout",
     "output_type": "stream",
     "text": [
      "Iteration at time 2024-05-30 20:06:37.975223, current price: 1.27363, positions: 24538.865211015964, capital: 156.26717449353131\n",
      "Iteration at time 2024-05-30 20:07:38.301491, current price: 1.27362, positions: 24538.865211015964, capital: 156.26717449353131\n",
      "Iteration at time 2024-05-30 20:08:38.603056, current price: 1.27352, positions: 0, capital: 155.6421057955572\n"
     ]
    },
    {
     "name": "stderr",
     "output_type": "stream",
     "text": [
      "C:\\Users\\gunne\\AppData\\Local\\Temp\\ipykernel_15304\\3256594789.py:107: FutureWarning: The behavior of DataFrame concatenation with empty or all-NA entries is deprecated. In a future version, this will no longer exclude empty or all-NA columns when determining the result dtypes. To retain the old behavior, exclude the relevant entries before the concat operation.\n",
      "  trade_log_df = pd.concat([trade_log_df, pd.DataFrame([log_entry])], ignore_index=True)\n"
     ]
    },
    {
     "name": "stdout",
     "output_type": "stream",
     "text": [
      "Iteration at time 2024-05-30 20:09:38.820257, current price: 1.27352, positions: 24442.82081091105, capital: 155.6421057955572\n",
      "Iteration at time 2024-05-30 20:10:39.145566, current price: 1.27345, positions: 0, capital: 155.01953737237497\n"
     ]
    },
    {
     "name": "stderr",
     "output_type": "stream",
     "text": [
      "C:\\Users\\gunne\\AppData\\Local\\Temp\\ipykernel_15304\\3256594789.py:107: FutureWarning: The behavior of DataFrame concatenation with empty or all-NA entries is deprecated. In a future version, this will no longer exclude empty or all-NA columns when determining the result dtypes. To retain the old behavior, exclude the relevant entries before the concat operation.\n",
      "  trade_log_df = pd.concat([trade_log_df, pd.DataFrame([log_entry])], ignore_index=True)\n"
     ]
    },
    {
     "name": "stdout",
     "output_type": "stream",
     "text": [
      "Iteration at time 2024-05-30 20:11:39.441614, current price: 1.27353, positions: 24344.85836570398, capital: 155.01953737237497\n",
      "Iteration at time 2024-05-30 20:12:39.672769, current price: 1.2736399999999999, positions: 0, capital: 157.69747179259832\n"
     ]
    },
    {
     "name": "stderr",
     "output_type": "stream",
     "text": [
      "C:\\Users\\gunne\\AppData\\Local\\Temp\\ipykernel_15304\\3256594789.py:107: FutureWarning: The behavior of DataFrame concatenation with empty or all-NA entries is deprecated. In a future version, this will no longer exclude empty or all-NA columns when determining the result dtypes. To retain the old behavior, exclude the relevant entries before the concat operation.\n",
      "  trade_log_df = pd.concat([trade_log_df, pd.DataFrame([log_entry])], ignore_index=True)\n"
     ]
    },
    {
     "name": "stdout",
     "output_type": "stream",
     "text": [
      "Iteration at time 2024-05-30 20:13:40.004835, current price: 1.27371, positions: 24761.911548562595, capital: 157.69747179259832\n",
      "Iteration at time 2024-05-30 20:14:40.304425, current price: 1.2737, positions: 24761.911548562595, capital: 157.69747179259832\n",
      "Iteration at time 2024-05-30 20:15:40.531877, current price: 1.27373, positions: 24761.911548562595, capital: 157.69747179259832\n",
      "Iteration at time 2024-05-30 20:16:40.852476, current price: 1.27375, positions: 24761.911548562595, capital: 157.69747179259832\n",
      "Iteration at time 2024-05-30 20:17:41.150820, current price: 1.2736100000000001, positions: 0, capital: 157.06668190542794\n"
     ]
    },
    {
     "name": "stderr",
     "output_type": "stream",
     "text": [
      "C:\\Users\\gunne\\AppData\\Local\\Temp\\ipykernel_15304\\3256594789.py:107: FutureWarning: The behavior of DataFrame concatenation with empty or all-NA entries is deprecated. In a future version, this will no longer exclude empty or all-NA columns when determining the result dtypes. To retain the old behavior, exclude the relevant entries before the concat operation.\n",
      "  trade_log_df = pd.concat([trade_log_df, pd.DataFrame([log_entry])], ignore_index=True)\n"
     ]
    },
    {
     "name": "stdout",
     "output_type": "stream",
     "text": [
      "Iteration at time 2024-05-30 20:18:41.365075, current price: 1.27367, positions: 24663.63844723169, capital: 157.06668190542794\n",
      "Iteration at time 2024-05-30 20:19:41.659480, current price: 1.27366, positions: 24663.63844723169, capital: 157.06668190542794\n",
      "Iteration at time 2024-05-30 20:20:41.866022, current price: 1.27347, positions: 0, capital: 156.43841517780623\n"
     ]
    },
    {
     "name": "stderr",
     "output_type": "stream",
     "text": [
      "C:\\Users\\gunne\\AppData\\Local\\Temp\\ipykernel_15304\\3256594789.py:107: FutureWarning: The behavior of DataFrame concatenation with empty or all-NA entries is deprecated. In a future version, this will no longer exclude empty or all-NA columns when determining the result dtypes. To retain the old behavior, exclude the relevant entries before the concat operation.\n",
      "  trade_log_df = pd.concat([trade_log_df, pd.DataFrame([log_entry])], ignore_index=True)\n"
     ]
    },
    {
     "name": "stdout",
     "output_type": "stream",
     "text": [
      "Iteration at time 2024-05-30 20:21:42.200361, current price: 1.2735400000000001, positions: 24567.491429842208, capital: 156.43841517780623\n",
      "Iteration at time 2024-05-30 20:22:42.495354, current price: 1.27352, positions: 24567.491429842208, capital: 156.43841517780623\n",
      "Iteration at time 2024-05-30 20:23:42.715030, current price: 1.2736100000000001, positions: 0, capital: 158.15813957789555\n",
      "Iteration at time 2024-05-30 20:24:43.006105, current price: 1.27341, positions: 0, capital: 158.15813957789555\n",
      "Iteration at time 2024-05-30 20:25:43.211480, current price: 1.27345, positions: 0, capital: 158.15813957789555\n",
      "Iteration at time 2024-05-30 20:26:43.507134, current price: 1.27342, positions: 0, capital: 158.15813957789555\n"
     ]
    },
    {
     "name": "stderr",
     "output_type": "stream",
     "text": [
      "C:\\Users\\gunne\\AppData\\Local\\Temp\\ipykernel_15304\\3256594789.py:107: FutureWarning: The behavior of DataFrame concatenation with empty or all-NA entries is deprecated. In a future version, this will no longer exclude empty or all-NA columns when determining the result dtypes. To retain the old behavior, exclude the relevant entries before the concat operation.\n",
      "  trade_log_df = pd.concat([trade_log_df, pd.DataFrame([log_entry])], ignore_index=True)\n"
     ]
    },
    {
     "name": "stdout",
     "output_type": "stream",
     "text": [
      "Iteration at time 2024-05-30 20:27:43.705672, current price: 1.2735400000000001, positions: 24837.561376618803, capital: 158.15813957789555\n",
      "Iteration at time 2024-05-30 20:28:44.039932, current price: 1.27358, positions: 24837.561376618803, capital: 158.15813957789555\n",
      "Iteration at time 2024-05-30 20:29:44.333393, current price: 1.2735400000000001, positions: 24837.561376618803, capital: 158.15813957789555\n",
      "Iteration at time 2024-05-30 20:30:44.543821, current price: 1.27352, positions: 24837.561376618803, capital: 158.15813957789555\n",
      "Iteration at time 2024-05-30 20:31:44.835266, current price: 1.27349, positions: 24837.561376618803, capital: 158.15813957789555\n",
      "Iteration at time 2024-05-30 20:32:45.046025, current price: 1.2735400000000001, positions: 24837.561376618803, capital: 158.15813957789555\n",
      "Iteration at time 2024-05-30 20:33:45.337467, current price: 1.27342, positions: 0, capital: 157.52550701958398\n",
      "Iteration at time 2024-05-30 20:34:45.548069, current price: 1.27338, positions: 0, capital: 157.52550701958398\n",
      "Iteration at time 2024-05-30 20:35:45.875117, current price: 1.27336, positions: 0, capital: 157.52550701958398\n",
      "Iteration at time 2024-05-30 20:36:46.174450, current price: 1.2733400000000001, positions: 0, capital: 157.52550701958398\n",
      "Iteration at time 2024-05-30 20:37:46.391795, current price: 1.27335, positions: 0, capital: 157.52550701958398\n",
      "Iteration at time 2024-05-30 20:38:46.720713, current price: 1.2732700000000001, positions: 0, capital: 157.52550701958398\n",
      "Iteration at time 2024-05-30 20:39:47.015492, current price: 1.2732700000000001, positions: 0, capital: 157.52550701958398\n",
      "Iteration at time 2024-05-30 20:40:47.233428, current price: 1.27314, positions: 0, capital: 157.52550701958398\n",
      "Iteration at time 2024-05-30 20:41:47.554433, current price: 1.27307, positions: 0, capital: 157.52550701958398\n",
      "Iteration at time 2024-05-30 20:42:47.858378, current price: 1.27308, positions: 0, capital: 157.52550701958398\n",
      "Iteration at time 2024-05-30 20:43:48.072818, current price: 1.27297, positions: 0, capital: 157.52550701958398\n",
      "Iteration at time 2024-05-30 20:44:48.397588, current price: 1.27297, positions: 0, capital: 157.52550701958398\n",
      "Iteration at time 2024-05-30 20:45:48.697196, current price: 1.2729300000000001, positions: 0, capital: 157.52550701958398\n",
      "Iteration at time 2024-05-30 20:46:48.913062, current price: 1.27291, positions: 0, capital: 157.52550701958398\n",
      "Iteration at time 2024-05-30 20:47:49.211210, current price: 1.27285, positions: 0, capital: 157.52550701958398\n",
      "Iteration at time 2024-05-30 20:48:49.425382, current price: 1.27277, positions: 0, capital: 157.52550701958398\n",
      "Iteration at time 2024-05-30 20:49:49.761038, current price: 1.27273, positions: 0, capital: 157.52550701958398\n",
      "Iteration at time 2024-05-30 20:50:50.056766, current price: 1.2728, positions: 0, capital: 157.52550701958398\n",
      "Iteration at time 2024-05-30 20:51:50.263925, current price: 1.27284, positions: 0, capital: 157.52550701958398\n",
      "Iteration at time 2024-05-30 20:52:50.597229, current price: 1.2730000000000001, positions: 0, capital: 157.52550701958398\n",
      "Iteration at time 2024-05-30 20:53:50.896607, current price: 1.27304, positions: 0, capital: 157.52550701958398\n",
      "Iteration at time 2024-05-30 20:54:51.108563, current price: 1.27302, positions: 0, capital: 157.52550701958398\n",
      "Iteration at time 2024-05-30 20:55:51.437249, current price: 1.27324, positions: 0, capital: 157.52550701958398\n",
      "Iteration at time 2024-05-30 20:56:51.736928, current price: 1.27316, positions: 0, capital: 157.52550701958398\n",
      "Iteration at time 2024-05-30 20:57:51.952675, current price: 1.27306, positions: 0, capital: 157.52550701958398\n",
      "Iteration at time 2024-05-30 20:58:52.001303, current price: 1.2731, positions: 0, capital: 157.52550701958398\n",
      "Iteration at time 2024-05-30 20:59:52.505524, current price: 1.27318, positions: 0, capital: 157.52550701958398\n"
     ]
    },
    {
     "name": "stderr",
     "output_type": "stream",
     "text": [
      "C:\\Users\\gunne\\AppData\\Local\\Temp\\ipykernel_15304\\3256594789.py:107: FutureWarning: The behavior of DataFrame concatenation with empty or all-NA entries is deprecated. In a future version, this will no longer exclude empty or all-NA columns when determining the result dtypes. To retain the old behavior, exclude the relevant entries before the concat operation.\n",
      "  trade_log_df = pd.concat([trade_log_df, pd.DataFrame([log_entry])], ignore_index=True)\n"
     ]
    },
    {
     "name": "stdout",
     "output_type": "stream",
     "text": [
      "Iteration at time 2024-05-30 21:00:52.810365, current price: 1.27304, positions: 24747.92732664865, capital: 157.52550701958398\n",
      "Iteration at time 2024-05-30 21:01:53.028277, current price: 1.27312, positions: 0, capital: 159.50534120571785\n"
     ]
    },
    {
     "name": "stderr",
     "output_type": "stream",
     "text": [
      "C:\\Users\\gunne\\AppData\\Local\\Temp\\ipykernel_15304\\3256594789.py:107: FutureWarning: The behavior of DataFrame concatenation with empty or all-NA entries is deprecated. In a future version, this will no longer exclude empty or all-NA columns when determining the result dtypes. To retain the old behavior, exclude the relevant entries before the concat operation.\n",
      "  trade_log_df = pd.concat([trade_log_df, pd.DataFrame([log_entry])], ignore_index=True)\n"
     ]
    },
    {
     "name": "stdout",
     "output_type": "stream",
     "text": [
      "Iteration at time 2024-05-30 21:02:53.325574, current price: 1.27315, positions: 25056.80260860352, capital: 159.50534120571785\n",
      "Iteration at time 2024-05-30 21:03:53.537367, current price: 1.27316, positions: 25056.80260860352, capital: 159.50534120571785\n",
      "Iteration at time 2024-05-30 21:04:53.862304, current price: 1.2731, positions: 25056.80260860352, capital: 159.50534120571785\n",
      "Iteration at time 2024-05-30 21:05:54.162701, current price: 1.27306, positions: 0, capital: 158.867319840895\n"
     ]
    },
    {
     "name": "stderr",
     "output_type": "stream",
     "text": [
      "C:\\Users\\gunne\\AppData\\Local\\Temp\\ipykernel_15304\\3256594789.py:107: FutureWarning: The behavior of DataFrame concatenation with empty or all-NA entries is deprecated. In a future version, this will no longer exclude empty or all-NA columns when determining the result dtypes. To retain the old behavior, exclude the relevant entries before the concat operation.\n",
      "  trade_log_df = pd.concat([trade_log_df, pd.DataFrame([log_entry])], ignore_index=True)\n"
     ]
    },
    {
     "name": "stdout",
     "output_type": "stream",
     "text": [
      "Iteration at time 2024-05-30 21:06:54.375236, current price: 1.27301, positions: 24959.3200117666, capital: 158.867319840895\n",
      "Iteration at time 2024-05-30 21:07:54.703136, current price: 1.27289, positions: 0, capital: 158.23185056153142\n"
     ]
    },
    {
     "name": "stderr",
     "output_type": "stream",
     "text": [
      "C:\\Users\\gunne\\AppData\\Local\\Temp\\ipykernel_15304\\3256594789.py:107: FutureWarning: The behavior of DataFrame concatenation with empty or all-NA entries is deprecated. In a future version, this will no longer exclude empty or all-NA columns when determining the result dtypes. To retain the old behavior, exclude the relevant entries before the concat operation.\n",
      "  trade_log_df = pd.concat([trade_log_df, pd.DataFrame([log_entry])], ignore_index=True)\n"
     ]
    },
    {
     "name": "stdout",
     "output_type": "stream",
     "text": [
      "Iteration at time 2024-05-30 21:08:55.007607, current price: 1.27294, positions: 24860.849774778297, capital: 158.23185056153142\n",
      "Iteration at time 2024-05-30 21:09:55.226725, current price: 1.2729300000000001, positions: 24860.849774778297, capital: 158.23185056153142\n",
      "Iteration at time 2024-05-30 21:10:55.520954, current price: 1.27295, positions: 24860.849774778297, capital: 158.23185056153142\n",
      "Iteration at time 2024-05-30 21:11:55.740312, current price: 1.2729599999999999, positions: 24860.849774778297, capital: 158.23185056153142\n",
      "Iteration at time 2024-05-30 21:12:56.055700, current price: 1.27294, positions: 24860.849774778297, capital: 158.23185056153142\n",
      "Iteration at time 2024-05-30 21:13:56.351997, current price: 1.27295, positions: 24860.849774778297, capital: 158.23185056153142\n",
      "Iteration at time 2024-05-30 21:14:56.575957, current price: 1.27297, positions: 24860.849774778297, capital: 158.23185056153142\n",
      "Iteration at time 2024-05-30 21:15:56.902398, current price: 1.27304, positions: 0, capital: 160.71793553900898\n"
     ]
    },
    {
     "name": "stderr",
     "output_type": "stream",
     "text": [
      "C:\\Users\\gunne\\AppData\\Local\\Temp\\ipykernel_15304\\3256594789.py:107: FutureWarning: The behavior of DataFrame concatenation with empty or all-NA entries is deprecated. In a future version, this will no longer exclude empty or all-NA columns when determining the result dtypes. To retain the old behavior, exclude the relevant entries before the concat operation.\n",
      "  trade_log_df = pd.concat([trade_log_df, pd.DataFrame([log_entry])], ignore_index=True)\n"
     ]
    },
    {
     "name": "stdout",
     "output_type": "stream",
     "text": [
      "Iteration at time 2024-05-30 21:16:57.202836, current price: 1.27306, positions: 25249.074755158275, capital: 160.71793553900898\n",
      "Iteration at time 2024-05-30 21:17:57.423065, current price: 1.27304, positions: 25249.074755158275, capital: 160.71793553900898\n",
      "Iteration at time 2024-05-30 21:18:57.716048, current price: 1.2730000000000001, positions: 0, capital: 160.07506379685293\n"
     ]
    },
    {
     "name": "stderr",
     "output_type": "stream",
     "text": [
      "C:\\Users\\gunne\\AppData\\Local\\Temp\\ipykernel_15304\\3256594789.py:107: FutureWarning: The behavior of DataFrame concatenation with empty or all-NA entries is deprecated. In a future version, this will no longer exclude empty or all-NA columns when determining the result dtypes. To retain the old behavior, exclude the relevant entries before the concat operation.\n",
      "  trade_log_df = pd.concat([trade_log_df, pd.DataFrame([log_entry])], ignore_index=True)\n"
     ]
    },
    {
     "name": "stdout",
     "output_type": "stream",
     "text": [
      "Iteration at time 2024-05-30 21:19:57.923474, current price: 1.27304, positions: 25148.473543149146, capital: 160.07506379685293\n",
      "Iteration at time 2024-05-30 21:20:58.220221, current price: 1.27305, positions: 25148.473543149146, capital: 160.07506379685293\n",
      "Iteration at time 2024-05-30 21:21:58.427304, current price: 1.27304, positions: 25148.473543149146, capital: 160.07506379685293\n",
      "Iteration at time 2024-05-30 21:22:58.762579, current price: 1.27304, positions: 25148.473543149146, capital: 160.07506379685293\n",
      "Iteration at time 2024-05-30 21:23:59.061192, current price: 1.27305, positions: 25148.473543149146, capital: 160.07506379685293\n",
      "Iteration at time 2024-05-30 21:24:59.262995, current price: 1.2731, positions: 25148.473543149146, capital: 160.07506379685293\n",
      "Iteration at time 2024-05-30 21:25:59.559630, current price: 1.27312, positions: 0, capital: 162.08694168030686\n"
     ]
    },
    {
     "name": "stderr",
     "output_type": "stream",
     "text": [
      "C:\\Users\\gunne\\AppData\\Local\\Temp\\ipykernel_15304\\3256594789.py:107: FutureWarning: The behavior of DataFrame concatenation with empty or all-NA entries is deprecated. In a future version, this will no longer exclude empty or all-NA columns when determining the result dtypes. To retain the old behavior, exclude the relevant entries before the concat operation.\n",
      "  trade_log_df = pd.concat([trade_log_df, pd.DataFrame([log_entry])], ignore_index=True)\n"
     ]
    },
    {
     "name": "stdout",
     "output_type": "stream",
     "text": [
      "Iteration at time 2024-05-30 21:26:59.765493, current price: 1.27315, positions: 25462.347984182044, capital: 162.08694168030686\n",
      "Iteration at time 2024-05-30 21:28:00.096672, current price: 1.27315, positions: 25462.347984182044, capital: 162.08694168030686\n",
      "Iteration at time 2024-05-30 21:29:00.398379, current price: 1.27315, positions: 25462.347984182044, capital: 162.08694168030686\n",
      "Iteration at time 2024-05-30 21:30:00.614249, current price: 1.27319, positions: 25462.347984182044, capital: 162.08694168030686\n",
      "Iteration at time 2024-05-30 21:31:00.912411, current price: 1.2732299999999999, positions: 0, capital: 164.1239295190378\n"
     ]
    },
    {
     "name": "stderr",
     "output_type": "stream",
     "text": [
      "C:\\Users\\gunne\\AppData\\Local\\Temp\\ipykernel_15304\\3256594789.py:107: FutureWarning: The behavior of DataFrame concatenation with empty or all-NA entries is deprecated. In a future version, this will no longer exclude empty or all-NA columns when determining the result dtypes. To retain the old behavior, exclude the relevant entries before the concat operation.\n",
      "  trade_log_df = pd.concat([trade_log_df, pd.DataFrame([log_entry])], ignore_index=True)\n"
     ]
    },
    {
     "name": "stdout",
     "output_type": "stream",
     "text": [
      "Iteration at time 2024-05-30 21:32:01.128793, current price: 1.27321, positions: 25781.124797800487, capital: 164.1239295190378\n",
      "Iteration at time 2024-05-30 21:33:01.463989, current price: 1.27325, positions: 25781.124797800487, capital: 164.1239295190378\n",
      "Iteration at time 2024-05-30 21:34:01.764482, current price: 1.27325, positions: 25781.124797800487, capital: 164.1239295190378\n",
      "Iteration at time 2024-05-30 21:35:01.977900, current price: 1.27318, positions: 25781.124797800487, capital: 164.1239295190378\n",
      "Iteration at time 2024-05-30 21:36:02.298729, current price: 1.27317, positions: 25781.124797800487, capital: 164.1239295190378\n",
      "Iteration at time 2024-05-30 21:37:02.596283, current price: 1.27317, positions: 25781.124797800487, capital: 164.1239295190378\n",
      "Iteration at time 2024-05-30 21:38:02.818317, current price: 1.27318, positions: 25781.124797800487, capital: 164.1239295190378\n",
      "Iteration at time 2024-05-30 21:39:03.140897, current price: 1.27319, positions: 25781.124797800487, capital: 164.1239295190378\n",
      "Iteration at time 2024-05-30 21:40:03.441128, current price: 1.27318, positions: 25781.124797800487, capital: 164.1239295190378\n",
      "Iteration at time 2024-05-30 21:41:03.665483, current price: 1.27318, positions: 25781.124797800487, capital: 164.1239295190378\n",
      "Iteration at time 2024-05-30 21:42:03.957976, current price: 1.27319, positions: 25781.124797800487, capital: 164.1239295190378\n",
      "Iteration at time 2024-05-30 21:43:04.167900, current price: 1.27317, positions: 25781.124797800487, capital: 164.1239295190378\n",
      "Iteration at time 2024-05-30 21:44:04.501912, current price: 1.27318, positions: 25781.124797800487, capital: 164.1239295190378\n",
      "Iteration at time 2024-05-30 21:45:04.801577, current price: 1.27319, positions: 25781.124797800487, capital: 164.1239295190378\n",
      "Iteration at time 2024-05-30 21:46:05.016966, current price: 1.27321, positions: 25781.124797800487, capital: 164.1239295190378\n",
      "Iteration at time 2024-05-30 21:47:05.344472, current price: 1.27322, positions: 25781.124797800487, capital: 164.1239295190378\n",
      "Iteration at time 2024-05-30 21:48:05.640736, current price: 1.27322, positions: 25781.124797800487, capital: 164.1239295190378\n",
      "Iteration at time 2024-05-30 21:49:05.857276, current price: 1.2732299999999999, positions: 25781.124797800487, capital: 164.1239295190378\n",
      "Iteration at time 2024-05-30 21:50:06.179335, current price: 1.27322, positions: 25781.124797800487, capital: 164.1239295190378\n",
      "Iteration at time 2024-05-30 21:51:06.475037, current price: 1.27328, positions: 0, capital: 165.9286082548842\n"
     ]
    },
    {
     "name": "stderr",
     "output_type": "stream",
     "text": [
      "C:\\Users\\gunne\\AppData\\Local\\Temp\\ipykernel_15304\\3256594789.py:107: FutureWarning: The behavior of DataFrame concatenation with empty or all-NA entries is deprecated. In a future version, this will no longer exclude empty or all-NA columns when determining the result dtypes. To retain the old behavior, exclude the relevant entries before the concat operation.\n",
      "  trade_log_df = pd.concat([trade_log_df, pd.DataFrame([log_entry])], ignore_index=True)\n"
     ]
    },
    {
     "name": "stdout",
     "output_type": "stream",
     "text": [
      "Iteration at time 2024-05-30 21:52:06.706701, current price: 1.2732299999999999, positions: 26064.20022382197, capital: 165.9286082548842\n",
      "Iteration at time 2024-05-30 21:53:07.041841, current price: 1.27321, positions: 26064.20022382197, capital: 165.9286082548842\n",
      "Iteration at time 2024-05-30 21:54:07.341732, current price: 1.27322, positions: 26064.20022382197, capital: 165.9286082548842\n",
      "Iteration at time 2024-05-30 21:55:07.565893, current price: 1.27321, positions: 26064.20022382197, capital: 165.9286082548842\n",
      "Iteration at time 2024-05-30 21:56:07.856920, current price: 1.2732, positions: 26064.20022382197, capital: 165.9286082548842\n",
      "Iteration at time 2024-05-30 21:57:08.060890, current price: 1.2732, positions: 26064.20022382197, capital: 165.9286082548842\n",
      "Iteration at time 2024-05-30 21:58:08.355873, current price: 1.27322, positions: 26064.20022382197, capital: 165.9286082548842\n",
      "Iteration at time 2024-05-30 21:59:08.560260, current price: 1.27319, positions: 26064.20022382197, capital: 165.9286082548842\n",
      "Iteration at time 2024-05-30 22:00:08.851524, current price: 1.27319, positions: 26064.20022382197, capital: 165.9286082548842\n",
      "Iteration at time 2024-05-30 22:01:09.063553, current price: 1.2725, positions: 0, capital: 165.26489382186466\n",
      "Iteration at time 2024-05-30 22:02:09.390519, current price: 1.2725, positions: 0, capital: 165.26489382186466\n",
      "Iteration at time 2024-05-30 22:03:09.693857, current price: 1.27258, positions: 0, capital: 165.26489382186466\n",
      "Iteration at time 2024-05-30 22:04:09.914287, current price: 1.27271, positions: 0, capital: 165.26489382186466\n",
      "Iteration at time 2024-05-30 22:05:10.209147, current price: 1.2726600000000001, positions: 0, capital: 165.26489382186466\n",
      "Iteration at time 2024-05-30 22:06:10.426264, current price: 1.27282, positions: 0, capital: 165.26489382186466\n",
      "Iteration at time 2024-05-30 22:07:10.761860, current price: 1.27295, positions: 0, capital: 165.26489382186466\n",
      "Iteration at time 2024-05-30 22:08:11.055389, current price: 1.27275, positions: 0, capital: 165.26489382186466\n",
      "Iteration at time 2024-05-30 22:09:11.276203, current price: 1.2726, positions: 0, capital: 165.26489382186466\n",
      "Iteration at time 2024-05-30 22:10:11.598708, current price: 1.2727, positions: 0, capital: 165.26489382186466\n",
      "Iteration at time 2024-05-30 22:11:11.897378, current price: 1.27287, positions: 0, capital: 165.26489382186466\n",
      "Iteration at time 2024-05-30 22:12:12.112786, current price: 1.2729599999999999, positions: 0, capital: 165.26489382186466\n",
      "Iteration at time 2024-05-30 22:13:12.439140, current price: 1.27294, positions: 0, capital: 165.26489382186466\n",
      "Iteration at time 2024-05-30 22:14:12.741033, current price: 1.27295, positions: 0, capital: 165.26489382186466\n",
      "Iteration at time 2024-05-30 22:15:12.956028, current price: 1.27292, positions: 0, capital: 165.26489382186466\n",
      "Iteration at time 2024-05-30 22:16:13.286990, current price: 1.27284, positions: 0, capital: 165.26489382186466\n",
      "Iteration at time 2024-05-30 22:17:13.587623, current price: 1.27286, positions: 0, capital: 165.26489382186466\n"
     ]
    },
    {
     "name": "stderr",
     "output_type": "stream",
     "text": [
      "C:\\Users\\gunne\\AppData\\Local\\Temp\\ipykernel_15304\\3256594789.py:107: FutureWarning: The behavior of DataFrame concatenation with empty or all-NA entries is deprecated. In a future version, this will no longer exclude empty or all-NA columns when determining the result dtypes. To retain the old behavior, exclude the relevant entries before the concat operation.\n",
      "  trade_log_df = pd.concat([trade_log_df, pd.DataFrame([log_entry])], ignore_index=True)\n"
     ]
    },
    {
     "name": "stdout",
     "output_type": "stream",
     "text": [
      "Iteration at time 2024-05-30 22:18:13.825049, current price: 1.27313, positions: 25961.982487548743, capital: 165.26489382186466\n",
      "Iteration at time 2024-05-30 22:19:14.148302, current price: 1.27308, positions: 25961.982487548743, capital: 165.26489382186466\n",
      "Iteration at time 2024-05-30 22:20:14.442720, current price: 1.27297, positions: 0, capital: 164.6038342465772\n",
      "Iteration at time 2024-05-30 22:21:14.655426, current price: 1.27282, positions: 0, capital: 164.6038342465772\n",
      "Iteration at time 2024-05-30 22:22:14.947255, current price: 1.27278, positions: 0, capital: 164.6038342465772\n",
      "Iteration at time 2024-05-30 22:23:15.161896, current price: 1.27277, positions: 0, capital: 164.6038342465772\n",
      "Iteration at time 2024-05-30 22:24:15.479332, current price: 1.2727, positions: 0, capital: 164.6038342465772\n",
      "Iteration at time 2024-05-30 22:25:15.776166, current price: 1.2730299999999999, positions: 0, capital: 164.6038342465772\n"
     ]
    },
    {
     "name": "stderr",
     "output_type": "stream",
     "text": [
      "C:\\Users\\gunne\\AppData\\Local\\Temp\\ipykernel_15304\\3256594789.py:107: FutureWarning: The behavior of DataFrame concatenation with empty or all-NA entries is deprecated. In a future version, this will no longer exclude empty or all-NA columns when determining the result dtypes. To retain the old behavior, exclude the relevant entries before the concat operation.\n",
      "  trade_log_df = pd.concat([trade_log_df, pd.DataFrame([log_entry])], ignore_index=True)\n"
     ]
    },
    {
     "name": "stdout",
     "output_type": "stream",
     "text": [
      "Iteration at time 2024-05-30 22:26:16.003270, current price: 1.27314, positions: 25857.931452405428, capital: 164.6038342465772\n",
      "Iteration at time 2024-05-30 22:27:16.301976, current price: 1.27302, positions: 0, capital: 163.9454189095909\n",
      "Iteration at time 2024-05-30 22:28:16.507434, current price: 1.27301, positions: 0, capital: 163.9454189095909\n",
      "Iteration at time 2024-05-30 22:29:16.803426, current price: 1.27304, positions: 0, capital: 163.9454189095909\n",
      "Iteration at time 2024-05-30 22:30:17.005460, current price: 1.27299, positions: 0, capital: 163.9454189095909\n",
      "Iteration at time 2024-05-30 22:31:17.337377, current price: 1.27302, positions: 0, capital: 163.9454189095909\n",
      "Iteration at time 2024-05-30 22:32:17.636544, current price: 1.27302, positions: 0, capital: 163.9454189095909\n",
      "Iteration at time 2024-05-30 22:33:17.841264, current price: 1.27299, positions: 0, capital: 163.9454189095909\n",
      "Iteration at time 2024-05-30 22:34:18.136556, current price: 1.27299, positions: 0, capital: 163.9454189095909\n",
      "Iteration at time 2024-05-30 22:35:18.353434, current price: 1.27298, positions: 0, capital: 163.9454189095909\n",
      "Iteration at time 2024-05-30 22:36:18.678901, current price: 1.2730000000000001, positions: 0, capital: 163.9454189095909\n",
      "Iteration at time 2024-05-30 22:37:18.979944, current price: 1.2730000000000001, positions: 0, capital: 163.9454189095909\n",
      "Iteration at time 2024-05-30 22:38:19.198673, current price: 1.27309, positions: 0, capital: 163.9454189095909\n",
      "Iteration at time 2024-05-30 22:39:19.499291, current price: 1.27313, positions: 0, capital: 163.9454189095909\n",
      "Iteration at time 2024-05-30 22:40:19.707513, current price: 1.27313, positions: 0, capital: 163.9454189095909\n"
     ]
    },
    {
     "name": "stderr",
     "output_type": "stream",
     "text": [
      "C:\\Users\\gunne\\AppData\\Local\\Temp\\ipykernel_15304\\3256594789.py:107: FutureWarning: The behavior of DataFrame concatenation with empty or all-NA entries is deprecated. In a future version, this will no longer exclude empty or all-NA columns when determining the result dtypes. To retain the old behavior, exclude the relevant entries before the concat operation.\n",
      "  trade_log_df = pd.concat([trade_log_df, pd.DataFrame([log_entry])], ignore_index=True)\n"
     ]
    },
    {
     "name": "stdout",
     "output_type": "stream",
     "text": [
      "Iteration at time 2024-05-30 22:41:20.036675, current price: 1.27322, positions: 25752.8814988126, capital: 163.9454189095909\n",
      "Iteration at time 2024-05-30 22:42:20.335944, current price: 1.27304, positions: 0, capital: 163.28963723395253\n",
      "Iteration at time 2024-05-30 22:43:20.549896, current price: 1.27309, positions: 0, capital: 163.28963723395253\n",
      "Iteration at time 2024-05-30 22:44:20.876254, current price: 1.27309, positions: 0, capital: 163.28963723395253\n",
      "Iteration at time 2024-05-30 22:45:21.178583, current price: 1.2731, positions: 0, capital: 163.28963723395253\n",
      "Iteration at time 2024-05-30 22:46:21.398688, current price: 1.27312, positions: 0, capital: 163.28963723395253\n",
      "Iteration at time 2024-05-30 22:47:21.726574, current price: 1.27308, positions: 0, capital: 163.28963723395253\n",
      "Iteration at time 2024-05-30 22:48:22.022167, current price: 1.27309, positions: 0, capital: 163.28963723395253\n",
      "Iteration at time 2024-05-30 22:49:22.249235, current price: 1.2731, positions: 0, capital: 163.28963723395253\n",
      "Iteration at time 2024-05-30 22:50:22.541600, current price: 1.27306, positions: 0, capital: 163.28963723395253\n",
      "Iteration at time 2024-05-30 22:51:22.748452, current price: 1.27305, positions: 0, capital: 163.28963723395253\n",
      "Iteration at time 2024-05-30 22:52:23.041380, current price: 1.27312, positions: 0, capital: 163.28963723395253\n"
     ]
    },
    {
     "name": "stderr",
     "output_type": "stream",
     "text": [
      "C:\\Users\\gunne\\AppData\\Local\\Temp\\ipykernel_15304\\3256594789.py:107: FutureWarning: The behavior of DataFrame concatenation with empty or all-NA entries is deprecated. In a future version, this will no longer exclude empty or all-NA columns when determining the result dtypes. To retain the old behavior, exclude the relevant entries before the concat operation.\n",
      "  trade_log_df = pd.concat([trade_log_df, pd.DataFrame([log_entry])], ignore_index=True)\n"
     ]
    },
    {
     "name": "stdout",
     "output_type": "stream",
     "text": [
      "Iteration at time 2024-05-30 22:53:23.238229, current price: 1.27322, positions: 25649.869972817352, capital: 163.28963723395253\n",
      "Iteration at time 2024-05-30 22:54:23.562192, current price: 1.27318, positions: 25649.869972817352, capital: 163.28963723395253\n",
      "Iteration at time 2024-05-30 22:55:23.857749, current price: 1.27311, positions: 0, capital: 162.63647868501673\n",
      "Iteration at time 2024-05-30 22:56:24.070730, current price: 1.27309, positions: 0, capital: 162.63647868501673\n",
      "Iteration at time 2024-05-30 22:57:24.371189, current price: 1.27304, positions: 0, capital: 162.63647868501673\n",
      "Iteration at time 2024-05-30 22:58:24.581488, current price: 1.27311, positions: 0, capital: 162.63647868501673\n",
      "Iteration at time 2024-05-30 22:59:24.875961, current price: 1.27308, positions: 0, capital: 162.63647868501673\n",
      "Iteration at time 2024-05-30 23:00:25.086691, current price: 1.27315, positions: 0, capital: 162.63647868501673\n",
      "Iteration at time 2024-05-30 23:01:25.422157, current price: 1.27319, positions: 0, capital: 162.63647868501673\n",
      "Iteration at time 2024-05-30 23:02:25.722800, current price: 1.2732, positions: 0, capital: 162.63647868501673\n",
      "Iteration at time 2024-05-30 23:03:25.948097, current price: 1.27322, positions: 0, capital: 162.63647868501673\n",
      "Iteration at time 2024-05-30 23:04:26.270086, current price: 1.2732299999999999, positions: 0, capital: 162.63647868501673\n",
      "Iteration at time 2024-05-30 23:05:26.570488, current price: 1.27325, positions: 0, capital: 162.63647868501673\n",
      "Iteration at time 2024-05-30 23:06:26.791603, current price: 1.27324, positions: 0, capital: 162.63647868501673\n",
      "Iteration at time 2024-05-30 23:07:27.124463, current price: 1.27324, positions: 0, capital: 162.63647868501673\n",
      "Iteration at time 2024-05-30 23:08:27.423473, current price: 1.2732, positions: 0, capital: 162.63647868501673\n",
      "Iteration at time 2024-05-30 23:09:27.640036, current price: 1.27319, positions: 0, capital: 162.63647868501673\n",
      "Iteration at time 2024-05-30 23:10:27.963533, current price: 1.27321, positions: 0, capital: 162.63647868501673\n",
      "Iteration at time 2024-05-30 23:11:28.266602, current price: 1.27321, positions: 0, capital: 162.63647868501673\n",
      "Iteration at time 2024-05-30 23:12:28.492214, current price: 1.2732299999999999, positions: 0, capital: 162.63647868501673\n",
      "Iteration at time 2024-05-30 23:13:28.790800, current price: 1.2732299999999999, positions: 0, capital: 162.63647868501673\n",
      "Iteration at time 2024-05-30 23:14:28.995503, current price: 1.2732299999999999, positions: 0, capital: 162.63647868501673\n",
      "Iteration at time 2024-05-30 23:15:29.323509, current price: 1.27325, positions: 0, capital: 162.63647868501673\n",
      "Iteration at time 2024-05-30 23:16:29.621789, current price: 1.2732299999999999, positions: 0, capital: 162.63647868501673\n",
      "Iteration at time 2024-05-30 23:17:29.828293, current price: 1.2732299999999999, positions: 0, capital: 162.63647868501673\n",
      "Iteration at time 2024-05-30 23:18:30.119834, current price: 1.27324, positions: 0, capital: 162.63647868501673\n",
      "Iteration at time 2024-05-30 23:19:30.323779, current price: 1.2732299999999999, positions: 0, capital: 162.63647868501673\n",
      "Iteration at time 2024-05-30 23:20:30.621805, current price: 1.27328, positions: 0, capital: 162.63647868501673\n",
      "Iteration at time 2024-05-30 23:21:30.829215, current price: 1.2732299999999999, positions: 0, capital: 162.63647868501673\n",
      "Iteration at time 2024-05-30 23:22:31.126239, current price: 1.27324, positions: 0, capital: 162.63647868501673\n"
     ]
    },
    {
     "name": "stderr",
     "output_type": "stream",
     "text": [
      "C:\\Users\\gunne\\AppData\\Local\\Temp\\ipykernel_15304\\3256594789.py:107: FutureWarning: The behavior of DataFrame concatenation with empty or all-NA entries is deprecated. In a future version, this will no longer exclude empty or all-NA columns when determining the result dtypes. To retain the old behavior, exclude the relevant entries before the concat operation.\n",
      "  trade_log_df = pd.concat([trade_log_df, pd.DataFrame([log_entry])], ignore_index=True)\n"
     ]
    },
    {
     "name": "stdout",
     "output_type": "stream",
     "text": [
      "Iteration at time 2024-05-30 23:23:31.342429, current price: 1.27332, positions: 25545.264141773747, capital: 162.63647868501673\n",
      "Iteration at time 2024-05-30 23:24:31.635945, current price: 1.27332, positions: 25545.264141773747, capital: 162.63647868501673\n",
      "Iteration at time 2024-05-30 23:25:31.840503, current price: 1.27331, positions: 25545.264141773747, capital: 162.63647868501673\n",
      "Iteration at time 2024-05-30 23:26:32.174433, current price: 1.27332, positions: 25545.264141773747, capital: 162.63647868501673\n",
      "Iteration at time 2024-05-30 23:27:32.473769, current price: 1.2732299999999999, positions: 0, capital: 161.98593277027666\n",
      "Iteration at time 2024-05-30 23:28:32.676554, current price: 1.27325, positions: 0, capital: 161.98593277027666\n",
      "Iteration at time 2024-05-30 23:29:33.009617, current price: 1.27326, positions: 0, capital: 161.98593277027666\n",
      "Iteration at time 2024-05-30 23:30:33.304992, current price: 1.2732700000000001, positions: 0, capital: 161.98593277027666\n",
      "Iteration at time 2024-05-30 23:31:33.516147, current price: 1.27326, positions: 0, capital: 161.98593277027666\n",
      "Iteration at time 2024-05-30 23:32:33.808631, current price: 1.2732999999999999, positions: 0, capital: 161.98593277027666\n",
      "Iteration at time 2024-05-30 23:33:34.016496, current price: 1.2732999999999999, positions: 0, capital: 161.98593277027666\n",
      "Iteration at time 2024-05-30 23:34:34.311592, current price: 1.27329, positions: 0, capital: 161.98593277027666\n",
      "Iteration at time 2024-05-30 23:35:34.530779, current price: 1.27322, positions: 0, capital: 161.98593277027666\n",
      "Iteration at time 2024-05-30 23:36:34.821778, current price: 1.27322, positions: 0, capital: 161.98593277027666\n",
      "Iteration at time 2024-05-30 23:37:35.035111, current price: 1.27322, positions: 0, capital: 161.98593277027666\n",
      "Iteration at time 2024-05-30 23:38:35.351376, current price: 1.27321, positions: 0, capital: 161.98593277027666\n",
      "Iteration at time 2024-05-30 23:39:35.648845, current price: 1.27322, positions: 0, capital: 161.98593277027666\n",
      "Iteration at time 2024-05-30 23:40:35.869863, current price: 1.27322, positions: 0, capital: 161.98593277027666\n",
      "Iteration at time 2024-05-30 23:41:36.189915, current price: 1.27322, positions: 0, capital: 161.98593277027666\n",
      "Iteration at time 2024-05-30 23:42:36.489490, current price: 1.27322, positions: 0, capital: 161.98593277027666\n",
      "Iteration at time 2024-05-30 23:43:36.710080, current price: 1.27322, positions: 0, capital: 161.98593277027666\n",
      "Iteration at time 2024-05-30 23:44:37.037814, current price: 1.2732299999999999, positions: 0, capital: 161.98593277027666\n",
      "Iteration at time 2024-05-30 23:45:37.337351, current price: 1.2732299999999999, positions: 0, capital: 161.98593277027666\n",
      "Iteration at time 2024-05-30 23:46:37.571002, current price: 1.27324, positions: 0, capital: 161.98593277027666\n",
      "Iteration at time 2024-05-30 23:47:37.897334, current price: 1.2732299999999999, positions: 0, capital: 161.98593277027666\n",
      "Iteration at time 2024-05-30 23:48:38.194421, current price: 1.2732299999999999, positions: 0, capital: 161.98593277027666\n",
      "Iteration at time 2024-05-30 23:49:38.416568, current price: 1.27322, positions: 0, capital: 161.98593277027666\n",
      "Iteration at time 2024-05-30 23:50:38.710296, current price: 1.27322, positions: 0, capital: 161.98593277027666\n",
      "Iteration at time 2024-05-30 23:51:38.913374, current price: 1.2732299999999999, positions: 0, capital: 161.98593277027666\n",
      "Iteration at time 2024-05-30 23:52:39.249204, current price: 1.27316, positions: 0, capital: 161.98593277027666\n",
      "Iteration at time 2024-05-30 23:53:39.549238, current price: 1.27317, positions: 0, capital: 161.98593277027666\n",
      "Iteration at time 2024-05-30 23:54:39.763878, current price: 1.27322, positions: 0, capital: 161.98593277027666\n",
      "Iteration at time 2024-05-30 23:55:40.057502, current price: 1.27321, positions: 0, capital: 161.98593277027666\n",
      "Iteration at time 2024-05-30 23:56:40.269553, current price: 1.2732299999999999, positions: 0, capital: 161.98593277027666\n",
      "Iteration at time 2024-05-30 23:57:40.563203, current price: 1.2732299999999999, positions: 0, capital: 161.98593277027666\n",
      "Iteration at time 2024-05-30 23:58:40.771450, current price: 1.27322, positions: 0, capital: 161.98593277027666\n",
      "Iteration at time 2024-05-30 23:59:41.105253, current price: 1.2732299999999999, positions: 0, capital: 161.98593277027666\n",
      "Iteration at time 2024-05-31 00:00:41.408814, current price: 1.27314, positions: 0, capital: 161.98593277027666\n",
      "Iteration at time 2024-05-31 00:01:41.613327, current price: 1.27315, positions: 0, capital: 161.98593277027666\n",
      "Iteration at time 2024-05-31 00:02:41.949201, current price: 1.27311, positions: 0, capital: 161.98593277027666\n",
      "Iteration at time 2024-05-31 00:03:42.245550, current price: 1.27311, positions: 0, capital: 161.98593277027666\n",
      "Iteration at time 2024-05-31 00:04:42.459509, current price: 1.27311, positions: 0, capital: 161.98593277027666\n",
      "Iteration at time 2024-05-31 00:05:42.758448, current price: 1.2731, positions: 0, capital: 161.98593277027666\n",
      "Iteration at time 2024-05-31 00:06:42.977237, current price: 1.27313, positions: 0, capital: 161.98593277027666\n",
      "Iteration at time 2024-05-31 00:07:43.270108, current price: 1.2731, positions: 0, capital: 161.98593277027666\n",
      "Iteration at time 2024-05-31 00:08:43.479140, current price: 1.27311, positions: 0, capital: 161.98593277027666\n",
      "Iteration at time 2024-05-31 00:09:43.772472, current price: 1.27299, positions: 0, capital: 161.98593277027666\n",
      "Iteration at time 2024-05-31 00:10:43.975926, current price: 1.2729, positions: 0, capital: 161.98593277027666\n",
      "Iteration at time 2024-05-31 00:11:44.320481, current price: 1.27291, positions: 0, capital: 161.98593277027666\n",
      "Iteration at time 2024-05-31 00:12:44.658215, current price: 1.27291, positions: 0, capital: 161.98593277027666\n",
      "Iteration at time 2024-05-31 00:13:44.954806, current price: 1.27292, positions: 0, capital: 161.98593277027666\n",
      "Iteration at time 2024-05-31 00:14:45.175713, current price: 1.27292, positions: 0, capital: 161.98593277027666\n",
      "Iteration at time 2024-05-31 00:15:45.508716, current price: 1.27291, positions: 0, capital: 161.98593277027666\n",
      "Iteration at time 2024-05-31 00:16:45.804492, current price: 1.27292, positions: 0, capital: 161.98593277027666\n",
      "Iteration at time 2024-05-31 00:17:46.029145, current price: 1.27292, positions: 0, capital: 161.98593277027666\n",
      "Iteration at time 2024-05-31 00:18:46.321128, current price: 1.27292, positions: 0, capital: 161.98593277027666\n",
      "Iteration at time 2024-05-31 00:19:46.534979, current price: 1.27291, positions: 0, capital: 161.98593277027666\n",
      "Iteration at time 2024-05-31 00:20:46.877195, current price: 1.27285, positions: 0, capital: 161.98593277027666\n",
      "Iteration at time 2024-05-31 00:21:47.178128, current price: 1.27281, positions: 0, capital: 161.98593277027666\n",
      "Iteration at time 2024-05-31 00:22:47.381749, current price: 1.27283, positions: 0, capital: 161.98593277027666\n",
      "Iteration at time 2024-05-31 00:23:47.712500, current price: 1.27283, positions: 0, capital: 161.98593277027666\n",
      "Iteration at time 2024-05-31 00:24:48.007164, current price: 1.27282, positions: 0, capital: 161.98593277027666\n",
      "Iteration at time 2024-05-31 00:25:48.223248, current price: 1.27284, positions: 0, capital: 161.98593277027666\n",
      "Iteration at time 2024-05-31 00:26:48.559400, current price: 1.27285, positions: 0, capital: 161.98593277027666\n",
      "Iteration at time 2024-05-31 00:27:48.852494, current price: 1.27284, positions: 0, capital: 161.98593277027666\n",
      "Iteration at time 2024-05-31 00:28:49.079047, current price: 1.27286, positions: 0, capital: 161.98593277027666\n",
      "Iteration at time 2024-05-31 00:29:49.396756, current price: 1.27292, positions: 0, capital: 161.98593277027666\n",
      "Iteration at time 2024-05-31 00:30:49.700462, current price: 1.2729300000000001, positions: 0, capital: 161.98593277027666\n",
      "Iteration at time 2024-05-31 00:31:49.931540, current price: 1.27294, positions: 0, capital: 161.98593277027666\n",
      "Iteration at time 2024-05-31 00:32:50.252522, current price: 1.27295, positions: 0, capital: 161.98593277027666\n",
      "Iteration at time 2024-05-31 00:33:50.552063, current price: 1.2729300000000001, positions: 0, capital: 161.98593277027666\n",
      "Iteration at time 2024-05-31 00:34:50.768271, current price: 1.27292, positions: 0, capital: 161.98593277027666\n",
      "Iteration at time 2024-05-31 00:35:51.089309, current price: 1.27294, positions: 0, capital: 161.98593277027666\n",
      "Iteration at time 2024-05-31 00:36:51.386947, current price: 1.27294, positions: 0, capital: 161.98593277027666\n",
      "Iteration at time 2024-05-31 00:37:51.609342, current price: 1.27294, positions: 0, capital: 161.98593277027666\n",
      "Iteration at time 2024-05-31 00:38:51.900170, current price: 1.27291, positions: 0, capital: 161.98593277027666\n",
      "Iteration at time 2024-05-31 00:39:52.104317, current price: 1.27284, positions: 0, capital: 161.98593277027666\n",
      "Iteration at time 2024-05-31 00:40:52.397050, current price: 1.27292, positions: 0, capital: 161.98593277027666\n",
      "Iteration at time 2024-05-31 00:41:52.604717, current price: 1.27295, positions: 0, capital: 161.98593277027666\n",
      "Iteration at time 2024-05-31 00:42:52.898960, current price: 1.27294, positions: 0, capital: 161.98593277027666\n",
      "Iteration at time 2024-05-31 00:43:53.109332, current price: 1.27298, positions: 0, capital: 161.98593277027666\n",
      "Iteration at time 2024-05-31 00:44:53.428060, current price: 1.27306, positions: 0, capital: 161.98593277027666\n",
      "Iteration at time 2024-05-31 00:45:53.730291, current price: 1.27304, positions: 0, capital: 161.98593277027666\n",
      "Iteration at time 2024-05-31 00:46:53.940579, current price: 1.2730299999999999, positions: 0, capital: 161.98593277027666\n",
      "Iteration at time 2024-05-31 00:47:54.234567, current price: 1.2730299999999999, positions: 0, capital: 161.98593277027666\n",
      "Iteration at time 2024-05-31 00:48:54.450279, current price: 1.27304, positions: 0, capital: 161.98593277027666\n",
      "Iteration at time 2024-05-31 00:49:54.771513, current price: 1.2729599999999999, positions: 0, capital: 161.98593277027666\n",
      "Iteration at time 2024-05-31 00:50:55.071394, current price: 1.27301, positions: 0, capital: 161.98593277027666\n",
      "Iteration at time 2024-05-31 00:51:55.291448, current price: 1.2730299999999999, positions: 0, capital: 161.98593277027666\n",
      "Iteration at time 2024-05-31 00:52:55.620194, current price: 1.27304, positions: 0, capital: 161.98593277027666\n",
      "Iteration at time 2024-05-31 00:53:55.921557, current price: 1.27308, positions: 0, capital: 161.98593277027666\n",
      "Iteration at time 2024-05-31 00:54:56.148410, current price: 1.27302, positions: 0, capital: 161.98593277027666\n",
      "Iteration at time 2024-05-31 00:55:56.471819, current price: 1.27304, positions: 0, capital: 161.98593277027666\n",
      "Iteration at time 2024-05-31 00:56:56.769530, current price: 1.2729599999999999, positions: 0, capital: 161.98593277027666\n",
      "Iteration at time 2024-05-31 00:57:56.985382, current price: 1.2729, positions: 0, capital: 161.98593277027666\n",
      "Iteration at time 2024-05-31 00:58:57.312003, current price: 1.27289, positions: 0, capital: 161.98593277027666\n",
      "Iteration at time 2024-05-31 00:59:57.612747, current price: 1.2729, positions: 0, capital: 161.98593277027666\n"
     ]
    },
    {
     "name": "stderr",
     "output_type": "stream",
     "text": [
      "C:\\Users\\gunne\\AppData\\Local\\Temp\\ipykernel_15304\\3256594789.py:107: FutureWarning: The behavior of DataFrame concatenation with empty or all-NA entries is deprecated. In a future version, this will no longer exclude empty or all-NA columns when determining the result dtypes. To retain the old behavior, exclude the relevant entries before the concat operation.\n",
      "  trade_log_df = pd.concat([trade_log_df, pd.DataFrame([log_entry])], ignore_index=True)\n"
     ]
    },
    {
     "name": "stdout",
     "output_type": "stream",
     "text": [
      "Iteration at time 2024-05-31 01:00:57.835043, current price: 1.27299, positions: 25449.678751644027, capital: 161.98593277027666\n",
      "Iteration at time 2024-05-31 01:01:58.160492, current price: 1.2730000000000001, positions: 25449.678751644027, capital: 161.98593277027666\n",
      "Iteration at time 2024-05-31 01:02:58.461526, current price: 1.27295, positions: 25449.678751644027, capital: 161.98593277027666\n",
      "Iteration at time 2024-05-31 01:03:58.681190, current price: 1.2730299999999999, positions: 25449.678751644027, capital: 161.98593277027666\n",
      "Iteration at time 2024-05-31 01:04:58.981266, current price: 1.2730299999999999, positions: 25449.678751644027, capital: 161.98593277027666\n",
      "Iteration at time 2024-05-31 01:05:59.192159, current price: 1.27306, positions: 0, capital: 163.76741028289211\n"
     ]
    },
    {
     "name": "stderr",
     "output_type": "stream",
     "text": [
      "C:\\Users\\gunne\\AppData\\Local\\Temp\\ipykernel_15304\\3256594789.py:107: FutureWarning: The behavior of DataFrame concatenation with empty or all-NA entries is deprecated. In a future version, this will no longer exclude empty or all-NA columns when determining the result dtypes. To retain the old behavior, exclude the relevant entries before the concat operation.\n",
      "  trade_log_df = pd.concat([trade_log_df, pd.DataFrame([log_entry])], ignore_index=True)\n"
     ]
    },
    {
     "name": "stdout",
     "output_type": "stream",
     "text": [
      "Iteration at time 2024-05-31 01:06:59.507657, current price: 1.2730299999999999, positions: 25728.758989637656, capital: 163.76741028289211\n",
      "Iteration at time 2024-05-31 01:07:59.806462, current price: 1.27307, positions: 25728.758989637656, capital: 163.76741028289211\n",
      "Iteration at time 2024-05-31 01:09:00.021488, current price: 1.2731, positions: 0, capital: 165.56842341216714\n"
     ]
    },
    {
     "name": "stderr",
     "output_type": "stream",
     "text": [
      "C:\\Users\\gunne\\AppData\\Local\\Temp\\ipykernel_15304\\3256594789.py:107: FutureWarning: The behavior of DataFrame concatenation with empty or all-NA entries is deprecated. In a future version, this will no longer exclude empty or all-NA columns when determining the result dtypes. To retain the old behavior, exclude the relevant entries before the concat operation.\n",
      "  trade_log_df = pd.concat([trade_log_df, pd.DataFrame([log_entry])], ignore_index=True)\n"
     ]
    },
    {
     "name": "stdout",
     "output_type": "stream",
     "text": [
      "Iteration at time 2024-05-31 01:10:00.316318, current price: 1.27317, positions: 26008.847744160976, capital: 165.56842341216714\n",
      "Iteration at time 2024-05-31 01:11:00.520694, current price: 1.27313, positions: 26008.847744160976, capital: 165.56842341216714\n",
      "Iteration at time 2024-05-31 01:12:00.813986, current price: 1.27318, positions: 26008.847744160976, capital: 165.56842341216714\n",
      "Iteration at time 2024-05-31 01:13:01.019902, current price: 1.27315, positions: 26008.847744160976, capital: 165.56842341216714\n",
      "Iteration at time 2024-05-31 01:14:01.312716, current price: 1.27317, positions: 26008.847744160976, capital: 165.56842341216714\n",
      "Iteration at time 2024-05-31 01:15:01.535944, current price: 1.27305, positions: 0, capital: 164.90614971851846\n"
     ]
    },
    {
     "name": "stderr",
     "output_type": "stream",
     "text": [
      "C:\\Users\\gunne\\AppData\\Local\\Temp\\ipykernel_15304\\3256594789.py:107: FutureWarning: The behavior of DataFrame concatenation with empty or all-NA entries is deprecated. In a future version, this will no longer exclude empty or all-NA columns when determining the result dtypes. To retain the old behavior, exclude the relevant entries before the concat operation.\n",
      "  trade_log_df = pd.concat([trade_log_df, pd.DataFrame([log_entry])], ignore_index=True)\n"
     ]
    },
    {
     "name": "stdout",
     "output_type": "stream",
     "text": [
      "Iteration at time 2024-05-31 01:16:01.831436, current price: 1.2729300000000001, positions: 25909.696482684587, capital: 164.90614971851846\n",
      "Iteration at time 2024-05-31 01:17:02.036348, current price: 1.27281, positions: 0, capital: 164.2465251196444\n"
     ]
    },
    {
     "name": "stderr",
     "output_type": "stream",
     "text": [
      "C:\\Users\\gunne\\AppData\\Local\\Temp\\ipykernel_15304\\3256594789.py:107: FutureWarning: The behavior of DataFrame concatenation with empty or all-NA entries is deprecated. In a future version, this will no longer exclude empty or all-NA columns when determining the result dtypes. To retain the old behavior, exclude the relevant entries before the concat operation.\n",
      "  trade_log_df = pd.concat([trade_log_df, pd.DataFrame([log_entry])], ignore_index=True)\n"
     ]
    },
    {
     "name": "stdout",
     "output_type": "stream",
     "text": [
      "Iteration at time 2024-05-31 01:18:02.365761, current price: 1.27292, positions: 25806.260427936457, capital: 164.2465251196444\n",
      "Iteration at time 2024-05-31 01:19:02.664081, current price: 1.2729599999999999, positions: 25806.260427936457, capital: 164.2465251196444\n",
      "Iteration at time 2024-05-31 01:20:02.878180, current price: 1.2729599999999999, positions: 25806.260427936457, capital: 164.2465251196444\n",
      "Iteration at time 2024-05-31 01:21:03.209627, current price: 1.27295, positions: 25806.260427936457, capital: 164.2465251196444\n",
      "Iteration at time 2024-05-31 01:22:03.504832, current price: 1.27304, positions: 0, capital: 167.34327637099412\n"
     ]
    },
    {
     "name": "stderr",
     "output_type": "stream",
     "text": [
      "C:\\Users\\gunne\\AppData\\Local\\Temp\\ipykernel_15304\\3256594789.py:107: FutureWarning: The behavior of DataFrame concatenation with empty or all-NA entries is deprecated. In a future version, this will no longer exclude empty or all-NA columns when determining the result dtypes. To retain the old behavior, exclude the relevant entries before the concat operation.\n",
      "  trade_log_df = pd.concat([trade_log_df, pd.DataFrame([log_entry])], ignore_index=True)\n"
     ]
    },
    {
     "name": "stdout",
     "output_type": "stream",
     "text": [
      "Iteration at time 2024-05-31 01:23:03.726108, current price: 1.27281, positions: 26295.09139164433, capital: 167.34327637099412\n",
      "Iteration at time 2024-05-31 01:24:04.057605, current price: 1.27292, positions: 0, capital: 170.23573642407644\n"
     ]
    },
    {
     "name": "stderr",
     "output_type": "stream",
     "text": [
      "C:\\Users\\gunne\\AppData\\Local\\Temp\\ipykernel_15304\\3256594789.py:107: FutureWarning: The behavior of DataFrame concatenation with empty or all-NA entries is deprecated. In a future version, this will no longer exclude empty or all-NA columns when determining the result dtypes. To retain the old behavior, exclude the relevant entries before the concat operation.\n",
      "  trade_log_df = pd.concat([trade_log_df, pd.DataFrame([log_entry])], ignore_index=True)\n"
     ]
    },
    {
     "name": "stdout",
     "output_type": "stream",
     "text": [
      "Iteration at time 2024-05-31 01:25:04.356501, current price: 1.27284, positions: 26748.960815825467, capital: 170.23573642407644\n",
      "Iteration at time 2024-05-31 01:26:04.579104, current price: 1.27291, positions: 0, capital: 172.1081636811846\n"
     ]
    },
    {
     "name": "stderr",
     "output_type": "stream",
     "text": [
      "C:\\Users\\gunne\\AppData\\Local\\Temp\\ipykernel_15304\\3256594789.py:107: FutureWarning: The behavior of DataFrame concatenation with empty or all-NA entries is deprecated. In a future version, this will no longer exclude empty or all-NA columns when determining the result dtypes. To retain the old behavior, exclude the relevant entries before the concat operation.\n",
      "  trade_log_df = pd.concat([trade_log_df, pd.DataFrame([log_entry])], ignore_index=True)\n"
     ]
    },
    {
     "name": "stdout",
     "output_type": "stream",
     "text": [
      "Iteration at time 2024-05-31 01:27:04.875750, current price: 1.27294, positions: 27041.048860305214, capital: 172.1081636811846\n",
      "Iteration at time 2024-05-31 01:28:05.079640, current price: 1.27295, positions: 27041.048860305214, capital: 172.1081636811846\n",
      "Iteration at time 2024-05-31 01:29:05.418683, current price: 1.2729300000000001, positions: 27041.048860305214, capital: 172.1081636811846\n",
      "Iteration at time 2024-05-31 01:30:05.719489, current price: 1.2729300000000001, positions: 27041.048860305214, capital: 172.1081636811846\n",
      "Iteration at time 2024-05-31 01:31:05.922262, current price: 1.27319, positions: 0, capital: 178.86842589626318\n"
     ]
    },
    {
     "name": "stderr",
     "output_type": "stream",
     "text": [
      "C:\\Users\\gunne\\AppData\\Local\\Temp\\ipykernel_15304\\3256594789.py:107: FutureWarning: The behavior of DataFrame concatenation with empty or all-NA entries is deprecated. In a future version, this will no longer exclude empty or all-NA columns when determining the result dtypes. To retain the old behavior, exclude the relevant entries before the concat operation.\n",
      "  trade_log_df = pd.concat([trade_log_df, pd.DataFrame([log_entry])], ignore_index=True)\n"
     ]
    },
    {
     "name": "stdout",
     "output_type": "stream",
     "text": [
      "Iteration at time 2024-05-31 01:32:06.258145, current price: 1.27314, positions: 28098.783463918055, capital: 178.86842589626318\n",
      "Iteration at time 2024-05-31 01:33:06.558180, current price: 1.27313, positions: 28098.783463918055, capital: 178.86842589626318\n",
      "Iteration at time 2024-05-31 01:34:06.770968, current price: 1.27313, positions: 28098.783463918055, capital: 178.86842589626318\n",
      "Iteration at time 2024-05-31 01:35:07.069396, current price: 1.27308, positions: 0, capital: 178.15295219267813\n"
     ]
    },
    {
     "name": "stderr",
     "output_type": "stream",
     "text": [
      "C:\\Users\\gunne\\AppData\\Local\\Temp\\ipykernel_15304\\3256594789.py:107: FutureWarning: The behavior of DataFrame concatenation with empty or all-NA entries is deprecated. In a future version, this will no longer exclude empty or all-NA columns when determining the result dtypes. To retain the old behavior, exclude the relevant entries before the concat operation.\n",
      "  trade_log_df = pd.concat([trade_log_df, pd.DataFrame([log_entry])], ignore_index=True)\n"
     ]
    },
    {
     "name": "stdout",
     "output_type": "stream",
     "text": [
      "Iteration at time 2024-05-31 01:36:07.273428, current price: 1.27307, positions: 27987.92716703373, capital: 178.15295219267813\n",
      "Iteration at time 2024-05-31 01:37:07.575025, current price: 1.27317, positions: 0, capital: 180.9517449093812\n"
     ]
    },
    {
     "name": "stderr",
     "output_type": "stream",
     "text": [
      "C:\\Users\\gunne\\AppData\\Local\\Temp\\ipykernel_15304\\3256594789.py:107: FutureWarning: The behavior of DataFrame concatenation with empty or all-NA entries is deprecated. In a future version, this will no longer exclude empty or all-NA columns when determining the result dtypes. To retain the old behavior, exclude the relevant entries before the concat operation.\n",
      "  trade_log_df = pd.concat([trade_log_df, pd.DataFrame([log_entry])], ignore_index=True)\n"
     ]
    },
    {
     "name": "stdout",
     "output_type": "stream",
     "text": [
      "Iteration at time 2024-05-31 01:38:07.789302, current price: 1.27305, positions: 28428.065654826, capital: 180.9517449093812\n",
      "Iteration at time 2024-05-31 01:39:08.087190, current price: 1.27305, positions: 28428.065654826, capital: 180.9517449093812\n",
      "Iteration at time 2024-05-31 01:40:08.295894, current price: 1.27305, positions: 28428.065654826, capital: 180.9517449093812\n",
      "Iteration at time 2024-05-31 01:41:08.589150, current price: 1.27302, positions: 28428.065654826, capital: 180.9517449093812\n",
      "Iteration at time 2024-05-31 01:42:08.794211, current price: 1.27313, positions: 0, capital: 183.22599016176957\n"
     ]
    },
    {
     "name": "stderr",
     "output_type": "stream",
     "text": [
      "C:\\Users\\gunne\\AppData\\Local\\Temp\\ipykernel_15304\\3256594789.py:107: FutureWarning: The behavior of DataFrame concatenation with empty or all-NA entries is deprecated. In a future version, this will no longer exclude empty or all-NA columns when determining the result dtypes. To retain the old behavior, exclude the relevant entries before the concat operation.\n",
      "  trade_log_df = pd.concat([trade_log_df, pd.DataFrame([log_entry])], ignore_index=True)\n"
     ]
    },
    {
     "name": "stdout",
     "output_type": "stream",
     "text": [
      "Iteration at time 2024-05-31 01:43:09.095953, current price: 1.27314, positions: 28783.32157685244, capital: 183.22599016176957\n",
      "Iteration at time 2024-05-31 01:44:09.296370, current price: 1.27304, positions: 0, capital: 182.4930862011225\n"
     ]
    },
    {
     "name": "stderr",
     "output_type": "stream",
     "text": [
      "C:\\Users\\gunne\\AppData\\Local\\Temp\\ipykernel_15304\\3256594789.py:107: FutureWarning: The behavior of DataFrame concatenation with empty or all-NA entries is deprecated. In a future version, this will no longer exclude empty or all-NA columns when determining the result dtypes. To retain the old behavior, exclude the relevant entries before the concat operation.\n",
      "  trade_log_df = pd.concat([trade_log_df, pd.DataFrame([log_entry])], ignore_index=True)\n"
     ]
    },
    {
     "name": "stdout",
     "output_type": "stream",
     "text": [
      "Iteration at time 2024-05-31 01:45:09.625942, current price: 1.27315, positions: 28667.963115284532, capital: 182.4930862011225\n",
      "Iteration at time 2024-05-31 01:46:09.926343, current price: 1.27312, positions: 28667.963115284532, capital: 182.4930862011225\n",
      "Iteration at time 2024-05-31 01:47:10.141934, current price: 1.27314, positions: 28667.963115284532, capital: 182.4930862011225\n",
      "Iteration at time 2024-05-31 01:48:10.441665, current price: 1.27304, positions: 0, capital: 181.76311385631803\n"
     ]
    },
    {
     "name": "stderr",
     "output_type": "stream",
     "text": [
      "C:\\Users\\gunne\\AppData\\Local\\Temp\\ipykernel_15304\\3256594789.py:107: FutureWarning: The behavior of DataFrame concatenation with empty or all-NA entries is deprecated. In a future version, this will no longer exclude empty or all-NA columns when determining the result dtypes. To retain the old behavior, exclude the relevant entries before the concat operation.\n",
      "  trade_log_df = pd.concat([trade_log_df, pd.DataFrame([log_entry])], ignore_index=True)\n"
     ]
    },
    {
     "name": "stdout",
     "output_type": "stream",
     "text": [
      "Iteration at time 2024-05-31 01:49:10.664744, current price: 1.27291, positions: 28558.674824821555, capital: 181.76311385631803\n",
      "Iteration at time 2024-05-31 01:50:10.988264, current price: 1.2729, positions: 28558.674824821555, capital: 181.76311385631803\n",
      "Iteration at time 2024-05-31 01:51:11.287766, current price: 1.27295, positions: 28558.674824821555, capital: 181.76311385631803\n",
      "Iteration at time 2024-05-31 01:52:11.504568, current price: 1.2730299999999999, positions: 0, capital: 185.1901548352937\n"
     ]
    },
    {
     "name": "stderr",
     "output_type": "stream",
     "text": [
      "C:\\Users\\gunne\\AppData\\Local\\Temp\\ipykernel_15304\\3256594789.py:107: FutureWarning: The behavior of DataFrame concatenation with empty or all-NA entries is deprecated. In a future version, this will no longer exclude empty or all-NA columns when determining the result dtypes. To retain the old behavior, exclude the relevant entries before the concat operation.\n",
      "  trade_log_df = pd.concat([trade_log_df, pd.DataFrame([log_entry])], ignore_index=True)\n"
     ]
    },
    {
     "name": "stdout",
     "output_type": "stream",
     "text": [
      "Iteration at time 2024-05-31 01:53:11.829610, current price: 1.2731, positions: 29092.79001418486, capital: 185.1901548352937\n",
      "Iteration at time 2024-05-31 01:54:12.129360, current price: 1.27306, positions: 29092.79001418486, capital: 185.1901548352937\n",
      "Iteration at time 2024-05-31 01:55:12.342709, current price: 1.27316, positions: 29092.79001418486, capital: 185.1901548352937\n",
      "Iteration at time 2024-05-31 01:56:12.634243, current price: 1.2732, positions: 0, capital: 188.09943383671833\n"
     ]
    },
    {
     "name": "stderr",
     "output_type": "stream",
     "text": [
      "C:\\Users\\gunne\\AppData\\Local\\Temp\\ipykernel_15304\\3256594789.py:107: FutureWarning: The behavior of DataFrame concatenation with empty or all-NA entries is deprecated. In a future version, this will no longer exclude empty or all-NA columns when determining the result dtypes. To retain the old behavior, exclude the relevant entries before the concat operation.\n",
      "  trade_log_df = pd.concat([trade_log_df, pd.DataFrame([log_entry])], ignore_index=True)\n"
     ]
    },
    {
     "name": "stdout",
     "output_type": "stream",
     "text": [
      "Iteration at time 2024-05-31 01:57:12.838739, current price: 1.27311, positions: 29549.596474258833, capital: 188.09943383671833\n",
      "Iteration at time 2024-05-31 01:58:13.177134, current price: 1.27302, positions: 0, capital: 187.34703610137146\n"
     ]
    },
    {
     "name": "stderr",
     "output_type": "stream",
     "text": [
      "C:\\Users\\gunne\\AppData\\Local\\Temp\\ipykernel_15304\\3256594789.py:107: FutureWarning: The behavior of DataFrame concatenation with empty or all-NA entries is deprecated. In a future version, this will no longer exclude empty or all-NA columns when determining the result dtypes. To retain the old behavior, exclude the relevant entries before the concat operation.\n",
      "  trade_log_df = pd.concat([trade_log_df, pd.DataFrame([log_entry])], ignore_index=True)\n"
     ]
    },
    {
     "name": "stdout",
     "output_type": "stream",
     "text": [
      "Iteration at time 2024-05-31 01:59:13.476973, current price: 1.27312, positions: 29431.166912996643, capital: 187.34703610137146\n",
      "Iteration at time 2024-05-31 02:00:13.695434, current price: 1.27304, positions: 0, capital: 186.59764795696597\n",
      "Iteration at time 2024-05-31 02:01:14.033397, current price: 1.2730000000000001, positions: 0, capital: 186.59764795696597\n",
      "Iteration at time 2024-05-31 02:02:14.327122, current price: 1.2730000000000001, positions: 0, capital: 186.59764795696597\n",
      "Iteration at time 2024-05-31 02:03:14.543422, current price: 1.27302, positions: 0, capital: 186.59764795696597\n",
      "Iteration at time 2024-05-31 02:04:14.862263, current price: 1.27305, positions: 0, capital: 186.59764795696597\n",
      "Iteration at time 2024-05-31 02:05:15.161386, current price: 1.27305, positions: 0, capital: 186.59764795696597\n",
      "Iteration at time 2024-05-31 02:06:15.382091, current price: 1.2730000000000001, positions: 0, capital: 186.59764795696597\n"
     ]
    },
    {
     "name": "stderr",
     "output_type": "stream",
     "text": [
      "C:\\Users\\gunne\\AppData\\Local\\Temp\\ipykernel_15304\\3256594789.py:107: FutureWarning: The behavior of DataFrame concatenation with empty or all-NA entries is deprecated. In a future version, this will no longer exclude empty or all-NA columns when determining the result dtypes. To retain the old behavior, exclude the relevant entries before the concat operation.\n",
      "  trade_log_df = pd.concat([trade_log_df, pd.DataFrame([log_entry])], ignore_index=True)\n"
     ]
    },
    {
     "name": "stdout",
     "output_type": "stream",
     "text": [
      "Iteration at time 2024-05-31 02:07:15.708065, current price: 1.27318, positions: 29312.060817318204, capital: 186.59764795696597\n",
      "Iteration at time 2024-05-31 02:08:16.010729, current price: 1.27309, positions: 0, capital: 185.8512573651381\n",
      "Iteration at time 2024-05-31 02:09:16.238156, current price: 1.27304, positions: 0, capital: 185.8512573651381\n",
      "Iteration at time 2024-05-31 02:10:16.563987, current price: 1.27285, positions: 0, capital: 185.8512573651381\n",
      "Iteration at time 2024-05-31 02:11:16.864749, current price: 1.27292, positions: 0, capital: 185.8512573651381\n",
      "Iteration at time 2024-05-31 02:12:17.099220, current price: 1.27292, positions: 0, capital: 185.8512573651381\n",
      "Iteration at time 2024-05-31 02:13:17.420299, current price: 1.27284, positions: 0, capital: 185.8512573651381\n",
      "Iteration at time 2024-05-31 02:14:17.718562, current price: 1.27283, positions: 0, capital: 185.8512573651381\n",
      "Iteration at time 2024-05-31 02:15:17.923035, current price: 1.27279, positions: 0, capital: 185.8512573651381\n",
      "Iteration at time 2024-05-31 02:16:18.255644, current price: 1.27273, positions: 0, capital: 185.8512573651381\n",
      "Iteration at time 2024-05-31 02:17:18.553269, current price: 1.27257, positions: 0, capital: 185.8512573651381\n",
      "Iteration at time 2024-05-31 02:18:18.765218, current price: 1.27254, positions: 0, capital: 185.8512573651381\n",
      "Iteration at time 2024-05-31 02:19:19.057779, current price: 1.27264, positions: 0, capital: 185.8512573651381\n",
      "Iteration at time 2024-05-31 02:20:19.276160, current price: 1.27259, positions: 0, capital: 185.8512573651381\n",
      "Iteration at time 2024-05-31 02:21:19.568329, current price: 1.27275, positions: 0, capital: 185.8512573651381\n",
      "Iteration at time 2024-05-31 02:22:19.779143, current price: 1.27284, positions: 0, capital: 185.8512573651381\n",
      "Iteration at time 2024-05-31 02:23:20.078290, current price: 1.2729300000000001, positions: 0, capital: 185.8512573651381\n",
      "Iteration at time 2024-05-31 02:24:20.278915, current price: 1.27298, positions: 0, capital: 185.8512573651381\n",
      "Iteration at time 2024-05-31 02:25:20.572549, current price: 1.2729599999999999, positions: 0, capital: 185.8512573651381\n",
      "Iteration at time 2024-05-31 02:26:20.780214, current price: 1.27295, positions: 0, capital: 185.8512573651381\n",
      "Iteration at time 2024-05-31 02:27:21.103946, current price: 1.2729599999999999, positions: 0, capital: 185.8512573651381\n",
      "Iteration at time 2024-05-31 02:28:21.404998, current price: 1.27301, positions: 0, capital: 185.8512573651381\n",
      "Iteration at time 2024-05-31 02:29:21.623386, current price: 1.27295, positions: 0, capital: 185.8512573651381\n",
      "Iteration at time 2024-05-31 02:30:21.956060, current price: 1.27272, positions: 0, capital: 185.8512573651381\n",
      "Iteration at time 2024-05-31 02:31:22.259400, current price: 1.27272, positions: 0, capital: 185.8512573651381\n",
      "Iteration at time 2024-05-31 02:32:22.475594, current price: 1.27257, positions: 0, capital: 185.8512573651381\n",
      "Iteration at time 2024-05-31 02:33:22.773715, current price: 1.27258, positions: 0, capital: 185.8512573651381\n",
      "Iteration at time 2024-05-31 02:34:22.984903, current price: 1.27265, positions: 0, capital: 185.8512573651381\n",
      "Iteration at time 2024-05-31 02:35:23.306688, current price: 1.27275, positions: 0, capital: 185.8512573651381\n",
      "Iteration at time 2024-05-31 02:36:23.606325, current price: 1.2727, positions: 0, capital: 185.8512573651381\n",
      "Iteration at time 2024-05-31 02:37:23.828961, current price: 1.27276, positions: 0, capital: 185.8512573651381\n",
      "Iteration at time 2024-05-31 02:38:24.151743, current price: 1.27284, positions: 0, capital: 185.8512573651381\n",
      "Iteration at time 2024-05-31 02:39:24.452692, current price: 1.27288, positions: 0, capital: 185.8512573651381\n",
      "Iteration at time 2024-05-31 02:40:24.670723, current price: 1.27277, positions: 0, capital: 185.8512573651381\n",
      "Iteration at time 2024-05-31 02:41:25.000204, current price: 1.27264, positions: 0, capital: 185.8512573651381\n",
      "Iteration at time 2024-05-31 02:42:25.301017, current price: 1.27259, positions: 0, capital: 185.8512573651381\n",
      "Iteration at time 2024-05-31 02:43:25.524608, current price: 1.27254, positions: 0, capital: 185.8512573651381\n",
      "Iteration at time 2024-05-31 02:44:25.855797, current price: 1.2726, positions: 0, capital: 185.8512573651381\n",
      "Iteration at time 2024-05-31 02:45:26.158912, current price: 1.27253, positions: 0, capital: 185.8512573651381\n",
      "Iteration at time 2024-05-31 02:46:26.374232, current price: 1.27248, positions: 0, capital: 185.8512573651381\n",
      "Iteration at time 2024-05-31 02:47:26.695306, current price: 1.27244, positions: 0, capital: 185.8512573651381\n",
      "Iteration at time 2024-05-31 02:48:26.992905, current price: 1.2724199999999999, positions: 0, capital: 185.8512573651381\n",
      "Iteration at time 2024-05-31 02:49:27.209180, current price: 1.27238, positions: 0, capital: 185.8512573651381\n",
      "Iteration at time 2024-05-31 02:50:27.503409, current price: 1.27236, positions: 0, capital: 185.8512573651381\n",
      "Iteration at time 2024-05-31 02:51:27.719647, current price: 1.27229, positions: 0, capital: 185.8512573651381\n",
      "Iteration at time 2024-05-31 02:52:28.039065, current price: 1.2723499999999999, positions: 0, capital: 185.8512573651381\n",
      "Iteration at time 2024-05-31 02:53:28.336795, current price: 1.27236, positions: 0, capital: 185.8512573651381\n",
      "Iteration at time 2024-05-31 02:54:28.560683, current price: 1.27224, positions: 0, capital: 185.8512573651381\n",
      "Iteration at time 2024-05-31 02:55:28.853885, current price: 1.27226, positions: 0, capital: 185.8512573651381\n",
      "Iteration at time 2024-05-31 02:56:29.062000, current price: 1.27224, positions: 0, capital: 185.8512573651381\n",
      "Iteration at time 2024-05-31 02:57:29.355871, current price: 1.27224, positions: 0, capital: 185.8512573651381\n",
      "Iteration at time 2024-05-31 02:58:29.556248, current price: 1.27233, positions: 0, capital: 185.8512573651381\n",
      "Iteration at time 2024-05-31 02:59:29.892082, current price: 1.27217, positions: 0, capital: 185.8512573651381\n"
     ]
    },
    {
     "name": "stderr",
     "output_type": "stream",
     "text": [
      "C:\\Users\\gunne\\AppData\\Local\\Temp\\ipykernel_15304\\3256594789.py:107: FutureWarning: The behavior of DataFrame concatenation with empty or all-NA entries is deprecated. In a future version, this will no longer exclude empty or all-NA columns when determining the result dtypes. To retain the old behavior, exclude the relevant entries before the concat operation.\n",
      "  trade_log_df = pd.concat([trade_log_df, pd.DataFrame([log_entry])], ignore_index=True)\n"
     ]
    },
    {
     "name": "stdout",
     "output_type": "stream",
     "text": [
      "Iteration at time 2024-05-31 03:00:30.190150, current price: 1.27213, positions: 29218.90960281388, capital: 185.8512573651381\n",
      "Iteration at time 2024-05-31 03:01:30.396006, current price: 1.2723, positions: 0, capital: 190.81847199761657\n"
     ]
    },
    {
     "name": "stderr",
     "output_type": "stream",
     "text": [
      "C:\\Users\\gunne\\AppData\\Local\\Temp\\ipykernel_15304\\3256594789.py:107: FutureWarning: The behavior of DataFrame concatenation with empty or all-NA entries is deprecated. In a future version, this will no longer exclude empty or all-NA columns when determining the result dtypes. To retain the old behavior, exclude the relevant entries before the concat operation.\n",
      "  trade_log_df = pd.concat([trade_log_df, pd.DataFrame([log_entry])], ignore_index=True)\n"
     ]
    },
    {
     "name": "stdout",
     "output_type": "stream",
     "text": [
      "Iteration at time 2024-05-31 03:02:30.694261, current price: 1.27236, positions: 29994.415416645694, capital: 190.81847199761657\n",
      "Iteration at time 2024-05-31 03:03:30.905809, current price: 1.27246, positions: 0, capital: 193.8179135392808\n"
     ]
    },
    {
     "name": "stderr",
     "output_type": "stream",
     "text": [
      "C:\\Users\\gunne\\AppData\\Local\\Temp\\ipykernel_15304\\3256594789.py:107: FutureWarning: The behavior of DataFrame concatenation with empty or all-NA entries is deprecated. In a future version, this will no longer exclude empty or all-NA columns when determining the result dtypes. To retain the old behavior, exclude the relevant entries before the concat operation.\n",
      "  trade_log_df = pd.concat([trade_log_df, pd.DataFrame([log_entry])], ignore_index=True)\n"
     ]
    },
    {
     "name": "stdout",
     "output_type": "stream",
     "text": [
      "Iteration at time 2024-05-31 03:04:31.236389, current price: 1.27246, positions: 30463.4980336169, capital: 193.8179135392808\n",
      "Iteration at time 2024-05-31 03:05:31.542095, current price: 1.27252, positions: 30463.4980336169, capital: 193.8179135392808\n",
      "Iteration at time 2024-05-31 03:06:31.761739, current price: 1.27256, positions: 0, capital: 196.86426334264215\n"
     ]
    },
    {
     "name": "stderr",
     "output_type": "stream",
     "text": [
      "C:\\Users\\gunne\\AppData\\Local\\Temp\\ipykernel_15304\\3256594789.py:107: FutureWarning: The behavior of DataFrame concatenation with empty or all-NA entries is deprecated. In a future version, this will no longer exclude empty or all-NA columns when determining the result dtypes. To retain the old behavior, exclude the relevant entries before the concat operation.\n",
      "  trade_log_df = pd.concat([trade_log_df, pd.DataFrame([log_entry])], ignore_index=True)\n"
     ]
    },
    {
     "name": "stdout",
     "output_type": "stream",
     "text": [
      "Iteration at time 2024-05-31 03:07:32.055309, current price: 1.27256, positions: 30939.87919510941, capital: 196.86426334264215\n",
      "Iteration at time 2024-05-31 03:08:32.264537, current price: 1.27254, positions: 30939.87919510941, capital: 196.86426334264215\n",
      "Iteration at time 2024-05-31 03:09:32.594887, current price: 1.27248, positions: 0, capital: 196.0768062892716\n"
     ]
    },
    {
     "name": "stderr",
     "output_type": "stream",
     "text": [
      "C:\\Users\\gunne\\AppData\\Local\\Temp\\ipykernel_15304\\3256594789.py:107: FutureWarning: The behavior of DataFrame concatenation with empty or all-NA entries is deprecated. In a future version, this will no longer exclude empty or all-NA columns when determining the result dtypes. To retain the old behavior, exclude the relevant entries before the concat operation.\n",
      "  trade_log_df = pd.concat([trade_log_df, pd.DataFrame([log_entry])], ignore_index=True)\n"
     ]
    },
    {
     "name": "stdout",
     "output_type": "stream",
     "text": [
      "Iteration at time 2024-05-31 03:10:32.893766, current price: 1.27246, positions: 30818.541453447902, capital: 196.0768062892716\n",
      "Iteration at time 2024-05-31 03:11:33.107767, current price: 1.2724, positions: 0, capital: 195.2924990641145\n"
     ]
    },
    {
     "name": "stderr",
     "output_type": "stream",
     "text": [
      "C:\\Users\\gunne\\AppData\\Local\\Temp\\ipykernel_15304\\3256594789.py:107: FutureWarning: The behavior of DataFrame concatenation with empty or all-NA entries is deprecated. In a future version, this will no longer exclude empty or all-NA columns when determining the result dtypes. To retain the old behavior, exclude the relevant entries before the concat operation.\n",
      "  trade_log_df = pd.concat([trade_log_df, pd.DataFrame([log_entry])], ignore_index=True)\n"
     ]
    },
    {
     "name": "stdout",
     "output_type": "stream",
     "text": [
      "Iteration at time 2024-05-31 03:12:33.431904, current price: 1.2723499999999999, positions: 30697.921022378207, capital: 195.2924990641145\n",
      "Iteration at time 2024-05-31 03:13:33.736153, current price: 1.27226, positions: 0, capital: 194.51132906785804\n"
     ]
    },
    {
     "name": "stderr",
     "output_type": "stream",
     "text": [
      "C:\\Users\\gunne\\AppData\\Local\\Temp\\ipykernel_15304\\3256594789.py:107: FutureWarning: The behavior of DataFrame concatenation with empty or all-NA entries is deprecated. In a future version, this will no longer exclude empty or all-NA columns when determining the result dtypes. To retain the old behavior, exclude the relevant entries before the concat operation.\n",
      "  trade_log_df = pd.concat([trade_log_df, pd.DataFrame([log_entry])], ignore_index=True)\n"
     ]
    },
    {
     "name": "stdout",
     "output_type": "stream",
     "text": [
      "Iteration at time 2024-05-31 03:14:33.955162, current price: 1.27221, positions: 30578.493969998355, capital: 194.51132906785804\n",
      "Iteration at time 2024-05-31 03:15:34.285555, current price: 1.27233, positions: 0, capital: 198.18074834425474\n"
     ]
    },
    {
     "name": "stderr",
     "output_type": "stream",
     "text": [
      "C:\\Users\\gunne\\AppData\\Local\\Temp\\ipykernel_15304\\3256594789.py:107: FutureWarning: The behavior of DataFrame concatenation with empty or all-NA entries is deprecated. In a future version, this will no longer exclude empty or all-NA columns when determining the result dtypes. To retain the old behavior, exclude the relevant entries before the concat operation.\n",
      "  trade_log_df = pd.concat([trade_log_df, pd.DataFrame([log_entry])], ignore_index=True)\n"
     ]
    },
    {
     "name": "stdout",
     "output_type": "stream",
     "text": [
      "Iteration at time 2024-05-31 03:16:34.587266, current price: 1.2723200000000001, positions: 31152.657876046076, capital: 198.18074834425474\n",
      "Iteration at time 2024-05-31 03:17:34.812000, current price: 1.27226, positions: 0, capital: 197.3880253508777\n"
     ]
    },
    {
     "name": "stderr",
     "output_type": "stream",
     "text": [
      "C:\\Users\\gunne\\AppData\\Local\\Temp\\ipykernel_15304\\3256594789.py:107: FutureWarning: The behavior of DataFrame concatenation with empty or all-NA entries is deprecated. In a future version, this will no longer exclude empty or all-NA columns when determining the result dtypes. To retain the old behavior, exclude the relevant entries before the concat operation.\n",
      "  trade_log_df = pd.concat([trade_log_df, pd.DataFrame([log_entry])], ignore_index=True)\n"
     ]
    },
    {
     "name": "stdout",
     "output_type": "stream",
     "text": [
      "Iteration at time 2024-05-31 03:18:35.141573, current price: 1.27238, positions: 31026.584094512284, capital: 197.3880253508777\n",
      "Iteration at time 2024-05-31 03:19:35.440448, current price: 1.27246, positions: 0, capital: 199.87015207843427\n"
     ]
    },
    {
     "name": "stderr",
     "output_type": "stream",
     "text": [
      "C:\\Users\\gunne\\AppData\\Local\\Temp\\ipykernel_15304\\3256594789.py:107: FutureWarning: The behavior of DataFrame concatenation with empty or all-NA entries is deprecated. In a future version, this will no longer exclude empty or all-NA columns when determining the result dtypes. To retain the old behavior, exclude the relevant entries before the concat operation.\n",
      "  trade_log_df = pd.concat([trade_log_df, pd.DataFrame([log_entry])], ignore_index=True)\n"
     ]
    },
    {
     "name": "stdout",
     "output_type": "stream",
     "text": [
      "Iteration at time 2024-05-31 03:20:35.658516, current price: 1.27241, positions: 31415.998314762426, capital: 199.87015207843427\n",
      "Iteration at time 2024-05-31 03:21:35.985513, current price: 1.27234, positions: 0, capital: 199.07067147012054\n"
     ]
    },
    {
     "name": "stderr",
     "output_type": "stream",
     "text": [
      "C:\\Users\\gunne\\AppData\\Local\\Temp\\ipykernel_15304\\3256594789.py:107: FutureWarning: The behavior of DataFrame concatenation with empty or all-NA entries is deprecated. In a future version, this will no longer exclude empty or all-NA columns when determining the result dtypes. To retain the old behavior, exclude the relevant entries before the concat operation.\n",
      "  trade_log_df = pd.concat([trade_log_df, pd.DataFrame([log_entry])], ignore_index=True)\n"
     ]
    },
    {
     "name": "stdout",
     "output_type": "stream",
     "text": [
      "Iteration at time 2024-05-31 03:22:36.286020, current price: 1.2723499999999999, positions: 31291.80987466036, capital: 199.07067147012054\n",
      "Iteration at time 2024-05-31 03:23:36.504566, current price: 1.2724, positions: 31291.80987466036, capital: 199.07067147012054\n",
      "Iteration at time 2024-05-31 03:24:36.829214, current price: 1.27236, positions: 31291.80987466036, capital: 199.07067147012054\n",
      "Iteration at time 2024-05-31 03:25:37.129699, current price: 1.27231, positions: 31291.80987466036, capital: 199.07067147012054\n",
      "Iteration at time 2024-05-31 03:26:37.348569, current price: 1.2723499999999999, positions: 31291.80987466036, capital: 199.07067147012054\n",
      "Iteration at time 2024-05-31 03:27:37.645716, current price: 1.27234, positions: 31291.80987466036, capital: 199.07067147012054\n",
      "Iteration at time 2024-05-31 03:28:37.861731, current price: 1.27237, positions: 31291.80987466036, capital: 199.07067147012054\n",
      "Iteration at time 2024-05-31 03:29:38.156912, current price: 1.2723, positions: 31291.80987466036, capital: 199.07067147012054\n",
      "Iteration at time 2024-05-31 03:30:38.367475, current price: 1.27221, positions: 0, capital: 198.27438878424007\n"
     ]
    },
    {
     "name": "stderr",
     "output_type": "stream",
     "text": [
      "C:\\Users\\gunne\\AppData\\Local\\Temp\\ipykernel_15304\\3256594789.py:107: FutureWarning: The behavior of DataFrame concatenation with empty or all-NA entries is deprecated. In a future version, this will no longer exclude empty or all-NA columns when determining the result dtypes. To retain the old behavior, exclude the relevant entries before the concat operation.\n",
      "  trade_log_df = pd.concat([trade_log_df, pd.DataFrame([log_entry])], ignore_index=True)\n"
     ]
    },
    {
     "name": "stdout",
     "output_type": "stream",
     "text": [
      "Iteration at time 2024-05-31 03:31:38.664272, current price: 1.27213, positions: 31172.032541366065, capital: 198.27438878424007\n",
      "Iteration at time 2024-05-31 03:32:38.870261, current price: 1.27215, positions: 31172.032541366065, capital: 198.27438878424007\n",
      "Iteration at time 2024-05-31 03:33:39.200894, current price: 1.27214, positions: 31172.032541366065, capital: 198.27438878424007\n",
      "Iteration at time 2024-05-31 03:34:39.498802, current price: 1.27213, positions: 31172.032541366065, capital: 198.27438878424007\n",
      "Iteration at time 2024-05-31 03:35:39.713361, current price: 1.2720500000000001, positions: 0, capital: 197.4812912291031\n"
     ]
    },
    {
     "name": "stderr",
     "output_type": "stream",
     "text": [
      "C:\\Users\\gunne\\AppData\\Local\\Temp\\ipykernel_15304\\3256594789.py:107: FutureWarning: The behavior of DataFrame concatenation with empty or all-NA entries is deprecated. In a future version, this will no longer exclude empty or all-NA columns when determining the result dtypes. To retain the old behavior, exclude the relevant entries before the concat operation.\n",
      "  trade_log_df = pd.concat([trade_log_df, pd.DataFrame([log_entry])], ignore_index=True)\n"
     ]
    },
    {
     "name": "stdout",
     "output_type": "stream",
     "text": [
      "Iteration at time 2024-05-31 03:36:40.010560, current price: 1.2720500000000001, positions: 31049.2969976185, capital: 197.4812912291031\n",
      "Iteration at time 2024-05-31 03:37:40.230046, current price: 1.2720500000000001, positions: 31049.2969976185, capital: 197.4812912291031\n",
      "Iteration at time 2024-05-31 03:38:40.554449, current price: 1.272, positions: 31049.2969976185, capital: 197.4812912291031\n",
      "Iteration at time 2024-05-31 03:39:40.853393, current price: 1.27204, positions: 31049.2969976185, capital: 197.4812912291031\n",
      "Iteration at time 2024-05-31 03:40:41.081739, current price: 1.27204, positions: 31049.2969976185, capital: 197.4812912291031\n",
      "Iteration at time 2024-05-31 03:41:41.380812, current price: 1.27196, positions: 0, capital: 196.6913660641867\n"
     ]
    },
    {
     "name": "stderr",
     "output_type": "stream",
     "text": [
      "C:\\Users\\gunne\\AppData\\Local\\Temp\\ipykernel_15304\\3256594789.py:107: FutureWarning: The behavior of DataFrame concatenation with empty or all-NA entries is deprecated. In a future version, this will no longer exclude empty or all-NA columns when determining the result dtypes. To retain the old behavior, exclude the relevant entries before the concat operation.\n",
      "  trade_log_df = pd.concat([trade_log_df, pd.DataFrame([log_entry])], ignore_index=True)\n"
     ]
    },
    {
     "name": "stdout",
     "output_type": "stream",
     "text": [
      "Iteration at time 2024-05-31 03:42:41.584437, current price: 1.27204, positions: 30925.34292383678, capital: 196.6913660641867\n",
      "Iteration at time 2024-05-31 03:43:41.913360, current price: 1.27193, positions: 0, capital: 195.90460059992995\n"
     ]
    },
    {
     "name": "stderr",
     "output_type": "stream",
     "text": [
      "C:\\Users\\gunne\\AppData\\Local\\Temp\\ipykernel_15304\\3256594789.py:107: FutureWarning: The behavior of DataFrame concatenation with empty or all-NA entries is deprecated. In a future version, this will no longer exclude empty or all-NA columns when determining the result dtypes. To retain the old behavior, exclude the relevant entries before the concat operation.\n",
      "  trade_log_df = pd.concat([trade_log_df, pd.DataFrame([log_entry])], ignore_index=True)\n"
     ]
    },
    {
     "name": "stdout",
     "output_type": "stream",
     "text": [
      "Iteration at time 2024-05-31 03:44:42.210104, current price: 1.2719, positions: 30805.03193646198, capital: 195.90460059992995\n",
      "Iteration at time 2024-05-31 03:45:42.428932, current price: 1.27184, positions: 0, capital: 195.12098219753022\n"
     ]
    },
    {
     "name": "stderr",
     "output_type": "stream",
     "text": [
      "C:\\Users\\gunne\\AppData\\Local\\Temp\\ipykernel_15304\\3256594789.py:107: FutureWarning: The behavior of DataFrame concatenation with empty or all-NA entries is deprecated. In a future version, this will no longer exclude empty or all-NA columns when determining the result dtypes. To retain the old behavior, exclude the relevant entries before the concat operation.\n",
      "  trade_log_df = pd.concat([trade_log_df, pd.DataFrame([log_entry])], ignore_index=True)\n"
     ]
    },
    {
     "name": "stdout",
     "output_type": "stream",
     "text": [
      "Iteration at time 2024-05-31 03:46:42.759088, current price: 1.27176, positions: 30685.189374965437, capital: 195.12098219753022\n",
      "Iteration at time 2024-05-31 03:47:43.056583, current price: 1.2716, positions: 0, capital: 194.3404982687401\n"
     ]
    },
    {
     "name": "stderr",
     "output_type": "stream",
     "text": [
      "C:\\Users\\gunne\\AppData\\Local\\Temp\\ipykernel_15304\\3256594789.py:107: FutureWarning: The behavior of DataFrame concatenation with empty or all-NA entries is deprecated. In a future version, this will no longer exclude empty or all-NA columns when determining the result dtypes. To retain the old behavior, exclude the relevant entries before the concat operation.\n",
      "  trade_log_df = pd.concat([trade_log_df, pd.DataFrame([log_entry])], ignore_index=True)\n"
     ]
    },
    {
     "name": "stdout",
     "output_type": "stream",
     "text": [
      "Iteration at time 2024-05-31 03:48:43.276275, current price: 1.27173, positions: 30563.1695829681, capital: 194.3404982687401\n",
      "Iteration at time 2024-05-31 03:49:43.571891, current price: 1.2718, positions: 0, capital: 196.4799201395483\n"
     ]
    },
    {
     "name": "stderr",
     "output_type": "stream",
     "text": [
      "C:\\Users\\gunne\\AppData\\Local\\Temp\\ipykernel_15304\\3256594789.py:107: FutureWarning: The behavior of DataFrame concatenation with empty or all-NA entries is deprecated. In a future version, this will no longer exclude empty or all-NA columns when determining the result dtypes. To retain the old behavior, exclude the relevant entries before the concat operation.\n",
      "  trade_log_df = pd.concat([trade_log_df, pd.DataFrame([log_entry])], ignore_index=True)\n"
     ]
    },
    {
     "name": "stdout",
     "output_type": "stream",
     "text": [
      "Iteration at time 2024-05-31 03:50:43.784574, current price: 1.27185, positions: 30896.71268460091, capital: 196.4799201395483\n",
      "Iteration at time 2024-05-31 03:51:44.129215, current price: 1.27197, positions: 0, capital: 200.18752566170414\n"
     ]
    },
    {
     "name": "stderr",
     "output_type": "stream",
     "text": [
      "C:\\Users\\gunne\\AppData\\Local\\Temp\\ipykernel_15304\\3256594789.py:107: FutureWarning: The behavior of DataFrame concatenation with empty or all-NA entries is deprecated. In a future version, this will no longer exclude empty or all-NA columns when determining the result dtypes. To retain the old behavior, exclude the relevant entries before the concat operation.\n",
      "  trade_log_df = pd.concat([trade_log_df, pd.DataFrame([log_entry])], ignore_index=True)\n"
     ]
    },
    {
     "name": "stdout",
     "output_type": "stream",
     "text": [
      "Iteration at time 2024-05-31 03:52:44.429606, current price: 1.27195, positions: 31477.26336124913, capital: 200.18752566170414\n",
      "Iteration at time 2024-05-31 03:53:44.627426, current price: 1.27193, positions: 31477.26336124913, capital: 200.18752566170414\n",
      "Iteration at time 2024-05-31 03:54:44.965617, current price: 1.27177, positions: 0, capital: 199.38677555905733\n"
     ]
    },
    {
     "name": "stderr",
     "output_type": "stream",
     "text": [
      "C:\\Users\\gunne\\AppData\\Local\\Temp\\ipykernel_15304\\3256594789.py:107: FutureWarning: The behavior of DataFrame concatenation with empty or all-NA entries is deprecated. In a future version, this will no longer exclude empty or all-NA columns when determining the result dtypes. To retain the old behavior, exclude the relevant entries before the concat operation.\n",
      "  trade_log_df = pd.concat([trade_log_df, pd.DataFrame([log_entry])], ignore_index=True)\n"
     ]
    },
    {
     "name": "stdout",
     "output_type": "stream",
     "text": [
      "Iteration at time 2024-05-31 03:55:45.267401, current price: 1.27175, positions: 31356.284735059144, capital: 199.38677555905733\n",
      "Iteration at time 2024-05-31 03:56:45.473387, current price: 1.2717100000000001, positions: 31356.284735059144, capital: 199.38677555905733\n",
      "Iteration at time 2024-05-31 03:57:45.806501, current price: 1.27155, positions: 0, capital: 198.5892284568211\n",
      "Iteration at time 2024-05-31 03:58:46.107480, current price: 1.27166, positions: 0, capital: 198.5892284568211\n",
      "Iteration at time 2024-05-31 03:59:46.318227, current price: 1.27173, positions: 0, capital: 198.5892284568211\n"
     ]
    },
    {
     "name": "stderr",
     "output_type": "stream",
     "text": [
      "C:\\Users\\gunne\\AppData\\Local\\Temp\\ipykernel_15304\\3256594789.py:107: FutureWarning: The behavior of DataFrame concatenation with empty or all-NA entries is deprecated. In a future version, this will no longer exclude empty or all-NA columns when determining the result dtypes. To retain the old behavior, exclude the relevant entries before the concat operation.\n",
      "  trade_log_df = pd.concat([trade_log_df, pd.DataFrame([log_entry])], ignore_index=True)\n"
     ]
    },
    {
     "name": "stdout",
     "output_type": "stream",
     "text": [
      "Iteration at time 2024-05-31 04:00:46.611822, current price: 1.27173, positions: 31231.350751625127, capital: 198.5892284568211\n",
      "Iteration at time 2024-05-31 04:01:46.818353, current price: 1.27173, positions: 31231.350751625127, capital: 198.5892284568211\n",
      "Iteration at time 2024-05-31 04:02:47.114884, current price: 1.27179, positions: 31231.350751625127, capital: 198.5892284568211\n",
      "Iteration at time 2024-05-31 04:03:47.326563, current price: 1.27173, positions: 31231.350751625127, capital: 198.5892284568211\n",
      "Iteration at time 2024-05-31 04:04:47.648189, current price: 1.27177, positions: 31231.350751625127, capital: 198.5892284568211\n",
      "Iteration at time 2024-05-31 04:05:47.944895, current price: 1.27179, positions: 31231.350751625127, capital: 198.5892284568211\n",
      "Iteration at time 2024-05-31 04:06:48.149194, current price: 1.27191, positions: 0, capital: 204.21087159211578\n"
     ]
    },
    {
     "name": "stderr",
     "output_type": "stream",
     "text": [
      "C:\\Users\\gunne\\AppData\\Local\\Temp\\ipykernel_15304\\3256594789.py:107: FutureWarning: The behavior of DataFrame concatenation with empty or all-NA entries is deprecated. In a future version, this will no longer exclude empty or all-NA columns when determining the result dtypes. To retain the old behavior, exclude the relevant entries before the concat operation.\n",
      "  trade_log_df = pd.concat([trade_log_df, pd.DataFrame([log_entry])], ignore_index=True)\n"
     ]
    },
    {
     "name": "stdout",
     "output_type": "stream",
     "text": [
      "Iteration at time 2024-05-31 04:07:48.444146, current price: 1.27185, positions: 32112.414450149907, capital: 204.21087159211578\n",
      "Iteration at time 2024-05-31 04:08:48.654253, current price: 1.27195, positions: 0, capital: 207.42211303713043\n"
     ]
    },
    {
     "name": "stderr",
     "output_type": "stream",
     "text": [
      "C:\\Users\\gunne\\AppData\\Local\\Temp\\ipykernel_15304\\3256594789.py:107: FutureWarning: The behavior of DataFrame concatenation with empty or all-NA entries is deprecated. In a future version, this will no longer exclude empty or all-NA columns when determining the result dtypes. To retain the old behavior, exclude the relevant entries before the concat operation.\n",
      "  trade_log_df = pd.concat([trade_log_df, pd.DataFrame([log_entry])], ignore_index=True)\n"
     ]
    },
    {
     "name": "stdout",
     "output_type": "stream",
     "text": [
      "Iteration at time 2024-05-31 04:09:48.978806, current price: 1.2720500000000001, positions: 32612.25785733743, capital: 207.42211303713043\n",
      "Iteration at time 2024-05-31 04:10:49.281149, current price: 1.2720500000000001, positions: 32612.25785733743, capital: 207.42211303713043\n",
      "Iteration at time 2024-05-31 04:11:49.500513, current price: 1.27199, positions: 0, capital: 206.5924245849819\n"
     ]
    },
    {
     "name": "stderr",
     "output_type": "stream",
     "text": [
      "C:\\Users\\gunne\\AppData\\Local\\Temp\\ipykernel_15304\\3256594789.py:107: FutureWarning: The behavior of DataFrame concatenation with empty or all-NA entries is deprecated. In a future version, this will no longer exclude empty or all-NA columns when determining the result dtypes. To retain the old behavior, exclude the relevant entries before the concat operation.\n",
      "  trade_log_df = pd.concat([trade_log_df, pd.DataFrame([log_entry])], ignore_index=True)\n"
     ]
    },
    {
     "name": "stdout",
     "output_type": "stream",
     "text": [
      "Iteration at time 2024-05-31 04:12:49.833729, current price: 1.27204, positions: 32482.06417801042, capital: 206.5924245849819\n",
      "Iteration at time 2024-05-31 04:13:50.138100, current price: 1.2720099999999999, positions: 32482.06417801042, capital: 206.5924245849819\n",
      "Iteration at time 2024-05-31 04:14:50.359060, current price: 1.27196, positions: 0, capital: 205.76605488664197\n"
     ]
    },
    {
     "name": "stderr",
     "output_type": "stream",
     "text": [
      "C:\\Users\\gunne\\AppData\\Local\\Temp\\ipykernel_15304\\3256594789.py:107: FutureWarning: The behavior of DataFrame concatenation with empty or all-NA entries is deprecated. In a future version, this will no longer exclude empty or all-NA columns when determining the result dtypes. To retain the old behavior, exclude the relevant entries before the concat operation.\n",
      "  trade_log_df = pd.concat([trade_log_df, pd.DataFrame([log_entry])], ignore_index=True)\n"
     ]
    },
    {
     "name": "stdout",
     "output_type": "stream",
     "text": [
      "Iteration at time 2024-05-31 04:15:50.681506, current price: 1.27187, positions: 32356.460154990993, capital: 205.76605488664197\n",
      "Iteration at time 2024-05-31 04:16:50.982075, current price: 1.27182, positions: 32356.460154990993, capital: 205.76605488664197\n",
      "Iteration at time 2024-05-31 04:17:51.202937, current price: 1.27179, positions: 0, capital: 204.9429906670954\n"
     ]
    },
    {
     "name": "stderr",
     "output_type": "stream",
     "text": [
      "C:\\Users\\gunne\\AppData\\Local\\Temp\\ipykernel_15304\\3256594789.py:107: FutureWarning: The behavior of DataFrame concatenation with empty or all-NA entries is deprecated. In a future version, this will no longer exclude empty or all-NA columns when determining the result dtypes. To retain the old behavior, exclude the relevant entries before the concat operation.\n",
      "  trade_log_df = pd.concat([trade_log_df, pd.DataFrame([log_entry])], ignore_index=True)\n"
     ]
    },
    {
     "name": "stdout",
     "output_type": "stream",
     "text": [
      "Iteration at time 2024-05-31 04:18:51.534103, current price: 1.27175, positions: 32230.0751982851, capital: 204.9429906670954\n",
      "Iteration at time 2024-05-31 04:19:51.833362, current price: 1.2718099999999999, positions: 32230.0751982851, capital: 204.9429906670954\n",
      "Iteration at time 2024-05-31 04:20:52.044459, current price: 1.27182, positions: 0, capital: 207.1990959309758\n"
     ]
    },
    {
     "name": "stderr",
     "output_type": "stream",
     "text": [
      "C:\\Users\\gunne\\AppData\\Local\\Temp\\ipykernel_15304\\3256594789.py:107: FutureWarning: The behavior of DataFrame concatenation with empty or all-NA entries is deprecated. In a future version, this will no longer exclude empty or all-NA columns when determining the result dtypes. To retain the old behavior, exclude the relevant entries before the concat operation.\n",
      "  trade_log_df = pd.concat([trade_log_df, pd.DataFrame([log_entry])], ignore_index=True)\n"
     ]
    },
    {
     "name": "stdout",
     "output_type": "stream",
     "text": [
      "Iteration at time 2024-05-31 04:21:52.338642, current price: 1.27195, positions: 32579.754853724724, capital: 207.1990959309758\n",
      "Iteration at time 2024-05-31 04:22:52.553742, current price: 1.27191, positions: 32579.754853724724, capital: 207.1990959309758\n",
      "Iteration at time 2024-05-31 04:23:52.878775, current price: 1.27206, positions: 0, capital: 210.78286896488729\n"
     ]
    },
    {
     "name": "stderr",
     "output_type": "stream",
     "text": [
      "C:\\Users\\gunne\\AppData\\Local\\Temp\\ipykernel_15304\\3256594789.py:107: FutureWarning: The behavior of DataFrame concatenation with empty or all-NA entries is deprecated. In a future version, this will no longer exclude empty or all-NA columns when determining the result dtypes. To retain the old behavior, exclude the relevant entries before the concat operation.\n",
      "  trade_log_df = pd.concat([trade_log_df, pd.DataFrame([log_entry])], ignore_index=True)\n"
     ]
    },
    {
     "name": "stdout",
     "output_type": "stream",
     "text": [
      "Iteration at time 2024-05-31 04:24:53.181886, current price: 1.2720500000000001, positions: 33140.65783025624, capital: 210.78286896488729\n",
      "Iteration at time 2024-05-31 04:25:53.407807, current price: 1.27203, positions: 33140.65783025624, capital: 210.78286896488729\n",
      "Iteration at time 2024-05-31 04:26:53.727744, current price: 1.2720500000000001, positions: 33140.65783025624, capital: 210.78286896488729\n",
      "Iteration at time 2024-05-31 04:27:54.027004, current price: 1.27212, positions: 0, capital: 213.10271501299835\n"
     ]
    },
    {
     "name": "stderr",
     "output_type": "stream",
     "text": [
      "C:\\Users\\gunne\\AppData\\Local\\Temp\\ipykernel_15304\\3256594789.py:107: FutureWarning: The behavior of DataFrame concatenation with empty or all-NA entries is deprecated. In a future version, this will no longer exclude empty or all-NA columns when determining the result dtypes. To retain the old behavior, exclude the relevant entries before the concat operation.\n",
      "  trade_log_df = pd.concat([trade_log_df, pd.DataFrame([log_entry])], ignore_index=True)\n"
     ]
    },
    {
     "name": "stdout",
     "output_type": "stream",
     "text": [
      "Iteration at time 2024-05-31 04:28:54.246590, current price: 1.27216, positions: 33502.50204581159, capital: 213.10271501299835\n",
      "Iteration at time 2024-05-31 04:29:54.567369, current price: 1.27213, positions: 33502.50204581159, capital: 213.10271501299835\n",
      "Iteration at time 2024-05-31 04:30:54.869492, current price: 1.27213, positions: 33502.50204581159, capital: 213.10271501299835\n",
      "Iteration at time 2024-05-31 04:31:55.089718, current price: 1.27213, positions: 33502.50204581159, capital: 213.10271501299835\n",
      "Iteration at time 2024-05-31 04:32:55.412117, current price: 1.27213, positions: 33502.50204581159, capital: 213.10271501299835\n",
      "Iteration at time 2024-05-31 04:33:55.715518, current price: 1.27213, positions: 33502.50204581159, capital: 213.10271501299835\n",
      "Iteration at time 2024-05-31 04:34:55.943292, current price: 1.27213, positions: 33502.50204581159, capital: 213.10271501299835\n",
      "Iteration at time 2024-05-31 04:35:56.280352, current price: 1.27213, positions: 33502.50204581159, capital: 213.10271501299835\n",
      "Iteration at time 2024-05-31 04:36:56.582976, current price: 1.27213, positions: 33502.50204581159, capital: 213.10271501299835\n",
      "Iteration at time 2024-05-31 04:37:56.798334, current price: 1.27213, positions: 33502.50204581159, capital: 213.10271501299835\n",
      "Iteration at time 2024-05-31 04:38:57.126170, current price: 1.27213, positions: 33502.50204581159, capital: 213.10271501299835\n",
      "Iteration at time 2024-05-31 04:39:57.427567, current price: 1.27213, positions: 33502.50204581159, capital: 213.10271501299835\n",
      "Iteration at time 2024-05-31 04:40:57.634321, current price: 1.27213, positions: 33502.50204581159, capital: 213.10271501299835\n",
      "Iteration at time 2024-05-31 04:41:57.926788, current price: 1.27213, positions: 33502.50204581159, capital: 213.10271501299835\n",
      "Iteration at time 2024-05-31 04:42:58.140639, current price: 1.27213, positions: 33502.50204581159, capital: 213.10271501299835\n",
      "Iteration at time 2024-05-31 04:43:58.473948, current price: 1.27213, positions: 33502.50204581159, capital: 213.10271501299835\n",
      "Iteration at time 2024-05-31 04:44:58.774900, current price: 1.27213, positions: 33502.50204581159, capital: 213.10271501299835\n",
      "Iteration at time 2024-05-31 04:45:58.996456, current price: 1.27213, positions: 33502.50204581159, capital: 213.10271501299835\n",
      "Iteration at time 2024-05-31 04:46:59.328834, current price: 1.27213, positions: 33502.50204581159, capital: 213.10271501299835\n",
      "Iteration at time 2024-05-31 04:47:59.633012, current price: 1.27213, positions: 33502.50204581159, capital: 213.10271501299835\n",
      "Iteration at time 2024-05-31 04:48:59.852838, current price: 1.27213, positions: 33502.50204581159, capital: 213.10271501299835\n",
      "Iteration at time 2024-05-31 04:50:00.174941, current price: 1.27213, positions: 33502.50204581159, capital: 213.10271501299835\n",
      "Iteration at time 2024-05-31 04:51:00.476037, current price: 1.27213, positions: 33502.50204581159, capital: 213.10271501299835\n",
      "Iteration at time 2024-05-31 04:52:00.689488, current price: 1.27213, positions: 33502.50204581159, capital: 213.10271501299835\n",
      "Iteration at time 2024-05-31 04:53:01.022676, current price: 1.27213, positions: 33502.50204581159, capital: 213.10271501299835\n",
      "Iteration at time 2024-05-31 04:54:01.320697, current price: 1.27213, positions: 33502.50204581159, capital: 213.10271501299835\n",
      "Iteration at time 2024-05-31 04:55:01.538930, current price: 1.27213, positions: 33502.50204581159, capital: 213.10271501299835\n",
      "Iteration at time 2024-05-31 04:56:01.874785, current price: 1.27213, positions: 33502.50204581159, capital: 213.10271501299835\n",
      "Iteration at time 2024-05-31 04:57:02.175167, current price: 1.27213, positions: 33502.50204581159, capital: 213.10271501299835\n",
      "Iteration at time 2024-05-31 04:58:02.399290, current price: 1.27213, positions: 33502.50204581159, capital: 213.10271501299835\n",
      "Iteration at time 2024-05-31 04:59:02.699435, current price: 1.27213, positions: 33502.50204581159, capital: 213.10271501299835\n",
      "Iteration at time 2024-05-31 05:00:02.907948, current price: 1.27213, positions: 33502.50204581159, capital: 213.10271501299835\n",
      "Iteration at time 2024-05-31 05:01:03.232737, current price: 1.27213, positions: 33502.50204581159, capital: 213.10271501299835\n",
      "Iteration at time 2024-05-31 05:02:03.531203, current price: 1.27213, positions: 33502.50204581159, capital: 213.10271501299835\n",
      "Iteration at time 2024-05-31 05:03:03.754064, current price: 1.27213, positions: 33502.50204581159, capital: 213.10271501299835\n",
      "Iteration at time 2024-05-31 05:04:04.084046, current price: 1.27213, positions: 33502.50204581159, capital: 213.10271501299835\n",
      "Iteration at time 2024-05-31 05:05:04.380956, current price: 1.27213, positions: 33502.50204581159, capital: 213.10271501299835\n",
      "Iteration at time 2024-05-31 05:06:04.602819, current price: 1.27213, positions: 33502.50204581159, capital: 213.10271501299835\n",
      "Iteration at time 2024-05-31 05:07:04.935171, current price: 1.27213, positions: 33502.50204581159, capital: 213.10271501299835\n",
      "Iteration at time 2024-05-31 05:08:05.238326, current price: 1.27213, positions: 33502.50204581159, capital: 213.10271501299835\n",
      "Iteration at time 2024-05-31 05:09:05.459988, current price: 1.27213, positions: 33502.50204581159, capital: 213.10271501299835\n",
      "Iteration at time 2024-05-31 05:10:05.755482, current price: 1.27213, positions: 33502.50204581159, capital: 213.10271501299835\n",
      "Iteration at time 2024-05-31 05:11:05.966563, current price: 1.27213, positions: 33502.50204581159, capital: 213.10271501299835\n",
      "Iteration at time 2024-05-31 05:12:06.302379, current price: 1.27213, positions: 33502.50204581159, capital: 213.10271501299835\n",
      "Iteration at time 2024-05-31 05:13:06.597462, current price: 1.27213, positions: 33502.50204581159, capital: 213.10271501299835\n",
      "Iteration at time 2024-05-31 05:14:06.816414, current price: 1.27213, positions: 33502.50204581159, capital: 213.10271501299835\n",
      "Iteration at time 2024-05-31 05:15:07.142245, current price: 1.27213, positions: 33502.50204581159, capital: 213.10271501299835\n",
      "Iteration at time 2024-05-31 05:16:07.442394, current price: 1.27213, positions: 33502.50204581159, capital: 213.10271501299835\n",
      "Iteration at time 2024-05-31 05:17:07.658073, current price: 1.27213, positions: 33502.50204581159, capital: 213.10271501299835\n",
      "Iteration at time 2024-05-31 05:18:07.950350, current price: 1.27213, positions: 33502.50204581159, capital: 213.10271501299835\n",
      "Iteration at time 2024-05-31 05:19:08.156277, current price: 1.27213, positions: 33502.50204581159, capital: 213.10271501299835\n",
      "Iteration at time 2024-05-31 05:20:08.503628, current price: 1.27213, positions: 33502.50204581159, capital: 213.10271501299835\n",
      "Iteration at time 2024-05-31 05:21:08.807224, current price: 1.27213, positions: 33502.50204581159, capital: 213.10271501299835\n",
      "Iteration at time 2024-05-31 05:22:09.021084, current price: 1.27213, positions: 33502.50204581159, capital: 213.10271501299835\n",
      "Iteration at time 2024-05-31 05:23:09.359317, current price: 1.27213, positions: 33502.50204581159, capital: 213.10271501299835\n",
      "Iteration at time 2024-05-31 05:24:09.654866, current price: 1.27213, positions: 33502.50204581159, capital: 213.10271501299835\n",
      "Iteration at time 2024-05-31 05:25:09.860827, current price: 1.27213, positions: 33502.50204581159, capital: 213.10271501299835\n",
      "Iteration at time 2024-05-31 05:26:10.197890, current price: 1.27213, positions: 33502.50204581159, capital: 213.10271501299835\n",
      "Iteration at time 2024-05-31 05:27:10.494162, current price: 1.27213, positions: 33502.50204581159, capital: 213.10271501299835\n",
      "Iteration at time 2024-05-31 05:28:10.715119, current price: 1.27213, positions: 33502.50204581159, capital: 213.10271501299835\n",
      "Iteration at time 2024-05-31 05:29:11.045133, current price: 1.27213, positions: 33502.50204581159, capital: 213.10271501299835\n",
      "Iteration at time 2024-05-31 05:30:11.347743, current price: 1.27213, positions: 33502.50204581159, capital: 213.10271501299835\n",
      "Iteration at time 2024-05-31 05:31:11.570707, current price: 1.27213, positions: 33502.50204581159, capital: 213.10271501299835\n",
      "Iteration at time 2024-05-31 05:32:11.892013, current price: 1.27213, positions: 33502.50204581159, capital: 213.10271501299835\n",
      "Iteration at time 2024-05-31 05:33:12.196076, current price: 1.27213, positions: 33502.50204581159, capital: 213.10271501299835\n",
      "Iteration at time 2024-05-31 05:34:12.411670, current price: 1.27213, positions: 33502.50204581159, capital: 213.10271501299835\n",
      "Iteration at time 2024-05-31 05:35:12.729718, current price: 1.27213, positions: 33502.50204581159, capital: 213.10271501299835\n",
      "Iteration at time 2024-05-31 05:36:13.030055, current price: 1.27213, positions: 33502.50204581159, capital: 213.10271501299835\n",
      "Iteration at time 2024-05-31 05:37:13.249846, current price: 1.27213, positions: 33502.50204581159, capital: 213.10271501299835\n",
      "Iteration at time 2024-05-31 05:38:13.574805, current price: 1.27213, positions: 33502.50204581159, capital: 213.10271501299835\n",
      "Iteration at time 2024-05-31 05:39:13.879288, current price: 1.27213, positions: 33502.50204581159, capital: 213.10271501299835\n",
      "Iteration at time 2024-05-31 05:40:14.100099, current price: 1.27213, positions: 33502.50204581159, capital: 213.10271501299835\n",
      "Iteration at time 2024-05-31 05:41:14.427943, current price: 1.27213, positions: 33502.50204581159, capital: 213.10271501299835\n",
      "Iteration at time 2024-05-31 05:42:14.726967, current price: 1.27213, positions: 33502.50204581159, capital: 213.10271501299835\n",
      "Iteration at time 2024-05-31 05:43:14.952063, current price: 1.27213, positions: 33502.50204581159, capital: 213.10271501299835\n",
      "Iteration at time 2024-05-31 05:44:15.280982, current price: 1.27213, positions: 33502.50204581159, capital: 213.10271501299835\n",
      "Iteration at time 2024-05-31 05:45:15.583685, current price: 1.27213, positions: 33502.50204581159, capital: 213.10271501299835\n",
      "Iteration at time 2024-05-31 05:46:15.800710, current price: 1.27213, positions: 33502.50204581159, capital: 213.10271501299835\n",
      "Iteration at time 2024-05-31 05:47:16.094024, current price: 1.27213, positions: 33502.50204581159, capital: 213.10271501299835\n",
      "Iteration at time 2024-05-31 05:48:16.304204, current price: 1.27213, positions: 33502.50204581159, capital: 213.10271501299835\n",
      "Iteration at time 2024-05-31 05:49:16.636295, current price: 1.27213, positions: 33502.50204581159, capital: 213.10271501299835\n",
      "Iteration at time 2024-05-31 05:50:16.939199, current price: 1.27213, positions: 33502.50204581159, capital: 213.10271501299835\n",
      "Iteration at time 2024-05-31 05:51:17.153272, current price: 1.27213, positions: 33502.50204581159, capital: 213.10271501299835\n",
      "Iteration at time 2024-05-31 05:52:17.480959, current price: 1.27213, positions: 33502.50204581159, capital: 213.10271501299835\n",
      "Iteration at time 2024-05-31 05:53:17.780715, current price: 1.27213, positions: 33502.50204581159, capital: 213.10271501299835\n",
      "Iteration at time 2024-05-31 05:54:18.013054, current price: 1.27213, positions: 33502.50204581159, capital: 213.10271501299835\n",
      "Iteration at time 2024-05-31 05:55:18.334758, current price: 1.27213, positions: 33502.50204581159, capital: 213.10271501299835\n",
      "Iteration at time 2024-05-31 05:56:18.630978, current price: 1.27213, positions: 33502.50204581159, capital: 213.10271501299835\n",
      "Iteration at time 2024-05-31 05:57:18.849903, current price: 1.27213, positions: 33502.50204581159, capital: 213.10271501299835\n",
      "Iteration at time 2024-05-31 05:58:19.172676, current price: 1.27213, positions: 33502.50204581159, capital: 213.10271501299835\n",
      "Iteration at time 2024-05-31 05:59:19.473925, current price: 1.27213, positions: 33502.50204581159, capital: 213.10271501299835\n",
      "Iteration at time 2024-05-31 06:00:19.697441, current price: 1.27213, positions: 33502.50204581159, capital: 213.10271501299835\n"
     ]
    }
   ],
   "source": [
    "#Trading strategy and logs:\n",
    "#Now lets do this with the dummy money traded with our account, part 2:\n",
    "# Trading parameters\n",
    "import os\n",
    "import datetime\n",
    "import time\n",
    "import pandas as pd\n",
    "import MetaTrader5 as mt5\n",
    "from sklearn.preprocessing import StandardScaler\n",
    "import torch\n",
    "\n",
    "# Trading parameters\n",
    "initial_capital = 100\n",
    "capital = initial_capital\n",
    "leverage = 200  # 1:200 leverage\n",
    "profit_cap_percentage = 2.0  # Daily profit target of 2%\n",
    "stop_loss_percentage = -0.004  # Stop loss at -0.01%\n",
    "target_capital = 200000\n",
    "positions = 0\n",
    "entry_price = None\n",
    "minimum_percentage = 0.005\n",
    "cumulative_percentage = 0\n",
    "profit = 0\n",
    "\n",
    "# Create directories for logging\n",
    "base_log_dir = \"trading_logs\"\n",
    "os.makedirs(base_log_dir, exist_ok=True)\n",
    "\n",
    "# Create a new folder for the current test\n",
    "current_test_index = 0\n",
    "while os.path.exists(os.path.join(base_log_dir, f\"test_{current_test_index}\")):\n",
    "    current_test_index += 1\n",
    "\n",
    "current_log_dir = os.path.join(base_log_dir, f\"test_{current_test_index}\")\n",
    "os.makedirs(current_log_dir)\n",
    "\n",
    "log_file_path = os.path.join(current_log_dir, \"trade_log.txt\")\n",
    "log_csv_path = os.path.join(current_log_dir, \"trade_log.csv\")\n",
    "iteration_csv_path = os.path.join(current_log_dir, \"iteration_log.csv\")\n",
    "\n",
    "# DataFrames for logs\n",
    "trade_log_df = pd.DataFrame(columns=['time', 'action', 'price', 'positions', 'capital', 'profit_percentage', 'profit'])\n",
    "iteration_log_df = pd.DataFrame(columns=['time', 'price', 'positions', 'capital'])\n",
    "\n",
    "# Function to adjust trade volume\n",
    "def validate_volume(raw_volume, symbol):\n",
    "    min_volume = mt5.symbol_info(symbol).volume_min\n",
    "    max_volume = mt5.symbol_info(symbol).volume_max\n",
    "    step_volume = mt5.symbol_info(symbol).volume_step\n",
    "\n",
    "    if raw_volume < min_volume:\n",
    "        return min_volume\n",
    "    elif raw_volume > max_volume:\n",
    "        return max_volume\n",
    "    else:\n",
    "        return round(raw_volume / step_volume) * step_volume\n",
    "\n",
    "# Run the trading loop\n",
    "while capital < target_capital:\n",
    "    # Fetch live data\n",
    "    rates = mt5.copy_rates_from_pos(\"GBPUSD\", mt5.TIMEFRAME_H1, 0, 750)\n",
    "    rates_frame = pd.DataFrame(rates)\n",
    "    rates_frame['time'] = pd.to_datetime(rates_frame['time'], unit='s')\n",
    "    rates_frame.set_index('time', inplace=True)\n",
    "\n",
    "    # Feature engineering\n",
    "    rates_frame['Change_Open_Close'] = ((rates_frame['close'] - rates_frame['open']) / rates_frame['open']) * 100\n",
    "    rates_frame['Change_High_Low'] = ((rates_frame['high'] - rates_frame['low']) / rates_frame['high']) * 100\n",
    "    rates_frame['Profit_Between_Time_Series'] = rates_frame['Change_Open_Close'].diff().fillna(0)\n",
    "    rates_frame['Buy_Signal'] = (rates_frame['Profit_Between_Time_Series'] > 0.01).astype(int)\n",
    "    rates_frame['Sell_Signal'] = rates_frame['Buy_Signal'].shift(-1).fillna(0).astype(int)\n",
    "\n",
    "    # Prepare features for model prediction\n",
    "    features = rates_frame.drop(columns=['Buy_Signal', 'Sell_Signal']).values\n",
    "    scaler = StandardScaler()\n",
    "    scaled_features = scaler.fit_transform(features)\n",
    "\n",
    "    # Predicting buy signals\n",
    "    with torch.no_grad():\n",
    "        inputs = torch.tensor(scaled_features, dtype=torch.float32).to(device)\n",
    "        outputs = model(inputs.unsqueeze(1))\n",
    "        predicted_signals = torch.argmax(outputs, dim=1).cpu().numpy()\n",
    "\n",
    "    rates_frame['Predicted_Buy_Signal'] = predicted_signals\n",
    "\n",
    "    # Execute trades based on predictions\n",
    "    current_price = rates_frame['close'].iloc[-1]\n",
    "    date_time = datetime.datetime.now()\n",
    "\n",
    "    if capital >= target_capital:\n",
    "        print(f\"Target capital of {target_capital} reached at {date_time}, stopping trading.\")\n",
    "        break\n",
    "\n",
    "    if rates_frame['Predicted_Buy_Signal'].iloc[-1] == 1 and positions == 0:\n",
    "        # Enter position\n",
    "        positions = leverage * (capital / current_price)\n",
    "        entry_price = current_price\n",
    "        log_entry = {\n",
    "            'time': date_time,\n",
    "            'action': 'enter',\n",
    "            'price': entry_price,\n",
    "            'positions': positions,\n",
    "            'capital': capital,\n",
    "            'profit_percentage': None,\n",
    "            'profit': None\n",
    "        }\n",
    "        trade_log_df = pd.concat([trade_log_df, pd.DataFrame([log_entry])], ignore_index=True)\n",
    "        with open(log_file_path, \"a\") as log_file:\n",
    "            log_file.write(f\"Entered position at time {date_time}, price: {entry_price}, positions: {positions}, capital: {capital}\\n\")\n",
    "\n",
    "    if positions != 0 and cumulative_percentage != profit_cap_percentage:\n",
    "        profit_percentage = (current_price - entry_price) / entry_price * 100\n",
    "\n",
    "        # Determine if the current price > entry price and hits our minimum percentage of change\n",
    "        if current_price > entry_price and profit_percentage >= minimum_percentage:\n",
    "            # Exit the positions and add the minimum percentage amount to a cumulative percentage\n",
    "            # Profit is the entry position \n",
    "            profit = (positions * (current_price - entry_price))  # Leverage has already been applied to positions\n",
    "            capital += profit\n",
    "            cumulative_percentage += minimum_percentage\n",
    "\n",
    "            log_exit = {\n",
    "                'time': date_time,\n",
    "                'action': 'exit',\n",
    "                'price': current_price,\n",
    "                'positions': positions,\n",
    "                'capital': capital,\n",
    "                'profit_percentage': profit_percentage,\n",
    "                'profit': profit\n",
    "            }\n",
    "            trade_log_df = pd.concat([trade_log_df, pd.DataFrame([log_exit])], ignore_index=True)\n",
    "            with open(log_file_path, \"a\") as log_file:\n",
    "                log_file.write(f\"Exited position at time {date_time}, price: {current_price}, profit_percentage: {profit_percentage}, profit: {profit}, capital: {capital}\\n\")\n",
    "\n",
    "            # Reset positions\n",
    "            positions = 0\n",
    "            entry_price = None\n",
    "\n",
    "        # Edge case where the profit percentage is greater than or equal to the profit cap percentage, per minute iteration\n",
    "        if profit_percentage >= profit_cap_percentage:\n",
    "            # Exit position due to reaching profit cap or stop loss\n",
    "            profit = (positions * (current_price - entry_price))  # Leverage has already been applied to positions\n",
    "            capital += profit\n",
    "\n",
    "            log_exit = {\n",
    "                'time': date_time,\n",
    "                'action': 'exit',\n",
    "                'price': current_price,\n",
    "                'positions': positions,\n",
    "                'capital': capital,\n",
    "                'profit_percentage': profit_percentage,\n",
    "                'profit': profit\n",
    "            }\n",
    "            trade_log_df = pd.concat([trade_log_df, pd.DataFrame([log_exit])], ignore_index=True)\n",
    "            with open(log_file_path, \"a\") as log_file:\n",
    "                log_file.write(f\"Exited position at time {date_time}, price: {current_price}, profit_percentage: {profit_percentage}, profit: {profit}, capital: {capital}\\n\")\n",
    "\n",
    "            # Reset positions\n",
    "            positions = 0\n",
    "            entry_price = None\n",
    "\n",
    "        # In the event we need to stop and liquidate at our stop loss\n",
    "        if profit_percentage <= stop_loss_percentage:\n",
    "            # Apply the stop loss percentage and exit the trade\n",
    "            capital += (capital * stop_loss_percentage)\n",
    "\n",
    "            log_exit = {\n",
    "                'time': date_time,\n",
    "                'action': 'exit',\n",
    "                'price': current_price,\n",
    "                'positions': positions,\n",
    "                'capital': capital,\n",
    "                'profit_percentage': profit_percentage,\n",
    "                'profit': profit\n",
    "            }\n",
    "            trade_log_df = pd.concat([trade_log_df, pd.DataFrame([log_exit])], ignore_index=True)\n",
    "            with open(log_file_path, \"a\") as log_file:\n",
    "                log_file.write(f\"Exited position at time {date_time}, price: {current_price}, profit_percentage: {profit_percentage}, profit: {profit}, capital: {capital}\\n\")\n",
    "\n",
    "            # Reset positions\n",
    "            positions = 0\n",
    "            entry_price = None\n",
    "\n",
    "    # Print details of each iteration\n",
    "    iteration_log = {\n",
    "        'time': date_time,\n",
    "        'price': current_price,\n",
    "        'positions': positions,\n",
    "        'capital': capital\n",
    "    }\n",
    "    iteration_log_df = pd.concat([iteration_log_df, pd.DataFrame([iteration_log])], ignore_index=True)\n",
    "    print(f\"Iteration at time {date_time}, current price: {current_price}, positions: {positions}, capital: {capital}\")\n",
    "    with open(log_file_path, \"a\") as log_file:\n",
    "        log_file.write(f\"Iteration at time {date_time}, current price: {current_price}, positions: {positions}, capital: {capital}\\n\")\n",
    "\n",
    "    # Save logs to CSV files\n",
    "    trade_log_df.to_csv(log_csv_path, index=False)\n",
    "    iteration_log_df.to_csv(iteration_csv_path, index=False)\n",
    "\n",
    "    # Wait before the next iteration (e.g., 1 minute)\n",
    "    time.sleep(60)\n",
    "\n",
    "    # Reset daily profit at the end of the trading day (assumes a 24-hour trading day for simplicity)\n",
    "    if date_time.hour == 0 and date_time.minute == 0:\n",
    "        cumulative_percentage = 0\n"
   ]
  },
  {
   "cell_type": "code",
   "execution_count": null,
   "id": "bb24ce65-8a23-4af5-86e8-074dbbfb4fd2",
   "metadata": {},
   "outputs": [],
   "source": [
    "#MetaTrader5 implementation\n",
    "#The model may make predictions but metatrader5 needs to execute based on miliseconds to get ou rprofits"
   ]
  },
  {
   "cell_type": "code",
   "execution_count": null,
   "id": "612d734b-3d4a-4359-8a55-f0a22d6887f1",
   "metadata": {},
   "outputs": [],
   "source": []
  },
  {
   "cell_type": "code",
   "execution_count": null,
   "id": "a585cfe1-369f-4c34-b027-6acc4c833269",
   "metadata": {},
   "outputs": [],
   "source": []
  },
  {
   "cell_type": "code",
   "execution_count": null,
   "id": "415d74cb-1140-44bb-9b7e-38e517a61680",
   "metadata": {},
   "outputs": [],
   "source": []
  }
 ],
 "metadata": {
  "kernelspec": {
   "display_name": "Python 3 (ipykernel)",
   "language": "python",
   "name": "python3"
  },
  "language_info": {
   "codemirror_mode": {
    "name": "ipython",
    "version": 3
   },
   "file_extension": ".py",
   "mimetype": "text/x-python",
   "name": "python",
   "nbconvert_exporter": "python",
   "pygments_lexer": "ipython3",
   "version": "3.11.7"
  }
 },
 "nbformat": 4,
 "nbformat_minor": 5
}
